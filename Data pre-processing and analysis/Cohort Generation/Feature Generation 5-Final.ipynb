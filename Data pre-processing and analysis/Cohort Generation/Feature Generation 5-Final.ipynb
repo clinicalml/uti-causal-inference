{
 "cells": [
  {
   "cell_type": "markdown",
   "metadata": {},
   "source": [
    "### Generates lab, lab existence features, censor and outcome variables"
   ]
  },
  {
   "cell_type": "code",
   "execution_count": null,
   "metadata": {},
   "outputs": [],
   "source": [
    "in_name = \"manuscript_covariates_3_final\"\n",
    "out_name = \"manuscript_covariates_4_final\""
   ]
  },
  {
   "cell_type": "markdown",
   "metadata": {},
   "source": [
    "## Imports"
   ]
  },
  {
   "cell_type": "code",
   "execution_count": null,
   "metadata": {},
   "outputs": [],
   "source": [
    "#requires covariate_config\n",
    "import config\n",
    "import covariate_config as cov_cfg\n",
    "import sys\n",
    "import time\n",
    "import importlib\n",
    "import datetime\n",
    "import pandas as pd\n",
    "import numpy as np\n",
    "import scipy.sparse\n",
    "import matplotlib.pyplot as plt\n",
    "\n",
    "import Utils.dbutils as dbutils\n",
    "import Utils.data_utils as data_utils\n",
    "import Generators.CohortGenerator as CohortGenerator\n",
    "import Generators.FeatureGenerator as FeatureGenerator\n",
    "import config\n",
    "local_imports = (\n",
    "    dbutils,\n",
    "    data_utils,\n",
    "    CohortGenerator,\n",
    "    FeatureGenerator,\n",
    "    config\n",
    ")\n",
    "for i in local_imports:\n",
    "    i = importlib.reload(i)\n",
    "import psycopg2\n",
    "import pandas as pd\n",
    "import numpy\n",
    "import sparse"
   ]
  },
  {
   "cell_type": "markdown",
   "metadata": {},
   "source": [
    "## Setup config"
   ]
  },
  {
   "cell_type": "code",
   "execution_count": null,
   "metadata": {},
   "outputs": [],
   "source": [
    "## database connection parameters\n",
    "# username = config.PG_USERNAME #we use peer authentication so don't need use vars, but in theory would pass them into config_path\n",
    "# password = config.PG_PASSWORD\n",
    "database_name = config.DB_NAME\n",
    "print(database_name)\n",
    "\n",
    "config_path = 'postgresql://{database_name}'.format(\n",
    "    database_name = database_name\n",
    ")\n",
    "connect_args = {\"host\": '/var/run/postgresql/'} # connect_args to pass to sqlalchemy create_engine function\n",
    "\n",
    "# schemas \n",
    "schema_name = 'eol_test_noah' # all created tables will be created using this schema\n",
    "cdm_schema_name = config.OMOP_CDM_SCHEMA # the name of the schema housing your OMOP CDM tables\n",
    "print(f\"cdm schema: {cdm_schema_name}\")\n",
    "# caching\n",
    "reset_schema = False # if true, rebuild all data from scratch\n",
    "\n",
    "# set up database, reset schemas as needed\n",
    "db = dbutils.Database(config_path, schema_name, connect_args, cdm_schema_name)\n",
    "if reset_schema:\n",
    "    db.execute(\n",
    "        'drop schema if exists {} cascade'.format(schema_name)\n",
    "    )\n",
    "db.execute(\n",
    "    'create schema if not exists {}'.format(schema_name)\n",
    ")"
   ]
  },
  {
   "cell_type": "markdown",
   "metadata": {},
   "source": [
    "## Define covariate variables"
   ]
  },
  {
   "cell_type": "code",
   "execution_count": null,
   "metadata": {},
   "outputs": [],
   "source": [
    "uti = cov_cfg.uti\n",
    "neph = cov_cfg.neph\n",
    "sepsis = cov_cfg.sepsis\n",
    "\n",
    "T_eff = cov_cfg.T_eff\n",
    "\n",
    "labid_map = cov_cfg.labid_map\n",
    "\n",
    "### Adverse Event Variables\n",
    "AE_c_diff = cov_cfg.AE_c_diff #90 days\n",
    "AE_GI = cov_cfg.AE_GI #15 days\n",
    "AE_AKI = cov_cfg.AE_AKI #30 days\n",
    "AE_skin = cov_cfg.AE_skin #30 days\n",
    "adverse = cov_cfg.adverse\n",
    "AE_other = cov_cfg.AE_other #30 days\n",
    "\n",
    "# Fever\n",
    "fever = cfg.fever\n",
    "\n",
    "#abnormal body temp\n",
    "ab_temp = cfg.ab_temp\n",
    "\n"
   ]
  },
  {
   "cell_type": "markdown",
   "metadata": {},
   "source": [
    "## Cohort Integration**"
   ]
  },
  {
   "cell_type": "code",
   "execution_count": null,
   "metadata": {},
   "outputs": [],
   "source": [
    "username='cdm_6871_21'\n",
    "password='MLHC2021'\n",
    "database_name = 'omop_v6'\n",
    "conn_string = \"dbname=\"+database_name + \" host=/var/run/postgresql\"\n",
    "conn=psycopg2.connect(conn_string)\n",
    "print('Connected!')\n",
    "\n",
    "\n",
    "\n",
    "sql_command = f\"select * from cdm_6871_21.{in_name};\"\n",
    "cohort = pd.read_sql(sql_command,conn)"
   ]
  },
  {
   "cell_type": "markdown",
   "metadata": {},
   "source": [
    "## Database Imports to generate features**"
   ]
  },
  {
   "cell_type": "code",
   "execution_count": null,
   "metadata": {},
   "outputs": [],
   "source": [
    "username='cdm_6871_21'\n",
    "password='MLHC2021'\n",
    "database_name = 'omop_v6'\n",
    "conn_string = \"dbname=\"+database_name + \" host=/var/run/postgresql\"\n",
    "conn=psycopg2.connect(conn_string)\n",
    "print('Connected!')\n",
    "\n",
    "\n",
    "\n",
    "sql_command = \"select concept_name, concept_id from cdm_6871_21.concept;\"\n",
    "concept = pd.read_sql(sql_command,conn)"
   ]
  },
  {
   "cell_type": "code",
   "execution_count": null,
   "metadata": {},
   "outputs": [],
   "source": [
    "%%time\n",
    "sql_cmd = '''\n",
    "    select\n",
    "        v.visit_detail_id,\n",
    "        v.visit_detail_concept_id,\n",
    "        v.person_id\n",
    "    from {omop_schema}.visit_detail v \n",
    "    where v.person_id in (select person_id from cdm_6871_21.{in_name})'''.format(\n",
    "    omop_schema=config.OMOP_CDM_SCHEMA,in_name=in_name)\n",
    "visits = pd.read_sql(sql_cmd, conn)\n",
    "visits.head()"
   ]
  },
  {
   "cell_type": "code",
   "execution_count": null,
   "metadata": {},
   "outputs": [],
   "source": [
    "%%time\n",
    "sql_cmd = \"\"\"\n",
    "    select \n",
    "        a.measurement_concept_id as concept_id,\n",
    "        a.measurement_datetime as measurement_start_date,\n",
    "        a.value_as_number as measurement_value,\n",
    "        a.person_id\n",
    "    from {omop_schema}.measurement a\n",
    "    where a.person_id in (select person_id from cdm_6871_21.{in_name})\"\"\".format(\n",
    "    omop_schema=config.OMOP_CDM_SCHEMA,in_name=in_name\n",
    ")\n",
    "measurement_df = pd.read_sql(sql_cmd, conn)\n",
    "measurement_df.head()"
   ]
  },
  {
   "cell_type": "code",
   "execution_count": null,
   "metadata": {},
   "outputs": [],
   "source": [
    "%%time\n",
    "sql = \"\"\"\n",
    "    select \n",
    "        a.condition_source_value as concept_code,\n",
    "        a.visit_detail_id,\n",
    "        a.condition_concept_id as concept_id,\n",
    "        a.condition_start_date as condition_start_date,\n",
    "        a.condition_occurrence_id as condition_occurrence_id,\n",
    "        a.person_id\n",
    "    from\n",
    "        {omop_schema}.condition_occurrence a\n",
    "    where a.person_id in (select person_id from cdm_6871_21.{in_name})\"\"\".format(\n",
    "    omop_schema=config.OMOP_CDM_SCHEMA,in_name=in_name\n",
    ")\n",
    "condition_df = db.query(sql)\n",
    "display(condition_df.head())"
   ]
  },
  {
   "cell_type": "markdown",
   "metadata": {},
   "source": [
    "## Augmenting UTI Conditions with visit name"
   ]
  },
  {
   "cell_type": "code",
   "execution_count": null,
   "metadata": {},
   "outputs": [],
   "source": [
    "%%time\n",
    "uti_conditions = condition_df\n",
    "uti_conditions = uti_conditions.merge(visits[['visit_detail_id','visit_detail_concept_id']], how='left', on='visit_detail_id')\n",
    "uti_conditions['visit_name'] = uti_conditions.merge(concept.rename(columns={'concept_id':'visit_detail_concept_id'}), how='left',on='visit_detail_concept_id').concept_name"
   ]
  },
  {
   "cell_type": "markdown",
   "metadata": {},
   "source": [
    "## Create the condition tables"
   ]
  },
  {
   "cell_type": "code",
   "execution_count": null,
   "metadata": {},
   "outputs": [],
   "source": [
    "t_e = uti_conditions[uti_conditions.concept_id.isin(T_eff)]\n",
    "f_e = uti_conditions[uti_conditions.concept_id.isin(fever)]\n",
    "b_e = uti_conditions[uti_conditions.concept_id.isin(ab_temp)]\n",
    "a_e = uti_conditions[uti_conditions.concept_id.isin(adverse)]\n",
    "t_ie = uti_conditions[(uti_conditions.concept_id.isin(T_eff)) & (uti_conditions.visit_detail_concept_id == 9201)]\n",
    "measurement_df = measurement_df.loc[measurement_df.measurement_value.notnull()].reset_index()"
   ]
  },
  {
   "cell_type": "markdown",
   "metadata": {},
   "source": [
    "## Create the variables"
   ]
  },
  {
   "cell_type": "code",
   "execution_count": null,
   "metadata": {},
   "outputs": [],
   "source": [
    "t_e['t_uti'] = 0\n",
    "t_e['t_neph'] = 0\n",
    "t_e['t_sepsis'] = 0\n",
    "t_e.loc[t_e['concept_id'].isin(uti),'t_uti'] = 1\n",
    "t_e.loc[t_e['concept_id'].isin(neph),'t_neph'] = 1\n",
    "t_e.loc[t_e['concept_id'].isin(sepsis),'t_sepsis'] = 1\n",
    "\n",
    "\n",
    "t_ie['t_uti'] = 0\n",
    "t_ie['t_neph'] = 0\n",
    "t_ie['t_sepsis'] = 0\n",
    "t_ie.loc[t_ie['concept_id'].isin(uti),'t_uti'] = 1\n",
    "t_ie.loc[t_ie['concept_id'].isin(neph),'t_neph'] = 1\n",
    "t_ie.loc[t_ie['concept_id'].isin(sepsis),'t_sepsis'] = 1\n",
    "\n",
    "a_e['AE_c_diff'] = 0\n",
    "a_e['AE_skin'] = 0\n",
    "a_e['AE_other'] = 0\n",
    "a_e['AE_GI'] = 0\n",
    "a_e['AE_AKI'] = 0\n",
    "\n",
    "\n",
    "a_e.loc[a_e['concept_id'].isin(AE_c_diff),'AE_c_diff'] = 1\n",
    "a_e.loc[a_e['concept_id'].isin(AE_skin),'AE_skin'] = 1\n",
    "a_e.loc[a_e['concept_id'].isin(AE_other),'AE_other'] = 1\n",
    "a_e.loc[a_e['concept_id'].isin(AE_GI),'AE_GI'] = 1\n",
    "a_e.loc[a_e['concept_id'].isin(AE_AKI),'AE_AKI'] = 1\n",
    "\n",
    "f_e['fever'] = 0\n",
    "f_e.loc[f_e['concept_id'].isin(fever),'fever'] = 1\n",
    "\n",
    "b_e['ab_temp'] = 0\n",
    "b_e.loc[b_e['concept_id'].isin(ab_temp), 'ab_temp'] = 1"
   ]
  },
  {
   "cell_type": "markdown",
   "metadata": {},
   "source": [
    "## Update cohort table with new outcome variables"
   ]
  },
  {
   "cell_type": "code",
   "execution_count": null,
   "metadata": {},
   "outputs": [],
   "source": [
    "uti_temp1 = cohort.copy()"
   ]
  },
  {
   "cell_type": "code",
   "execution_count": null,
   "metadata": {},
   "outputs": [],
   "source": [
    "%%time\n",
    "adverse_temp = a_e.copy()\n",
    "adverse_temp['occurs_30_days_after_uti'] = False\n",
    "adverse_temp['occurs_90_days_after_uti'] = False\n",
    "adverse_temp['occurs_90_days_before_uti'] = False\n",
    "\n",
    "index_name = 'condition_occurrence_id_new'\n",
    "utis_all = uti_temp1.copy()\n",
    "c= 0\n",
    "for index, row in adverse_temp.iterrows():\n",
    "    p = row.person_id\n",
    "    d = row.condition_start_date\n",
    "    uti_person = utis_all[utis_all.person_id == p]\n",
    "    dates = uti_person.condition_start_date\n",
    "    c += 1\n",
    "    l = len(adverse_temp)\n",
    "    if c % 1000 == 0:\n",
    "        print(f\"Iter: {c} / {l}\")\n",
    "    for uti_date in dates:\n",
    "        uti_event_index = int(uti_person[uti_person.condition_start_date == uti_date]['condition_occurrence_id'])\n",
    "        if (d - uti_date).days < 30 and (d - uti_date).days > 0:\n",
    "            adverse_temp.loc[index, 'occurs_30_days_after_uti'] = True\n",
    "            adverse_temp.loc[index, index_name]  =uti_event_index \n",
    "        if (d - uti_date).days < 90 and (d - uti_date).days > 0:\n",
    "            adverse_temp.loc[index, 'occurs_90_days_after_uti'] = True \n",
    "            adverse_temp.loc[index, index_name]  =uti_event_index \n",
    "        if (uti_date-d).days < 180 and (uti_date-d).days > 0:\n",
    "            adverse_temp.loc[index, 'occurs_90_days_before_uti'] = True          \n",
    "            \n",
    "a_e = adverse_temp[adverse_temp['occurs_90_days_before_uti']==False]   "
   ]
  },
  {
   "cell_type": "code",
   "execution_count": null,
   "metadata": {
    "scrolled": true
   },
   "outputs": [],
   "source": [
    "from datetime import timedelta\n",
    "start = datetime.datetime.now()\n",
    "\n",
    "uti_temp1['t_uti_sum'] = 0\n",
    "uti_temp1['t_neph_sum'] = 0\n",
    "uti_temp1['t_sepsis_sum'] = 0\n",
    "\n",
    "\n",
    "uti_temp1['t_i_sepsis_sum'] = 0\n",
    "uti_temp1['t_i_uti_sum'] = 0\n",
    "uti_temp1['t_i_neph_sum'] = 0\n",
    "\n",
    "\n",
    "uti_temp1['AE_c_diff'] = 0\n",
    "uti_temp1['AE_skin'] = 0\n",
    "uti_temp1['AE_other'] = 0\n",
    "uti_temp1['AE_GI'] = 0\n",
    "uti_temp1['AE_AKI'] = 0\n",
    "\n",
    "\n",
    "uti_temp1['prev_t_uti'] = 0\n",
    "uti_temp1['prev_AE_c_diff'] = 0\n",
    "uti_temp1['prev_AE_skin'] = 0\n",
    "uti_temp1['prev_AE_other'] = 0\n",
    "uti_temp1['prev_AE_GI'] = 0\n",
    "uti_temp1['prev_AE_AKI'] = 0\n",
    "\n",
    "\n",
    "uti_temp1['fever'] = 0\n",
    "uti_temp1['ab_temp'] = 0\n",
    "\n",
    "for col_name, _ in labid_map.items():\n",
    "    col = {f'{col_name}_0': None}\n",
    "    uti_temp1  = uti_temp1.assign(**col)\n",
    "\n",
    "index_name = \"index\"\n",
    "c = 0\n",
    "for index, row in uti_temp1.iterrows():\n",
    "    uti_index = row[index_name]\n",
    "    person = row.person_id\n",
    "    d = row.condition_start_date\n",
    "    previous_uti = row.previous_uti\n",
    "    pid = row.previous_uti_condition_occurence_id\n",
    "    prev_d = condition_df.loc[condition_df.condition_occurrence_id == pid,'condition_start_date']\n",
    "\n",
    "    \n",
    "    l = len(uti_temp1)\n",
    "    c+= 1\n",
    "    if c % 1000 == 0:\n",
    "        print(f\"Iter: {c} / {l}\")\n",
    "        print(f\"Time elapsed: {(datetime.datetime.now() - start)}\")\n",
    "    \n",
    "\n",
    "\n",
    "    #AB_TEMP\n",
    "    \n",
    "    temp_df = b_e[b_e['person_id'] == person]\n",
    "    final_date = d + timedelta(days=3)\n",
    "    cond_ct = ((temp_df.condition_start_date <= final_date) & (temp_df.condition_start_date >= d))\n",
    "    filtered_be = temp_df.loc[cond_ct].drop_duplicates(['concept_id','person_id','condition_start_date'], keep='last')    \n",
    "\n",
    "\n",
    "    #FEVER\n",
    "    \n",
    "    temp_df = f_e[f_e['person_id'] == person]\n",
    "    final_date = d + timedelta(days=3)\n",
    "    cond_ct = ((temp_df.condition_start_date <= final_date) & (temp_df.condition_start_date >= d))\n",
    "    filtered_fe = temp_df.loc[cond_ct].drop_duplicates(['concept_id','person_id','condition_start_date'], keep='last')    \n",
    "\n",
    "\n",
    "\n",
    "    uti_temp1.loc[index,'fever'] = 1 if filtered_fe.fever.sum() > 0 else 0\n",
    "\n",
    "    \n",
    "# LAB MEASUREMENTS (URINE TEST STRIP + Body temp) \n",
    "\n",
    "    temp_df = measurement_df[measurement_df['person_id'] == person]\n",
    "\n",
    "   \n",
    "\n",
    "    for lab_measurement, concept_ids in labid_map.items():\n",
    "\n",
    "        num = 0\n",
    "        order = 0\n",
    "        final_date = d + timedelta(days=num)\n",
    "        cond_cc = ((temp_df.measurement_start_date.dt.date <= final_date) & (temp_df.measurement_start_date.dt.date >= d) & (temp_df.concept_id.isin(concept_ids)))\n",
    "        filtered_me = temp_df.loc[cond_cc].drop_duplicates(['concept_id','person_id','measurement_start_date','measurement_value'], keep='last')\n",
    "        filtered_me = filtered_me.sort_values('measurement_start_date')        \n",
    "\n",
    "        if len(filtered_me) < 1:\n",
    "            pass\n",
    "        else:\n",
    "            uti_temp1.loc[index,f'{lab_measurement}_0'] = filtered_me.measurement_value.values[order]\n",
    "\n",
    "            \n",
    "#TREATMENT EFFICACY UTI\n",
    "    \n",
    "    #current uti cond\n",
    "    temp_df = t_e[t_e['person_id'] == person]\n",
    "    final_date = d + timedelta(days=31)\n",
    "    cond_ct = ((temp_df.condition_start_date < final_date) & (temp_df.condition_start_date > d))\n",
    "    filtered_te = temp_df.loc[cond_ct].drop_duplicates(['concept_id','person_id','condition_start_date'], keep='last')    \n",
    "\n",
    "\n",
    "\n",
    "    uti_temp1.loc[index,'t_uti_sum'] = filtered_te.t_uti.sum()\n",
    "    uti_temp1.loc[index,'t_neph_sum'] = filtered_te.t_neph.sum()\n",
    "    \n",
    "    if previous_uti:\n",
    "        #previous uti cond\n",
    "\n",
    "        final_date = prev_d + timedelta(days=31)\n",
    "        cond_pt = ((temp_df.condition_start_date < final_date.item()) & (temp_df.condition_start_date > prev_d.item()))\n",
    "        filtered_te = temp_df.loc[cond_pt].drop_duplicates(['concept_id','person_id','condition_start_date'], keep='last')  \n",
    "        uti_temp1.loc[index,'prev_t_uti'] = 1 if filtered_te.t_uti.sum() > 0 else 0\n",
    "\n",
    "# Treatment Efficacy (Sepsis)\n",
    "    temp_df = t_e[t_e['person_id'] == person]\n",
    "    final_date = d + timedelta(days=31)\n",
    "    cond_ct = ((temp_df.condition_start_date < final_date) & (temp_df.condition_start_date > d))\n",
    "    filtered_te = temp_df.loc[cond_ct].drop_duplicates(['concept_id','person_id','condition_start_date'], keep='last')    \n",
    "\n",
    "    uti_temp1.loc[index,'t_sepsis_sum'] = filtered_te.t_sepsis.sum()     \n",
    "    \n",
    "    \n",
    "#  TREATMENT EFFICACY of Intakes\n",
    "    \n",
    "#  current uti cond\n",
    "    temp_df = t_ie[t_ie['person_id'] == person]\n",
    "    final_date = d + timedelta(days=31)\n",
    "    cond_ct = ((temp_df.condition_start_date < final_date) & (temp_df.condition_start_date > d))\n",
    "    filtered_tie = temp_df.loc[cond_ct].drop_duplicates(['concept_id','person_id','condition_start_date'], keep='last')    \n",
    "\n",
    "\n",
    "\n",
    "    uti_temp1.loc[index,'t_i_uti_sum'] = filtered_tie.t_uti.sum()\n",
    "    uti_temp1.loc[index,'t_i_neph_sum'] = filtered_tie.t_neph.sum()\n",
    "    uti_temp1.loc[index,'t_i_sepsis_sum'] = filtered_tie.t_sepsis.sum()\n",
    "\n",
    "        \n",
    "       \n",
    "\n",
    "# ADVERSE EVENTS\n",
    "    \n",
    "#     curr adverse cond\n",
    "    temp_df = a_e[a_e['person_id'] == person]\n",
    "    final_date = d + timedelta(days=16)\n",
    "    cond_a15 = ((temp_df.condition_start_date < final_date) & (temp_df.condition_start_date > d))\n",
    "    final_date = d + timedelta(days=31)\n",
    "    cond_a30 = ((temp_df.condition_start_date < final_date) & (temp_df.condition_start_date > d))\n",
    "    final_date = d + timedelta(days=91)\n",
    "    cond_a90 = ((temp_df.condition_start_date < final_date) & (temp_df.condition_start_date > d))\n",
    "\n",
    "    filtered_ae_15 = temp_df.loc[cond_a15].drop_duplicates(['concept_id','person_id','condition_start_date'], keep='last')\n",
    "    filtered_ae_30 = temp_df.loc[cond_a30].drop_duplicates(['concept_id','person_id','condition_start_date'], keep='last')    \n",
    "    filtered_ae_90 = temp_df.loc[cond_a90].drop_duplicates(['concept_id','person_id','condition_start_date'], keep='last')   \n",
    "\n",
    "    uti_temp1.loc[index,'AE_c_diff'] = 1 if filtered_ae_90.AE_c_diff.sum() > 0 else 0\n",
    "    uti_temp1.loc[index,'AE_skin'] = 1 if filtered_ae_30.AE_skin.sum() > 0 else 0\n",
    "    uti_temp1.loc[index,'AE_other'] = 1 if filtered_ae_30.AE_other.sum() > 0 else 0\n",
    "    uti_temp1.loc[index,'AE_GI'] = 1 if filtered_ae_15.AE_GI.sum() > 0 else 0\n",
    "    uti_temp1.loc[index,'AE_AKI'] = 1 if filtered_ae_30.AE_AKI.sum() > 0 else 0\n",
    "\n",
    "    if previous_uti:\n",
    "        \n",
    "#         #previous adverse cond\n",
    "        temp_df = a_e[a_e['person_id'] == person]\n",
    "        \n",
    "        final_date = prev_d + timedelta(days=16)\n",
    "        cond_pa15 = ((temp_df.condition_start_date < final_date.item()) & (temp_df.condition_start_date > prev_d.item()))\n",
    "        final_date = prev_d + timedelta(days=31)\n",
    "        cond_pa30 = ((temp_df.condition_start_date < final_date.item()) & (temp_df.condition_start_date > prev_d.item()))\n",
    "        final_date = prev_d + timedelta(days=91)\n",
    "        cond_pa90 = ((temp_df.condition_start_date < final_date.item()) & (temp_df.condition_start_date > prev_d.item()))\n",
    "\n",
    "        filtered_ae_15 = temp_df.loc[cond_pa15].drop_duplicates(['concept_id','person_id','condition_start_date'], keep='last') \n",
    "        filtered_ae_30 = temp_df.loc[cond_pa30].drop_duplicates(['concept_id','person_id','condition_start_date'], keep='last')    \n",
    "        filtered_ae_90 = temp_df.loc[cond_pa90].drop_duplicates(['concept_id','person_id','condition_start_date'], keep='last')   \n",
    "\n",
    "        uti_temp1.loc[index,'prev_AE_c_diff'] = 1 if filtered_ae_90.AE_c_diff.sum() > 0 else 0\n",
    "        uti_temp1.loc[index,'prev_AE_skin'] = 1 if filtered_ae_30.AE_skin.sum() > 0 else 0\n",
    "        uti_temp1.loc[index,'prev_AE_other'] = 1 if filtered_ae_30.AE_other.sum() > 0 else 0\n",
    "        uti_temp1.loc[index,'prev_AE_GI'] = 1 if filtered_ae_15.AE_GI.sum() > 0 else 0\n",
    "        uti_temp1.loc[index,'prev_AE_AKI'] = 1 if filtered_ae_30.AE_AKI.sum() > 0 else 0\n",
    "    \n",
    "    \n",
    "    \n",
    "    \n",
    "    \n",
    "    \n",
    "    \n",
    "    \n",
    "    \n",
    "\n",
    "\n",
    "\n",
    "for lab_measurement, concept_ids in labid_map.items():\n",
    "    uti_temp1.loc[uti_temp1[f'{lab_measurement}_0'].isnull(),f\"{lab_measurement}_0_exists\"] = 0\n",
    "    uti_temp1.loc[uti_temp1[f'{lab_measurement}_0'].notnull(),f\"{lab_measurement}_0_exists\"] = 1\n",
    "\n",
    "    \n",
    "uti_temp1['t_sum'] = uti_temp1['t_uti_sum'] + uti_temp1['t_neph_sum'] + uti_temp1['t_sepsis_sum']\n",
    "uti_temp1['t_bin'] = 0\n",
    "uti_temp1.loc[uti_temp1['t_sum'] > 0, 't_bin'] = 1\n",
    "\n",
    "uti_temp1['t_sepsis_bin'] = 0\n",
    "uti_temp1.loc[uti_temp1['t_sepsis_sum'] > 0, 't_sepsis_bin'] = 1\n",
    "\n",
    "uti_temp1['t_i_uti_bin'] = 0\n",
    "uti_temp1.loc[uti_temp1['t_i_uti_sum'] > 0, 't_i_uti_bin'] = 1\n",
    "\n",
    "uti_temp1['t_i_neph_bin'] = 0\n",
    "uti_temp1.loc[uti_temp1['t_i_neph_sum'] > 0, 't_i_neph_bin'] = 1\n",
    "\n",
    "uti_temp1['t_i_sepsis_bin'] = 0\n",
    "uti_temp1.loc[uti_temp1['t_i_sepsis_sum'] > 0, 't_i_sepsis_bin'] = 1\n",
    "\n",
    "uti_temp1['t_i_sum'] = uti_temp1['t_i_uti_sum'] + uti_temp1['t_i_neph_sum'] + uti_temp1['t_i_sepsis_sum']\n",
    "uti_temp1['t_i_bin'] = 0\n",
    "uti_temp1.loc[uti_temp1['t_i_sum'] > 0, 't_i_bin'] = 1\n",
    "\n",
    "uti_temp1['t_uti_bin'] = 0\n",
    "uti_temp1.loc[uti_temp1['t_uti_sum'] > 0, 't_uti_bin'] = 1\n",
    "\n",
    "uti_temp1['t_neph_bin'] = 0\n",
    "uti_temp1.loc[uti_temp1['t_neph_sum'] > 0, 't_neph_bin'] = 1\n",
    "#adding final AE outcome\n",
    "adverse_event_outcomes = ['AE_c_diff',\n",
    " 'AE_skin', 'AE_GI', 'AE_AKI',\n",
    " 'AE_other']\n",
    "\n",
    "uti_temp1['AE_any'] = uti_temp1[adverse_event_outcomes].any(axis='columns').astype(int)"
   ]
  },
  {
   "cell_type": "markdown",
   "metadata": {},
   "source": [
    "## Add Lab count features and years since diagnosis"
   ]
  },
  {
   "cell_type": "code",
   "execution_count": null,
   "metadata": {},
   "outputs": [],
   "source": [
    "#urine and blood existence parameters\n",
    "existence_features = [f for f in uti_temp1.columns if f.endswith('_exists')]\n",
    "cbc_keywords = ['band',\n",
    " 'basophil',\n",
    " 'blast',\n",
    " 'eosinophil',\n",
    " 'granulocyte',\n",
    " 'lymphocyte',\n",
    " 'metamyelocte',\n",
    " 'monocyte',\n",
    " 'myelocyte',\n",
    " 'polymorphonuclear',\n",
    " 'neutrophil',\n",
    " 'segmented_nphil',\n",
    " 'variant_lympho']\n",
    "\n",
    "cbc_existence_features = [f for f in existence_features if any(k in f for k in cbc_keywords)]\n",
    "cbc_existence_features = [f for f in cbc_existence_features if not 'promyelocyte' in f]\n",
    "\n",
    "\n",
    "urine_features = [f for f in existence_features if '_urine_' in f]"
   ]
  },
  {
   "cell_type": "code",
   "execution_count": null,
   "metadata": {},
   "outputs": [],
   "source": [
    "uti_temp1['cbc_present'] = uti_temp1.apply(lambda row: any(row[f]==1 for f in cbc_existence_features), axis=1)\n",
    "uti_temp1['urine_test_present'] = uti_temp1.apply(lambda row: any(row[f]==1 for f in urine_features), axis=1)"
   ]
  },
  {
   "cell_type": "code",
   "execution_count": null,
   "metadata": {},
   "outputs": [],
   "source": [
    "uti_temp1['condition_start_date'] = pd.to_datetime(uti_temp1.condition_start_date)\n",
    "uti_temp1['years_since_diagnosis'] = 2021 - uti_temp1.condition_start_date.dt.year"
   ]
  },
  {
   "cell_type": "markdown",
   "metadata": {},
   "source": [
    "## Preprocess features"
   ]
  },
  {
   "cell_type": "code",
   "execution_count": null,
   "metadata": {},
   "outputs": [],
   "source": [
    "#fill in missing features for days_since_previous_uti\n",
    "feat_null = pd.Series(uti_temp1.isna().any())\n",
    "cols_to_fill = list(feat_null.loc[feat_null == True].index)\n",
    "uti_temp1[cols_to_fill] = uti_temp1[cols_to_fill].fillna(0)\n",
    "\n",
    "#turn all bool to 1 and 0\n",
    "bool_cols = uti_temp1.select_dtypes(include=['bool']).columns\n",
    "uti_temp1[bool_cols] = uti_temp1[bool_cols]*1"
   ]
  },
  {
   "cell_type": "code",
   "execution_count": null,
   "metadata": {},
   "outputs": [],
   "source": [
    "uti_temp1['body_temp_0'] = uti_temp1['body_temp_0'].apply(lambda x: (x-32)/1.8 if x>90 else x)"
   ]
  },
  {
   "cell_type": "code",
   "execution_count": null,
   "metadata": {},
   "outputs": [],
   "source": [
    "sql_cmd = 'select * from cdm_6871_21.observation_period where person_id in (select person_id from cdm_6871_21.{in_name})'.format(\n",
    "    person_id=tuple(set(cohort.person_id)),in_name=in_name)\n",
    "obs = pd.read_sql(sql_cmd, conn)\n",
    "obs.head()\n",
    "last_obs = obs.groupby('person_id')[['observation_period_end_date']].max()\n",
    "last_obs = last_obs.reset_index()\n",
    "last_obs.rename(columns={'observation_period_end_date':'last_visit_date'}, inplace=True)\n",
    "final = last_obs.join(cohort.sort_values(by='condition_start_date').drop_duplicates(subset=['person_id']).set_index('person_id'), on='person_id')\n",
    "final['last_visit_date'] = pd.to_datetime(final['last_visit_date'])\n",
    "final['condition_start_date'] = pd.to_datetime(final['condition_start_date'])\n",
    "final['followup_time'] = final['last_visit_date'] - final['condition_start_date']\n",
    "uti_temp1 = uti_temp1.merge(final[['followup_time','person_id']],on=\"person_id\")\n",
    "\n",
    "uti_temp1['less_15'] = (uti_temp1['followup_time'] < pd.Timedelta(15, unit='d')).astype(int)\n",
    "uti_temp1['less_30'] = (uti_temp1['followup_time'] < pd.Timedelta(30, unit='d')).astype(int)\n",
    "uti_temp1['less_90'] = (uti_temp1['followup_time'] < pd.Timedelta(90, unit='d')).astype(int)"
   ]
  },
  {
   "cell_type": "markdown",
   "metadata": {},
   "source": [
    "## Save to Dataframe"
   ]
  },
  {
   "cell_type": "code",
   "execution_count": null,
   "metadata": {},
   "outputs": [],
   "source": [
    "#spot check columns\n",
    "sorted(list(uti_temp1.columns))"
   ]
  },
  {
   "cell_type": "code",
   "execution_count": null,
   "metadata": {},
   "outputs": [],
   "source": [
    "uti_treatment = uti_temp1.copy()\n",
    "uti_treatment = uti_treatment.drop(columns=['level_0'])\n",
    "uti_treatment.to_sql(out_name,con=db.engine, if_exists=\"replace\", schema=\"cdm_6871_21\")\n",
    "cmd = f'grant select on table cdm_6871_21.{out_name} to cdm_6871_21'\n",
    "db.execute(cmd)"
   ]
  },
  {
   "cell_type": "markdown",
   "metadata": {},
   "source": [
    "## Grant access to Ming-Chieh (optional)"
   ]
  },
  {
   "cell_type": "code",
   "execution_count": null,
   "metadata": {},
   "outputs": [],
   "source": [
    "cmd = f\"grant select on table cdm_6871_21.{out_name} to littlecanargie\"\n",
    "db.execute(cmd)"
   ]
  },
  {
   "cell_type": "code",
   "execution_count": null,
   "metadata": {},
   "outputs": [],
   "source": []
  }
 ],
 "metadata": {
  "kernelspec": {
   "display_name": "omop_v2",
   "language": "python",
   "name": "myenv"
  },
  "language_info": {
   "codemirror_mode": {
    "name": "ipython",
    "version": 3
   },
   "file_extension": ".py",
   "mimetype": "text/x-python",
   "name": "python",
   "nbconvert_exporter": "python",
   "pygments_lexer": "ipython3",
   "version": "3.8.5"
  }
 },
 "nbformat": 4,
 "nbformat_minor": 2
}
