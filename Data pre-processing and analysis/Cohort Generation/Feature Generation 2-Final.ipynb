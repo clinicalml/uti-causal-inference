{
 "cells": [
  {
   "cell_type": "markdown",
   "metadata": {},
   "source": [
    "### Generates Provider Features using NPI Database"
   ]
  },
  {
   "cell_type": "code",
   "execution_count": null,
   "metadata": {},
   "outputs": [],
   "source": [
    "## This notebook reads the in_name df from the database, and writes to the out_name database\n",
    "in_name= 'manuscript_covariates_0_final'\n",
    "out_name = 'manuscript_covariates_1_final'"
   ]
  },
  {
   "cell_type": "code",
   "execution_count": null,
   "metadata": {},
   "outputs": [],
   "source": [
    "import sys\n",
    "import pickle\n",
    "import requests\n",
    "import json\n",
    "sys.path.append( '..' )\n",
    "import psycopg2\n",
    "import pandas as pd\n",
    "import numpy\n",
    "#import sparse\n",
    "import config\n",
    "import sys\n",
    "import time\n",
    "import importlib\n",
    "#\n",
    "import datetime\n",
    "import pandas as pd\n",
    "import numpy as np\n",
    "import scipy.sparse\n",
    "import matplotlib.pyplot as plt\n",
    "\n"
   ]
  },
  {
   "cell_type": "code",
   "execution_count": null,
   "metadata": {},
   "outputs": [],
   "source": [
    "import sparse\n",
    "import Utils.dbutils as dbutils\n",
    "import Utils.data_utils as data_utils\n",
    "import Generators.CohortGenerator as CohortGenerator\n",
    "import Generators.FeatureGenerator as FeatureGenerator\n",
    "import config\n",
    "local_imports = (\n",
    "    dbutils,\n",
    "    data_utils,\n",
    "    CohortGenerator,\n",
    "    FeatureGenerator,\n",
    "    config\n",
    ")\n",
    "for i in local_imports:\n",
    "    i = importlib.reload(i)\n",
    "\n",
    "# database connection\n",
    "username = config.PG_USERNAME\n",
    "password = config.PG_PASSWORD\n",
    "database_name = config.DB_NAME\n",
    "\n",
    "#config_path = 'postgresql://{username}:{password}@{database_name}'.format(\n",
    "config_path = 'postgresql://{database_name}'.format(database_name = database_name)\n",
    "\n",
    "connect_args = {\"host\": '/var/run/postgresql/'} # connect_args to pass to sqlalchemy create_engine function\n",
    "\n",
    "# schemas \n",
    "# schema_name = 'eol_test_ncjones' # all created tables will be created using this schema\n",
    "cdm_schema_name = config.OMOP_CDM_SCHEMA # the name of the schema housing your OMOP CDM tables\n",
    "print(f\"cdm schema: {cdm_schema_name}\")\n",
    "\n",
    "    #username = username,\n",
    "    #password = password,\n",
    "   # database_name = database_name\n",
    "#)\n",
    "\n",
    "# schemas \n",
    "schema_name = 'eol_test_eheal' # all created tables will be created using this schema\n",
    "\n",
    "# caching\n",
    "reset_schema = False # if true, rebuild all data from scratch\n",
    "\n",
    "# set up database, reset schemas as needed\n",
    "db = dbutils.Database(config_path, schema_name, connect_args, cdm_schema_name)\n",
    "# if reset_schema:\n",
    "#     db.execute(\n",
    "#         'drop schema if exists {} cascade'.format(schema_name)\n",
    "#     )\n",
    "# db.execute(\n",
    "#     'create schema if not exists {}'.format(schema_name)\n",
    "# )"
   ]
  },
  {
   "cell_type": "code",
   "execution_count": null,
   "metadata": {},
   "outputs": [],
   "source": [
    "# set input\n",
    "username='cdm_6871_21'\n",
    "password='MLHC2021'\n",
    "database_name = 'omop_v6'\n",
    "conn_string = \"dbname=\"+database_name + \" host=/var/run/postgresql\"\n",
    "conn=psycopg2.connect(conn_string)\n",
    "\n",
    "sql_cmd = 'select * from cdm_6871_21.{}'.format(in_name)\n",
    "covariate_df =pd.read_sql(sql_cmd, conn)\n",
    "\n",
    " "
   ]
  },
  {
   "cell_type": "markdown",
   "metadata": {},
   "source": [
    "## Add provider info"
   ]
  },
  {
   "cell_type": "code",
   "execution_count": null,
   "metadata": {},
   "outputs": [],
   "source": [
    "%%time\n",
    "\n",
    "\n",
    "# visit provider info\n",
    "sql_cmd = '''\n",
    "SELECT provider.provider_id, specialty_concept_id, concept_name, npi\n",
    "FROM (SELECT * FROM cdm_6871_21.provider\n",
    "        WHERE provider_id IN\n",
    "            (SELECT visit_provider_id FROM cdm_6871_21.cohort_manuscript_updated_treatments_ncj)) as provider\n",
    "JOIN (SELECT concept_id, concept_name FROM cdm_6871_21.concept) as concept\n",
    "ON provider.specialty_concept_id=concept.concept_id\n",
    "GROUP BY provider.provider_id, provider.specialty_concept_id, concept.concept_name, provider.npi\n",
    "'''\n",
    "provider_visit = pd.read_sql(sql_cmd, conn)\n",
    "provider_visit.head()\n",
    "print(len(provider_visit))\n"
   ]
  },
  {
   "cell_type": "code",
   "execution_count": null,
   "metadata": {},
   "outputs": [],
   "source": [
    "%%time \n",
    "# durg provider infor\n",
    "sql_cmd = '''\n",
    "SELECT provider.provider_id, specialty_concept_id, concept_name, npi\n",
    "FROM (SELECT * FROM cdm_6871_21.provider\n",
    "        WHERE provider_id IN\n",
    "            (SELECT provider_id FROM cdm_6871_21.cohort_manuscript_updated_treatments_ncj)) as provider\n",
    "JOIN (SELECT concept_id, concept_name FROM cdm_6871_21.concept) as concept\n",
    "ON provider.specialty_concept_id=concept.concept_id\n",
    "GROUP BY provider.provider_id, provider.specialty_concept_id, concept.concept_name, provider.npi\n",
    "'''\n",
    "provider = pd.read_sql(sql_cmd, conn)\n",
    "provider.head()\n",
    "print(len(provider))"
   ]
  },
  {
   "cell_type": "code",
   "execution_count": null,
   "metadata": {},
   "outputs": [],
   "source": [
    "provider_visit = provider_visit.rename(columns = {'specialty_concept_id': 'visit_specialty_concept_id','provider_id':'visit_provider_id','npi':'visit_npi','concept_name':'visit_concept_name'})\n",
    "provider = provider.rename(columns = {'npi':'drug_npi'})\n",
    "\n"
   ]
  },
  {
   "cell_type": "code",
   "execution_count": null,
   "metadata": {},
   "outputs": [],
   "source": [
    "#vtemp_visit = v12.join(provider_visit[['visit_provider_id', 'visit_specialty_concept_id', 'visit_concept_name','visit_npi']].set_index('visit_provider_id'), on='visit_provider_id')\n",
    "vtemp_visit = covariate_df.join(provider_visit[['visit_provider_id', 'visit_specialty_concept_id', 'visit_concept_name','visit_npi']].set_index('visit_provider_id'), on='visit_provider_id')\n",
    "vtemp_visit['visit_specialty_concept_id'].fillna(0, inplace = True)\n",
    "\n",
    "vtemp = vtemp_visit.join(provider[['provider_id', 'specialty_concept_id', 'concept_name','drug_npi']].set_index('provider_id'), on='provider_id')\n",
    "vtemp['specialty_concept_id'].fillna(0, inplace = True)\n"
   ]
  },
  {
   "cell_type": "code",
   "execution_count": null,
   "metadata": {},
   "outputs": [],
   "source": [
    "temp = vtemp[['npi','drug_npi','visit_npi','condition_occurrence_id','person_id','visit_provider_id','provider_id', 'visit_specialty_concept_id', 'specialty_concept_id', 'visit_concept_name','concept_name']]\n",
    "\n"
   ]
  },
  {
   "cell_type": "code",
   "execution_count": null,
   "metadata": {},
   "outputs": [],
   "source": [
    "temp1 = temp.assign(provider_specialty_available = False)\n",
    "temp1.provider_specialty_available = (~(temp1.concept_name=='No matching concept')&~(temp1.provider_id==-1))\n",
    "\n",
    "temp1 = temp1.assign(visit_provider_specialty_available = False)\n",
    "temp1.visit_provider_specialty_available = (~(temp1.visit_concept_name=='No matching concept')&~(temp1.visit_provider_id==-1))\n",
    "provider_table = temp1.copy()\n"
   ]
  },
  {
   "cell_type": "markdown",
   "metadata": {},
   "source": [
    "## Query NPI database and Pickle"
   ]
  },
  {
   "cell_type": "code",
   "execution_count": null,
   "metadata": {},
   "outputs": [],
   "source": [
    "%%time\n",
    "error_index = []\n",
    "error_condition = []\n",
    "not_found = []\n",
    "\n",
    "provider_visit_dict = {}\n",
    "count = 0\n",
    "for n in provider_table.visit_npi.unique():\n",
    "    count+=1\n",
    "    if count%200==0:\n",
    "        print(count/provider_table.visit_npi.nunique())\n",
    "    try:\n",
    "        r = requests.get(f'https://npiregistry.cms.hhs.gov/api/?version=2.1&number={n}&pretty=on')\n",
    "        results_text =json.loads(r.text)\n",
    "        try: \n",
    "            provider_visit_dict[n] = results_text[\"results\"][0][\"taxonomies\"]\n",
    "        except:\n",
    "            not_found.append(n)          \n",
    "    except:\n",
    "        error_condition.append(n)\n",
    "        error_index.append(n)\n",
    "print (f'Number of not found: {len(not_found)}')\n",
    "\n"
   ]
  },
  {
   "cell_type": "code",
   "execution_count": null,
   "metadata": {},
   "outputs": [],
   "source": [
    "import pickle\n",
    "pickle.dump(provider_visit_dict, open('provider_visit_dict.p','wb'))\n",
    "pickle.dump(not_found, open('provider_visit_npis_not_found.p','wb'))"
   ]
  },
  {
   "cell_type": "code",
   "execution_count": null,
   "metadata": {},
   "outputs": [],
   "source": [
    "%%time\n",
    "# Load Drug NPI information\n",
    "error_index_drug = []\n",
    "error_condition_drug = []\n",
    "not_found_drug = []\n",
    "\n",
    "provider_drug_dict = {}\n",
    "count = 0\n",
    "for n in provider_table.drug_npi.unique():\n",
    "    count+=1\n",
    "    if count%600==0:\n",
    "        print(count/provider_table.drug_npi.nunique())\n",
    "    try:\n",
    "        r = requests.get(f'https://npiregistry.cms.hhs.gov/api/?version=2.1&number={n}&pretty=on')\n",
    "        results_text =json.loads( r.text)\n",
    "        try: \n",
    "            provider_drug_dict[n] = results_text[\"results\"][0][\"taxonomies\"]\n",
    "        except:\n",
    "            not_found_drug.append(n)          \n",
    "    except:\n",
    "        error_condition_drug.append(n)\n",
    "        error_index_drug.append(n)\n",
    "import pickle\n",
    "pickle.dump(provider_drug_dict, open('provider_drug_dict.p','wb'))\n",
    "pickle.dump(not_found_drug, open('provider_drug_npis_not_found.p','wb'))\n"
   ]
  },
  {
   "cell_type": "markdown",
   "metadata": {},
   "source": [
    "## Load pickle and add information to covariate table"
   ]
  },
  {
   "cell_type": "code",
   "execution_count": null,
   "metadata": {},
   "outputs": [],
   "source": [
    "provider_visit_dict =pickle.load(open('provider_visit_dict.p','rb'))\n",
    "provider_drug_dict =pickle.load(open('provider_drug_dict.p','rb'))"
   ]
  },
  {
   "cell_type": "code",
   "execution_count": null,
   "metadata": {
    "scrolled": true
   },
   "outputs": [],
   "source": [
    "%%time\n",
    "# Drug\n",
    "provider_table = provider_table.assign(visit_npi_desc = '')\n",
    "provider_table = provider_table.assign(drug_npi_desc = '')\n",
    "provider_table = provider_table.assign(npi_same = False)\n",
    "\n",
    "error_index = []\n",
    "error_condition = []\n",
    "not_found = []\n",
    "no_primary_taxonomy_found_drug = []\n",
    "no_primary_taxonomy_found_visit = []\n",
    "flag = False\n",
    "count = 0\n",
    "multiple = []\n",
    "for idx,row in provider_table.iterrows():\n",
    "    n = row.drug_npi\n",
    "    if str(n) !='nan':\n",
    "        try:\n",
    "            taxonomies =provider_drug_dict[n]\n",
    "            if len(taxonomies)==1:  \n",
    "                provider_table.loc[idx,'drug_npi_desc'] = taxonomies[0][\"desc\"]\n",
    "            else:\n",
    "                num_tax = 0\n",
    "                for tax in taxonomies:\n",
    "                    \n",
    "                    multiple.append(n)\n",
    "                    if tax['primary']==True:\n",
    "                        provider_table.loc[idx,'drug_npi_desc'] = tax[\"desc\"]\n",
    "                        num_tax +=1\n",
    "                        flag = True\n",
    "                if num_tax>1:\n",
    "                    print(n)\n",
    "                if flag ==False:\n",
    "                    no_primary_taxonomy_found_drug.append(n)\n",
    "                flag = False\n",
    "        except:\n",
    "            provider_table.loc[idx,'drug_npi_desc'] = None\n",
    "    n = row.visit_npi\n",
    "    if str(n) != 'nan' and n != None:\n",
    "        try:\n",
    "            taxonomies =provider_visit_dict[n]\n",
    "            \n",
    "            if len(taxonomies)==1:  \n",
    "                provider_table.loc[idx,'visit_npi_desc'] = taxonomies[0][\"desc\"]\n",
    "            else:\n",
    "                for tax in taxonomies:\n",
    "                    if tax['primary']==True:\n",
    "                        provider_table.loc[idx,'visit_npi_desc'] = tax[\"desc\"]\n",
    "                        flag = True\n",
    "                        \n",
    "                if flag ==False:\n",
    "                    no_primary_taxonomy_found_visit.append(n)\n",
    "                flag = False\n",
    "            if row.drug_npi ==row.visit_npi:\n",
    "                provider_table.loc[idx,'npi_same'] = True    \n",
    "            count +=1\n",
    "        except:\n",
    "            provider_table.loc[idx,'visit_npi_desc'] = None\n",
    "\n",
    "        if count%5000 ==0:\n",
    "            print(count/len(provider_table))\n"
   ]
  },
  {
   "cell_type": "code",
   "execution_count": null,
   "metadata": {},
   "outputs": [],
   "source": [
    "covariate_df_new = covariate_df.join(provider_table[['condition_occurrence_id', 'drug_npi_desc']].set_index('condition_occurrence_id'), on='condition_occurrence_id')"
   ]
  },
  {
   "cell_type": "markdown",
   "metadata": {},
   "source": [
    "### One hot encoding\n"
   ]
  },
  {
   "cell_type": "code",
   "execution_count": null,
   "metadata": {},
   "outputs": [],
   "source": [
    "covariate_df_new = covariate_df_new.assign(provider_specialty_available = False)\n",
    "covariate_df_new.provider_specialty_available = (~(covariate_df_new['drug_npi_desc']==''))"
   ]
  },
  {
   "cell_type": "code",
   "execution_count": null,
   "metadata": {},
   "outputs": [],
   "source": [
    "%%time\n",
    "covariate_df_new1 = covariate_df_new1.assign(drug_npi_desc_grouped = '')\n",
    "none_count = 0\n",
    "i=0\n",
    "for idx, row in covariate_df_new1.iterrows():\n",
    "    if row.drug_npi_desc == None:\n",
    "        none_count+=1\n",
    "    else:\n",
    "        desc = row.drug_npi_desc.lower()\n",
    "        if 'nurse' in desc or 'physician assistant' in desc:\n",
    "            covariate_df_new1.loc[idx,'drug_npi_desc_grouped'] = 'advanced_specialist_group'\n",
    "        elif ('family' in desc and not ('planning' in desc or 'marriage' in desc) ) or  ('general practice' in desc and not 'dentist' in desc):\n",
    "            covariate_df_new1.loc[idx,'drug_npi_desc_grouped'] = 'family_medicine_group'\n",
    "        elif 'internal medicine' == desc or 'internal medicine geriatric medicine' == desc:\n",
    "            covariate_df_new1.loc[idx,'drug_npi_desc_grouped'] = 'internal_medicine_group'\n",
    "        elif 'emergency' in desc or 'acute' in desc or 'hospital' in desc:\n",
    "            covariate_df_new1.loc[idx,'drug_npi_desc_grouped'] = 'emergency/acute_group'\n",
    "        elif 'urology' in desc and not('neurology' in desc):\n",
    "            covariate_df_new1.loc[idx,'drug_npi_desc_grouped'] = 'urology_group'\n",
    "        elif 'gynecology' in desc or 'OBG' in desc or 'midwife' in desc:\n",
    "            covariate_df_new1.loc[idx,'drug_npi_desc_grouped'] = 'OBGYN_group'\n",
    "        elif len(desc)>0 :\n",
    "            covariate_df_new1.loc[idx,'drug_npi_desc_grouped'] = 'other_group'\n",
    "    if i %3000 ==0:\n",
    "        print(i/len(covariate_df_new1))\n",
    "        \n",
    "    i = i+1"
   ]
  },
  {
   "cell_type": "code",
   "execution_count": null,
   "metadata": {},
   "outputs": [],
   "source": [
    "covariate_df_new1.provider_specialty_available =   (covariate_df_new1.drug_npi_desc_grouped!='')"
   ]
  },
  {
   "cell_type": "code",
   "execution_count": null,
   "metadata": {},
   "outputs": [],
   "source": [
    "covariate_df_new1[covariate_df_new1['drug_npi_desc_grouped']=='family_medicine_group']"
   ]
  },
  {
   "cell_type": "code",
   "execution_count": null,
   "metadata": {},
   "outputs": [],
   "source": [
    "specialties = pd.DataFrame(covariate_df_new1.drug_npi_desc_grouped.value_counts()).index\n",
    "specialties = specialties.drop('')\n",
    "specialties_list =[]\n",
    "for s in list(specialties):\n",
    "    specialties_list.append('specialty_'+str(s))\n"
   ]
  },
  {
   "cell_type": "code",
   "execution_count": null,
   "metadata": {},
   "outputs": [],
   "source": [
    "temp = covariate_df_new1[['drug_npi_desc_grouped']]\n",
    "onehot = pd.get_dummies(temp,prefix = 'specialty')"
   ]
  },
  {
   "cell_type": "code",
   "execution_count": null,
   "metadata": {},
   "outputs": [],
   "source": [
    "covariate_df_new2 = covariate_df_new1.merge(onehot.loc[:,specialties_list],left_index = True,right_index = True)"
   ]
  },
  {
   "cell_type": "code",
   "execution_count": null,
   "metadata": {},
   "outputs": [],
   "source": [
    "covariate_df_new2 = covariate_df_new2.drop(columns = ['drug_npi_desc'])"
   ]
  },
  {
   "cell_type": "code",
   "execution_count": null,
   "metadata": {},
   "outputs": [],
   "source": [
    "covariate_df_new2 = covariate_df_new2.drop(columns = ['drug_npi_desc_grouped'])"
   ]
  },
  {
   "cell_type": "code",
   "execution_count": null,
   "metadata": {},
   "outputs": [],
   "source": [
    "covariate_df_new2 =covariate_df_new2.drop(columns = 'level_0')"
   ]
  },
  {
   "cell_type": "code",
   "execution_count": null,
   "metadata": {},
   "outputs": [],
   "source": [
    "covariate_df_new2.to_sql(\"{}\".format(out_name),con=db.engine, if_exists=\"replace\", schema=\"cdm_6871_21\")\n"
   ]
  },
  {
   "cell_type": "code",
   "execution_count": null,
   "metadata": {},
   "outputs": [],
   "source": [
    "db.execute(\"GRANT SELECT ON TABLE cdm_6871_21.{} TO cdm_6871_21;\".format(out_name))\n",
    "\n"
   ]
  },
  {
   "cell_type": "markdown",
   "metadata": {},
   "source": [
    "# Stop"
   ]
  },
  {
   "cell_type": "markdown",
   "metadata": {},
   "source": [
    "## Analysis "
   ]
  },
  {
   "cell_type": "code",
   "execution_count": null,
   "metadata": {},
   "outputs": [],
   "source": [
    "# provider_table[provider_table.drug_npi.isna()].visit_npi_desc.value_counts().head(30)"
   ]
  },
  {
   "cell_type": "code",
   "execution_count": null,
   "metadata": {},
   "outputs": [],
   "source": [
    "# provider_table[provider_table.drug_npi.isna()]"
   ]
  },
  {
   "cell_type": "code",
   "execution_count": null,
   "metadata": {},
   "outputs": [],
   "source": []
  },
  {
   "cell_type": "code",
   "execution_count": null,
   "metadata": {},
   "outputs": [],
   "source": []
  },
  {
   "cell_type": "code",
   "execution_count": null,
   "metadata": {},
   "outputs": [],
   "source": [
    "# tmp = provider_table.assign(drug_npi_desc_grouped = '')\n",
    "\n",
    "# i=0\n",
    "# for idx, row in tmp.iterrows():\n",
    "#     desc = row.drug_npi_desc.lower()\n",
    "#     if 'nurse' in desc or 'physician assistant' in desc:\n",
    "#         tmp.loc[idx,'drug_npi_desc_grouped'] = 'advanced_specialist_group'\n",
    "#     elif 'family' in desc and not ('planning' in desc or 'marriage' in desc):\n",
    "#         tmp.loc[idx,'drug_npi_desc_grouped'] = 'family_medicine_group'\n",
    "#     elif 'internal' in desc or 'general practice' in desc:\n",
    "#         tmp.loc[idx,'drug_npi_desc_grouped'] = 'internal_medicine_group'\n",
    "#     elif 'emergency' in desc or 'acute' in desc or 'hospital' in desc:\n",
    "#         tmp.loc[idx,'drug_npi_desc_grouped'] = 'emergency/acute_group'\n",
    "#     elif 'urology' in desc and not('neurology' in desc):\n",
    "#         tmp.loc[idx,'drug_npi_desc_grouped'] = 'urology_group'\n",
    "#     elif 'gynecology' in desc or 'OBG' in desc or 'midwife' in desc:\n",
    "#         tmp.loc[idx,'drug_npi_desc_grouped'] = 'OBGYN_group'\n",
    "#     elif len(desc)>0 :\n",
    "#         tmp.loc[idx,'drug_npi_desc_grouped'] = 'other_group'\n",
    "#     if i %3000 ==0:\n",
    "#         print(i)\n",
    "        \n",
    "#     i = i+1"
   ]
  },
  {
   "cell_type": "code",
   "execution_count": null,
   "metadata": {},
   "outputs": [],
   "source": [
    "# tmp = tmp.assign(visit_npi_desc_grouped = '')\n",
    "\n",
    "# i=0\n",
    "# for idx, row in tmp.iterrows():\n",
    "#     desc = row.visit_npi_desc.lower()\n",
    "#     if 'nurse' in desc or 'physician assistant' in desc:\n",
    "#         tmp.loc[idx,'visit_npi_desc_grouped'] = 'advanced_specialist_group'\n",
    "#     elif 'family' in desc and not ('planning' in desc or 'marriage' in desc):\n",
    "#         tmp.loc[idx,'visit_npi_desc_grouped'] = 'family_medicine_group'\n",
    "#     elif 'internal' in desc or 'general practice' in desc:\n",
    "#         tmp.loc[idx,'visit_npi_desc_grouped'] = 'internal_medicine_group'\n",
    "#     elif 'emergency' in desc or 'acute' in desc or 'hospital' in desc:\n",
    "#         tmp.loc[idx,'visit_npi_desc_grouped'] = 'emergency/acute_group'\n",
    "#     elif 'urology' in desc and not('neurology' in desc):\n",
    "#         tmp.loc[idx,'visit_npi_desc_grouped'] = 'urology_group'\n",
    "#     elif 'gynecology' in desc or 'OBG' in desc or 'midwife' in desc:\n",
    "#         tmp.loc[idx,'visit_npi_desc_grouped'] = 'OBGYN_group'\n",
    "#     elif len(desc)>0 :\n",
    "#         tmp.loc[idx,'visit_npi_desc_grouped'] = 'other_group'\n",
    "#     if i %3000 ==0:\n",
    "#         print(i)\n",
    "        \n",
    "#     i = i+1"
   ]
  },
  {
   "cell_type": "code",
   "execution_count": null,
   "metadata": {},
   "outputs": [],
   "source": [
    "# tmp2 = tmp[tmp.drug_npi_desc_grouped != '']"
   ]
  },
  {
   "cell_type": "code",
   "execution_count": null,
   "metadata": {},
   "outputs": [],
   "source": [
    "# tmp3 =  tmp2[tmp2.visit_npi_desc_grouped != '']"
   ]
  },
  {
   "cell_type": "code",
   "execution_count": null,
   "metadata": {},
   "outputs": [],
   "source": [
    "# tmp3"
   ]
  },
  {
   "cell_type": "code",
   "execution_count": null,
   "metadata": {},
   "outputs": [],
   "source": [
    "# df = tmp3[['drug_npi_desc_grouped','visit_npi_desc_grouped']]"
   ]
  },
  {
   "cell_type": "code",
   "execution_count": null,
   "metadata": {},
   "outputs": [],
   "source": [
    "# df"
   ]
  },
  {
   "cell_type": "code",
   "execution_count": null,
   "metadata": {},
   "outputs": [],
   "source": [
    "# final = df.groupby(['drug_npi_desc_grouped','visit_npi_desc_grouped']).size()"
   ]
  },
  {
   "cell_type": "code",
   "execution_count": null,
   "metadata": {},
   "outputs": [],
   "source": [
    "# temp = pd.DataFrame(final)"
   ]
  },
  {
   "cell_type": "code",
   "execution_count": null,
   "metadata": {},
   "outputs": [],
   "source": [
    "# temp"
   ]
  },
  {
   "cell_type": "code",
   "execution_count": null,
   "metadata": {
    "collapsed": true
   },
   "outputs": [],
   "source": [
    "# temp.sort_values(by = (0),ascending = False).head(50)"
   ]
  },
  {
   "cell_type": "code",
   "execution_count": null,
   "metadata": {},
   "outputs": [],
   "source": []
  },
  {
   "cell_type": "code",
   "execution_count": null,
   "metadata": {},
   "outputs": [],
   "source": []
  },
  {
   "cell_type": "code",
   "execution_count": null,
   "metadata": {},
   "outputs": [],
   "source": []
  }
 ],
 "metadata": {
  "kernelspec": {
   "display_name": "omop_v2",
   "language": "python",
   "name": "myenv"
  },
  "language_info": {
   "codemirror_mode": {
    "name": "ipython",
    "version": 3
   },
   "file_extension": ".py",
   "mimetype": "text/x-python",
   "name": "python",
   "nbconvert_exporter": "python",
   "pygments_lexer": "ipython3",
   "version": "3.8.5"
  }
 },
 "nbformat": 4,
 "nbformat_minor": 2
}
