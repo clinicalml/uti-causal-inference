{
 "cells": [
  {
   "cell_type": "code",
   "execution_count": 1,
   "metadata": {},
   "outputs": [],
   "source": [
    "\n",
    "\n",
    "in_name = 'manuscript_covariates_4_final'\n",
    "out_name = 'manuscript_covariates_5_final'\n"
   ]
  },
  {
   "cell_type": "code",
   "execution_count": 31,
   "metadata": {},
   "outputs": [
    {
     "name": "stdout",
     "output_type": "stream",
     "text": [
      "cdm schema: cdm_6871_21\n"
     ]
    }
   ],
   "source": [
    "import psycopg2\n",
    "\n",
    "import sys\n",
    "sys.path.append( '..' )\n",
    "import time\n",
    "import importlib\n",
    "import datetime\n",
    "import pandas as pd\n",
    "import numpy as np\n",
    "import scipy.sparse\n",
    "#import matplotlib.pyplot as plt\n",
    "import Utils.dbutils as dbutils\n",
    "import Utils.data_utils as data_utils\n",
    "import Generators.CohortGenerator as CohortGenerator\n",
    "import Generators.FeatureGenerator as FeatureGenerator\n",
    "import config\n",
    "local_imports = (\n",
    "    dbutils,\n",
    "    data_utils,\n",
    "    CohortGenerator,\n",
    "    FeatureGenerator,\n",
    "    config\n",
    ")\n",
    "for i in local_imports:\n",
    "    i = importlib.reload(i)\n",
    "\n",
    "# database connection\n",
    "username = config.PG_USERNAME\n",
    "password = config.PG_PASSWORD\n",
    "database_name = config.DB_NAME\n",
    "\n",
    "#config_path = 'postgresql://{username}:{password}@{database_name}'.format(\n",
    "config_path = 'postgresql://{database_name}'.format(database_name = database_name)\n",
    "\n",
    "connect_args = {\"host\": '/var/run/postgresql/'} # connect_args to pass to sqlalchemy create_engine function\n",
    "\n",
    "# schemas \n",
    "# schema_name = 'eol_test_ncjones' # all created tables will be created using this schema\n",
    "cdm_schema_name = config.OMOP_CDM_SCHEMA # the name of the schema housing your OMOP CDM tables\n",
    "print(f\"cdm schema: {cdm_schema_name}\")\n",
    "\n",
    "    #username = username,\n",
    "    #password = password,\n",
    "   # database_name = database_name\n",
    "#)\n",
    "\n",
    "# schemas \n",
    "schema_name = 'eol_test_eheal' # all created tables will be created using this schema\n",
    "\n",
    "# caching\n",
    "reset_schema = False # if true, rebuild all data from scratch\n",
    "\n",
    "# set up database, reset schemas as needed\n",
    "db = dbutils.Database(config_path, schema_name, connect_args, cdm_schema_name)\n",
    "# if reset_schema:\n",
    "#     db.execute(\n",
    "#         'drop schema if exists {} cascade'.format(schema_name)\n",
    "#     )\n",
    "# db.execute(\n",
    "#     'create schema if not exists {}'.format(schema_name)\n",
    "# )"
   ]
  },
  {
   "cell_type": "markdown",
   "metadata": {},
   "source": [
    "# Get Negative Controls"
   ]
  },
  {
   "cell_type": "code",
   "execution_count": 3,
   "metadata": {},
   "outputs": [
    {
     "name": "stdout",
     "output_type": "stream",
     "text": [
      "CPU times: user 217 ms, sys: 39.6 ms, total: 257 ms\n",
      "Wall time: 9.3 s\n"
     ]
    }
   ],
   "source": [
    "%%time\n",
    "username='cdm_6871_21'\n",
    "password='MLHC2021'\n",
    "database_name = 'omop_v6'\n",
    "conn_string = \"dbname=\"+database_name + \" host=/var/run/postgresql\"\n",
    "conn=psycopg2.connect(conn_string)\n",
    "fibro_concepts = pd.read_sql(\"\"\"SELECT * FROM cdm_6871_21.concept\n",
    "                                 WHERE concept_name ILIKE '%fibrocystic%breast'\"\"\", conn)\n",
    "\n"
   ]
  },
  {
   "cell_type": "code",
   "execution_count": 4,
   "metadata": {},
   "outputs": [],
   "source": [
    "hernia_concepts = pd.read_sql(\"\"\"SELECT * FROM cdm_6871_21.concept WHERE (concept_name ILIKE '%hernia%') \n",
    "                                AND (concept_name ILIKE ANY (ARRAY ['%ventral%', '%inguinal%', '%intestin%', '%lumb%', '%diaphragm%', '%umbilic%', '%epigastri%', '%hiat%', '%inci%']))\"\"\", conn)\n"
   ]
  },
  {
   "cell_type": "code",
   "execution_count": 5,
   "metadata": {},
   "outputs": [],
   "source": [
    "fracture_concepts = pd.read_sql(\"\"\"SELECT * FROM cdm_6871_21.concept\n",
    "                                 WHERE concept_name ILIKE '%fracture%'\"\"\", conn)\n"
   ]
  },
  {
   "cell_type": "markdown",
   "metadata": {},
   "source": [
    "### Remove highlighted terms"
   ]
  },
  {
   "cell_type": "code",
   "execution_count": 6,
   "metadata": {},
   "outputs": [],
   "source": [
    "hernia_concepts = hernia_concepts[hernia_concepts.concept_name !='Diaphragmatic hernia']\n",
    "hernia_concepts = hernia_concepts[hernia_concepts.concept_name !='Obstructed diaphragmatic hernia']\n",
    "hernia_concepts = hernia_concepts[hernia_concepts.concept_name !='Congenital diaphragmatic hernia']\n",
    "hernia_concepts = hernia_concepts[hernia_concepts.concept_name !='Congenital hiatus hernia']"
   ]
  },
  {
   "cell_type": "code",
   "execution_count": 7,
   "metadata": {},
   "outputs": [],
   "source": [
    "fracture_concepts =fracture_concepts[fracture_concepts.concept_name !='Fracture malunion - shoulder']\n",
    "fracture_concepts =fracture_concepts[fracture_concepts.concept_name !='Open fracture of one rib']\n",
    "fracture_concepts =fracture_concepts[fracture_concepts.concept_name !='Fracture malunion - forearm']\n",
    "fracture_concepts =fracture_concepts[fracture_concepts.concept_name !='Malunion of fracture of proximal femur']\n",
    "fracture_concepts =fracture_concepts[fracture_concepts.concept_name !='Late effect of fracture of skull AND/OR face bones']\n",
    "fracture_concepts =fracture_concepts[fracture_concepts.concept_name !='Late effect of fracture of cervical vertebra']\n",
    "fracture_concepts =fracture_concepts[fracture_concepts.concept_name !='Delayed union of fracture of foot']\n",
    "fracture_concepts =fracture_concepts[fracture_concepts.concept_name !='Late effect of fracture of neck of femur']\n",
    "fracture_concepts =fracture_concepts[fracture_concepts.concept_name !='Late effect of intracranial injury without skull fracture']\n",
    "fracture_concepts =fracture_concepts[fracture_concepts.concept_name !='Late effect of fracture of spine AND/OR trunk without spinal cord lesion']\n",
    "fracture_concepts =fracture_concepts[fracture_concepts.concept_name !='Fracture of tooth']\n",
    "fracture_concepts =fracture_concepts[fracture_concepts.concept_name !='Sequelae of fracture of femur']\n",
    "fracture_concepts =fracture_concepts[fracture_concepts.concept_name !='Disorder due to and following fracture of upper limb']\n",
    "fracture_concepts =fracture_concepts[fracture_concepts.concept_name !='Late effect of fracture of thoracic vertebra']\n",
    "fracture_concepts =fracture_concepts[fracture_concepts.concept_name !='Late effect of fracture of lower extremities']\n",
    "fracture_concepts =fracture_concepts[fracture_concepts.concept_name !='Late effect of fracture of lumbar vertebra']\n",
    "fracture_concepts =fracture_concepts[fracture_concepts.concept_name !='Delayed union of fracture']\n",
    "\n",
    "\n"
   ]
  },
  {
   "cell_type": "code",
   "execution_count": 8,
   "metadata": {},
   "outputs": [],
   "source": [
    "# pd.DataFrame(list(fracture_concepts.concept_name),columns = ['fracture']).to_csv('Negative_Control_files/all_fracture.csv', index=False)\n",
    "# pd.DataFrame(list(hernia_concepts.concept_name),columns = ['hernia']).to_csv('Negative_Control_files/all_hernia.csv', index=False)\n",
    "# pd.DataFrame(list(fibro_concepts.concept_name),columns = ['fibro']).to_csv('Negative_Control_files/all_fibro.csv', index=False)\n",
    "\n"
   ]
  },
  {
   "cell_type": "code",
   "execution_count": 8,
   "metadata": {},
   "outputs": [
    {
     "data": {
      "text/html": [
       "<div>\n",
       "<style scoped>\n",
       "    .dataframe tbody tr th:only-of-type {\n",
       "        vertical-align: middle;\n",
       "    }\n",
       "\n",
       "    .dataframe tbody tr th {\n",
       "        vertical-align: top;\n",
       "    }\n",
       "\n",
       "    .dataframe thead th {\n",
       "        text-align: right;\n",
       "    }\n",
       "</style>\n",
       "<table border=\"1\" class=\"dataframe\">\n",
       "  <thead>\n",
       "    <tr style=\"text-align: right;\">\n",
       "      <th></th>\n",
       "      <th>concept_id</th>\n",
       "      <th>condition_start_date</th>\n",
       "      <th>condition_occurrence_id</th>\n",
       "      <th>person_id</th>\n",
       "    </tr>\n",
       "  </thead>\n",
       "  <tbody>\n",
       "    <tr>\n",
       "      <th>0</th>\n",
       "      <td>443744</td>\n",
       "      <td>2015-10-09</td>\n",
       "      <td>170574397</td>\n",
       "      <td>13</td>\n",
       "    </tr>\n",
       "    <tr>\n",
       "      <th>1</th>\n",
       "      <td>437833</td>\n",
       "      <td>2014-12-09</td>\n",
       "      <td>110201808</td>\n",
       "      <td>13</td>\n",
       "    </tr>\n",
       "    <tr>\n",
       "      <th>2</th>\n",
       "      <td>80809</td>\n",
       "      <td>2015-12-10</td>\n",
       "      <td>183780400</td>\n",
       "      <td>13</td>\n",
       "    </tr>\n",
       "    <tr>\n",
       "      <th>3</th>\n",
       "      <td>254761</td>\n",
       "      <td>2014-04-28</td>\n",
       "      <td>69378391</td>\n",
       "      <td>13</td>\n",
       "    </tr>\n",
       "    <tr>\n",
       "      <th>4</th>\n",
       "      <td>79106</td>\n",
       "      <td>2014-06-23</td>\n",
       "      <td>78917016</td>\n",
       "      <td>13</td>\n",
       "    </tr>\n",
       "  </tbody>\n",
       "</table>\n",
       "</div>"
      ],
      "text/plain": [
       "   concept_id condition_start_date  condition_occurrence_id  person_id\n",
       "0      443744           2015-10-09                170574397         13\n",
       "1      437833           2014-12-09                110201808         13\n",
       "2       80809           2015-12-10                183780400         13\n",
       "3      254761           2014-04-28                 69378391         13\n",
       "4       79106           2014-06-23                 78917016         13"
      ]
     },
     "metadata": {},
     "output_type": "display_data"
    },
    {
     "name": "stdout",
     "output_type": "stream",
     "text": [
      "CPU times: user 5min 7s, sys: 1min 21s, total: 6min 29s\n",
      "Wall time: 12min 38s\n"
     ]
    }
   ],
   "source": [
    "%%time\n",
    "\n",
    "# get all conditions\n",
    "sql = \"\"\"\n",
    "    select \n",
    "        a.condition_concept_id as concept_id,\n",
    "        a.condition_start_date as condition_start_date,\n",
    "        a.condition_occurrence_id as condition_occurrence_id,\n",
    "        p.person_id as person_id\n",
    "    from\n",
    "        {omop_schema}.condition_occurrence a\n",
    "    inner join\n",
    "        {omop_schema}.person p\n",
    "    on \n",
    "        a.person_id = p.person_id\n",
    "    where \n",
    "        p.gender_source_value = 'F'\n",
    "\n",
    "\"\"\".format(omop_schema='cdm_6871_21')\n",
    "#.format(omop_schema=config.OMOP_CDM_SCHEMA,)\n",
    "#condition_df = db.query(sql)\n",
    "condition_df = pd.read_sql(sql,conn)\n",
    "condition_df.set_index([\"condition_occurrence_id\"])\n",
    "display(condition_df.head())"
   ]
  },
  {
   "cell_type": "code",
   "execution_count": 9,
   "metadata": {},
   "outputs": [
    {
     "data": {
      "text/html": [
       "<div>\n",
       "<style scoped>\n",
       "    .dataframe tbody tr th:only-of-type {\n",
       "        vertical-align: middle;\n",
       "    }\n",
       "\n",
       "    .dataframe tbody tr th {\n",
       "        vertical-align: top;\n",
       "    }\n",
       "\n",
       "    .dataframe thead th {\n",
       "        text-align: right;\n",
       "    }\n",
       "</style>\n",
       "<table border=\"1\" class=\"dataframe\">\n",
       "  <thead>\n",
       "    <tr style=\"text-align: right;\">\n",
       "      <th></th>\n",
       "      <th>level_0</th>\n",
       "      <th>index</th>\n",
       "      <th>condition_occurrence_id</th>\n",
       "      <th>person_id</th>\n",
       "      <th>condition_concept_id</th>\n",
       "      <th>condition_start_date</th>\n",
       "      <th>condition_start_datetime</th>\n",
       "      <th>condition_end_date</th>\n",
       "      <th>condition_end_datetime</th>\n",
       "      <th>visit_occurrence_id</th>\n",
       "      <th>...</th>\n",
       "      <th>t_uti_bin</th>\n",
       "      <th>t_neph_bin</th>\n",
       "      <th>AE_any</th>\n",
       "      <th>cbc_present</th>\n",
       "      <th>urine_test_present</th>\n",
       "      <th>years_since_diagnosis</th>\n",
       "      <th>followup_time</th>\n",
       "      <th>less_15</th>\n",
       "      <th>less_30</th>\n",
       "      <th>less_90</th>\n",
       "    </tr>\n",
       "  </thead>\n",
       "  <tbody>\n",
       "    <tr>\n",
       "      <th>0</th>\n",
       "      <td>0</td>\n",
       "      <td>3828990</td>\n",
       "      <td>465004090</td>\n",
       "      <td>101</td>\n",
       "      <td>81902</td>\n",
       "      <td>2019-04-28</td>\n",
       "      <td>2019-04-28</td>\n",
       "      <td>0</td>\n",
       "      <td>0</td>\n",
       "      <td>914389</td>\n",
       "      <td>...</td>\n",
       "      <td>0</td>\n",
       "      <td>0</td>\n",
       "      <td>0</td>\n",
       "      <td>0</td>\n",
       "      <td>0</td>\n",
       "      <td>2</td>\n",
       "      <td>53913600000000000</td>\n",
       "      <td>0</td>\n",
       "      <td>0</td>\n",
       "      <td>0</td>\n",
       "    </tr>\n",
       "    <tr>\n",
       "      <th>1</th>\n",
       "      <td>1</td>\n",
       "      <td>3828990</td>\n",
       "      <td>148574471</td>\n",
       "      <td>481</td>\n",
       "      <td>81902</td>\n",
       "      <td>2015-06-09</td>\n",
       "      <td>2015-06-09</td>\n",
       "      <td>0</td>\n",
       "      <td>0</td>\n",
       "      <td>925277</td>\n",
       "      <td>...</td>\n",
       "      <td>0</td>\n",
       "      <td>0</td>\n",
       "      <td>0</td>\n",
       "      <td>0</td>\n",
       "      <td>0</td>\n",
       "      <td>6</td>\n",
       "      <td>113702400000000000</td>\n",
       "      <td>0</td>\n",
       "      <td>0</td>\n",
       "      <td>0</td>\n",
       "    </tr>\n",
       "    <tr>\n",
       "      <th>2</th>\n",
       "      <td>2</td>\n",
       "      <td>3828990</td>\n",
       "      <td>247942248</td>\n",
       "      <td>481</td>\n",
       "      <td>37018854</td>\n",
       "      <td>2016-09-13</td>\n",
       "      <td>2016-09-13</td>\n",
       "      <td>0</td>\n",
       "      <td>0</td>\n",
       "      <td>925268</td>\n",
       "      <td>...</td>\n",
       "      <td>0</td>\n",
       "      <td>0</td>\n",
       "      <td>0</td>\n",
       "      <td>0</td>\n",
       "      <td>0</td>\n",
       "      <td>5</td>\n",
       "      <td>113702400000000000</td>\n",
       "      <td>0</td>\n",
       "      <td>0</td>\n",
       "      <td>0</td>\n",
       "    </tr>\n",
       "    <tr>\n",
       "      <th>3</th>\n",
       "      <td>3</td>\n",
       "      <td>3828990</td>\n",
       "      <td>455153289</td>\n",
       "      <td>658</td>\n",
       "      <td>81902</td>\n",
       "      <td>2019-06-01</td>\n",
       "      <td>2019-06-01</td>\n",
       "      <td>0</td>\n",
       "      <td>0</td>\n",
       "      <td>929640</td>\n",
       "      <td>...</td>\n",
       "      <td>0</td>\n",
       "      <td>0</td>\n",
       "      <td>0</td>\n",
       "      <td>0</td>\n",
       "      <td>1</td>\n",
       "      <td>2</td>\n",
       "      <td>57715200000000000</td>\n",
       "      <td>0</td>\n",
       "      <td>0</td>\n",
       "      <td>0</td>\n",
       "    </tr>\n",
       "    <tr>\n",
       "      <th>4</th>\n",
       "      <td>4</td>\n",
       "      <td>115391</td>\n",
       "      <td>565954572</td>\n",
       "      <td>658</td>\n",
       "      <td>37018854</td>\n",
       "      <td>2021-01-14</td>\n",
       "      <td>2021-01-14</td>\n",
       "      <td>0</td>\n",
       "      <td>0</td>\n",
       "      <td>929764</td>\n",
       "      <td>...</td>\n",
       "      <td>0</td>\n",
       "      <td>0</td>\n",
       "      <td>0</td>\n",
       "      <td>0</td>\n",
       "      <td>1</td>\n",
       "      <td>0</td>\n",
       "      <td>57715200000000000</td>\n",
       "      <td>0</td>\n",
       "      <td>0</td>\n",
       "      <td>0</td>\n",
       "    </tr>\n",
       "  </tbody>\n",
       "</table>\n",
       "<p>5 rows × 396 columns</p>\n",
       "</div>"
      ],
      "text/plain": [
       "   level_0    index  condition_occurrence_id  person_id  condition_concept_id  \\\n",
       "0        0  3828990                465004090        101                 81902   \n",
       "1        1  3828990                148574471        481                 81902   \n",
       "2        2  3828990                247942248        481              37018854   \n",
       "3        3  3828990                455153289        658                 81902   \n",
       "4        4   115391                565954572        658              37018854   \n",
       "\n",
       "  condition_start_date condition_start_datetime  condition_end_date  \\\n",
       "0           2019-04-28               2019-04-28                   0   \n",
       "1           2015-06-09               2015-06-09                   0   \n",
       "2           2016-09-13               2016-09-13                   0   \n",
       "3           2019-06-01               2019-06-01                   0   \n",
       "4           2021-01-14               2021-01-14                   0   \n",
       "\n",
       "   condition_end_datetime  visit_occurrence_id  ...  t_uti_bin  t_neph_bin  \\\n",
       "0                       0               914389  ...          0           0   \n",
       "1                       0               925277  ...          0           0   \n",
       "2                       0               925268  ...          0           0   \n",
       "3                       0               929640  ...          0           0   \n",
       "4                       0               929764  ...          0           0   \n",
       "\n",
       "  AE_any cbc_present urine_test_present  years_since_diagnosis  \\\n",
       "0      0           0                  0                      2   \n",
       "1      0           0                  0                      6   \n",
       "2      0           0                  0                      5   \n",
       "3      0           0                  1                      2   \n",
       "4      0           0                  1                      0   \n",
       "\n",
       "        followup_time less_15 less_30  less_90  \n",
       "0   53913600000000000       0       0        0  \n",
       "1  113702400000000000       0       0        0  \n",
       "2  113702400000000000       0       0        0  \n",
       "3   57715200000000000       0       0        0  \n",
       "4   57715200000000000       0       0        0  \n",
       "\n",
       "[5 rows x 396 columns]"
      ]
     },
     "execution_count": 9,
     "metadata": {},
     "output_type": "execute_result"
    }
   ],
   "source": [
    "\n",
    "\n",
    "sql_cmd = 'select * from cdm_6871_21.' + in_name\n",
    "cohort_raw = pd.read_sql(sql_cmd, conn)\n",
    "cohort_raw.head()"
   ]
  },
  {
   "cell_type": "code",
   "execution_count": 10,
   "metadata": {},
   "outputs": [],
   "source": [
    "current_person_ids =cohort_raw.person_id.unique()"
   ]
  },
  {
   "cell_type": "code",
   "execution_count": 11,
   "metadata": {},
   "outputs": [
    {
     "name": "stdout",
     "output_type": "stream",
     "text": [
      "CPU times: user 8.23 s, sys: 665 ms, total: 8.89 s\n",
      "Wall time: 8.89 s\n"
     ]
    }
   ],
   "source": [
    "%%time\n",
    "# Fibro\n",
    "condition_ids = fibro_concepts.concept_id.unique()\n",
    "fibro_conditions = condition_df[condition_df.concept_id.isin(condition_ids) & condition_df.person_id.isin(current_person_ids)]\n",
    "fibro_conditions = fibro_conditions[[\"concept_id\", \"condition_start_date\", \"person_id\"]]\n",
    "#excluded_conditions = excluded_conditions.rename(columns={\"condition_start_date\":\"date\"})\n",
    "\n",
    "# hernia\n",
    "condition_ids =hernia_concepts.concept_id.unique()\n",
    "hernia_conditions = condition_df[condition_df.concept_id.isin(condition_ids) & condition_df.person_id.isin(current_person_ids)]\n",
    "hernia_conditions = hernia_conditions[[\"concept_id\", \"condition_start_date\", \"person_id\"]]\n",
    "#excluded_conditions = excluded_conditions.rename(columns={\"condition_start_date\":\"date\"})\n",
    "\n",
    "# Fracture\n",
    "condition_ids = fracture_concepts.concept_id.unique()\n",
    "fracture_conditions = condition_df[condition_df.concept_id.isin(condition_ids) & condition_df.person_id.isin(current_person_ids)]\n",
    "fracture_conditions = fracture_conditions[[\"concept_id\", \"condition_start_date\", \"person_id\"]]\n",
    "#excluded_conditions = excluded_conditions.rename(columns={\"condition_start_date\":\"date\"})\n"
   ]
  },
  {
   "cell_type": "code",
   "execution_count": 12,
   "metadata": {},
   "outputs": [],
   "source": [
    "outcomes = cohort_raw.copy()\n",
    "\n",
    "outcomes = outcomes.sort_values(by=[\"person_id\", \"condition_start_date\"], ascending=True)\n",
    "\n",
    "outcomes['fibro_1_mon_outcome'] = False\n",
    "outcomes['fibro_3_mon_outcome'] = False\n",
    "outcomes['fibro_6_mon_outcome'] = False\n",
    "\n",
    "outcomes['hernia_1_mon_outcome'] = False\n",
    "outcomes['hernia_3_mon_outcome'] = False\n",
    "outcomes['hernia_6_mon_outcome'] = False\n",
    "\n",
    "outcomes['fracture_1_mon_outcome'] = False\n",
    "outcomes['fracture_3_mon_outcome'] = False\n",
    "outcomes['fracture_6_mon_outcome'] = False\n"
   ]
  },
  {
   "cell_type": "code",
   "execution_count": 13,
   "metadata": {},
   "outputs": [
    {
     "name": "stdout",
     "output_type": "stream",
     "text": [
      "Iter: 0.08316976612661765\n",
      "Iter: 0.1663395322532353\n",
      "Iter: 0.24950929837985295\n",
      "Iter: 0.3326790645064706\n",
      "Iter: 0.41584883063308825\n",
      "Iter: 0.4990185967597059\n",
      "Iter: 0.5821883628863236\n",
      "Iter: 0.6653581290129412\n",
      "Iter: 0.7485278951395589\n",
      "Iter: 0.8316976612661765\n",
      "Iter: 0.9148674273927941\n",
      "Iter: 0.9980371935194118\n",
      "CPU times: user 46.8 s, sys: 464 ms, total: 47.2 s\n",
      "Wall time: 47.1 s\n"
     ]
    }
   ],
   "source": [
    "%%time\n",
    "# Hernias\n",
    "# \n",
    "hernia_codes_30 = []\n",
    "hernia_codes_90 = []\n",
    "hernia_codes_180 = []\n",
    "\n",
    "c= 0.\n",
    "for index, row in outcomes.iterrows():\n",
    "    flag30 = False\n",
    "    flag90 = False\n",
    "    flag180 = False\n",
    "    \n",
    "    \n",
    "    p = row.person_id\n",
    "    d = row.condition_start_date.date()\n",
    "    hernia_df = hernia_conditions[hernia_conditions.person_id == p]\n",
    "    dates = hernia_df.condition_start_date.unique()\n",
    "    c += 1\n",
    "    l = len(outcomes)\n",
    "    if c % 5000 == 0:\n",
    "        print(\"Iter: \"+ str(c / l))\n",
    "    for event_date in dates:\n",
    "        if (event_date-d).days < 30 and (event_date-d).days > 0:\n",
    "            outcomes.loc[index, 'hernia_1_mon_outcome'] = True\n",
    "            if flag30 ==False:\n",
    "                hernia_codes_30.append(list(set(list(hernia_df[hernia_df.condition_start_date == event_date].concept_id))))\n",
    "                flag30=True\n",
    "        if (event_date-d).days < 90 and (event_date-d).days > 0:\n",
    "            outcomes.loc[index, 'hernia_3_mon_outcome'] = True\n",
    "            if flag90 ==False:\n",
    "                hernia_codes_90.append(list(set(list(hernia_df[hernia_df.condition_start_date == event_date].concept_id))))\n",
    "                flag90=True\n",
    "        if (event_date-d).days < 180 and (event_date-d).days > 0:\n",
    "            outcomes.loc[index, 'hernia_6_mon_outcome'] = True\n",
    "            if flag180 ==False:\n",
    "                hernia_codes_180.append(list(set(list(hernia_df[hernia_df.condition_start_date == event_date].concept_id))))\n",
    "                flag180 = True\n",
    "            "
   ]
  },
  {
   "cell_type": "code",
   "execution_count": 14,
   "metadata": {},
   "outputs": [
    {
     "name": "stdout",
     "output_type": "stream",
     "text": [
      "CPU times: user 2.28 s, sys: 14.8 ms, total: 2.29 s\n",
      "Wall time: 2.28 s\n"
     ]
    }
   ],
   "source": [
    "%%time\n",
    "hernia_codes_30_all =  [item for sublist in hernia_codes_30 for item in sublist]\n",
    "hernia_codes_90_all =  [item for sublist in hernia_codes_90 for item in sublist]\n",
    "hernia_codes_180_all =  [item for sublist in hernia_codes_180 for item in sublist]\n",
    "\n",
    "hernia_30 = pd.DataFrame(columns = ['concept_id','name'])\n",
    "for ci in hernia_codes_30_all:\n",
    "    hernia_30=hernia_30.append({'concept_id':ci,'name':hernia_concepts[hernia_concepts.concept_id==ci].concept_name.values[0].replace(',', '')}, ignore_index = True)\n",
    "hernia_90 = pd.DataFrame(columns = ['concept_id','name'])\n",
    "for ci in hernia_codes_90_all:\n",
    "    hernia_90=hernia_90.append({'concept_id':ci,'name':hernia_concepts[hernia_concepts.concept_id==ci].concept_name.values[0].replace(',', '')}, ignore_index = True)\n",
    "hernia_180 = pd.DataFrame(columns = ['concept_id','name'])\n",
    "for ci in hernia_codes_180_all:\n",
    "    hernia_180=hernia_180.append({'concept_id':ci,'name':hernia_concepts[hernia_concepts.concept_id==ci].concept_name.values[0].replace(',', '')}, ignore_index = True)\n",
    "              \n",
    "    \n",
    "    "
   ]
  },
  {
   "cell_type": "code",
   "execution_count": 15,
   "metadata": {},
   "outputs": [
    {
     "name": "stdout",
     "output_type": "stream",
     "text": [
      "Iter: 0.1663395322532353\n",
      "Iter: 0.3326790645064706\n",
      "Iter: 0.4990185967597059\n",
      "Iter: 0.6653581290129412\n",
      "Iter: 0.8316976612661765\n",
      "Iter: 0.9980371935194118\n",
      "CPU times: user 43.5 s, sys: 295 ms, total: 43.8 s\n",
      "Wall time: 43.7 s\n"
     ]
    }
   ],
   "source": [
    "%%time\n",
    "# NEW *************************\n",
    "# Fibro\n",
    "# \n",
    "fibro_codes_30 = []\n",
    "fibro_codes_90 = []\n",
    "fibro_codes_180 = []\n",
    "\n",
    "c= 0.\n",
    "for index, row in outcomes.iterrows():\n",
    "    flag30 = False\n",
    "    flag90 = False\n",
    "    flag180 = False\n",
    "    \n",
    "    p = row.person_id\n",
    "    d = row.condition_start_date.date()\n",
    "    fibro_df = fibro_conditions[fibro_conditions.person_id == p]\n",
    "    dates = fibro_df.condition_start_date\n",
    "    c += 1\n",
    "    l = len(outcomes)\n",
    "    if c % 10000 == 0:\n",
    "        print(\"Iter: \"+ str(c / l))\n",
    "    for event_date in dates:\n",
    "        if (event_date-d).days < 30 and (event_date-d).days > 0:\n",
    "            outcomes.loc[index, 'fibro_1_mon_outcome'] = True\n",
    "            if flag30 ==False:\n",
    "                fibro_codes_30.append(list(set(list(fibro_df[fibro_df.condition_start_date == event_date].concept_id))))\n",
    "                flag30=True\n",
    "        if (event_date-d).days < 90 and (event_date-d).days > 0:\n",
    "            outcomes.loc[index, 'fibro_3_mon_outcome'] = True\n",
    "            if flag90 ==False:\n",
    "                fibro_codes_90.append(list(set(list(fibro_df[fibro_df.condition_start_date == event_date].concept_id))))\n",
    "                flag90=True\n",
    "        if (event_date-d).days < 180 and (event_date-d).days > 0:\n",
    "            outcomes.loc[index, 'fibro_6_mon_outcome'] = True\n",
    "            if flag180 ==False:\n",
    "                fibro_codes_180.append(list(set(list(fibro_df[fibro_df.condition_start_date == event_date].concept_id))))\n",
    "                flag180=True\n",
    "      \n",
    "            "
   ]
  },
  {
   "cell_type": "code",
   "execution_count": 16,
   "metadata": {},
   "outputs": [],
   "source": [
    "fibro_codes_30_all =  [item for sublist in fibro_codes_30 for item in sublist]\n",
    "fibro_codes_90_all =  [item for sublist in fibro_codes_90 for item in sublist]\n",
    "fibro_codes_180_all =  [item for sublist in fibro_codes_180 for item in sublist]\n",
    "\n",
    "fibro_30 = pd.DataFrame(columns = ['concept_id','name'])\n",
    "for ci in fibro_codes_30_all:\n",
    "    fibro_30=fibro_30.append({'concept_id':ci,'name':fibro_concepts[fibro_concepts.concept_id==ci].concept_name.values[0].replace(',', '')}, ignore_index = True)\n",
    "fibro_90 = pd.DataFrame(columns = ['concept_id','name'])\n",
    "for ci in fibro_codes_90_all:\n",
    "    fibro_90=fibro_90.append({'concept_id':ci,'name':fibro_concepts[fibro_concepts.concept_id==ci].concept_name.values[0].replace(',', '')}, ignore_index = True)\n",
    "fibro_180 = pd.DataFrame(columns = ['concept_id','name'])\n",
    "for ci in fibro_codes_180_all:\n",
    "    fibro_180=fibro_180.append({'concept_id':ci,'name':fibro_concepts[fibro_concepts.concept_id==ci].concept_name.values[0].replace(',', '')}, ignore_index = True)\n",
    "              "
   ]
  },
  {
   "cell_type": "code",
   "execution_count": 17,
   "metadata": {},
   "outputs": [
    {
     "name": "stdout",
     "output_type": "stream",
     "text": [
      "Iter: 0.1663395322532353\n",
      "Iter: 0.3326790645064706\n",
      "Iter: 0.4990185967597059\n",
      "Iter: 0.6653581290129412\n",
      "Iter: 0.8316976612661765\n",
      "Iter: 0.9980371935194118\n",
      "CPU times: user 57.7 s, sys: 330 ms, total: 58.1 s\n",
      "Wall time: 58.1 s\n"
     ]
    }
   ],
   "source": [
    "%%time\n",
    "# NEW *************************\n",
    "fracture_codes_30 = []\n",
    "fracture_codes_90 = []\n",
    "fracture_codes_180 = []\n",
    "\n",
    "c= 0.\n",
    "for index, row in outcomes.iterrows():\n",
    "    flag30 = False\n",
    "    flag90 = False\n",
    "    flag180 = False\n",
    "    p = row.person_id\n",
    "    d = row.condition_start_date.date()\n",
    "    fracture_df = fracture_conditions[fracture_conditions.person_id == p]\n",
    "    dates = fracture_df.condition_start_date\n",
    "    c += 1\n",
    "    l = len(outcomes)\n",
    "    if c % 10000 == 0:\n",
    "        print(\"Iter: \"+ str(c / l))\n",
    "    for event_date in dates:\n",
    "        if (event_date-d).days < 30 and (event_date-d).days > 0:\n",
    "            outcomes.loc[index, 'fracture_1_mon_outcome'] = True\n",
    "            if flag30 ==False:\n",
    "                fracture_codes_30.append(list(set(list(fracture_df[fracture_df.condition_start_date == event_date].concept_id))))\n",
    "                flag30=True\n",
    "        if (event_date-d).days < 90 and (event_date-d).days > 0:\n",
    "            outcomes.loc[index, 'fracture_3_mon_outcome'] = True\n",
    "            if flag90 ==False:\n",
    "                fracture_codes_90.append(list(set(list(fracture_df[fracture_df.condition_start_date == event_date].concept_id))))\n",
    "                flag90=True\n",
    "        if (event_date-d).days < 180 and (event_date-d).days > 0:\n",
    "            outcomes.loc[index, 'fracture_6_mon_outcome'] = True\n",
    "            if flag180 ==False:\n",
    "                fracture_codes_180.append(list(set(list(fracture_df[fracture_df.condition_start_date == event_date].concept_id))))\n",
    "                flag180=True\n",
    "      \n",
    "            \n",
    "            "
   ]
  },
  {
   "cell_type": "code",
   "execution_count": 18,
   "metadata": {},
   "outputs": [],
   "source": [
    "fracture_codes_30_all =  [item for sublist in fracture_codes_30 for item in sublist]\n",
    "fracture_codes_90_all =  [item for sublist in fracture_codes_90 for item in sublist]\n",
    "fracture_codes_180_all =  [item for sublist in fracture_codes_180 for item in sublist]\n",
    "\n",
    "fracture_30 = pd.DataFrame(columns = ['concept_id','name'])\n",
    "for ci in fracture_codes_30_all:\n",
    "    fracture_30=fracture_30.append({'concept_id':ci,'name':fracture_concepts[fracture_concepts.concept_id==ci].concept_name.values[0].replace(',', '')}, ignore_index = True)\n",
    "fracture_90 = pd.DataFrame(columns = ['concept_id','name'])\n",
    "for ci in fracture_codes_90_all:\n",
    "    fracture_90=fracture_90.append({'concept_id':ci,'name':fracture_concepts[fracture_concepts.concept_id==ci].concept_name.values[0].replace(',', '')}, ignore_index = True)\n",
    "fracture_180 = pd.DataFrame(columns = ['concept_id','name'])\n",
    "for ci in fracture_codes_180_all:\n",
    "    fracture_180=fracture_180.append({'concept_id':ci,'name':fracture_concepts[fracture_concepts.concept_id==ci].concept_name.values[0].replace(',', '')}, ignore_index = True)\n",
    "              \n",
    "    "
   ]
  },
  {
   "cell_type": "code",
   "execution_count": 20,
   "metadata": {},
   "outputs": [],
   "source": [
    "### Show counts"
   ]
  },
  {
   "cell_type": "code",
   "execution_count": 21,
   "metadata": {},
   "outputs": [],
   "source": [
    "# pd.DataFrame(hernia_30['name'].value_counts()).to_csv('Negative_Control_files/hernia_30.csv')\n",
    "\n",
    "# pd.DataFrame(hernia_90['name'].value_counts()).to_csv('Negative_Control_files/hernia_90.csv')\n",
    "\n",
    "# pd.DataFrame(hernia_180['name'].value_counts()).to_csv('Negative_Control_files/hernia_180.csv')"
   ]
  },
  {
   "cell_type": "code",
   "execution_count": 22,
   "metadata": {},
   "outputs": [],
   "source": [
    "# pd.DataFrame(fibro_30['name'].value_counts()).to_csv('Negative_Control_files/fibro_30.csv')\n",
    "\n",
    "# pd.DataFrame(fibro_90['name'].value_counts()).to_csv('Negative_Control_files/fibro_90.csv')\n",
    "\n",
    "# pd.DataFrame(fibro_180['name'].value_counts()).to_csv('Negative_Control_files/fibro_180.csv')"
   ]
  },
  {
   "cell_type": "code",
   "execution_count": 23,
   "metadata": {},
   "outputs": [],
   "source": [
    "# pd.DataFrame(fracture_30['name'].value_counts()).to_csv('Negative_Control_files/fracture_30.csv')\n",
    "\n",
    "# pd.DataFrame(fracture_90['name'].value_counts()).to_csv('Negative_Control_files/fracture_90.csv')\n",
    "\n",
    "# pd.DataFrame(fracture_180['name'].value_counts()).to_csv('Negative_Control_files/fracture_180.csv')"
   ]
  },
  {
   "cell_type": "code",
   "execution_count": 19,
   "metadata": {},
   "outputs": [
    {
     "data": {
      "text/plain": [
       "False    59739\n",
       "True       379\n",
       "Name: hernia_6_mon_outcome, dtype: int64"
      ]
     },
     "execution_count": 19,
     "metadata": {},
     "output_type": "execute_result"
    }
   ],
   "source": [
    "outcomes['hernia_6_mon_outcome'].value_counts()"
   ]
  },
  {
   "cell_type": "code",
   "execution_count": 20,
   "metadata": {},
   "outputs": [
    {
     "data": {
      "text/plain": [
       "False    58335\n",
       "True      1783\n",
       "Name: fracture_6_mon_outcome, dtype: int64"
      ]
     },
     "execution_count": 20,
     "metadata": {},
     "output_type": "execute_result"
    }
   ],
   "source": [
    "outcomes['fracture_6_mon_outcome'].value_counts()"
   ]
  },
  {
   "cell_type": "code",
   "execution_count": 21,
   "metadata": {},
   "outputs": [
    {
     "data": {
      "text/plain": [
       "False    59801\n",
       "True       317\n",
       "Name: fibro_6_mon_outcome, dtype: int64"
      ]
     },
     "execution_count": 21,
     "metadata": {},
     "output_type": "execute_result"
    }
   ],
   "source": [
    "outcomes['fibro_6_mon_outcome'].value_counts()"
   ]
  },
  {
   "cell_type": "code",
   "execution_count": 22,
   "metadata": {},
   "outputs": [
    {
     "data": {
      "text/plain": [
       "False    59801\n",
       "True       317\n",
       "Name: fibro_6_mon_outcome, dtype: int64"
      ]
     },
     "execution_count": 22,
     "metadata": {},
     "output_type": "execute_result"
    }
   ],
   "source": [
    "outcomes['fibro_6_mon_outcome'].value_counts()"
   ]
  },
  {
   "cell_type": "code",
   "execution_count": 23,
   "metadata": {},
   "outputs": [
    {
     "data": {
      "text/plain": [
       "False    58335\n",
       "True      1783\n",
       "Name: fracture_6_mon_outcome, dtype: int64"
      ]
     },
     "execution_count": 23,
     "metadata": {},
     "output_type": "execute_result"
    }
   ],
   "source": [
    "outcomes['fracture_6_mon_outcome'].value_counts()"
   ]
  },
  {
   "cell_type": "code",
   "execution_count": 24,
   "metadata": {},
   "outputs": [
    {
     "data": {
      "text/plain": [
       "False    59739\n",
       "True       379\n",
       "Name: hernia_6_mon_outcome, dtype: int64"
      ]
     },
     "execution_count": 24,
     "metadata": {},
     "output_type": "execute_result"
    }
   ],
   "source": [
    "outcomes['hernia_6_mon_outcome'].value_counts()"
   ]
  },
  {
   "cell_type": "code",
   "execution_count": 25,
   "metadata": {},
   "outputs": [
    {
     "data": {
      "text/plain": [
       "['fibro_1_mon_outcome',\n",
       " 'fibro_3_mon_outcome',\n",
       " 'fibro_6_mon_outcome',\n",
       " 'hernia_1_mon_outcome',\n",
       " 'hernia_3_mon_outcome',\n",
       " 'hernia_6_mon_outcome',\n",
       " 'fracture_1_mon_outcome',\n",
       " 'fracture_3_mon_outcome',\n",
       " 'fracture_6_mon_outcome']"
      ]
     },
     "execution_count": 25,
     "metadata": {},
     "output_type": "execute_result"
    }
   ],
   "source": [
    "list(outcomes.keys())[-9:]"
   ]
  },
  {
   "cell_type": "code",
   "execution_count": 26,
   "metadata": {},
   "outputs": [],
   "source": [
    "negative_controls = list(outcomes.keys())[-9:]"
   ]
  },
  {
   "cell_type": "code",
   "execution_count": 27,
   "metadata": {},
   "outputs": [],
   "source": [
    "## Merge back\n",
    "\n",
    "import pickle\n",
    "outcomes_temp = outcomes[['condition_occurrence_id','person_id']+list(outcomes.keys())[-9:]]\n",
    "\n",
    "cohort_new = cohort_raw.merge(outcomes_temp,how = 'outer',on = ['condition_occurrence_id','person_id'])\n",
    "pickle.dump(cohort_new,open(f'{out_name}.pkl','wb'))"
   ]
  },
  {
   "cell_type": "code",
   "execution_count": 28,
   "metadata": {},
   "outputs": [
    {
     "data": {
      "text/plain": [
       "(60118, 405)"
      ]
     },
     "execution_count": 28,
     "metadata": {},
     "output_type": "execute_result"
    }
   ],
   "source": [
    "cohort_new.shape"
   ]
  },
  {
   "cell_type": "code",
   "execution_count": 29,
   "metadata": {},
   "outputs": [],
   "source": [
    "final_cohort = cohort_new.drop(columns=['level_0'])"
   ]
  },
  {
   "cell_type": "code",
   "execution_count": 32,
   "metadata": {},
   "outputs": [
    {
     "name": "stdout",
     "output_type": "stream",
     "text": [
      "Executed 1 SQLs\n"
     ]
    }
   ],
   "source": [
    "\n",
    "final_cohort.to_sql(out_name,con=db.engine, if_exists=\"replace\", schema=\"cdm_6871_21\")\n",
    "cmd = 'grant select on table cdm_6871_21.{out_name} to cdm_6871_21'.format(out_name=out_name)\n",
    "db.execute(cmd)"
   ]
  }
 ],
 "metadata": {
  "kernelspec": {
   "display_name": "omop_v2",
   "language": "python",
   "name": "myenv"
  },
  "language_info": {
   "codemirror_mode": {
    "name": "ipython",
    "version": 3
   },
   "file_extension": ".py",
   "mimetype": "text/x-python",
   "name": "python",
   "nbconvert_exporter": "python",
   "pygments_lexer": "ipython3",
   "version": "3.8.5"
  }
 },
 "nbformat": 4,
 "nbformat_minor": 2
}
