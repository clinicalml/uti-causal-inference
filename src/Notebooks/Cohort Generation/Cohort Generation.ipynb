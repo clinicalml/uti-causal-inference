{
 "cells": [
  {
   "cell_type": "markdown",
   "metadata": {},
   "source": [
    "### Generates the Cohort using the criteria and defines the treatment groups"
   ]
  },
  {
   "cell_type": "code",
   "execution_count": null,
   "metadata": {},
   "outputs": [],
   "source": [
    "import sys\n",
    "\n",
    "sys.path.append( '..' )"
   ]
  },
  {
   "cell_type": "code",
   "execution_count": null,
   "metadata": {},
   "outputs": [],
   "source": [
    "import psycopg2\n",
    "import pandas as pd\n",
    "import numpy\n",
    "import sparse\n",
    "import config\n",
    "import sys\n",
    "import time\n",
    "import importlib\n",
    "#import sparse\n",
    "import datetime\n",
    "import pandas as pd\n",
    "import numpy as np\n",
    "import scipy.sparse\n",
    "import matplotlib.pyplot as plt\n",
    "\n",
    "import Utils.dbutils as dbutils\n",
    "import Utils.data_utils as data_utils\n",
    "import Generators.CohortGenerator as CohortGenerator\n",
    "import Generators.FeatureGenerator as FeatureGenerator\n",
    "import config\n",
    "local_imports = (\n",
    "    dbutils,\n",
    "    data_utils,\n",
    "    CohortGenerator,\n",
    "    FeatureGenerator,\n",
    "    config\n",
    ")\n",
    "for i in local_imports:\n",
    "    i = importlib.reload(i)"
   ]
  },
  {
   "cell_type": "code",
   "execution_count": null,
   "metadata": {},
   "outputs": [],
   "source": [
    "# database connection\n",
    "username = config.PG_USERNAME\n",
    "password = config.PG_PASSWORD\n",
    "database_name = config.DB_NAME\n",
    "\n",
    "#config_path = 'postgresql://{username}:{password}@{database_name}'.format(\n",
    "config_path = 'postgresql://{database_name}'.format(database_name = database_name)\n",
    "\n",
    "connect_args = {\"host\": '/var/run/postgresql/'} # connect_args to pass to sqlalchemy create_engine function\n",
    "\n",
    "# schemas \n",
    "# schema_name = 'eol_test_ncjones' # all created tables will be created using this schema\n",
    "cdm_schema_name = config.OMOP_CDM_SCHEMA # the name of the schema housing your OMOP CDM tables\n",
    "print(f\"cdm schema: {cdm_schema_name}\")\n",
    "\n",
    "    #username = username,\n",
    "    #password = password,\n",
    "   # database_name = database_name\n",
    "#)\n",
    "\n",
    "# schemas \n",
    "schema_name = 'eol_test_eheal' # all created tables will be created using this schema\n",
    "\n",
    "# caching\n",
    "reset_schema = False # if true, rebuild all data from scratch\n",
    "\n",
    "# set up database, reset schemas as needed\n",
    "db = dbutils.Database(config_path, schema_name, connect_args, cdm_schema_name)\n",
    "# if reset_schema:\n",
    "#     db.execute(\n",
    "#         'drop schema if exists {} cascade'.format(schema_name)\n",
    "#     )\n",
    "# db.execute(\n",
    "#     'create schema if not exists {}'.format(schema_name)\n",
    "# )\n",
    "\n",
    "username='cdm_6871_21'\n",
    "password='MLHC2021'\n",
    "database_name = 'omop_v6'\n",
    "conn_string = \"dbname=\"+database_name + \" host=/var/run/postgresql\"\n",
    "conn=psycopg2.connect(conn_string)"
   ]
  },
  {
   "cell_type": "markdown",
   "metadata": {},
   "source": [
    "## UTI"
   ]
  },
  {
   "cell_type": "code",
   "execution_count": null,
   "metadata": {},
   "outputs": [],
   "source": [
    "# Get all female condition events"
   ]
  },
  {
   "cell_type": "code",
   "execution_count": null,
   "metadata": {},
   "outputs": [],
   "source": [
    "%%time\n",
    "sql = \"\"\"\n",
    "    select \n",
    "        a.condition_concept_id as concept_id,\n",
    "        a.condition_start_date as condition_start_date,\n",
    "        a.condition_occurrence_id as condition_occurrence_id,\n",
    "        p.person_id as person_id\n",
    "    from\n",
    "        {omop_schema}.condition_occurrence a\n",
    "    inner join\n",
    "        {omop_schema}.person p\n",
    "    on \n",
    "        a.person_id = p.person_id\n",
    "    where \n",
    "        p.gender_source_value = 'F'\n",
    "\n",
    "\"\"\".format(\n",
    "    omop_schema=config.OMOP_CDM_SCHEMA,\n",
    "    training_end_date='2020-01-01',\n",
    ")\n",
    "condition_df = db.query(sql)\n",
    "condition_df.set_index([\"condition_occurrence_id\"])\n",
    "display(condition_df.head())"
   ]
  },
  {
   "cell_type": "code",
   "execution_count": null,
   "metadata": {},
   "outputs": [],
   "source": [
    "'''%%time\n",
    "sql = \"\"\"\n",
    "    select \n",
    "        a.condition_source_value as concept_code,\n",
    "        a.condition_concept_id as concept_id,\n",
    "        a.condition_start_date as condition_start_date,\n",
    "        a.condition_occurrence_id as condition_occurrence_id,\n",
    "        p.person_id as person_id\n",
    "    from\n",
    "        {omop_schema}.condition_occurrence a\n",
    "    inner join\n",
    "        {omop_schema}.person p\n",
    "    on \n",
    "        a.person_id = p.person_id\n",
    "    where \n",
    "        p.gender_source_value = 'F'\n",
    "\n",
    "\"\"\".format(\n",
    "    omop_schema=config.OMOP_CDM_SCHEMA,\n",
    "    training_end_date='2020-01-01',\n",
    ")\n",
    "condition_df = db.query(sql)\n",
    "condition_df.set_index([\"condition_occurrence_id\"])\n",
    "display(condition_df.head())'''"
   ]
  },
  {
   "cell_type": "code",
   "execution_count": null,
   "metadata": {},
   "outputs": [],
   "source": [
    "len(condition_df)"
   ]
  },
  {
   "cell_type": "code",
   "execution_count": null,
   "metadata": {},
   "outputs": [],
   "source": [
    "## Get UTI Codes"
   ]
  },
  {
   "cell_type": "code",
   "execution_count": null,
   "metadata": {},
   "outputs": [],
   "source": [
    "%%time\n",
    "uti_concept_ids = [194081, \n",
    "                   195588,\n",
    "                   37018854,\n",
    "                   37016338,\n",
    "                   81902]\n",
    "\n",
    "uti_string = \", \".join([f\"'{x}'\" for x in uti_concept_ids])\n",
    "print(uti_string)"
   ]
  },
  {
   "cell_type": "code",
   "execution_count": null,
   "metadata": {},
   "outputs": [],
   "source": [
    "#       81902 | Urinary tract infectious disease             | Condition | SNOMED        | Clinical Finding | S                | 68566005        | 1970-01-01       | 2099-12-31     | n\n",
    "#      194081 | Acute cystitis                                | Condition | SNOMED        | Clinical Finding | S                | 68226007        | 1970-01-01       | 2099-12-31     | n\n",
    "#      195588 | Cystitis                                      | Condition | SNOMED        | Clinical Finding | S                | 38822007        | 1970-01-01       | 2099-12-31     | n\n",
    "#      195862 | Urethritis (REMOVED)                          | Condition | SNOMED        | Clinical Finding | S                | 31822004        | 1970-01-01       | 2099-12-31     | n\n",
    "#      201353 | Irradiation cystitis (REMOVED)                | Condition | SNOMED        | Clinical Finding | S                | 11251000        | 1970-01-01       | 2099-12-31     | n\n",
    "#      201792 | Nongonococcal urethritis (REMOVED)            | Condition | SNOMED        | Clinical Finding | S                | 84619001        | 1970-01-01       | 2099-12-31     | n\n",
    "#    37016338 | Hematuria co-occurrent and due to cystitis       | Condition | SNOMED        | Clinical Finding | S                | 367171000119100 | 2016-01-31       | 2099-12-31     | n\n",
    "#    37018854 | Hematuria co-occurrent and due to acute cystitis | Condition | SNOMED        | Clinical Finding | S                | 366941000119107 | 2016-01-31       | 2099-12-31     | n"
   ]
  },
  {
   "cell_type": "code",
   "execution_count": null,
   "metadata": {},
   "outputs": [],
   "source": [
    "%%time\n",
    "# Filter by UTI concept ids in python to reduce query time\n",
    "utis = condition_df[condition_df.concept_id.isin(uti_concept_ids)]\n",
    "print(len(utis))\n",
    "utis.head()"
   ]
  },
  {
   "cell_type": "markdown",
   "metadata": {},
   "source": [
    "# get treatment information for all UTIs\n"
   ]
  },
  {
   "cell_type": "code",
   "execution_count": null,
   "metadata": {},
   "outputs": [],
   "source": [
    "# remove duplicates of dates \n",
    "utis_all = utis.drop_duplicates(subset= ['concept_id','person_id','condition_start_date'],keep='first', inplace=False,)\n"
   ]
  },
  {
   "cell_type": "code",
   "execution_count": null,
   "metadata": {},
   "outputs": [],
   "source": [
    "utis_all.to_sql(\"candidate_events_all_ncj\",con=db.engine, if_exists=\"replace\", schema=\"cdm_6871_21\")\n",
    "\n"
   ]
  },
  {
   "cell_type": "code",
   "execution_count": null,
   "metadata": {},
   "outputs": [],
   "source": [
    "%%time\n",
    "reload_antibiotic=1\n",
    "username='cdm_6871_21'\n",
    "password='MLHC2021'\n",
    "database_name = 'omop_v6'\n",
    "conn_string = \"dbname=\"+database_name + \" host=/var/run/postgresql\"\n",
    "conn=psycopg2.connect(conn_string)\n",
    "\n",
    "if reload_antibiotic == 1:\n",
    "    all_drugs = pd.read_sql(\"\"\"SELECT * FROM cdm_6871_21.concept\n",
    "                                 WHERE domain_id = 'Drug'\"\"\", conn)\n",
    "\n",
    "### Identify the antibiotic in each drug name \n",
    "    # First Line\n",
    "    all_drugs.loc[all_drugs[\"concept_name\"].str.lower().str.contains(\"nitrofurantoin\"), 'antibiotic_name'] = \"nitrofurantoin\"\n",
    "    all_drugs.loc[all_drugs[\"concept_name\"].str.lower().str.contains(\"sulfamethoxazole\"), 'antibiotic_name'] = \"sulfamethoxazole\"\n",
    "#     all_drugs.loc[all_drugs[\"concept_name\"].str.lower().str.contains(\"trimethoprim\"), 'antibiotic_name'] = \"trimethoprim\"\n",
    "    all_drugs.loc[(all_drugs[\"concept_name\"].str.lower().str.contains(\"trimethoprim\")) & \\\n",
    "                                 (all_drugs[\"concept_name\"].str.lower().str.contains(\"sulfamethoxazole\")), 'antibiotic_name'] = \"trimethoprim-sulfamethoxazole\"\n",
    "    all_drugs.loc[all_drugs[\"concept_name\"].str.lower().str.contains(\"fosfomycin\"), 'antibiotic_name'] = \"fosfomycin\"\n",
    "\n",
    "    # Second Line\n",
    "#     all_drugs.loc[all_drugs[\"concept_name\"].str.lower().str.contains(\"cephalexin\"), 'antibiotic_name'] = \"cephalexin\"\n",
    "#     all_drugs.loc[all_drugs[\"concept_name\"].str.lower().str.contains(\"cephalexin\"), 'antibiotic_name'] = \"quinolone\"\n",
    "\n",
    "\n",
    "#     all_drugs.loc[all_drugs[\"concept_name\"].str.lower().str.contains(\"ceftriaxone\"), 'antibiotic_name'] = \"ceftriaxone\"\n",
    "#     all_drugs.loc[all_drugs[\"concept_name\"].str.lower().str.contains(\"cefuroxime\"), 'antibiotic_name'] = \"cefuroxime\"\n",
    "#     all_drugs.loc[all_drugs[\"concept_name\"].str.lower().str.contains(\"cefdinir\"), 'antibiotic_name'] = \"cefdinir\"\n",
    "#     all_drugs.loc[all_drugs[\"concept_name\"].str.lower().str.contains(\"cefazolin\"), 'antibiotic_name'] = \"cefazolin\"\n",
    "#     all_drugs.loc[all_drugs[\"concept_name\"].str.lower().str.contains(\"cefepime\"), 'antibiotic_name'] = \"cefepime\"\n",
    "    all_drugs.loc[all_drugs[\"concept_name\"].str.lower().str.contains(\"cefpodoxime\"), 'antibiotic_name'] = \"cefpodoxime\"\n",
    "#     all_drugs.loc[all_drugs[\"concept_name\"].str.lower().str.contains(\"cefixime\"), 'antibiotic_name'] = \"cefixime\"\n",
    "    all_drugs.loc[all_drugs[\"concept_name\"].str.lower().str.contains(\"cefadroxil\"), 'antibiotic_name'] = \"cefadroxil\"\n",
    "#     all_drugs.loc[all_drugs[\"concept_name\"].str.lower().str.contains(\"amoxicillin\"), 'antibiotic_name'] = \"amoxicillin\"\n",
    "    all_drugs.loc[(all_drugs[\"concept_name\"].str.lower().str.contains(\"amoxicillin\")) & \\\n",
    "                                 (all_drugs[\"concept_name\"].str.lower().str.contains(\"clavulan\")), 'antibiotic_name'] = \"amoxicillin-clavulanic acid\"\n",
    "\n",
    "    # Third Line\n",
    "\n",
    "    all_drugs.loc[all_drugs[\"concept_name\"].str.lower().str.contains(\"ofloxacin\"), 'antibiotic_name'] = \"ofloxacin\"\n",
    "    all_drugs.loc[all_drugs[\"concept_name\"].str.lower().str.contains(\"levofloxacin\"), 'antibiotic_name'] = \"levofloxacin\"\n",
    "    all_drugs.loc[all_drugs[\"concept_name\"].str.lower().str.contains(\"ciprofloxacin\"), 'antibiotic_name'] = \"ciprofloxacin\"\n",
    "\n",
    "    # Inappropriate\n",
    "\n",
    "    all_drugs.loc[all_drugs[\"concept_name\"].str.lower().str.contains(\"fluconazole\"), 'antibiotic_name'] = \"fluconazole\"\n",
    "    all_drugs.loc[all_drugs[\"concept_name\"].str.lower().str.contains(\"doxycycline\"), 'antibiotic_name'] = \"doxycycline\"\n",
    "    all_drugs.loc[all_drugs[\"concept_name\"].str.lower().str.contains(\"clindamycin\"), 'antibiotic_name'] = \"clindamycin\"\n",
    "    all_drugs.loc[all_drugs[\"concept_name\"].str.lower().str.contains(\"linezolid\"), 'antibiotic_name'] = \"linezolid\"\n",
    "    all_drugs.loc[all_drugs[\"concept_name\"].str.lower().str.contains(\"metronidazole\"), 'antibiotic_name'] = \"metronidazole\"\n",
    "    all_drugs.loc[all_drugs[\"concept_name\"].str.lower().str.contains(\"azithromycin\"), 'antibiotic_name'] = \"azithromycin\"\n",
    "    \n",
    "    # Alternative\n",
    "    all_drugs.loc[all_drugs[\"concept_name\"].str.lower().str.contains(\"beta-lactam\"), 'antibiotic_name'] = 'beta-lactam'\n",
    "\n",
    "\n",
    "    all_drugs = all_drugs.rename(columns={\"concept_id\": \"drug_concept_id\", \"concept_name\": \"drug_name\"})\n",
    "\n",
    "    anti_new = all_drugs[['drug_concept_id','drug_name','antibiotic_name']]\n",
    "    anti_new = anti_new[~anti_new.antibiotic_name.isna()]\n",
    "    if 'level_0' in anti_new.columns:\n",
    "        anti_new = anti_new.drop(columns=['level_0'])\n",
    "    anti_new.to_sql(\"antibiotics_p1_ncj\",con=db.engine, if_exists=\"replace\", schema=\"cdm_6871_21\")\n",
    "\n",
    "if reload_antibiotic == 0:\n",
    "    sql_command = \"select * from cdm_6871_21.antibiotics_p1_ncj;\"\n",
    "    anti_new = pd.read_sql(sql_command,conn)\n",
    "\n",
    "\n",
    "anti_new = anti_new.assign(nitrofuantoin=0)\n",
    "anti_new = anti_new.assign(fosfomycin=0)\n",
    "anti_new['trimethoprim-sulfamethoxazole'] =0\n",
    "anti_new = anti_new.assign(second_line=0)\n",
    "#anti_new = anti_new.assign(third_line=0)\n",
    "anti_new = anti_new.assign(alternatives=0)\n",
    "anti_new = anti_new.assign(inappropriate=0)\n",
    "anti_new = anti_new.assign(antibiotic_type='')\n",
    "\n",
    "###\n",
    "count = 0\n",
    "for idx, row in anti_new.iterrows():\n",
    "    drug = row.antibiotic_name \n",
    "    if drug =='nitrofurantoin':\n",
    "        anti_new.loc[idx, \"nitrofurantoin\"] = 1\n",
    "        anti_new.loc[idx, \"antibiotic_type\"] =\"nitrofurantoin\"\n",
    "    elif drug =='fosfomycin':\n",
    "        anti_new.loc[idx, \"fosfomycin\"] = 1\n",
    "        anti_new.loc[idx, \"antibiotic_type\"] =\"fosfomycin\"\n",
    "#     elif drug =='trimethoprim-sulfamethoxazole' or drug =='trimethoprim' or drug =='sulfamethoxazole':\n",
    "    elif drug =='trimethoprim-sulfamethoxazole':\n",
    "        anti_new.loc[idx, 'trimethoprim-sulfamethoxazole'] = 1\n",
    "        anti_new.loc[idx, \"antibiotic_type\"] ='trimethoprim-sulfamethoxazole'\n",
    "\n",
    "       \n",
    "    #     elif (\"cef\" in drug.lower()) or drug =='cephalexin' or (\"amoxicillin\" in drug.lower()):\n",
    "    elif drug.lower() in [\"amoxicillin-clavulanic acid\",\"cefpodoxime\",\"cefadroxil\"]:\n",
    "        anti_new.loc[idx, 'alternatives'] = 1\n",
    "        anti_new.loc[idx, \"antibiotic_type\"] ='alternatives'\n",
    "        \n",
    "#     elif drug == \"quinolone\":\n",
    "#         anti_new.loc[idx, 'second_line'] = 1\n",
    "#         anti_new.loc[idx, \"antibiotic_type\"] ='second_line'\n",
    "\n",
    "#     elif 'ofloxacin' in drug.lower() :\n",
    "    elif drug.lower() in [\"ciprofloxacin\",\"ofloxacin\",\"levofloxacin\"]:\n",
    "        anti_new.loc[idx, 'second_line'] = 1\n",
    "        anti_new.loc[idx, \"antibiotic_type\"] ='second_line'\n",
    "    elif drug== 'fluconazole' or drug== 'doxycycline'or drug== 'clindamycin' or drug== 'linezolid' or drug== 'metronidazole' or drug =='azithromycin' or 'injection' in drug:\n",
    "        anti_new.loc[idx, 'inappropriate'] = 1\n",
    "        anti_new.loc[idx, \"antibiotic_type\"] ='inappropriate'\n",
    "\n",
    "\n",
    "    '''    elif 'beta-lactam' in drug.lower() :\n",
    "        anti_new.loc[idx, 'alternatives'] = 1\n",
    "        anti_new.loc[idx, \"antibiotic_type\"] ='alternatives'\n",
    "    '''\n",
    "\n",
    "    count = count+1\n",
    "    if count%5000 ==0:\n",
    "        print(round(count/len(anti_new),2))\n",
    "        \n",
    "# remove patients with fosfomycin \n",
    "\n",
    "anti_new = anti_new[anti_new['fosfomycin']==0]\n",
    "anti_new.to_sql(\"antibiotics_v2_ncj\",con=db.engine, if_exists=\"replace\", schema=\"cdm_6871_21\")"
   ]
  },
  {
   "cell_type": "code",
   "execution_count": null,
   "metadata": {},
   "outputs": [],
   "source": [
    "%%time\n",
    "# reload_antibiotic=0\n",
    "username='cdm_6871_21'\n",
    "password='MLHC2021'\n",
    "database_name = 'omop_v6'\n",
    "conn_string = \"dbname=\"+database_name + \" host=/var/run/postgresql\"\n",
    "conn=psycopg2.connect(conn_string)"
   ]
  },
  {
   "cell_type": "code",
   "execution_count": null,
   "metadata": {},
   "outputs": [],
   "source": [
    "%%time\n",
    "cohort_treatments = pd.read_sql(\"\"\"SELECT\n",
    "                                uti.index,\n",
    "                                uti.condition_occurrence_id, \n",
    "                                uti.person_id,\n",
    "                                uti.concept_id,\n",
    "                                uti.condition_start_date,\n",
    "                                anti.*,\n",
    "                                drug.drug_exposure_id,\n",
    "                                drug.drug_exposure_start_date,\n",
    "                                drug.drug_exposure_start_datetime\n",
    "                           FROM cdm_6871_21.candidate_events_all_ncj uti\n",
    "\n",
    "                           JOIN cdm_6871_21.drug_exposure drug ON \n",
    "                                       drug.person_id = uti.person_id AND\n",
    "                                       drug.drug_exposure_start_date - uti.condition_start_date < 7 AND\n",
    "                                       drug.drug_exposure_start_date - uti.condition_start_date > -1\n",
    "                           JOIN cdm_6871_21.antibiotics_v2_ncj anti ON\n",
    "                                       drug.drug_concept_id = anti.drug_concept_id\n",
    "                           ORDER BY \n",
    "                                    uti.condition_occurrence_id\n",
    "                        \"\"\", conn)"
   ]
  },
  {
   "cell_type": "code",
   "execution_count": null,
   "metadata": {},
   "outputs": [],
   "source": [
    "#Remove empty antibiotic types\n",
    "if '' in cohort_treatments.antibiotic_type.tolist():\n",
    "    cohort_treatments = cohort_treatments.copy().loc[cohort_treatments.antibiotic_type != '']"
   ]
  },
  {
   "cell_type": "code",
   "execution_count": null,
   "metadata": {},
   "outputs": [],
   "source": [
    "%%time\n",
    "# Load antibiotic use in the previous 7 days \n",
    "cohort_treatments_drugs_past_7_day = pd.read_sql(\"\"\"SELECT\n",
    "                                uti.index,\n",
    "                                uti.condition_occurrence_id, \n",
    "                                uti.person_id,\n",
    "                                uti.concept_id,\n",
    "                                uti.condition_start_date,\n",
    "                                anti.*,\n",
    "                                drug.drug_exposure_id,\n",
    "                                drug.drug_exposure_start_date,\n",
    "                                drug.drug_exposure_start_datetime\n",
    "                           FROM cdm_6871_21.candidate_events_all_ncj uti\n",
    "\n",
    "                           JOIN cdm_6871_21.drug_exposure drug ON \n",
    "                                       drug.person_id = uti.person_id AND\n",
    "                                       drug.drug_exposure_start_date - uti.condition_start_date > -8 AND\n",
    "                                       drug.drug_exposure_start_date - uti.condition_start_date < 0\n",
    "                           JOIN cdm_6871_21.antibiotics_v2_ncj anti ON\n",
    "                                       drug.drug_concept_id = anti.drug_concept_id\n",
    "                           ORDER BY \n",
    "                                    uti.condition_occurrence_id\n",
    "                        \"\"\", conn)"
   ]
  },
  {
   "cell_type": "code",
   "execution_count": null,
   "metadata": {},
   "outputs": [],
   "source": [
    "#UTI events with treatment\n",
    "uti_unique = cohort_treatments\n",
    "uti_unique = uti_unique.drop_duplicates(subset = ['condition_occurrence_id'], inplace = False, keep='first')\n",
    "print('Unique UTI events with treatment')\n",
    "print(len(uti_unique))\n",
    "\n",
    "\n",
    "#UTI events with treatment but without treatment 7 days prior\n",
    "condition_occurrence_id_to_exclude = cohort_treatments_drugs_past_7_day.condition_occurrence_id.unique()\n",
    "cohort_treatments_new = cohort_treatments[~cohort_treatments.condition_occurrence_id.isin(condition_occurrence_id_to_exclude)]\n",
    "uti_unique = cohort_treatments_new\n",
    "uti_unique = uti_unique.drop_duplicates(subset = ['condition_occurrence_id'], inplace = False, keep='first')\n",
    "print('Unique UTI events with treatment and without treatment 7 days prior')\n",
    "print(len(uti_unique))\n",
    "\n"
   ]
  },
  {
   "cell_type": "code",
   "execution_count": null,
   "metadata": {},
   "outputs": [],
   "source": [
    "if 'level_0' in cohort_treatments_new.columns:\n",
    "    cohort_treatments_new =cohort_treatments_new.drop(columns=['level_0'])\n",
    "cohort_treatments_new.to_sql(\"uti_candidate_events_with_treatment_ncj\",con=db.engine, if_exists=\"replace\", schema=\"cdm_6871_21\")"
   ]
  },
  {
   "cell_type": "code",
   "execution_count": null,
   "metadata": {},
   "outputs": [],
   "source": [
    "%%time\n",
    "# Get the full condition item table\n",
    "candidate_indices = cohort_treatments_new.condition_occurrence_id\n",
    "candidate_indices_str = \", \".join([f\"'{x}'\" for x in candidate_indices])\n",
    "\n",
    "sql = \"\"\"\n",
    "    select\n",
    "        c.*,\n",
    "        p.*\n",
    "    from\n",
    "        {omop_schema}.condition_occurrence c\n",
    "    inner join\n",
    "        {omop_schema}.uti_candidate_events_with_treatment_ncj p\n",
    "    on \n",
    "        c.condition_occurrence_id = p.condition_occurrence_id\n",
    "    where \n",
    "        c.condition_occurrence_id in ({candidate_indices_str}) \n",
    "\"\"\".format(\n",
    "    omop_schema=config.OMOP_CDM_SCHEMA,\n",
    "    candidate_indices_str=candidate_indices_str,\n",
    ")\n",
    "condition_candidates = db.query(sql)\n"
   ]
  },
  {
   "cell_type": "code",
   "execution_count": null,
   "metadata": {},
   "outputs": [],
   "source": [
    "if 'level_0' in list(condition_candidates.keys()):\n",
    "    condition_candidates=condition_candidates.drop(columns=['level_0'])\n",
    "\n",
    "\n",
    "condition_candidates.to_sql(\"uti_candidate_events_treatment_ncj\",con=db.engine, if_exists=\"replace\", schema=\"cdm_6871_21\")\n",
    "db.execute(\"GRANT SELECT ON TABLE cdm_6871_21.uti_candidate_events_treatment_ncj TO cdm_6871_21;\")"
   ]
  },
  {
   "cell_type": "code",
   "execution_count": null,
   "metadata": {},
   "outputs": [],
   "source": [
    "%%time\n",
    "cohort_raw = pd.read_sql(\"\"\"SELECT\n",
    "                                uti.index,\n",
    "                                uti.condition_occurrence_id, \n",
    "                                uti.person_id,\n",
    "                                uti.condition_concept_id,\n",
    "                                uti.condition_start_date,\n",
    "                                uti.condition_start_datetime,\n",
    "                                uti.condition_end_date,\n",
    "                                uti.condition_end_datetime,\n",
    "                                uti.visit_occurrence_id,\n",
    "                                uti.visit_detail_id,\n",
    "                                anti.drug_concept_id, \n",
    "                                anti.drug_name,\n",
    "                                anti.antibiotic_name,\n",
    "                                anti.antibiotic_type,\n",
    "                                v.provider_id AS visit_provider_id,\n",
    "                                drug.drug_exposure_id,\n",
    "                                drug.drug_exposure_start_date,\n",
    "                                drug.drug_exposure_start_datetime,\n",
    "                                drug.provider_id AS provider_id,\n",
    "                                prov.provider_name,\n",
    "                                prov.npi\n",
    "                           FROM cdm_6871_21.uti_candidate_events_treatment_ncj uti\n",
    "                           JOIN cdm_6871_21.visit_detail v ON \n",
    "                                   v.visit_detail_id = uti.visit_detail_id AND\n",
    "                                   v.visit_detail_concept_id IN (581477, 9202)\n",
    "                           JOIN cdm_6871_21.drug_exposure drug ON \n",
    "                                       drug.person_id = uti.person_id AND\n",
    "                                       drug.drug_exposure_start_date - uti.condition_start_date < 7 AND\n",
    "                                       drug.drug_exposure_start_date - uti.condition_start_date > -1\n",
    "                           JOIN cdm_6871_21.antibiotics_v2_ncj anti ON\n",
    "                                       drug.drug_concept_id = anti.drug_concept_id\n",
    "                           LEFT JOIN cdm_6871_21.provider prov\n",
    "                                    ON prov.provider_id = drug.provider_id\n",
    "                           ORDER BY \n",
    "                                    uti.condition_occurrence_id,\n",
    "                                    prov.provider_name DESC NULLS LAST\n",
    "                        \"\"\", conn)\n",
    "\n"
   ]
  },
  {
   "cell_type": "code",
   "execution_count": null,
   "metadata": {},
   "outputs": [],
   "source": [
    "print('Size of df:')\n",
    "print(len(cohort_raw))"
   ]
  },
  {
   "cell_type": "code",
   "execution_count": null,
   "metadata": {},
   "outputs": [],
   "source": [
    "#here"
   ]
  },
  {
   "cell_type": "code",
   "execution_count": null,
   "metadata": {},
   "outputs": [],
   "source": [
    "print('Size of df:')\n",
    "print(len(cohort_raw))\n"
   ]
  },
  {
   "cell_type": "code",
   "execution_count": null,
   "metadata": {},
   "outputs": [],
   "source": [
    "uti_unique = cohort_raw\n",
    "uti_unique = uti_unique.drop_duplicates(subset = ['condition_occurrence_id','antibiotic_name'], inplace = False, keep='first')\n",
    "\n",
    "print('Number of UTI events with treatment + proper visit:')\n",
    "print(uti_unique.condition_occurrence_id.nunique())"
   ]
  },
  {
   "cell_type": "code",
   "execution_count": null,
   "metadata": {},
   "outputs": [],
   "source": [
    "utis_with_treatment = cohort_raw"
   ]
  },
  {
   "cell_type": "markdown",
   "metadata": {},
   "source": [
    "### find non-recurrent UTIs\n",
    "use utis_all"
   ]
  },
  {
   "cell_type": "code",
   "execution_count": null,
   "metadata": {},
   "outputs": [],
   "source": [
    "utis = utis_with_treatment.copy()"
   ]
  },
  {
   "cell_type": "code",
   "execution_count": null,
   "metadata": {},
   "outputs": [],
   "source": [
    "utis = utis.sort_values(by=[\"person_id\", \"condition_start_date\"], ascending=True)\n",
    "utis = utis.assign(no_previous_180_day_event=True)\n",
    "\n",
    "utis = utis.assign(no_two_previous_365_day_event=True)\n",
    "utis = utis.assign(post_UTI_codes=0)\n",
    "utis = utis.assign(recurrent_uti=False)\n",
    "utis = utis.assign(first_uti=False)\n",
    "\n",
    "utis = utis.assign(previous_uti=False)\n",
    "utis = utis.assign(previous_utis=0)\n",
    "utis = utis.assign(days_since_previous_uti=np.nan)\n",
    "utis = utis.assign(previous_uti_condition_occurence_id=0)\n",
    "utis = utis.assign(previous_uti_recurrent=False)\n",
    "\n",
    "\n",
    "utis.head()"
   ]
  },
  {
   "cell_type": "markdown",
   "metadata": {},
   "source": [
    "#### get rid of multiple drugs"
   ]
  },
  {
   "cell_type": "code",
   "execution_count": null,
   "metadata": {},
   "outputs": [],
   "source": [
    "uti_unique = utis.copy()\n",
    "print('Number of UTI events + individual drugs')\n",
    "print(len(uti_unique))"
   ]
  },
  {
   "cell_type": "code",
   "execution_count": null,
   "metadata": {},
   "outputs": [],
   "source": [
    "# drop duplicate drug types\n",
    "uti_unique = uti_unique.drop_duplicates(subset = ['condition_occurrence_id','antibiotic_name'], inplace = False, keep='first')\n",
    "\n"
   ]
  },
  {
   "cell_type": "code",
   "execution_count": null,
   "metadata": {},
   "outputs": [],
   "source": [
    "multi =pd.DataFrame(uti_unique['condition_occurrence_id'].value_counts()).reset_index()\n",
    "condition_occurence_ids = list(multi[multi['condition_occurrence_id']>1]['index'])\n",
    "print('IDs with multiple drugs:')\n",
    "print(len(condition_occurence_ids))"
   ]
  },
  {
   "cell_type": "code",
   "execution_count": null,
   "metadata": {
    "scrolled": true
   },
   "outputs": [],
   "source": [
    "%%time\n",
    "uti_unique = uti_unique.assign(multi = False)\n",
    "count = 0\n",
    "for ind, row in uti_unique.iterrows():\n",
    "    if row.condition_occurrence_id in condition_occurence_ids:\n",
    "        uti_unique.loc[ind,'multi'] = True\n",
    "    count = count+1\n",
    "    if count%5000==0:\n",
    "        print(count/len(uti_unique))\n",
    "        "
   ]
  },
  {
   "cell_type": "code",
   "execution_count": null,
   "metadata": {},
   "outputs": [],
   "source": [
    "# Drop multi drugs\n",
    "uti_unique = uti_unique.drop_duplicates(subset = ['condition_occurrence_id'], inplace = False, keep='first')\n",
    "\n",
    "utis = uti_unique.copy()"
   ]
  },
  {
   "cell_type": "markdown",
   "metadata": {},
   "source": [
    "#### Get non_recurrent UTIs, and note previous UTI that had treatment"
   ]
  },
  {
   "cell_type": "code",
   "execution_count": null,
   "metadata": {},
   "outputs": [],
   "source": [
    "'''utis = utis.sort_values(by=[\"person_id\", \"condition_start_date\"], ascending=True)\n",
    "utis = utis.assign(no_previous_180_day_event=True)\n",
    "\n",
    "utis = utis.assign(no_two_previous_365_day_event=True)\n",
    "utis = utis.assign(post_UTI_codes=0)\n",
    "utis = utis.assign(recurrent_uti=False)\n",
    "utis = utis.assign(first_uti=False)\n",
    "\n",
    "utis = utis.assign(previous_uti=False)\n",
    "utis = utis.assign(previous_utis=0)\n",
    "utis = utis.assign(days_since_previous_uti=np.nan)\n",
    "utis = utis.assign(previous_uti_condition_occurence_id=0)\n",
    "utis = utis.assign(previous_uti_recurrent=False)\n",
    "\n",
    "\n",
    "utis.head()'''"
   ]
  },
  {
   "cell_type": "code",
   "execution_count": null,
   "metadata": {},
   "outputs": [],
   "source": [
    "print('UTI events, with multiple drugs denoted:')\n",
    "print(len(utis))"
   ]
  },
  {
   "cell_type": "code",
   "execution_count": null,
   "metadata": {
    "scrolled": false
   },
   "outputs": [],
   "source": [
    "%%time\n",
    "import datetime\n",
    "date_format = \"%Y-%m-%d\"\n",
    "last_patient = None\n",
    "last_date = None\n",
    "d_old = None\n",
    "c = 0\n",
    "patient_count = 0\n",
    "for index, row in utis.iterrows():\n",
    "    p = row.person_id\n",
    "    d = row.condition_start_date\n",
    "    cond = row.condition_occurrence_id\n",
    "\n",
    "    #days_since_last = (d - last_date).days\n",
    "    if last_patient ==p:\n",
    "        days_since_last = (d - last_date).days\n",
    "        if days_since_last < 180:\n",
    "            utis.loc[index, \"no_previous_180_day_event\"] = False\n",
    "        if second_last_patient ==p:\n",
    "            if days_since_last < 365 and (d - second_last_date).days < 365 and (last_date-second_last_date).days>14:\n",
    "                utis.loc[index, \"no_two_previous_365_day_event\"] = False\n",
    "\n",
    "        #utis.loc[index, \"recurrent_uti\"] = True\n",
    "    # keep track of previous UTI \n",
    "    \n",
    "        patient_count = patient_count+1\n",
    "        utis.loc[index, \"previous_uti\"] = True\n",
    "        utis.loc[index, \"days_since_previous_uti\"] = days_since_last\n",
    "        utis.loc[index, \"previous_utis\"] = patient_count\n",
    "        utis.loc[index, \"previous_uti_condition_occurence_id\"] = last_cond\n",
    "        if ~((last_row[\"no_two_previous_365_day_event\"]) * (last_row[\"no_previous_180_day_event\"])):\n",
    "            utis.loc[index, \"previous_uti_recurrent\"] = True\n",
    "    else:\n",
    "        patient_count = 0\n",
    "    second_last_patient = last_patient       \n",
    "    last_patient = p\n",
    "    last_date = d\n",
    "    second_last_date = d_old\n",
    "    d_old = d\n",
    "    last_cond = cond\n",
    "    last_row = row\n",
    "    c += 1\n",
    "    if c%1000 == 0:\n",
    "        print(c/len(utis))\n",
    "print(len(utis))\n",
    "utis.head(2)"
   ]
  },
  {
   "cell_type": "code",
   "execution_count": null,
   "metadata": {},
   "outputs": [],
   "source": [
    "utis['recurrent_uti'] = ~((utis[\"no_two_previous_365_day_event\"]) * (utis[\"no_previous_180_day_event\"]))"
   ]
  },
  {
   "cell_type": "code",
   "execution_count": null,
   "metadata": {},
   "outputs": [],
   "source": [
    "non_recurrent_utis = utis[utis['recurrent_uti']==False ]\n",
    "#non_recurrent_utis = utis[utis['first_uti']==True ]\n",
    "print('Number of non-recurrent UTI events:')\n",
    "print(len(non_recurrent_utis))\n",
    "current_df = non_recurrent_utis"
   ]
  },
  {
   "cell_type": "markdown",
   "metadata": {},
   "source": [
    "### Remove patients under 18 at time of UTI"
   ]
  },
  {
   "cell_type": "code",
   "execution_count": null,
   "metadata": {},
   "outputs": [],
   "source": [
    "%%time\n",
    "username='cdm_6871_21'\n",
    "password='MLHC2021'\n",
    "database_name = 'omop_v6'\n",
    "conn_string = \"dbname=\"+database_name + \" host=/var/run/postgresql\"\n",
    "conn=psycopg2.connect(conn_string)\n",
    "print('Connected!')\n",
    "\n",
    "sql_command = \"select * from cdm_6871_21.person;\"\n",
    "person = pd.read_sql(sql_command,conn)\n",
    "person.head()"
   ]
  },
  {
   "cell_type": "code",
   "execution_count": null,
   "metadata": {},
   "outputs": [],
   "source": [
    "people_cohort = person[person.person_id.isin(non_recurrent_utis.person_id) ]\n",
    "people_cohort = people_cohort[['person_id','year_of_birth']]\n",
    "\n",
    "non_recurrent_utis_w_ages = non_recurrent_utis.merge(people_cohort, how = 'left', on = 'person_id')\n",
    "non_recurrent_utis_w_ages['age'] = np.nan"
   ]
  },
  {
   "cell_type": "code",
   "execution_count": null,
   "metadata": {},
   "outputs": [],
   "source": [
    "%%time\n",
    "i= 0 \n",
    "for index,row in non_recurrent_utis_w_ages.iterrows():\n",
    "    person_ = row['person_id']\n",
    "    #temp = people_cohort[people_cohort['person_id']==person_]\n",
    "    year_of_birth = row['year_of_birth']\n",
    "    if year_of_birth >0:\n",
    "        non_recurrent_utis_w_ages.loc[index,'age'] = row['condition_start_date'].year - year_of_birth\n",
    "    i = i+1\n",
    "    #if i%10000==0:\n",
    "        #print(i) "
   ]
  },
  {
   "cell_type": "code",
   "execution_count": null,
   "metadata": {},
   "outputs": [],
   "source": [
    "# remove under 18\n",
    "non_recurrent_utis_over_18 =non_recurrent_utis_w_ages[non_recurrent_utis_w_ages['age']>17]\n",
    "print('# of events after removing under 18:')\n",
    "print(len(non_recurrent_utis_over_18))\n",
    "current_df = non_recurrent_utis_over_18"
   ]
  },
  {
   "cell_type": "markdown",
   "metadata": {},
   "source": [
    "### Remove Patients with certain procedures"
   ]
  },
  {
   "cell_type": "markdown",
   "metadata": {},
   "source": [
    "##### Find excluded procedures"
   ]
  },
  {
   "cell_type": "code",
   "execution_count": null,
   "metadata": {},
   "outputs": [],
   "source": [
    "current_person_ids = current_df.person_id.unique()\n",
    "print('# of current person IDs')\n",
    "print(len(current_person_ids))"
   ]
  },
  {
   "cell_type": "code",
   "execution_count": null,
   "metadata": {},
   "outputs": [],
   "source": [
    "%%time\n",
    "## Load Procedures from cdm.procedure_occurence\n",
    "current_person_str = \", \".join([f\"'{x}'\" for x in current_person_ids])\n",
    "sql = \"\"\"\n",
    "    select\n",
    "        p.procedure_concept_id as concept_id,\n",
    "        p.procedure_date as date,\n",
    "        person_id as person_id\n",
    "    from\n",
    "        {omop_schema}.procedure_occurrence p\n",
    "    where \n",
    "        p.person_id in ({person_ids}) \n",
    "\"\"\".format(\n",
    "    omop_schema=config.OMOP_CDM_SCHEMA,\n",
    "    person_ids=current_person_str,\n",
    ")\n",
    "procedures = db.query(sql)\n",
    "print(f\"Procedures found: {len(procedures)}\")\n",
    "\n",
    "display(procedures.head(3))"
   ]
  },
  {
   "cell_type": "code",
   "execution_count": null,
   "metadata": {},
   "outputs": [],
   "source": [
    "%%time\n",
    "\n",
    "# get procedure names from cdm.concept\n",
    "sql = \"\"\"\n",
    "    select\n",
    "        c.concept_name as concept_name,\n",
    "        c.concept_id as concept_id\n",
    "    from\n",
    "        {omop_schema}.concept c\n",
    "    where \n",
    "        c.domain_id = 'Procedure' \n",
    "\"\"\".format(\n",
    "    omop_schema=config.OMOP_CDM_SCHEMA,\n",
    "    person_ids=current_person_ids,\n",
    ")\n",
    "procedure_names = db.query(sql)\n",
    "procedure_names.head(3)"
   ]
  },
  {
   "cell_type": "code",
   "execution_count": null,
   "metadata": {},
   "outputs": [],
   "source": [
    "%%time\n",
    "procedure_name_hits = [\"central venous catheter\", \"surgery\", \"surgical\", \"ventilation\", \"hemodialysis\", \"parenteral nutrition\"]\n",
    "exclude_name_hits = \"than hemodialysis\"\n",
    "# Placement of a central venous cather\n",
    "\n",
    "procedure_ids = []\n",
    "for ind, (name, cid) in procedure_names[[\"concept_name\", \"concept_id\"]].iterrows(): \n",
    "    name = name.lower()\n",
    "    for pn in procedure_name_hits:\n",
    "        if pn in name and exclude_name_hits not in name:\n",
    "#             print(f\"Procedure: {name}, code: {cid}\")\n",
    "            procedure_ids.append(cid)\n",
    "            break\n",
    "print(f\"Found {len(procedure_ids)} procedure concept codes to exclude\")\n",
    "excluded_procedures = procedures[procedures.concept_id.isin(procedure_ids)]\n",
    "print(f\"Excluded procedure events: {len(excluded_procedures)}\")\n"
   ]
  },
  {
   "cell_type": "code",
   "execution_count": null,
   "metadata": {},
   "outputs": [],
   "source": [
    "### here"
   ]
  },
  {
   "cell_type": "markdown",
   "metadata": {},
   "source": [
    "##### Find excluded conditions"
   ]
  },
  {
   "cell_type": "code",
   "execution_count": null,
   "metadata": {},
   "outputs": [],
   "source": [
    "%%time\n",
    "# get concept names from cdm.concept\n",
    "sql = \"\"\"\n",
    "    select\n",
    "        c.concept_name as concept_name,\n",
    "        c.concept_id as concept_id,\n",
    "        c.domain_id as domain_id\n",
    "    from\n",
    "        {omop_schema}.concept c\n",
    "    where \n",
    "        c.domain_id = 'Condition' \n",
    "\"\"\".format(\n",
    "    omop_schema=config.OMOP_CDM_SCHEMA,\n",
    ")\n",
    "diagnosis_names = db.query(sql)\n"
   ]
  },
  {
   "cell_type": "code",
   "execution_count": null,
   "metadata": {},
   "outputs": [],
   "source": [
    "%%time\n",
    "condition_ids = []\n",
    "condition_name_hits = [\"pregnancy\", \"pyelo\",\"catheter\"]\n",
    "for ind, (name, cid) in diagnosis_names[[\"concept_name\", \"concept_id\"]].iterrows(): \n",
    "    name = name.lower()\n",
    "    for pn in condition_name_hits:\n",
    "        if pn in name:\n",
    "            condition_ids.append(cid)\n",
    "            break\n",
    "print(f\"Found {len(condition_ids)} to exclude\")"
   ]
  },
  {
   "cell_type": "code",
   "execution_count": null,
   "metadata": {},
   "outputs": [],
   "source": [
    "%%time\n",
    "excluded_conditions = condition_df[condition_df.concept_id.isin(condition_ids) & condition_df.person_id.isin(current_person_ids)]\n",
    "print(len(excluded_conditions))\n",
    "excluded_conditions = excluded_conditions[[\"concept_id\", \"condition_start_date\", \"person_id\"]]\n",
    "excluded_conditions = excluded_conditions.rename(columns={\"condition_start_date\":\"date\"})"
   ]
  },
  {
   "cell_type": "markdown",
   "metadata": {},
   "source": [
    "##### Remove patients with the excluded conditions and procedures "
   ]
  },
  {
   "cell_type": "code",
   "execution_count": null,
   "metadata": {},
   "outputs": [],
   "source": [
    "%%time\n",
    "excluded_table = pd.concat([excluded_conditions, excluded_procedures], ignore_index=True)\n",
    "excluded_table"
   ]
  },
  {
   "cell_type": "code",
   "execution_count": null,
   "metadata": {},
   "outputs": [],
   "source": [
    "%%time\n",
    "#  Create in memory cache of events\n",
    "person_events = dict()\n",
    "c = 0\n",
    "from datetime import datetime\n",
    "start = datetime.now()\n",
    "\n",
    "l = len(excluded_table)\n",
    "for _, (_, date, pid) in excluded_table.iterrows():\n",
    "    c += 1\n",
    "    if c % 100000 == 0:\n",
    "        print(f\"Time elapsed: {(datetime.now() - start)}\")\n",
    "        print(f\"Iter: {c} / {l}\")\n",
    "        \n",
    "    if pid in person_events:\n",
    "        person_events[pid].add(date)\n",
    "    else:\n",
    "        person_events[pid] = set([date])"
   ]
  },
  {
   "cell_type": "code",
   "execution_count": null,
   "metadata": {},
   "outputs": [],
   "source": [
    "%%time\n",
    "# Removes the event if a procedure happened in the last 180 days\n",
    "#current_df.assign('No excluded procedure or condition')\n",
    "#first_utis = utis[utis.no_previous_90_day_event].copy()\n",
    "temp_df = current_df.assign(no_previous_180_excluded_event=True)\n",
    "c = 0\n",
    "from datetime import datetime\n",
    "start = datetime.now()\n",
    "l = len(temp_df)\n",
    "for index, row in temp_df.iterrows():\n",
    "    p = row.person_id\n",
    "    d = row.condition_start_date\n",
    "    if p in person_events.keys(): # added\n",
    "        person_dates =  person_events[p]\n",
    "        c += 1\n",
    "        #if c % 10000 == 0:\n",
    "            #print(f\"Time elapsed: {(datetime.now() - start)}\")\n",
    "            #print(f\"Iter: {c} \")\n",
    "        for date in person_dates:\n",
    "            if (d - date).days < 180 and (d - date).days > 0:\n",
    "                temp_df.loc[index, \"no_previous_180_excluded_event\"] = False\n",
    "                break\n",
    "    \n",
    "filtered_utis = temp_df[temp_df.no_previous_180_excluded_event].copy()\n",
    "\n",
    "print(f\"Final UTI list count: {len(filtered_utis)}\")\n",
    "filtered_utis.head(3)\n",
    "current_df = filtered_utis"
   ]
  },
  {
   "cell_type": "markdown",
   "metadata": {},
   "source": [
    "### Remove more conditions if they occurred ever"
   ]
  },
  {
   "cell_type": "code",
   "execution_count": null,
   "metadata": {},
   "outputs": [],
   "source": [
    "%%time\n",
    "condition_ids = []\n",
    "condition_names_1 = []\n",
    "condition_names_2 = []\n",
    "condition_name_hits = [[\"neurogenic\", \"bladder\"],[\"spina\", \"bifida\"]]\n",
    "for ind, (name, cid) in diagnosis_names[[\"concept_name\", \"concept_id\"]].iterrows(): \n",
    "    name = name.lower()\n",
    "    for lpn in condition_name_hits:\n",
    "        pn = lpn[0]\n",
    "        pn2 =lpn[1]\n",
    "        #carcinoma OR cancer OR malignan) AND (bladder OR ureter OR kidney OR renal)\n",
    "        if (('carcinoma' or 'cancer' or 'malignan') in name) and (('bladder' or 'ureter' or 'kidney' or 'renal')) in name:\n",
    "            condition_ids.append(cid)\n",
    "            condition_names_1.append(name)\n",
    "            break\n",
    "        elif pn in name and pn2 in name:\n",
    "            condition_ids.append(cid)\n",
    "            condition_names_2.append(name)\n",
    "            break\n",
    "print(f\"Found {len(condition_ids)} to exclude\")\n",
    "\n",
    "\n",
    "excluded_conditions = condition_df[condition_df.concept_id.isin(condition_ids) & condition_df.person_id.isin(current_person_ids)]\n",
    "print(len(excluded_conditions))\n",
    "excluded_conditions = excluded_conditions[[\"concept_id\", \"condition_start_date\", \"person_id\"]]\n",
    "excluded_conditions = excluded_conditions.rename(columns={\"condition_start_date\":\"date\"})\n",
    "\n",
    "excluded_table = excluded_conditions.copy()\n"
   ]
  },
  {
   "cell_type": "code",
   "execution_count": null,
   "metadata": {},
   "outputs": [],
   "source": [
    "%%time\n",
    "#  Create in memory cache of events\n",
    "person_events = dict()\n",
    "c = 0\n",
    "from datetime import datetime\n",
    "start = datetime.now()\n",
    "\n",
    "l = len(excluded_table)\n",
    "for _, (_, date, pid) in excluded_table.iterrows():\n",
    "    c += 1\n",
    "    if c % 100000 == 0:\n",
    "        print(f\"Time elapsed: {(datetime.now() - start)}\")\n",
    "        print(f\"Iter: {c} / {l}\")\n",
    "        \n",
    "    if pid in person_events:\n",
    "        person_events[pid].add(date)\n",
    "    else:\n",
    "        person_events[pid] = set([date])"
   ]
  },
  {
   "cell_type": "code",
   "execution_count": null,
   "metadata": {},
   "outputs": [],
   "source": [
    "%%time\n",
    "\n",
    "temp_df = filtered_utis.assign(no_previous_excluded_event_ever=True)\n",
    "c = 0\n",
    "from datetime import datetime\n",
    "start = datetime.now()\n",
    "l = len(temp_df)\n",
    "for index, row in temp_df.iterrows():\n",
    "    p = row.person_id\n",
    "    d = row.condition_start_date\n",
    "    if p in person_events.keys(): # added\n",
    "        person_dates =  person_events[p]\n",
    "        c += 1\n",
    "        #if c % 10000 == 0:\n",
    "            #print(f\"Time elapsed: {(datetime.now() - start)}\")\n",
    "            #print(f\"Iter: {c} \")\n",
    "        for date in person_dates:\n",
    "            if (d - date).days > 0:\n",
    "                temp_df.loc[index, \"no_previous_excluded_event_ever\"] = False\n",
    "                break\n",
    "    \n",
    "filtered_utis = temp_df[temp_df.no_previous_excluded_event_ever].copy()\n",
    "\n",
    "print(f\"Final UTI list count: {len(filtered_utis)}\")\n",
    "filtered_utis.head(3)\n",
    "current_df = filtered_utis"
   ]
  },
  {
   "cell_type": "code",
   "execution_count": null,
   "metadata": {},
   "outputs": [],
   "source": [
    "filtered_utis = temp_df[temp_df.no_previous_excluded_event_ever].copy()"
   ]
  },
  {
   "cell_type": "code",
   "execution_count": null,
   "metadata": {},
   "outputs": [],
   "source": [
    "filtered_utis['person_id'].value_counts()"
   ]
  },
  {
   "cell_type": "code",
   "execution_count": null,
   "metadata": {},
   "outputs": [],
   "source": [
    "filtered_utis.to_sql(\"cohort_final_updated_treatments_ncj\",con=db.engine, if_exists=\"replace\", schema=\"cdm_6871_21\")\n",
    "db.execute(\"GRANT SELECT ON TABLE cdm_6871_21.cohort_final_updated_treatments_ncj TO cdm_6871_21;\")\n"
   ]
  },
  {
   "cell_type": "markdown",
   "metadata": {},
   "source": [
    "#### Get patients with 1 year of observation time"
   ]
  },
  {
   "cell_type": "code",
   "execution_count": null,
   "metadata": {},
   "outputs": [],
   "source": [
    "username='cdm_6871_21'\n",
    "password='MLHC2021'\n",
    "database_name = 'omop_v6'\n",
    "conn_string = \"dbname=\"+database_name + \" host=/var/run/postgresql\"\n",
    "conn=psycopg2.connect(conn_string)\n",
    "\n",
    "sql_command = \"select * from cdm_6871_21.cohort_final_updated_treatments_ncj;\"\n",
    "cohort = pd.read_sql(sql_command,conn)\n",
    "cohort.condition_occurrence_id.nunique()"
   ]
  },
  {
   "cell_type": "code",
   "execution_count": null,
   "metadata": {},
   "outputs": [],
   "source": [
    "# remove patients with insufficieny follow-up time"
   ]
  },
  {
   "cell_type": "code",
   "execution_count": null,
   "metadata": {},
   "outputs": [],
   "source": [
    "%%time\n",
    "sql_cmd = 'select * from cdm_6871_21.visit_detail where person_id in (select person_id from cdm_6871_21.cohort_final_updated_treatments_ncj)'\n",
    "visits = pd.read_sql(sql_cmd, conn)\n",
    "visits.head()"
   ]
  },
  {
   "cell_type": "code",
   "execution_count": null,
   "metadata": {},
   "outputs": [],
   "source": [
    "first_visits = visits.groupby('person_id')[['visit_detail_start_date']].min()\n"
   ]
  },
  {
   "cell_type": "code",
   "execution_count": null,
   "metadata": {},
   "outputs": [],
   "source": [
    "first_visits.rename(columns={'visit_detail_start_date':'first_visit_date'}, inplace=True)\n",
    "final = cohort.join(first_visits, on='person_id')"
   ]
  },
  {
   "cell_type": "code",
   "execution_count": null,
   "metadata": {},
   "outputs": [],
   "source": [
    "final['first_visit_date'] = pd.to_datetime(final['first_visit_date'])\n",
    "final['condition_start_date_dt'] = pd.to_datetime(final['condition_start_date'])\n",
    "final['followup_time'] = final['condition_start_date_dt'] - final['first_visit_date']"
   ]
  },
  {
   "cell_type": "code",
   "execution_count": null,
   "metadata": {},
   "outputs": [],
   "source": [
    "import datetime as dt"
   ]
  },
  {
   "cell_type": "code",
   "execution_count": null,
   "metadata": {},
   "outputs": [],
   "source": [
    "cohort = final[final.followup_time >= dt.timedelta(days=365)]"
   ]
  },
  {
   "cell_type": "code",
   "execution_count": null,
   "metadata": {},
   "outputs": [],
   "source": [
    "print('UTIs total with sufficient observation time')\n",
    "print(len(cohort))"
   ]
  },
  {
   "cell_type": "code",
   "execution_count": null,
   "metadata": {},
   "outputs": [],
   "source": [
    "# remove multiple drrugs"
   ]
  },
  {
   "cell_type": "code",
   "execution_count": null,
   "metadata": {},
   "outputs": [],
   "source": [
    "cohort['multi'].value_counts()"
   ]
  },
  {
   "cell_type": "code",
   "execution_count": null,
   "metadata": {},
   "outputs": [],
   "source": [
    "final = cohort[cohort['multi']==False]"
   ]
  },
  {
   "cell_type": "code",
   "execution_count": null,
   "metadata": {},
   "outputs": [],
   "source": [
    "print('UTIs total without multiple drigs')\n",
    "print(len(final))"
   ]
  },
  {
   "cell_type": "code",
   "execution_count": null,
   "metadata": {},
   "outputs": [],
   "source": [
    "# drop columns for formatting\n",
    "final = final.drop(['first_visit_date','followup_time','condition_start_date_dt'],axis = 1)"
   ]
  },
  {
   "cell_type": "code",
   "execution_count": null,
   "metadata": {},
   "outputs": [],
   "source": [
    "final = final.drop(['level_0'],axis=1)"
   ]
  },
  {
   "cell_type": "code",
   "execution_count": null,
   "metadata": {},
   "outputs": [],
   "source": [
    "final.to_sql(\"cohort_manuscript_updated_treatments_ncj\",con=db.engine, if_exists=\"replace\", schema=\"cdm_6871_21\")\n",
    "db.execute(\"GRANT SELECT ON TABLE cdm_6871_21.cohort_manuscript_updated_treatments_ncj TO cdm_6871_21;\")"
   ]
  },
  {
   "cell_type": "code",
   "execution_count": null,
   "metadata": {},
   "outputs": [],
   "source": []
  }
 ],
 "metadata": {
  "kernelspec": {
   "display_name": "omop_v2",
   "language": "python",
   "name": "myenv"
  },
  "language_info": {
   "codemirror_mode": {
    "name": "ipython",
    "version": 3
   },
   "file_extension": ".py",
   "mimetype": "text/x-python",
   "name": "python",
   "nbconvert_exporter": "python",
   "pygments_lexer": "ipython3",
   "version": "3.8.5"
  }
 },
 "nbformat": 4,
 "nbformat_minor": 2
}
