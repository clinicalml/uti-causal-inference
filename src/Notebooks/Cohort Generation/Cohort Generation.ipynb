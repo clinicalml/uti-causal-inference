{
 "cells": [
  {
   "cell_type": "markdown",
   "metadata": {},
   "source": [
    "### Generates the Cohort using the criteria and defines the treatment groups"
   ]
  },
  {
   "cell_type": "markdown",
   "metadata": {},
   "source": [
    "#### This is a copy of Elizabeth's notebook (ehealey/omop-learn/Manuscript_ready_files/Manuscript_Cohort_Generation) except I changed the following things\n",
    "\n",
    "1)\n",
    "\"drug.drug_exposure_start_date - uti.condition_start_date < 8 AND\"\n",
    "TO\n",
    "\"drug.drug_exposure_start_date - uti.condition_start_date < 7 AND\"\n",
    "\n",
    "2) changed the antibiotic conditions (where the old were the comments) :\n",
    "The code is under the line (for idx, row in anti_new.iterrows)\n",
    "\n",
    "3)\n",
    "all the dataframes created found by looking for \"db_execute and to_sql\" have an a \"_ncj\" tag appended to them\n",
    "\n",
    "\n",
    "4) changed reload_antibiotic \"= 0\" to \"= 1\"\n",
    "\n",
    "5) added this conditiional change: \"if 'level_0' in cohort_treatments_new.columns:\"\n",
    "    cohort_treatments_new =cohort_treatments_new.drop(columns=['level_0'])\n",
    "cohort_treatments_new.to_sql(\"uti_candidate_events_with_treatment_ncj\",con=db.engine, if_exists=\"replace\", schema=\"cdm_6871_21\")"
   ]
  },
  {
   "cell_type": "code",
   "execution_count": 1,
   "metadata": {},
   "outputs": [],
   "source": [
    "import sys\n",
    "\n",
    "sys.path.append( '..' )"
   ]
  },
  {
   "cell_type": "code",
   "execution_count": 2,
   "metadata": {},
   "outputs": [],
   "source": [
    "import psycopg2\n",
    "import pandas as pd\n",
    "import numpy\n",
    "import sparse\n",
    "import config\n",
    "import sys\n",
    "import time\n",
    "import importlib\n",
    "#import sparse\n",
    "import datetime\n",
    "import pandas as pd\n",
    "import numpy as np\n",
    "import scipy.sparse\n",
    "import matplotlib.pyplot as plt\n",
    "\n",
    "import Utils.dbutils as dbutils\n",
    "import Utils.data_utils as data_utils\n",
    "import Generators.CohortGenerator as CohortGenerator\n",
    "import Generators.FeatureGenerator as FeatureGenerator\n",
    "import config\n",
    "local_imports = (\n",
    "    dbutils,\n",
    "    data_utils,\n",
    "    CohortGenerator,\n",
    "    FeatureGenerator,\n",
    "    config\n",
    ")\n",
    "for i in local_imports:\n",
    "    i = importlib.reload(i)"
   ]
  },
  {
   "cell_type": "code",
   "execution_count": 5,
   "metadata": {},
   "outputs": [
    {
     "name": "stdout",
     "output_type": "stream",
     "text": [
      "cdm schema: cdm_6871_21\n"
     ]
    }
   ],
   "source": [
    "# database connection\n",
    "username = config.PG_USERNAME\n",
    "password = config.PG_PASSWORD\n",
    "database_name = config.DB_NAME\n",
    "\n",
    "#config_path = 'postgresql://{username}:{password}@{database_name}'.format(\n",
    "config_path = 'postgresql://{database_name}'.format(database_name = database_name)\n",
    "\n",
    "connect_args = {\"host\": '/var/run/postgresql/'} # connect_args to pass to sqlalchemy create_engine function\n",
    "\n",
    "# schemas \n",
    "# schema_name = 'eol_test_ncjones' # all created tables will be created using this schema\n",
    "cdm_schema_name = config.OMOP_CDM_SCHEMA # the name of the schema housing your OMOP CDM tables\n",
    "print(f\"cdm schema: {cdm_schema_name}\")\n",
    "\n",
    "    #username = username,\n",
    "    #password = password,\n",
    "   # database_name = database_name\n",
    "#)\n",
    "\n",
    "# schemas \n",
    "schema_name = 'eol_test_eheal' # all created tables will be created using this schema\n",
    "\n",
    "# caching\n",
    "reset_schema = False # if true, rebuild all data from scratch\n",
    "\n",
    "# set up database, reset schemas as needed\n",
    "db = dbutils.Database(config_path, schema_name, connect_args, cdm_schema_name)\n",
    "# if reset_schema:\n",
    "#     db.execute(\n",
    "#         'drop schema if exists {} cascade'.format(schema_name)\n",
    "#     )\n",
    "# db.execute(\n",
    "#     'create schema if not exists {}'.format(schema_name)\n",
    "# )\n",
    "\n",
    "username='cdm_6871_21'\n",
    "password='MLHC2021'\n",
    "database_name = 'omop_v6'\n",
    "conn_string = \"dbname=\"+database_name + \" host=/var/run/postgresql\"\n",
    "conn=psycopg2.connect(conn_string)"
   ]
  },
  {
   "cell_type": "markdown",
   "metadata": {},
   "source": [
    "## UTI"
   ]
  },
  {
   "cell_type": "code",
   "execution_count": 6,
   "metadata": {},
   "outputs": [],
   "source": [
    "# Get all female condition events"
   ]
  },
  {
   "cell_type": "code",
   "execution_count": 7,
   "metadata": {},
   "outputs": [
    {
     "data": {
      "text/html": [
       "<div>\n",
       "<style scoped>\n",
       "    .dataframe tbody tr th:only-of-type {\n",
       "        vertical-align: middle;\n",
       "    }\n",
       "\n",
       "    .dataframe tbody tr th {\n",
       "        vertical-align: top;\n",
       "    }\n",
       "\n",
       "    .dataframe thead th {\n",
       "        text-align: right;\n",
       "    }\n",
       "</style>\n",
       "<table border=\"1\" class=\"dataframe\">\n",
       "  <thead>\n",
       "    <tr style=\"text-align: right;\">\n",
       "      <th></th>\n",
       "      <th>concept_id</th>\n",
       "      <th>condition_start_date</th>\n",
       "      <th>condition_occurrence_id</th>\n",
       "      <th>person_id</th>\n",
       "    </tr>\n",
       "  </thead>\n",
       "  <tbody>\n",
       "    <tr>\n",
       "      <th>0</th>\n",
       "      <td>443744</td>\n",
       "      <td>2015-10-09</td>\n",
       "      <td>170574397</td>\n",
       "      <td>13</td>\n",
       "    </tr>\n",
       "    <tr>\n",
       "      <th>1</th>\n",
       "      <td>437833</td>\n",
       "      <td>2014-12-09</td>\n",
       "      <td>110201808</td>\n",
       "      <td>13</td>\n",
       "    </tr>\n",
       "    <tr>\n",
       "      <th>2</th>\n",
       "      <td>80809</td>\n",
       "      <td>2015-12-10</td>\n",
       "      <td>183780400</td>\n",
       "      <td>13</td>\n",
       "    </tr>\n",
       "    <tr>\n",
       "      <th>3</th>\n",
       "      <td>254761</td>\n",
       "      <td>2014-04-28</td>\n",
       "      <td>69378391</td>\n",
       "      <td>13</td>\n",
       "    </tr>\n",
       "    <tr>\n",
       "      <th>4</th>\n",
       "      <td>79106</td>\n",
       "      <td>2014-06-23</td>\n",
       "      <td>78917016</td>\n",
       "      <td>13</td>\n",
       "    </tr>\n",
       "  </tbody>\n",
       "</table>\n",
       "</div>"
      ],
      "text/plain": [
       "   concept_id condition_start_date  condition_occurrence_id  person_id\n",
       "0      443744           2015-10-09                170574397         13\n",
       "1      437833           2014-12-09                110201808         13\n",
       "2       80809           2015-12-10                183780400         13\n",
       "3      254761           2014-04-28                 69378391         13\n",
       "4       79106           2014-06-23                 78917016         13"
      ]
     },
     "metadata": {},
     "output_type": "display_data"
    },
    {
     "name": "stdout",
     "output_type": "stream",
     "text": [
      "CPU times: user 6min 56s, sys: 2min 5s, total: 9min 2s\n",
      "Wall time: 16min 29s\n"
     ]
    }
   ],
   "source": [
    "%%time\n",
    "sql = \"\"\"\n",
    "    select \n",
    "        a.condition_concept_id as concept_id,\n",
    "        a.condition_start_date as condition_start_date,\n",
    "        a.condition_occurrence_id as condition_occurrence_id,\n",
    "        p.person_id as person_id\n",
    "    from\n",
    "        {omop_schema}.condition_occurrence a\n",
    "    inner join\n",
    "        {omop_schema}.person p\n",
    "    on \n",
    "        a.person_id = p.person_id\n",
    "    where \n",
    "        p.gender_source_value = 'F'\n",
    "\n",
    "\"\"\".format(\n",
    "    omop_schema=config.OMOP_CDM_SCHEMA,\n",
    "    training_end_date='2020-01-01',\n",
    ")\n",
    "condition_df = db.query(sql)\n",
    "condition_df.set_index([\"condition_occurrence_id\"])\n",
    "display(condition_df.head())"
   ]
  },
  {
   "cell_type": "code",
   "execution_count": 8,
   "metadata": {},
   "outputs": [
    {
     "data": {
      "text/plain": [
       "'%%time\\nsql = \"\"\"\\n    select \\n        a.condition_source_value as concept_code,\\n        a.condition_concept_id as concept_id,\\n        a.condition_start_date as condition_start_date,\\n        a.condition_occurrence_id as condition_occurrence_id,\\n        p.person_id as person_id\\n    from\\n        {omop_schema}.condition_occurrence a\\n    inner join\\n        {omop_schema}.person p\\n    on \\n        a.person_id = p.person_id\\n    where \\n        p.gender_source_value = \\'F\\'\\n\\n\"\"\".format(\\n    omop_schema=config.OMOP_CDM_SCHEMA,\\n    training_end_date=\\'2020-01-01\\',\\n)\\ncondition_df = db.query(sql)\\ncondition_df.set_index([\"condition_occurrence_id\"])\\ndisplay(condition_df.head())'"
      ]
     },
     "execution_count": 8,
     "metadata": {},
     "output_type": "execute_result"
    }
   ],
   "source": [
    "'''%%time\n",
    "sql = \"\"\"\n",
    "    select \n",
    "        a.condition_source_value as concept_code,\n",
    "        a.condition_concept_id as concept_id,\n",
    "        a.condition_start_date as condition_start_date,\n",
    "        a.condition_occurrence_id as condition_occurrence_id,\n",
    "        p.person_id as person_id\n",
    "    from\n",
    "        {omop_schema}.condition_occurrence a\n",
    "    inner join\n",
    "        {omop_schema}.person p\n",
    "    on \n",
    "        a.person_id = p.person_id\n",
    "    where \n",
    "        p.gender_source_value = 'F'\n",
    "\n",
    "\"\"\".format(\n",
    "    omop_schema=config.OMOP_CDM_SCHEMA,\n",
    "    training_end_date='2020-01-01',\n",
    ")\n",
    "condition_df = db.query(sql)\n",
    "condition_df.set_index([\"condition_occurrence_id\"])\n",
    "display(condition_df.head())'''"
   ]
  },
  {
   "cell_type": "code",
   "execution_count": 9,
   "metadata": {},
   "outputs": [
    {
     "data": {
      "text/plain": [
       "162247860"
      ]
     },
     "execution_count": 9,
     "metadata": {},
     "output_type": "execute_result"
    }
   ],
   "source": [
    "len(condition_df)"
   ]
  },
  {
   "cell_type": "code",
   "execution_count": 10,
   "metadata": {},
   "outputs": [],
   "source": [
    "## Get UTI Codes"
   ]
  },
  {
   "cell_type": "code",
   "execution_count": 11,
   "metadata": {},
   "outputs": [
    {
     "name": "stdout",
     "output_type": "stream",
     "text": [
      "'194081', '195588', '37018854', '37016338', '81902'\n",
      "CPU times: user 282 µs, sys: 85 µs, total: 367 µs\n",
      "Wall time: 292 µs\n"
     ]
    }
   ],
   "source": [
    "%%time\n",
    "uti_concept_ids = [194081, \n",
    "                   195588,\n",
    "                   37018854,\n",
    "                   37016338,\n",
    "                   81902]\n",
    "\n",
    "uti_string = \", \".join([f\"'{x}'\" for x in uti_concept_ids])\n",
    "print(uti_string)"
   ]
  },
  {
   "cell_type": "code",
   "execution_count": 19,
   "metadata": {},
   "outputs": [],
   "source": [
    "#       81902 | Urinary tract infectious disease             | Condition | SNOMED        | Clinical Finding | S                | 68566005        | 1970-01-01       | 2099-12-31     | n\n",
    "#      194081 | Acute cystitis                                | Condition | SNOMED        | Clinical Finding | S                | 68226007        | 1970-01-01       | 2099-12-31     | n\n",
    "#      195588 | Cystitis                                      | Condition | SNOMED        | Clinical Finding | S                | 38822007        | 1970-01-01       | 2099-12-31     | n\n",
    "#      195862 | Urethritis (REMOVED)                          | Condition | SNOMED        | Clinical Finding | S                | 31822004        | 1970-01-01       | 2099-12-31     | n\n",
    "#      201353 | Irradiation cystitis (REMOVED)                | Condition | SNOMED        | Clinical Finding | S                | 11251000        | 1970-01-01       | 2099-12-31     | n\n",
    "#      201792 | Nongonococcal urethritis (REMOVED)            | Condition | SNOMED        | Clinical Finding | S                | 84619001        | 1970-01-01       | 2099-12-31     | n\n",
    "#    37016338 | Hematuria co-occurrent and due to cystitis       | Condition | SNOMED        | Clinical Finding | S                | 367171000119100 | 2016-01-31       | 2099-12-31     | n\n",
    "#    37018854 | Hematuria co-occurrent and due to acute cystitis | Condition | SNOMED        | Clinical Finding | S                | 366941000119107 | 2016-01-31       | 2099-12-31     | n"
   ]
  },
  {
   "cell_type": "code",
   "execution_count": 12,
   "metadata": {},
   "outputs": [
    {
     "name": "stdout",
     "output_type": "stream",
     "text": [
      "1462322\n",
      "CPU times: user 1.22 s, sys: 807 ms, total: 2.03 s\n",
      "Wall time: 2.03 s\n"
     ]
    },
    {
     "data": {
      "text/html": [
       "<div>\n",
       "<style scoped>\n",
       "    .dataframe tbody tr th:only-of-type {\n",
       "        vertical-align: middle;\n",
       "    }\n",
       "\n",
       "    .dataframe tbody tr th {\n",
       "        vertical-align: top;\n",
       "    }\n",
       "\n",
       "    .dataframe thead th {\n",
       "        text-align: right;\n",
       "    }\n",
       "</style>\n",
       "<table border=\"1\" class=\"dataframe\">\n",
       "  <thead>\n",
       "    <tr style=\"text-align: right;\">\n",
       "      <th></th>\n",
       "      <th>concept_id</th>\n",
       "      <th>condition_start_date</th>\n",
       "      <th>condition_occurrence_id</th>\n",
       "      <th>person_id</th>\n",
       "    </tr>\n",
       "  </thead>\n",
       "  <tbody>\n",
       "    <tr>\n",
       "      <th>194</th>\n",
       "      <td>81902</td>\n",
       "      <td>2015-01-20</td>\n",
       "      <td>113407091</td>\n",
       "      <td>24</td>\n",
       "    </tr>\n",
       "    <tr>\n",
       "      <th>239</th>\n",
       "      <td>81902</td>\n",
       "      <td>2018-06-30</td>\n",
       "      <td>400205390</td>\n",
       "      <td>29</td>\n",
       "    </tr>\n",
       "    <tr>\n",
       "      <th>288</th>\n",
       "      <td>81902</td>\n",
       "      <td>2018-06-30</td>\n",
       "      <td>400169196</td>\n",
       "      <td>29</td>\n",
       "    </tr>\n",
       "    <tr>\n",
       "      <th>365</th>\n",
       "      <td>81902</td>\n",
       "      <td>2020-06-15</td>\n",
       "      <td>543562412</td>\n",
       "      <td>35</td>\n",
       "    </tr>\n",
       "    <tr>\n",
       "      <th>481</th>\n",
       "      <td>81902</td>\n",
       "      <td>2020-06-15</td>\n",
       "      <td>543729870</td>\n",
       "      <td>35</td>\n",
       "    </tr>\n",
       "  </tbody>\n",
       "</table>\n",
       "</div>"
      ],
      "text/plain": [
       "     concept_id condition_start_date  condition_occurrence_id  person_id\n",
       "194       81902           2015-01-20                113407091         24\n",
       "239       81902           2018-06-30                400205390         29\n",
       "288       81902           2018-06-30                400169196         29\n",
       "365       81902           2020-06-15                543562412         35\n",
       "481       81902           2020-06-15                543729870         35"
      ]
     },
     "execution_count": 12,
     "metadata": {},
     "output_type": "execute_result"
    }
   ],
   "source": [
    "%%time\n",
    "# Filter by UTI concept ids in python to reduce query time\n",
    "utis = condition_df[condition_df.concept_id.isin(uti_concept_ids)]\n",
    "print(len(utis))\n",
    "utis.head()"
   ]
  },
  {
   "cell_type": "markdown",
   "metadata": {},
   "source": [
    "# get treatment information for all UTIs\n"
   ]
  },
  {
   "cell_type": "code",
   "execution_count": 13,
   "metadata": {},
   "outputs": [],
   "source": [
    "# remove duplicates of dates \n",
    "utis_all = utis.drop_duplicates(subset= ['concept_id','person_id','condition_start_date'],keep='first', inplace=False,)\n"
   ]
  },
  {
   "cell_type": "code",
   "execution_count": 22,
   "metadata": {},
   "outputs": [],
   "source": [
    "utis_all.to_sql(\"candidate_events_all_ncj\",con=db.engine, if_exists=\"replace\", schema=\"cdm_6871_21\")\n",
    "\n"
   ]
  },
  {
   "cell_type": "code",
   "execution_count": 5,
   "metadata": {},
   "outputs": [
    {
     "name": "stdout",
     "output_type": "stream",
     "text": [
      "0.06\n",
      "0.13\n",
      "0.19\n",
      "0.25\n",
      "0.32\n",
      "0.38\n",
      "0.45\n",
      "0.51\n",
      "0.57\n",
      "0.64\n",
      "0.7\n",
      "0.76\n",
      "0.83\n",
      "0.89\n",
      "0.95\n",
      "CPU times: user 2min 14s, sys: 152 ms, total: 2min 14s\n",
      "Wall time: 2min 14s\n"
     ]
    }
   ],
   "source": [
    "%%time\n",
    "reload_antibiotic=1\n",
    "username='cdm_6871_21'\n",
    "password='MLHC2021'\n",
    "database_name = 'omop_v6'\n",
    "conn_string = \"dbname=\"+database_name + \" host=/var/run/postgresql\"\n",
    "conn=psycopg2.connect(conn_string)\n",
    "\n",
    "if reload_antibiotic == 1:\n",
    "    all_drugs = pd.read_sql(\"\"\"SELECT * FROM cdm_6871_21.concept\n",
    "                                 WHERE domain_id = 'Drug'\"\"\", conn)\n",
    "\n",
    "### Identify the antibiotic in each drug name \n",
    "    # First Line\n",
    "    all_drugs.loc[all_drugs[\"concept_name\"].str.lower().str.contains(\"nitrofurantoin\"), 'antibiotic_name'] = \"nitrofurantoin\"\n",
    "    all_drugs.loc[all_drugs[\"concept_name\"].str.lower().str.contains(\"sulfamethoxazole\"), 'antibiotic_name'] = \"sulfamethoxazole\"\n",
    "#     all_drugs.loc[all_drugs[\"concept_name\"].str.lower().str.contains(\"trimethoprim\"), 'antibiotic_name'] = \"trimethoprim\"\n",
    "    all_drugs.loc[(all_drugs[\"concept_name\"].str.lower().str.contains(\"trimethoprim\")) & \\\n",
    "                                 (all_drugs[\"concept_name\"].str.lower().str.contains(\"sulfamethoxazole\")), 'antibiotic_name'] = \"trimethoprim-sulfamethoxazole\"\n",
    "    all_drugs.loc[all_drugs[\"concept_name\"].str.lower().str.contains(\"fosfomycin\"), 'antibiotic_name'] = \"fosfomycin\"\n",
    "\n",
    "    # Second Line\n",
    "#     all_drugs.loc[all_drugs[\"concept_name\"].str.lower().str.contains(\"cephalexin\"), 'antibiotic_name'] = \"cephalexin\"\n",
    "#     all_drugs.loc[all_drugs[\"concept_name\"].str.lower().str.contains(\"cephalexin\"), 'antibiotic_name'] = \"quinolone\"\n",
    "\n",
    "\n",
    "#     all_drugs.loc[all_drugs[\"concept_name\"].str.lower().str.contains(\"ceftriaxone\"), 'antibiotic_name'] = \"ceftriaxone\"\n",
    "#     all_drugs.loc[all_drugs[\"concept_name\"].str.lower().str.contains(\"cefuroxime\"), 'antibiotic_name'] = \"cefuroxime\"\n",
    "#     all_drugs.loc[all_drugs[\"concept_name\"].str.lower().str.contains(\"cefdinir\"), 'antibiotic_name'] = \"cefdinir\"\n",
    "#     all_drugs.loc[all_drugs[\"concept_name\"].str.lower().str.contains(\"cefazolin\"), 'antibiotic_name'] = \"cefazolin\"\n",
    "#     all_drugs.loc[all_drugs[\"concept_name\"].str.lower().str.contains(\"cefepime\"), 'antibiotic_name'] = \"cefepime\"\n",
    "    all_drugs.loc[all_drugs[\"concept_name\"].str.lower().str.contains(\"cefpodoxime\"), 'antibiotic_name'] = \"cefpodoxime\"\n",
    "#     all_drugs.loc[all_drugs[\"concept_name\"].str.lower().str.contains(\"cefixime\"), 'antibiotic_name'] = \"cefixime\"\n",
    "    all_drugs.loc[all_drugs[\"concept_name\"].str.lower().str.contains(\"cefadroxil\"), 'antibiotic_name'] = \"cefadroxil\"\n",
    "#     all_drugs.loc[all_drugs[\"concept_name\"].str.lower().str.contains(\"amoxicillin\"), 'antibiotic_name'] = \"amoxicillin\"\n",
    "    all_drugs.loc[(all_drugs[\"concept_name\"].str.lower().str.contains(\"amoxicillin\")) & \\\n",
    "                                 (all_drugs[\"concept_name\"].str.lower().str.contains(\"clavulan\")), 'antibiotic_name'] = \"amoxicillin-clavulanic acid\"\n",
    "\n",
    "    # Third Line\n",
    "\n",
    "    all_drugs.loc[all_drugs[\"concept_name\"].str.lower().str.contains(\"ofloxacin\"), 'antibiotic_name'] = \"ofloxacin\"\n",
    "    all_drugs.loc[all_drugs[\"concept_name\"].str.lower().str.contains(\"levofloxacin\"), 'antibiotic_name'] = \"levofloxacin\"\n",
    "    all_drugs.loc[all_drugs[\"concept_name\"].str.lower().str.contains(\"ciprofloxacin\"), 'antibiotic_name'] = \"ciprofloxacin\"\n",
    "\n",
    "    # Inappropriate\n",
    "\n",
    "    all_drugs.loc[all_drugs[\"concept_name\"].str.lower().str.contains(\"fluconazole\"), 'antibiotic_name'] = \"fluconazole\"\n",
    "    all_drugs.loc[all_drugs[\"concept_name\"].str.lower().str.contains(\"doxycycline\"), 'antibiotic_name'] = \"doxycycline\"\n",
    "    all_drugs.loc[all_drugs[\"concept_name\"].str.lower().str.contains(\"clindamycin\"), 'antibiotic_name'] = \"clindamycin\"\n",
    "    all_drugs.loc[all_drugs[\"concept_name\"].str.lower().str.contains(\"linezolid\"), 'antibiotic_name'] = \"linezolid\"\n",
    "    all_drugs.loc[all_drugs[\"concept_name\"].str.lower().str.contains(\"metronidazole\"), 'antibiotic_name'] = \"metronidazole\"\n",
    "    all_drugs.loc[all_drugs[\"concept_name\"].str.lower().str.contains(\"azithromycin\"), 'antibiotic_name'] = \"azithromycin\"\n",
    "    \n",
    "    # Alternative\n",
    "    all_drugs.loc[all_drugs[\"concept_name\"].str.lower().str.contains(\"beta-lactam\"), 'antibiotic_name'] = 'beta-lactam'\n",
    "\n",
    "\n",
    "    all_drugs = all_drugs.rename(columns={\"concept_id\": \"drug_concept_id\", \"concept_name\": \"drug_name\"})\n",
    "\n",
    "    anti_new = all_drugs[['drug_concept_id','drug_name','antibiotic_name']]\n",
    "    anti_new = anti_new[~anti_new.antibiotic_name.isna()]\n",
    "    if 'level_0' in anti_new.columns:\n",
    "        anti_new = anti_new.drop(columns=['level_0'])\n",
    "    anti_new.to_sql(\"antibiotics_p1_ncj\",con=db.engine, if_exists=\"replace\", schema=\"cdm_6871_21\")\n",
    "\n",
    "if reload_antibiotic == 0:\n",
    "    sql_command = \"select * from cdm_6871_21.antibiotics_p1_ncj;\"\n",
    "    anti_new = pd.read_sql(sql_command,conn)\n",
    "\n",
    "\n",
    "anti_new = anti_new.assign(nitrofuantoin=0)\n",
    "anti_new = anti_new.assign(fosfomycin=0)\n",
    "anti_new['trimethoprim-sulfamethoxazole'] =0\n",
    "anti_new = anti_new.assign(second_line=0)\n",
    "#anti_new = anti_new.assign(third_line=0)\n",
    "anti_new = anti_new.assign(alternatives=0)\n",
    "anti_new = anti_new.assign(inappropriate=0)\n",
    "anti_new = anti_new.assign(antibiotic_type='')\n",
    "\n",
    "###\n",
    "count = 0\n",
    "for idx, row in anti_new.iterrows():\n",
    "    drug = row.antibiotic_name \n",
    "    if drug =='nitrofurantoin':\n",
    "        anti_new.loc[idx, \"nitrofurantoin\"] = 1\n",
    "        anti_new.loc[idx, \"antibiotic_type\"] =\"nitrofurantoin\"\n",
    "    elif drug =='fosfomycin':\n",
    "        anti_new.loc[idx, \"fosfomycin\"] = 1\n",
    "        anti_new.loc[idx, \"antibiotic_type\"] =\"fosfomycin\"\n",
    "#     elif drug =='trimethoprim-sulfamethoxazole' or drug =='trimethoprim' or drug =='sulfamethoxazole':\n",
    "    elif drug =='trimethoprim-sulfamethoxazole':\n",
    "        anti_new.loc[idx, 'trimethoprim-sulfamethoxazole'] = 1\n",
    "        anti_new.loc[idx, \"antibiotic_type\"] ='trimethoprim-sulfamethoxazole'\n",
    "\n",
    "       \n",
    "    #     elif (\"cef\" in drug.lower()) or drug =='cephalexin' or (\"amoxicillin\" in drug.lower()):\n",
    "    elif drug.lower() in [\"amoxicillin-clavulanic acid\",\"cefpodoxime\",\"cefadroxil\"]:\n",
    "        anti_new.loc[idx, 'alternatives'] = 1\n",
    "        anti_new.loc[idx, \"antibiotic_type\"] ='alternatives'\n",
    "        \n",
    "#     elif drug == \"quinolone\":\n",
    "#         anti_new.loc[idx, 'second_line'] = 1\n",
    "#         anti_new.loc[idx, \"antibiotic_type\"] ='second_line'\n",
    "\n",
    "#     elif 'ofloxacin' in drug.lower() :\n",
    "    elif drug.lower() in [\"ciprofloxacin\",\"ofloxacin\",\"levofloxacin\"]:\n",
    "        anti_new.loc[idx, 'second_line'] = 1\n",
    "        anti_new.loc[idx, \"antibiotic_type\"] ='second_line'\n",
    "    elif drug== 'fluconazole' or drug== 'doxycycline'or drug== 'clindamycin' or drug== 'linezolid' or drug== 'metronidazole' or drug =='azithromycin' or 'injection' in drug:\n",
    "        anti_new.loc[idx, 'inappropriate'] = 1\n",
    "        anti_new.loc[idx, \"antibiotic_type\"] ='inappropriate'\n",
    "\n",
    "\n",
    "    '''    elif 'beta-lactam' in drug.lower() :\n",
    "        anti_new.loc[idx, 'alternatives'] = 1\n",
    "        anti_new.loc[idx, \"antibiotic_type\"] ='alternatives'\n",
    "    '''\n",
    "\n",
    "    count = count+1\n",
    "    if count%5000 ==0:\n",
    "        print(round(count/len(anti_new),2))\n",
    "        \n",
    "# remove patients with fosfomycin \n",
    "\n",
    "anti_new = anti_new[anti_new['fosfomycin']==0]\n",
    "anti_new.to_sql(\"antibiotics_v2_ncj\",con=db.engine, if_exists=\"replace\", schema=\"cdm_6871_21\")"
   ]
  },
  {
   "cell_type": "code",
   "execution_count": 41,
   "metadata": {},
   "outputs": [
    {
     "name": "stdout",
     "output_type": "stream",
     "text": [
      "CPU times: user 2.51 ms, sys: 0 ns, total: 2.51 ms\n",
      "Wall time: 13.6 ms\n"
     ]
    }
   ],
   "source": [
    "%%time\n",
    "# reload_antibiotic=0\n",
    "username='cdm_6871_21'\n",
    "password='MLHC2021'\n",
    "database_name = 'omop_v6'\n",
    "conn_string = \"dbname=\"+database_name + \" host=/var/run/postgresql\"\n",
    "conn=psycopg2.connect(conn_string)"
   ]
  },
  {
   "cell_type": "code",
   "execution_count": 47,
   "metadata": {},
   "outputs": [
    {
     "name": "stdout",
     "output_type": "stream",
     "text": [
      "CPU times: user 3.18 s, sys: 145 ms, total: 3.32 s\n",
      "Wall time: 1min 36s\n"
     ]
    }
   ],
   "source": [
    "%%time\n",
    "cohort_treatments = pd.read_sql(\"\"\"SELECT\n",
    "                                uti.index,\n",
    "                                uti.condition_occurrence_id, \n",
    "                                uti.person_id,\n",
    "                                uti.concept_id,\n",
    "                                uti.condition_start_date,\n",
    "                                anti.*,\n",
    "                                drug.drug_exposure_id,\n",
    "                                drug.drug_exposure_start_date,\n",
    "                                drug.drug_exposure_start_datetime\n",
    "                           FROM cdm_6871_21.candidate_events_all_ncj uti\n",
    "\n",
    "                           JOIN cdm_6871_21.drug_exposure drug ON \n",
    "                                       drug.person_id = uti.person_id AND\n",
    "                                       drug.drug_exposure_start_date - uti.condition_start_date < 7 AND\n",
    "                                       drug.drug_exposure_start_date - uti.condition_start_date > -1\n",
    "                           JOIN cdm_6871_21.antibiotics_v2_ncj anti ON\n",
    "                                       drug.drug_concept_id = anti.drug_concept_id\n",
    "                           ORDER BY \n",
    "                                    uti.condition_occurrence_id\n",
    "                        \"\"\", conn)"
   ]
  },
  {
   "cell_type": "code",
   "execution_count": 124,
   "metadata": {},
   "outputs": [],
   "source": [
    "#Remove empty antibiotic types\n",
    "if '' in cohort_treatments.antibiotic_type.tolist():\n",
    "    cohort_treatments = cohort_treatments.copy().loc[cohort_treatments.antibiotic_type != '']"
   ]
  },
  {
   "cell_type": "code",
   "execution_count": 48,
   "metadata": {},
   "outputs": [
    {
     "name": "stdout",
     "output_type": "stream",
     "text": [
      "CPU times: user 850 ms, sys: 43.6 ms, total: 894 ms\n",
      "Wall time: 1min 32s\n"
     ]
    }
   ],
   "source": [
    "%%time\n",
    "# Load antibiotic use in the previous 7 days \n",
    "cohort_treatments_drugs_past_7_day = pd.read_sql(\"\"\"SELECT\n",
    "                                uti.index,\n",
    "                                uti.condition_occurrence_id, \n",
    "                                uti.person_id,\n",
    "                                uti.concept_id,\n",
    "                                uti.condition_start_date,\n",
    "                                anti.*,\n",
    "                                drug.drug_exposure_id,\n",
    "                                drug.drug_exposure_start_date,\n",
    "                                drug.drug_exposure_start_datetime\n",
    "                           FROM cdm_6871_21.candidate_events_all_ncj uti\n",
    "\n",
    "                           JOIN cdm_6871_21.drug_exposure drug ON \n",
    "                                       drug.person_id = uti.person_id AND\n",
    "                                       drug.drug_exposure_start_date - uti.condition_start_date > -8 AND\n",
    "                                       drug.drug_exposure_start_date - uti.condition_start_date < 0\n",
    "                           JOIN cdm_6871_21.antibiotics_v2_ncj anti ON\n",
    "                                       drug.drug_concept_id = anti.drug_concept_id\n",
    "                           ORDER BY \n",
    "                                    uti.condition_occurrence_id\n",
    "                        \"\"\", conn)"
   ]
  },
  {
   "cell_type": "code",
   "execution_count": 49,
   "metadata": {},
   "outputs": [
    {
     "name": "stdout",
     "output_type": "stream",
     "text": [
      "Unique UTI events with treatment\n",
      "245368\n",
      "Unique UTI events with treatment and without treatment 7 days prior\n",
      "223456\n"
     ]
    }
   ],
   "source": [
    "#UTI events with treatment\n",
    "uti_unique = cohort_treatments\n",
    "uti_unique = uti_unique.drop_duplicates(subset = ['condition_occurrence_id'], inplace = False, keep='first')\n",
    "print('Unique UTI events with treatment')\n",
    "print(len(uti_unique))\n",
    "\n",
    "\n",
    "#UTI events with treatment but without treatment 7 days prior\n",
    "condition_occurrence_id_to_exclude = cohort_treatments_drugs_past_7_day.condition_occurrence_id.unique()\n",
    "cohort_treatments_new = cohort_treatments[~cohort_treatments.condition_occurrence_id.isin(condition_occurrence_id_to_exclude)]\n",
    "uti_unique = cohort_treatments_new\n",
    "uti_unique = uti_unique.drop_duplicates(subset = ['condition_occurrence_id'], inplace = False, keep='first')\n",
    "print('Unique UTI events with treatment and without treatment 7 days prior')\n",
    "print(len(uti_unique))\n",
    "\n"
   ]
  },
  {
   "cell_type": "code",
   "execution_count": 54,
   "metadata": {},
   "outputs": [],
   "source": [
    "if 'level_0' in cohort_treatments_new.columns:\n",
    "    cohort_treatments_new =cohort_treatments_new.drop(columns=['level_0'])\n",
    "cohort_treatments_new.to_sql(\"uti_candidate_events_with_treatment_ncj\",con=db.engine, if_exists=\"replace\", schema=\"cdm_6871_21\")"
   ]
  },
  {
   "cell_type": "code",
   "execution_count": 55,
   "metadata": {},
   "outputs": [
    {
     "name": "stdout",
     "output_type": "stream",
     "text": [
      "CPU times: user 6.59 s, sys: 196 ms, total: 6.78 s\n",
      "Wall time: 30min 25s\n"
     ]
    }
   ],
   "source": [
    "%%time\n",
    "# Get the full condition item table\n",
    "candidate_indices = cohort_treatments_new.condition_occurrence_id\n",
    "candidate_indices_str = \", \".join([f\"'{x}'\" for x in candidate_indices])\n",
    "\n",
    "sql = \"\"\"\n",
    "    select\n",
    "        c.*,\n",
    "        p.*\n",
    "    from\n",
    "        {omop_schema}.condition_occurrence c\n",
    "    inner join\n",
    "        {omop_schema}.uti_candidate_events_with_treatment_ncj p\n",
    "    on \n",
    "        c.condition_occurrence_id = p.condition_occurrence_id\n",
    "    where \n",
    "        c.condition_occurrence_id in ({candidate_indices_str}) \n",
    "\"\"\".format(\n",
    "    omop_schema=config.OMOP_CDM_SCHEMA,\n",
    "    candidate_indices_str=candidate_indices_str,\n",
    ")\n",
    "condition_candidates = db.query(sql)\n"
   ]
  },
  {
   "cell_type": "code",
   "execution_count": 56,
   "metadata": {},
   "outputs": [
    {
     "name": "stdout",
     "output_type": "stream",
     "text": [
      "Executed 1 SQLs\n"
     ]
    }
   ],
   "source": [
    "if 'level_0' in list(condition_candidates.keys()):\n",
    "    condition_candidates=condition_candidates.drop(columns=['level_0'])\n",
    "\n",
    "\n",
    "condition_candidates.to_sql(\"uti_candidate_events_treatment_ncj\",con=db.engine, if_exists=\"replace\", schema=\"cdm_6871_21\")\n",
    "db.execute(\"GRANT SELECT ON TABLE cdm_6871_21.uti_candidate_events_treatment_ncj TO cdm_6871_21;\")"
   ]
  },
  {
   "cell_type": "code",
   "execution_count": 6,
   "metadata": {},
   "outputs": [
    {
     "name": "stdout",
     "output_type": "stream",
     "text": [
      "CPU times: user 3.57 s, sys: 496 ms, total: 4.07 s\n",
      "Wall time: 3h 1min 52s\n"
     ]
    }
   ],
   "source": [
    "%%time\n",
    "cohort_raw = pd.read_sql(\"\"\"SELECT\n",
    "                                uti.index,\n",
    "                                uti.condition_occurrence_id, \n",
    "                                uti.person_id,\n",
    "                                uti.condition_concept_id,\n",
    "                                uti.condition_start_date,\n",
    "                                uti.condition_start_datetime,\n",
    "                                uti.condition_end_date,\n",
    "                                uti.condition_end_datetime,\n",
    "                                uti.visit_occurrence_id,\n",
    "                                uti.visit_detail_id,\n",
    "                                anti.drug_concept_id, \n",
    "                                anti.drug_name,\n",
    "                                anti.antibiotic_name,\n",
    "                                anti.antibiotic_type,\n",
    "                                v.provider_id AS visit_provider_id,\n",
    "                                drug.drug_exposure_id,\n",
    "                                drug.drug_exposure_start_date,\n",
    "                                drug.drug_exposure_start_datetime,\n",
    "                                drug.provider_id AS provider_id,\n",
    "                                prov.provider_name,\n",
    "                                prov.npi\n",
    "                           FROM cdm_6871_21.uti_candidate_events_treatment_ncj uti\n",
    "                           JOIN cdm_6871_21.visit_detail v ON \n",
    "                                   v.visit_detail_id = uti.visit_detail_id AND\n",
    "                                   v.visit_detail_concept_id IN (581477, 9202)\n",
    "                           JOIN cdm_6871_21.drug_exposure drug ON \n",
    "                                       drug.person_id = uti.person_id AND\n",
    "                                       drug.drug_exposure_start_date - uti.condition_start_date < 7 AND\n",
    "                                       drug.drug_exposure_start_date - uti.condition_start_date > -1\n",
    "                           JOIN cdm_6871_21.antibiotics_v2_ncj anti ON\n",
    "                                       drug.drug_concept_id = anti.drug_concept_id\n",
    "                           LEFT JOIN cdm_6871_21.provider prov\n",
    "                                    ON prov.provider_id = drug.provider_id\n",
    "                           ORDER BY \n",
    "                                    uti.condition_occurrence_id,\n",
    "                                    prov.provider_name DESC NULLS LAST\n",
    "                        \"\"\", conn)\n",
    "\n"
   ]
  },
  {
   "cell_type": "code",
   "execution_count": 7,
   "metadata": {},
   "outputs": [
    {
     "name": "stdout",
     "output_type": "stream",
     "text": [
      "Size of df:\n",
      "329547\n"
     ]
    }
   ],
   "source": [
    "print('Size of df:')\n",
    "print(len(cohort_raw))"
   ]
  },
  {
   "cell_type": "code",
   "execution_count": null,
   "metadata": {},
   "outputs": [],
   "source": [
    "#here"
   ]
  },
  {
   "cell_type": "code",
   "execution_count": 8,
   "metadata": {},
   "outputs": [
    {
     "name": "stdout",
     "output_type": "stream",
     "text": [
      "Size of df:\n",
      "329547\n"
     ]
    }
   ],
   "source": [
    "print('Size of df:')\n",
    "print(len(cohort_raw))\n"
   ]
  },
  {
   "cell_type": "code",
   "execution_count": 9,
   "metadata": {},
   "outputs": [
    {
     "name": "stdout",
     "output_type": "stream",
     "text": [
      "Number of UTI events with treatment + proper visit:\n",
      "187666\n"
     ]
    }
   ],
   "source": [
    "uti_unique = cohort_raw\n",
    "uti_unique = uti_unique.drop_duplicates(subset = ['condition_occurrence_id','antibiotic_name'], inplace = False, keep='first')\n",
    "\n",
    "print('Number of UTI events with treatment + proper visit:')\n",
    "print(uti_unique.condition_occurrence_id.nunique())"
   ]
  },
  {
   "cell_type": "code",
   "execution_count": 10,
   "metadata": {},
   "outputs": [],
   "source": [
    "utis_with_treatment = cohort_raw"
   ]
  },
  {
   "cell_type": "markdown",
   "metadata": {},
   "source": [
    "### find non-recurrent UTIs\n",
    "use utis_all"
   ]
  },
  {
   "cell_type": "code",
   "execution_count": 11,
   "metadata": {},
   "outputs": [],
   "source": [
    "utis = utis_with_treatment.copy()"
   ]
  },
  {
   "cell_type": "code",
   "execution_count": 12,
   "metadata": {},
   "outputs": [
    {
     "data": {
      "text/html": [
       "<div>\n",
       "<style scoped>\n",
       "    .dataframe tbody tr th:only-of-type {\n",
       "        vertical-align: middle;\n",
       "    }\n",
       "\n",
       "    .dataframe tbody tr th {\n",
       "        vertical-align: top;\n",
       "    }\n",
       "\n",
       "    .dataframe thead th {\n",
       "        text-align: right;\n",
       "    }\n",
       "</style>\n",
       "<table border=\"1\" class=\"dataframe\">\n",
       "  <thead>\n",
       "    <tr style=\"text-align: right;\">\n",
       "      <th></th>\n",
       "      <th>index</th>\n",
       "      <th>condition_occurrence_id</th>\n",
       "      <th>person_id</th>\n",
       "      <th>condition_concept_id</th>\n",
       "      <th>condition_start_date</th>\n",
       "      <th>condition_start_datetime</th>\n",
       "      <th>condition_end_date</th>\n",
       "      <th>condition_end_datetime</th>\n",
       "      <th>visit_occurrence_id</th>\n",
       "      <th>visit_detail_id</th>\n",
       "      <th>...</th>\n",
       "      <th>no_previous_180_day_event</th>\n",
       "      <th>no_two_previous_365_day_event</th>\n",
       "      <th>post_UTI_codes</th>\n",
       "      <th>recurrent_uti</th>\n",
       "      <th>first_uti</th>\n",
       "      <th>previous_uti</th>\n",
       "      <th>previous_utis</th>\n",
       "      <th>days_since_previous_uti</th>\n",
       "      <th>previous_uti_condition_occurence_id</th>\n",
       "      <th>previous_uti_recurrent</th>\n",
       "    </tr>\n",
       "  </thead>\n",
       "  <tbody>\n",
       "    <tr>\n",
       "      <th>246247</th>\n",
       "      <td>213958</td>\n",
       "      <td>400205390</td>\n",
       "      <td>29</td>\n",
       "      <td>81902</td>\n",
       "      <td>2018-06-30</td>\n",
       "      <td>2018-06-30</td>\n",
       "      <td>None</td>\n",
       "      <td>None</td>\n",
       "      <td>912651</td>\n",
       "      <td>305167035</td>\n",
       "      <td>...</td>\n",
       "      <td>True</td>\n",
       "      <td>True</td>\n",
       "      <td>0</td>\n",
       "      <td>False</td>\n",
       "      <td>False</td>\n",
       "      <td>False</td>\n",
       "      <td>0</td>\n",
       "      <td>NaN</td>\n",
       "      <td>0</td>\n",
       "      <td>False</td>\n",
       "    </tr>\n",
       "    <tr>\n",
       "      <th>246248</th>\n",
       "      <td>3828990</td>\n",
       "      <td>400205390</td>\n",
       "      <td>29</td>\n",
       "      <td>81902</td>\n",
       "      <td>2018-06-30</td>\n",
       "      <td>2018-06-30</td>\n",
       "      <td>None</td>\n",
       "      <td>None</td>\n",
       "      <td>912651</td>\n",
       "      <td>305167035</td>\n",
       "      <td>...</td>\n",
       "      <td>True</td>\n",
       "      <td>True</td>\n",
       "      <td>0</td>\n",
       "      <td>False</td>\n",
       "      <td>False</td>\n",
       "      <td>False</td>\n",
       "      <td>0</td>\n",
       "      <td>NaN</td>\n",
       "      <td>0</td>\n",
       "      <td>False</td>\n",
       "    </tr>\n",
       "    <tr>\n",
       "      <th>246249</th>\n",
       "      <td>3828990</td>\n",
       "      <td>400205390</td>\n",
       "      <td>29</td>\n",
       "      <td>81902</td>\n",
       "      <td>2018-06-30</td>\n",
       "      <td>2018-06-30</td>\n",
       "      <td>None</td>\n",
       "      <td>None</td>\n",
       "      <td>912651</td>\n",
       "      <td>305167035</td>\n",
       "      <td>...</td>\n",
       "      <td>True</td>\n",
       "      <td>True</td>\n",
       "      <td>0</td>\n",
       "      <td>False</td>\n",
       "      <td>False</td>\n",
       "      <td>False</td>\n",
       "      <td>0</td>\n",
       "      <td>NaN</td>\n",
       "      <td>0</td>\n",
       "      <td>False</td>\n",
       "    </tr>\n",
       "    <tr>\n",
       "      <th>246250</th>\n",
       "      <td>213958</td>\n",
       "      <td>400205390</td>\n",
       "      <td>29</td>\n",
       "      <td>81902</td>\n",
       "      <td>2018-06-30</td>\n",
       "      <td>2018-06-30</td>\n",
       "      <td>None</td>\n",
       "      <td>None</td>\n",
       "      <td>912651</td>\n",
       "      <td>305167035</td>\n",
       "      <td>...</td>\n",
       "      <td>True</td>\n",
       "      <td>True</td>\n",
       "      <td>0</td>\n",
       "      <td>False</td>\n",
       "      <td>False</td>\n",
       "      <td>False</td>\n",
       "      <td>0</td>\n",
       "      <td>NaN</td>\n",
       "      <td>0</td>\n",
       "      <td>False</td>\n",
       "    </tr>\n",
       "    <tr>\n",
       "      <th>318089</th>\n",
       "      <td>285902</td>\n",
       "      <td>543518058</td>\n",
       "      <td>35</td>\n",
       "      <td>81902</td>\n",
       "      <td>2020-06-14</td>\n",
       "      <td>2020-06-14</td>\n",
       "      <td>None</td>\n",
       "      <td>None</td>\n",
       "      <td>912779</td>\n",
       "      <td>418770757</td>\n",
       "      <td>...</td>\n",
       "      <td>True</td>\n",
       "      <td>True</td>\n",
       "      <td>0</td>\n",
       "      <td>False</td>\n",
       "      <td>False</td>\n",
       "      <td>False</td>\n",
       "      <td>0</td>\n",
       "      <td>NaN</td>\n",
       "      <td>0</td>\n",
       "      <td>False</td>\n",
       "    </tr>\n",
       "  </tbody>\n",
       "</table>\n",
       "<p>5 rows × 31 columns</p>\n",
       "</div>"
      ],
      "text/plain": [
       "          index  condition_occurrence_id  person_id  condition_concept_id  \\\n",
       "246247   213958                400205390         29                 81902   \n",
       "246248  3828990                400205390         29                 81902   \n",
       "246249  3828990                400205390         29                 81902   \n",
       "246250   213958                400205390         29                 81902   \n",
       "318089   285902                543518058         35                 81902   \n",
       "\n",
       "       condition_start_date condition_start_datetime condition_end_date  \\\n",
       "246247           2018-06-30               2018-06-30               None   \n",
       "246248           2018-06-30               2018-06-30               None   \n",
       "246249           2018-06-30               2018-06-30               None   \n",
       "246250           2018-06-30               2018-06-30               None   \n",
       "318089           2020-06-14               2020-06-14               None   \n",
       "\n",
       "       condition_end_datetime  visit_occurrence_id  visit_detail_id  ...  \\\n",
       "246247                   None               912651        305167035  ...   \n",
       "246248                   None               912651        305167035  ...   \n",
       "246249                   None               912651        305167035  ...   \n",
       "246250                   None               912651        305167035  ...   \n",
       "318089                   None               912779        418770757  ...   \n",
       "\n",
       "        no_previous_180_day_event no_two_previous_365_day_event  \\\n",
       "246247                       True                          True   \n",
       "246248                       True                          True   \n",
       "246249                       True                          True   \n",
       "246250                       True                          True   \n",
       "318089                       True                          True   \n",
       "\n",
       "       post_UTI_codes recurrent_uti  first_uti  previous_uti previous_utis  \\\n",
       "246247              0         False      False         False             0   \n",
       "246248              0         False      False         False             0   \n",
       "246249              0         False      False         False             0   \n",
       "246250              0         False      False         False             0   \n",
       "318089              0         False      False         False             0   \n",
       "\n",
       "       days_since_previous_uti  previous_uti_condition_occurence_id  \\\n",
       "246247                     NaN                                    0   \n",
       "246248                     NaN                                    0   \n",
       "246249                     NaN                                    0   \n",
       "246250                     NaN                                    0   \n",
       "318089                     NaN                                    0   \n",
       "\n",
       "       previous_uti_recurrent  \n",
       "246247                  False  \n",
       "246248                  False  \n",
       "246249                  False  \n",
       "246250                  False  \n",
       "318089                  False  \n",
       "\n",
       "[5 rows x 31 columns]"
      ]
     },
     "execution_count": 12,
     "metadata": {},
     "output_type": "execute_result"
    }
   ],
   "source": [
    "utis = utis.sort_values(by=[\"person_id\", \"condition_start_date\"], ascending=True)\n",
    "utis = utis.assign(no_previous_180_day_event=True)\n",
    "\n",
    "utis = utis.assign(no_two_previous_365_day_event=True)\n",
    "utis = utis.assign(post_UTI_codes=0)\n",
    "utis = utis.assign(recurrent_uti=False)\n",
    "utis = utis.assign(first_uti=False)\n",
    "\n",
    "utis = utis.assign(previous_uti=False)\n",
    "utis = utis.assign(previous_utis=0)\n",
    "utis = utis.assign(days_since_previous_uti=np.nan)\n",
    "utis = utis.assign(previous_uti_condition_occurence_id=0)\n",
    "utis = utis.assign(previous_uti_recurrent=False)\n",
    "\n",
    "\n",
    "utis.head()"
   ]
  },
  {
   "cell_type": "markdown",
   "metadata": {},
   "source": [
    "#### get rid of multiple drugs"
   ]
  },
  {
   "cell_type": "code",
   "execution_count": 13,
   "metadata": {},
   "outputs": [
    {
     "name": "stdout",
     "output_type": "stream",
     "text": [
      "Number of UTI events + individual drugs\n",
      "329547\n"
     ]
    }
   ],
   "source": [
    "uti_unique = utis.copy()\n",
    "print('Number of UTI events + individual drugs')\n",
    "print(len(uti_unique))"
   ]
  },
  {
   "cell_type": "code",
   "execution_count": 14,
   "metadata": {},
   "outputs": [],
   "source": [
    "# drop duplicate drug types\n",
    "uti_unique = uti_unique.drop_duplicates(subset = ['condition_occurrence_id','antibiotic_name'], inplace = False, keep='first')\n",
    "\n"
   ]
  },
  {
   "cell_type": "code",
   "execution_count": 15,
   "metadata": {},
   "outputs": [
    {
     "name": "stdout",
     "output_type": "stream",
     "text": [
      "IDs with multiple drugs:\n",
      "22124\n"
     ]
    }
   ],
   "source": [
    "multi =pd.DataFrame(uti_unique['condition_occurrence_id'].value_counts()).reset_index()\n",
    "condition_occurence_ids = list(multi[multi['condition_occurrence_id']>1]['index'])\n",
    "print('IDs with multiple drugs:')\n",
    "print(len(condition_occurence_ids))"
   ]
  },
  {
   "cell_type": "code",
   "execution_count": 16,
   "metadata": {
    "scrolled": true
   },
   "outputs": [
    {
     "name": "stdout",
     "output_type": "stream",
     "text": [
      "0.023617212224269046\n",
      "0.04723442444853809\n",
      "0.07085163667280714\n",
      "0.09446884889707619\n",
      "0.11808606112134523\n",
      "0.14170327334561428\n",
      "0.16532048556988332\n",
      "0.18893769779415237\n",
      "0.21255491001842142\n",
      "0.23617212224269046\n",
      "0.2597893344669595\n",
      "0.28340654669122856\n",
      "0.3070237589154976\n",
      "0.33064097113976665\n",
      "0.3542581833640357\n",
      "0.37787539558830474\n",
      "0.4014926078125738\n",
      "0.42510982003684283\n",
      "0.4487270322611119\n",
      "0.4723442444853809\n",
      "0.49596145670965\n",
      "0.519578668933919\n",
      "0.5431958811581881\n",
      "0.5668130933824571\n",
      "0.5904303056067262\n",
      "0.6140475178309952\n",
      "0.6376647300552643\n",
      "0.6612819422795333\n",
      "0.6848991545038023\n",
      "0.7085163667280714\n",
      "0.7321335789523404\n",
      "0.7557507911766095\n",
      "0.7793680034008785\n",
      "0.8029852156251476\n",
      "0.8266024278494166\n",
      "0.8502196400736857\n",
      "0.8738368522979547\n",
      "0.8974540645222238\n",
      "0.9210712767464928\n",
      "0.9446884889707619\n",
      "0.9683057011950309\n",
      "0.9919229134193\n",
      "CPU times: user 1min 49s, sys: 473 ms, total: 1min 49s\n",
      "Wall time: 1min 49s\n"
     ]
    }
   ],
   "source": [
    "%%time\n",
    "uti_unique = uti_unique.assign(multi = False)\n",
    "count = 0\n",
    "for ind, row in uti_unique.iterrows():\n",
    "    if row.condition_occurrence_id in condition_occurence_ids:\n",
    "        uti_unique.loc[ind,'multi'] = True\n",
    "    count = count+1\n",
    "    if count%5000==0:\n",
    "        print(count/len(uti_unique))\n",
    "        "
   ]
  },
  {
   "cell_type": "code",
   "execution_count": 17,
   "metadata": {},
   "outputs": [],
   "source": [
    "# Drop multi drugs\n",
    "uti_unique = uti_unique.drop_duplicates(subset = ['condition_occurrence_id'], inplace = False, keep='first')\n",
    "\n",
    "utis = uti_unique.copy()"
   ]
  },
  {
   "cell_type": "markdown",
   "metadata": {},
   "source": [
    "#### Get non_recurrent UTIs, and note previous UTI that had treatment"
   ]
  },
  {
   "cell_type": "code",
   "execution_count": 18,
   "metadata": {},
   "outputs": [
    {
     "data": {
      "text/plain": [
       "'utis = utis.sort_values(by=[\"person_id\", \"condition_start_date\"], ascending=True)\\nutis = utis.assign(no_previous_180_day_event=True)\\n\\nutis = utis.assign(no_two_previous_365_day_event=True)\\nutis = utis.assign(post_UTI_codes=0)\\nutis = utis.assign(recurrent_uti=False)\\nutis = utis.assign(first_uti=False)\\n\\nutis = utis.assign(previous_uti=False)\\nutis = utis.assign(previous_utis=0)\\nutis = utis.assign(days_since_previous_uti=np.nan)\\nutis = utis.assign(previous_uti_condition_occurence_id=0)\\nutis = utis.assign(previous_uti_recurrent=False)\\n\\n\\nutis.head()'"
      ]
     },
     "execution_count": 18,
     "metadata": {},
     "output_type": "execute_result"
    }
   ],
   "source": [
    "'''utis = utis.sort_values(by=[\"person_id\", \"condition_start_date\"], ascending=True)\n",
    "utis = utis.assign(no_previous_180_day_event=True)\n",
    "\n",
    "utis = utis.assign(no_two_previous_365_day_event=True)\n",
    "utis = utis.assign(post_UTI_codes=0)\n",
    "utis = utis.assign(recurrent_uti=False)\n",
    "utis = utis.assign(first_uti=False)\n",
    "\n",
    "utis = utis.assign(previous_uti=False)\n",
    "utis = utis.assign(previous_utis=0)\n",
    "utis = utis.assign(days_since_previous_uti=np.nan)\n",
    "utis = utis.assign(previous_uti_condition_occurence_id=0)\n",
    "utis = utis.assign(previous_uti_recurrent=False)\n",
    "\n",
    "\n",
    "utis.head()'''"
   ]
  },
  {
   "cell_type": "code",
   "execution_count": 19,
   "metadata": {},
   "outputs": [
    {
     "name": "stdout",
     "output_type": "stream",
     "text": [
      "UTI events, with multiple drugs denoted:\n",
      "187666\n"
     ]
    }
   ],
   "source": [
    "print('UTI events, with multiple drugs denoted:')\n",
    "print(len(utis))"
   ]
  },
  {
   "cell_type": "code",
   "execution_count": 20,
   "metadata": {
    "scrolled": false
   },
   "outputs": [
    {
     "name": "stdout",
     "output_type": "stream",
     "text": [
      "0.0053286157322050874\n",
      "0.010657231464410175\n",
      "0.015985847196615263\n",
      "0.02131446292882035\n",
      "0.02664307866102544\n",
      "0.031971694393230526\n",
      "0.037300310125435616\n",
      "0.0426289258576407\n",
      "0.04795754158984579\n",
      "0.05328615732205088\n",
      "0.05861477305425596\n",
      "0.06394338878646105\n",
      "0.06927200451866614\n",
      "0.07460062025087123\n",
      "0.07992923598307632\n",
      "0.0852578517152814\n",
      "0.0905864674474865\n",
      "0.09591508317969158\n",
      "0.10124369891189666\n",
      "0.10657231464410176\n",
      "0.11190093037630684\n",
      "0.11722954610851193\n",
      "0.12255816184071702\n",
      "0.1278867775729221\n",
      "0.1332153933051272\n",
      "0.13854400903733227\n",
      "0.14387262476953738\n",
      "0.14920124050174247\n",
      "0.15452985623394755\n",
      "0.15985847196615263\n",
      "0.16518708769835772\n",
      "0.1705157034305628\n",
      "0.1758443191627679\n",
      "0.181172934894973\n",
      "0.18650155062717808\n",
      "0.19183016635938316\n",
      "0.19715878209158824\n",
      "0.20248739782379332\n",
      "0.20781601355599844\n",
      "0.21314462928820352\n",
      "0.2184732450204086\n",
      "0.22380186075261368\n",
      "0.22913047648481877\n",
      "0.23445909221702385\n",
      "0.23978770794922896\n",
      "0.24511632368143405\n",
      "0.2504449394136391\n",
      "0.2557735551458442\n",
      "0.2611021708780493\n",
      "0.2664307866102544\n",
      "0.2717594023424595\n",
      "0.27708801807466454\n",
      "0.28241663380686965\n",
      "0.28774524953907477\n",
      "0.2930738652712798\n",
      "0.29840248100348493\n",
      "0.30373109673569\n",
      "0.3090597124678951\n",
      "0.31438832820010015\n",
      "0.31971694393230526\n",
      "0.3250455596645104\n",
      "0.33037417539671543\n",
      "0.33570279112892054\n",
      "0.3410314068611256\n",
      "0.3463600225933307\n",
      "0.3516886383255358\n",
      "0.3570172540577409\n",
      "0.362345869789946\n",
      "0.36767448552215104\n",
      "0.37300310125435615\n",
      "0.3783317169865612\n",
      "0.3836603327187663\n",
      "0.38898894845097143\n",
      "0.3943175641831765\n",
      "0.3996461799153816\n",
      "0.40497479564758665\n",
      "0.41030341137979176\n",
      "0.41563202711199687\n",
      "0.4209606428442019\n",
      "0.42628925857640704\n",
      "0.4316178743086121\n",
      "0.4369464900408172\n",
      "0.44227510577302226\n",
      "0.44760372150522737\n",
      "0.4529323372374325\n",
      "0.45826095296963754\n",
      "0.46358956870184265\n",
      "0.4689181844340477\n",
      "0.4742468001662528\n",
      "0.4795754158984579\n",
      "0.484904031630663\n",
      "0.4902326473628681\n",
      "0.49556126309507315\n",
      "0.5008898788272782\n",
      "0.5062184945594833\n",
      "0.5115471102916884\n",
      "0.5168757260238935\n",
      "0.5222043417560986\n",
      "0.5275329574883036\n",
      "0.5328615732205088\n",
      "0.5381901889527139\n",
      "0.543518804684919\n",
      "0.5488474204171241\n",
      "0.5541760361493291\n",
      "0.5595046518815342\n",
      "0.5648332676137393\n",
      "0.5701618833459444\n",
      "0.5754904990781495\n",
      "0.5808191148103545\n",
      "0.5861477305425596\n",
      "0.5914763462747648\n",
      "0.5968049620069699\n",
      "0.6021335777391749\n",
      "0.60746219347138\n",
      "0.6127908092035851\n",
      "0.6181194249357902\n",
      "0.6234480406679953\n",
      "0.6287766564002003\n",
      "0.6341052721324054\n",
      "0.6394338878646105\n",
      "0.6447625035968156\n",
      "0.6500911193290208\n",
      "0.6554197350612257\n",
      "0.6607483507934309\n",
      "0.666076966525636\n",
      "0.6714055822578411\n",
      "0.6767341979900462\n",
      "0.6820628137222512\n",
      "0.6873914294544563\n",
      "0.6927200451866614\n",
      "0.6980486609188665\n",
      "0.7033772766510716\n",
      "0.7087058923832766\n",
      "0.7140345081154817\n",
      "0.7193631238476869\n",
      "0.724691739579892\n",
      "0.730020355312097\n",
      "0.7353489710443021\n",
      "0.7406775867765072\n",
      "0.7460062025087123\n",
      "0.7513348182409174\n",
      "0.7566634339731224\n",
      "0.7619920497053275\n",
      "0.7673206654375326\n",
      "0.7726492811697377\n",
      "0.7779778969019429\n",
      "0.7833065126341479\n",
      "0.788635128366353\n",
      "0.7939637440985581\n",
      "0.7992923598307632\n",
      "0.8046209755629683\n",
      "0.8099495912951733\n",
      "0.8152782070273784\n",
      "0.8206068227595835\n",
      "0.8259354384917886\n",
      "0.8312640542239937\n",
      "0.8365926699561987\n",
      "0.8419212856884039\n",
      "0.847249901420609\n",
      "0.8525785171528141\n",
      "0.8579071328850191\n",
      "0.8632357486172242\n",
      "0.8685643643494293\n",
      "0.8738929800816344\n",
      "0.8792215958138395\n",
      "0.8845502115460445\n",
      "0.8898788272782496\n",
      "0.8952074430104547\n",
      "0.9005360587426599\n",
      "0.905864674474865\n",
      "0.91119329020707\n",
      "0.9165219059392751\n",
      "0.9218505216714802\n",
      "0.9271791374036853\n",
      "0.9325077531358904\n",
      "0.9378363688680954\n",
      "0.9431649846003005\n",
      "0.9484936003325056\n",
      "0.9538222160647107\n",
      "0.9591508317969158\n",
      "0.9644794475291208\n",
      "0.969808063261326\n",
      "0.9751366789935311\n",
      "0.9804652947257362\n",
      "0.9857939104579413\n",
      "0.9911225261901463\n",
      "0.9964511419223514\n",
      "187666\n",
      "CPU times: user 4min 44s, sys: 573 ms, total: 4min 44s\n",
      "Wall time: 4min 44s\n"
     ]
    },
    {
     "data": {
      "text/html": [
       "<div>\n",
       "<style scoped>\n",
       "    .dataframe tbody tr th:only-of-type {\n",
       "        vertical-align: middle;\n",
       "    }\n",
       "\n",
       "    .dataframe tbody tr th {\n",
       "        vertical-align: top;\n",
       "    }\n",
       "\n",
       "    .dataframe thead th {\n",
       "        text-align: right;\n",
       "    }\n",
       "</style>\n",
       "<table border=\"1\" class=\"dataframe\">\n",
       "  <thead>\n",
       "    <tr style=\"text-align: right;\">\n",
       "      <th></th>\n",
       "      <th>index</th>\n",
       "      <th>condition_occurrence_id</th>\n",
       "      <th>person_id</th>\n",
       "      <th>condition_concept_id</th>\n",
       "      <th>condition_start_date</th>\n",
       "      <th>condition_start_datetime</th>\n",
       "      <th>condition_end_date</th>\n",
       "      <th>condition_end_datetime</th>\n",
       "      <th>visit_occurrence_id</th>\n",
       "      <th>visit_detail_id</th>\n",
       "      <th>...</th>\n",
       "      <th>no_two_previous_365_day_event</th>\n",
       "      <th>post_UTI_codes</th>\n",
       "      <th>recurrent_uti</th>\n",
       "      <th>first_uti</th>\n",
       "      <th>previous_uti</th>\n",
       "      <th>previous_utis</th>\n",
       "      <th>days_since_previous_uti</th>\n",
       "      <th>previous_uti_condition_occurence_id</th>\n",
       "      <th>previous_uti_recurrent</th>\n",
       "      <th>multi</th>\n",
       "    </tr>\n",
       "  </thead>\n",
       "  <tbody>\n",
       "    <tr>\n",
       "      <th>246247</th>\n",
       "      <td>213958</td>\n",
       "      <td>400205390</td>\n",
       "      <td>29</td>\n",
       "      <td>81902</td>\n",
       "      <td>2018-06-30</td>\n",
       "      <td>2018-06-30</td>\n",
       "      <td>None</td>\n",
       "      <td>None</td>\n",
       "      <td>912651</td>\n",
       "      <td>305167035</td>\n",
       "      <td>...</td>\n",
       "      <td>True</td>\n",
       "      <td>0</td>\n",
       "      <td>False</td>\n",
       "      <td>False</td>\n",
       "      <td>False</td>\n",
       "      <td>0</td>\n",
       "      <td>NaN</td>\n",
       "      <td>0</td>\n",
       "      <td>False</td>\n",
       "      <td>True</td>\n",
       "    </tr>\n",
       "    <tr>\n",
       "      <th>318089</th>\n",
       "      <td>285902</td>\n",
       "      <td>543518058</td>\n",
       "      <td>35</td>\n",
       "      <td>81902</td>\n",
       "      <td>2020-06-14</td>\n",
       "      <td>2020-06-14</td>\n",
       "      <td>None</td>\n",
       "      <td>None</td>\n",
       "      <td>912779</td>\n",
       "      <td>418770757</td>\n",
       "      <td>...</td>\n",
       "      <td>True</td>\n",
       "      <td>0</td>\n",
       "      <td>False</td>\n",
       "      <td>False</td>\n",
       "      <td>False</td>\n",
       "      <td>0</td>\n",
       "      <td>NaN</td>\n",
       "      <td>0</td>\n",
       "      <td>False</td>\n",
       "      <td>False</td>\n",
       "    </tr>\n",
       "  </tbody>\n",
       "</table>\n",
       "<p>2 rows × 32 columns</p>\n",
       "</div>"
      ],
      "text/plain": [
       "         index  condition_occurrence_id  person_id  condition_concept_id  \\\n",
       "246247  213958                400205390         29                 81902   \n",
       "318089  285902                543518058         35                 81902   \n",
       "\n",
       "       condition_start_date condition_start_datetime condition_end_date  \\\n",
       "246247           2018-06-30               2018-06-30               None   \n",
       "318089           2020-06-14               2020-06-14               None   \n",
       "\n",
       "       condition_end_datetime  visit_occurrence_id  visit_detail_id  ...  \\\n",
       "246247                   None               912651        305167035  ...   \n",
       "318089                   None               912779        418770757  ...   \n",
       "\n",
       "        no_two_previous_365_day_event post_UTI_codes recurrent_uti first_uti  \\\n",
       "246247                           True              0         False     False   \n",
       "318089                           True              0         False     False   \n",
       "\n",
       "        previous_uti  previous_utis days_since_previous_uti  \\\n",
       "246247         False              0                     NaN   \n",
       "318089         False              0                     NaN   \n",
       "\n",
       "       previous_uti_condition_occurence_id  previous_uti_recurrent  multi  \n",
       "246247                                   0                   False   True  \n",
       "318089                                   0                   False  False  \n",
       "\n",
       "[2 rows x 32 columns]"
      ]
     },
     "execution_count": 20,
     "metadata": {},
     "output_type": "execute_result"
    }
   ],
   "source": [
    "%%time\n",
    "import datetime\n",
    "date_format = \"%Y-%m-%d\"\n",
    "last_patient = None\n",
    "last_date = None\n",
    "d_old = None\n",
    "c = 0\n",
    "patient_count = 0\n",
    "for index, row in utis.iterrows():\n",
    "    p = row.person_id\n",
    "    d = row.condition_start_date\n",
    "    cond = row.condition_occurrence_id\n",
    "\n",
    "    #days_since_last = (d - last_date).days\n",
    "    if last_patient ==p:\n",
    "        days_since_last = (d - last_date).days\n",
    "        if days_since_last < 180:\n",
    "            utis.loc[index, \"no_previous_180_day_event\"] = False\n",
    "        if second_last_patient ==p:\n",
    "            if days_since_last < 365 and (d - second_last_date).days < 365 and (last_date-second_last_date).days>14:\n",
    "                utis.loc[index, \"no_two_previous_365_day_event\"] = False\n",
    "\n",
    "        #utis.loc[index, \"recurrent_uti\"] = True\n",
    "    # keep track of previous UTI \n",
    "    \n",
    "        patient_count = patient_count+1\n",
    "        utis.loc[index, \"previous_uti\"] = True\n",
    "        utis.loc[index, \"days_since_previous_uti\"] = days_since_last\n",
    "        utis.loc[index, \"previous_utis\"] = patient_count\n",
    "        utis.loc[index, \"previous_uti_condition_occurence_id\"] = last_cond\n",
    "        if ~((last_row[\"no_two_previous_365_day_event\"]) * (last_row[\"no_previous_180_day_event\"])):\n",
    "            utis.loc[index, \"previous_uti_recurrent\"] = True\n",
    "    else:\n",
    "        patient_count = 0\n",
    "    second_last_patient = last_patient       \n",
    "    last_patient = p\n",
    "    last_date = d\n",
    "    second_last_date = d_old\n",
    "    d_old = d\n",
    "    last_cond = cond\n",
    "    last_row = row\n",
    "    c += 1\n",
    "    if c%1000 == 0:\n",
    "        print(c/len(utis))\n",
    "print(len(utis))\n",
    "utis.head(2)"
   ]
  },
  {
   "cell_type": "code",
   "execution_count": 21,
   "metadata": {},
   "outputs": [
    {
     "name": "stderr",
     "output_type": "stream",
     "text": [
      "/home/ncjones/miniconda3/envs/omop/lib/python3.8/site-packages/pandas/core/computation/expressions.py:204: UserWarning: evaluating in Python space because the '*' operator is not supported by numexpr for the bool dtype, use '&' instead\n",
      "  warnings.warn(\n"
     ]
    }
   ],
   "source": [
    "utis['recurrent_uti'] = ~((utis[\"no_two_previous_365_day_event\"]) * (utis[\"no_previous_180_day_event\"]))"
   ]
  },
  {
   "cell_type": "code",
   "execution_count": 22,
   "metadata": {},
   "outputs": [
    {
     "name": "stdout",
     "output_type": "stream",
     "text": [
      "Number of non-recurrent UTI events:\n",
      "140694\n"
     ]
    }
   ],
   "source": [
    "non_recurrent_utis = utis[utis['recurrent_uti']==False ]\n",
    "#non_recurrent_utis = utis[utis['first_uti']==True ]\n",
    "print('Number of non-recurrent UTI events:')\n",
    "print(len(non_recurrent_utis))\n",
    "current_df = non_recurrent_utis"
   ]
  },
  {
   "cell_type": "markdown",
   "metadata": {},
   "source": [
    "### Remove patients under 18 at time of UTI"
   ]
  },
  {
   "cell_type": "code",
   "execution_count": 23,
   "metadata": {},
   "outputs": [
    {
     "name": "stdout",
     "output_type": "stream",
     "text": [
      "Connected!\n",
      "CPU times: user 14.5 s, sys: 1.05 s, total: 15.6 s\n",
      "Wall time: 17.5 s\n"
     ]
    },
    {
     "data": {
      "text/html": [
       "<div>\n",
       "<style scoped>\n",
       "    .dataframe tbody tr th:only-of-type {\n",
       "        vertical-align: middle;\n",
       "    }\n",
       "\n",
       "    .dataframe tbody tr th {\n",
       "        vertical-align: top;\n",
       "    }\n",
       "\n",
       "    .dataframe thead th {\n",
       "        text-align: right;\n",
       "    }\n",
       "</style>\n",
       "<table border=\"1\" class=\"dataframe\">\n",
       "  <thead>\n",
       "    <tr style=\"text-align: right;\">\n",
       "      <th></th>\n",
       "      <th>person_id</th>\n",
       "      <th>gender_concept_id</th>\n",
       "      <th>year_of_birth</th>\n",
       "      <th>month_of_birth</th>\n",
       "      <th>day_of_birth</th>\n",
       "      <th>birth_datetime</th>\n",
       "      <th>death_datetime</th>\n",
       "      <th>race_concept_id</th>\n",
       "      <th>ethnicity_concept_id</th>\n",
       "      <th>location_id</th>\n",
       "      <th>provider_id</th>\n",
       "      <th>care_site_id</th>\n",
       "      <th>person_source_value</th>\n",
       "      <th>gender_source_value</th>\n",
       "      <th>gender_source_concept_id</th>\n",
       "      <th>race_source_value</th>\n",
       "      <th>race_source_concept_id</th>\n",
       "      <th>ethnicity_source_value</th>\n",
       "      <th>ethnicity_source_concept_id</th>\n",
       "    </tr>\n",
       "  </thead>\n",
       "  <tbody>\n",
       "    <tr>\n",
       "      <th>0</th>\n",
       "      <td>290150</td>\n",
       "      <td>8532</td>\n",
       "      <td>1978</td>\n",
       "      <td>None</td>\n",
       "      <td>None</td>\n",
       "      <td>None</td>\n",
       "      <td>NaT</td>\n",
       "      <td>0</td>\n",
       "      <td>0</td>\n",
       "      <td>None</td>\n",
       "      <td>None</td>\n",
       "      <td>None</td>\n",
       "      <td>290150</td>\n",
       "      <td>F</td>\n",
       "      <td>0</td>\n",
       "      <td>None</td>\n",
       "      <td>0</td>\n",
       "      <td>None</td>\n",
       "      <td>0</td>\n",
       "    </tr>\n",
       "    <tr>\n",
       "      <th>1</th>\n",
       "      <td>471383</td>\n",
       "      <td>8507</td>\n",
       "      <td>1954</td>\n",
       "      <td>None</td>\n",
       "      <td>None</td>\n",
       "      <td>None</td>\n",
       "      <td>NaT</td>\n",
       "      <td>0</td>\n",
       "      <td>0</td>\n",
       "      <td>None</td>\n",
       "      <td>None</td>\n",
       "      <td>None</td>\n",
       "      <td>471383</td>\n",
       "      <td>M</td>\n",
       "      <td>0</td>\n",
       "      <td>None</td>\n",
       "      <td>0</td>\n",
       "      <td>None</td>\n",
       "      <td>0</td>\n",
       "    </tr>\n",
       "    <tr>\n",
       "      <th>2</th>\n",
       "      <td>572322</td>\n",
       "      <td>8532</td>\n",
       "      <td>1999</td>\n",
       "      <td>None</td>\n",
       "      <td>None</td>\n",
       "      <td>None</td>\n",
       "      <td>NaT</td>\n",
       "      <td>0</td>\n",
       "      <td>0</td>\n",
       "      <td>None</td>\n",
       "      <td>None</td>\n",
       "      <td>None</td>\n",
       "      <td>572322</td>\n",
       "      <td>F</td>\n",
       "      <td>0</td>\n",
       "      <td>None</td>\n",
       "      <td>0</td>\n",
       "      <td>None</td>\n",
       "      <td>0</td>\n",
       "    </tr>\n",
       "    <tr>\n",
       "      <th>3</th>\n",
       "      <td>726625</td>\n",
       "      <td>8532</td>\n",
       "      <td>1963</td>\n",
       "      <td>None</td>\n",
       "      <td>None</td>\n",
       "      <td>None</td>\n",
       "      <td>NaT</td>\n",
       "      <td>0</td>\n",
       "      <td>0</td>\n",
       "      <td>None</td>\n",
       "      <td>None</td>\n",
       "      <td>None</td>\n",
       "      <td>726625</td>\n",
       "      <td>F</td>\n",
       "      <td>0</td>\n",
       "      <td>None</td>\n",
       "      <td>0</td>\n",
       "      <td>None</td>\n",
       "      <td>0</td>\n",
       "    </tr>\n",
       "    <tr>\n",
       "      <th>4</th>\n",
       "      <td>889391</td>\n",
       "      <td>8532</td>\n",
       "      <td>2008</td>\n",
       "      <td>None</td>\n",
       "      <td>None</td>\n",
       "      <td>None</td>\n",
       "      <td>NaT</td>\n",
       "      <td>0</td>\n",
       "      <td>0</td>\n",
       "      <td>None</td>\n",
       "      <td>None</td>\n",
       "      <td>None</td>\n",
       "      <td>889391</td>\n",
       "      <td>F</td>\n",
       "      <td>0</td>\n",
       "      <td>None</td>\n",
       "      <td>0</td>\n",
       "      <td>None</td>\n",
       "      <td>0</td>\n",
       "    </tr>\n",
       "  </tbody>\n",
       "</table>\n",
       "</div>"
      ],
      "text/plain": [
       "   person_id  gender_concept_id  year_of_birth month_of_birth day_of_birth  \\\n",
       "0     290150               8532           1978           None         None   \n",
       "1     471383               8507           1954           None         None   \n",
       "2     572322               8532           1999           None         None   \n",
       "3     726625               8532           1963           None         None   \n",
       "4     889391               8532           2008           None         None   \n",
       "\n",
       "  birth_datetime death_datetime  race_concept_id  ethnicity_concept_id  \\\n",
       "0           None            NaT                0                     0   \n",
       "1           None            NaT                0                     0   \n",
       "2           None            NaT                0                     0   \n",
       "3           None            NaT                0                     0   \n",
       "4           None            NaT                0                     0   \n",
       "\n",
       "  location_id provider_id care_site_id person_source_value  \\\n",
       "0        None        None         None              290150   \n",
       "1        None        None         None              471383   \n",
       "2        None        None         None              572322   \n",
       "3        None        None         None              726625   \n",
       "4        None        None         None              889391   \n",
       "\n",
       "  gender_source_value  gender_source_concept_id race_source_value  \\\n",
       "0                   F                         0              None   \n",
       "1                   M                         0              None   \n",
       "2                   F                         0              None   \n",
       "3                   F                         0              None   \n",
       "4                   F                         0              None   \n",
       "\n",
       "   race_source_concept_id ethnicity_source_value  ethnicity_source_concept_id  \n",
       "0                       0                   None                            0  \n",
       "1                       0                   None                            0  \n",
       "2                       0                   None                            0  \n",
       "3                       0                   None                            0  \n",
       "4                       0                   None                            0  "
      ]
     },
     "execution_count": 23,
     "metadata": {},
     "output_type": "execute_result"
    }
   ],
   "source": [
    "%%time\n",
    "username='cdm_6871_21'\n",
    "password='MLHC2021'\n",
    "database_name = 'omop_v6'\n",
    "conn_string = \"dbname=\"+database_name + \" host=/var/run/postgresql\"\n",
    "conn=psycopg2.connect(conn_string)\n",
    "print('Connected!')\n",
    "\n",
    "sql_command = \"select * from cdm_6871_21.person;\"\n",
    "person = pd.read_sql(sql_command,conn)\n",
    "person.head()"
   ]
  },
  {
   "cell_type": "code",
   "execution_count": 24,
   "metadata": {},
   "outputs": [],
   "source": [
    "people_cohort = person[person.person_id.isin(non_recurrent_utis.person_id) ]\n",
    "people_cohort = people_cohort[['person_id','year_of_birth']]\n",
    "\n",
    "non_recurrent_utis_w_ages = non_recurrent_utis.merge(people_cohort, how = 'left', on = 'person_id')\n",
    "non_recurrent_utis_w_ages['age'] = np.nan"
   ]
  },
  {
   "cell_type": "code",
   "execution_count": 25,
   "metadata": {},
   "outputs": [
    {
     "name": "stdout",
     "output_type": "stream",
     "text": [
      "CPU times: user 1min 55s, sys: 224 ms, total: 1min 55s\n",
      "Wall time: 1min 55s\n"
     ]
    }
   ],
   "source": [
    "%%time\n",
    "i= 0 \n",
    "for index,row in non_recurrent_utis_w_ages.iterrows():\n",
    "    person_ = row['person_id']\n",
    "    #temp = people_cohort[people_cohort['person_id']==person_]\n",
    "    year_of_birth = row['year_of_birth']\n",
    "    if year_of_birth >0:\n",
    "        non_recurrent_utis_w_ages.loc[index,'age'] = row['condition_start_date'].year - year_of_birth\n",
    "    i = i+1\n",
    "    #if i%10000==0:\n",
    "        #print(i) "
   ]
  },
  {
   "cell_type": "code",
   "execution_count": 26,
   "metadata": {},
   "outputs": [
    {
     "name": "stdout",
     "output_type": "stream",
     "text": [
      "# of events after removing under 18:\n",
      "135421\n"
     ]
    }
   ],
   "source": [
    "# remove under 18\n",
    "non_recurrent_utis_over_18 =non_recurrent_utis_w_ages[non_recurrent_utis_w_ages['age']>17]\n",
    "print('# of events after removing under 18:')\n",
    "print(len(non_recurrent_utis_over_18))\n",
    "current_df = non_recurrent_utis_over_18"
   ]
  },
  {
   "cell_type": "markdown",
   "metadata": {},
   "source": [
    "### Remove Patients with certain procedures"
   ]
  },
  {
   "cell_type": "markdown",
   "metadata": {},
   "source": [
    "##### Find excluded procedures"
   ]
  },
  {
   "cell_type": "code",
   "execution_count": null,
   "metadata": {},
   "outputs": [],
   "source": [
    "current_person_ids = current_df.person_id.unique()\n",
    "print('# of current person IDs')\n",
    "print(len(current_person_ids))"
   ]
  },
  {
   "cell_type": "code",
   "execution_count": null,
   "metadata": {},
   "outputs": [],
   "source": [
    "%%time\n",
    "## Load Procedures from cdm.procedure_occurence\n",
    "current_person_str = \", \".join([f\"'{x}'\" for x in current_person_ids])\n",
    "sql = \"\"\"\n",
    "    select\n",
    "        p.procedure_concept_id as concept_id,\n",
    "        p.procedure_date as date,\n",
    "        person_id as person_id\n",
    "    from\n",
    "        {omop_schema}.procedure_occurrence p\n",
    "    where \n",
    "        p.person_id in ({person_ids}) \n",
    "\"\"\".format(\n",
    "    omop_schema=config.OMOP_CDM_SCHEMA,\n",
    "    person_ids=current_person_str,\n",
    ")\n",
    "procedures = db.query(sql)\n",
    "print(f\"Procedures found: {len(procedures)}\")\n",
    "\n",
    "display(procedures.head(3))"
   ]
  },
  {
   "cell_type": "code",
   "execution_count": null,
   "metadata": {},
   "outputs": [],
   "source": [
    "%%time\n",
    "\n",
    "# get procedure names from cdm.concept\n",
    "sql = \"\"\"\n",
    "    select\n",
    "        c.concept_name as concept_name,\n",
    "        c.concept_id as concept_id\n",
    "    from\n",
    "        {omop_schema}.concept c\n",
    "    where \n",
    "        c.domain_id = 'Procedure' \n",
    "\"\"\".format(\n",
    "    omop_schema=config.OMOP_CDM_SCHEMA,\n",
    "    person_ids=current_person_ids,\n",
    ")\n",
    "procedure_names = db.query(sql)\n",
    "procedure_names.head(3)"
   ]
  },
  {
   "cell_type": "code",
   "execution_count": null,
   "metadata": {},
   "outputs": [],
   "source": [
    "%%time\n",
    "procedure_name_hits = [\"central venous catheter\", \"surgery\", \"surgical\", \"ventilation\", \"hemodialysis\", \"parenteral nutrition\"]\n",
    "exclude_name_hits = \"than hemodialysis\"\n",
    "# Placement of a central venous cather\n",
    "\n",
    "procedure_ids = []\n",
    "for ind, (name, cid) in procedure_names[[\"concept_name\", \"concept_id\"]].iterrows(): \n",
    "    name = name.lower()\n",
    "    for pn in procedure_name_hits:\n",
    "        if pn in name and exclude_name_hits not in name:\n",
    "#             print(f\"Procedure: {name}, code: {cid}\")\n",
    "            procedure_ids.append(cid)\n",
    "            break\n",
    "print(f\"Found {len(procedure_ids)} procedure concept codes to exclude\")\n",
    "excluded_procedures = procedures[procedures.concept_id.isin(procedure_ids)]\n",
    "print(f\"Excluded procedure events: {len(excluded_procedures)}\")\n"
   ]
  },
  {
   "cell_type": "code",
   "execution_count": null,
   "metadata": {},
   "outputs": [],
   "source": [
    "### here"
   ]
  },
  {
   "cell_type": "markdown",
   "metadata": {},
   "source": [
    "##### Find excluded conditions"
   ]
  },
  {
   "cell_type": "code",
   "execution_count": null,
   "metadata": {},
   "outputs": [],
   "source": [
    "%%time\n",
    "# get concept names from cdm.concept\n",
    "sql = \"\"\"\n",
    "    select\n",
    "        c.concept_name as concept_name,\n",
    "        c.concept_id as concept_id,\n",
    "        c.domain_id as domain_id\n",
    "    from\n",
    "        {omop_schema}.concept c\n",
    "    where \n",
    "        c.domain_id = 'Condition' \n",
    "\"\"\".format(\n",
    "    omop_schema=config.OMOP_CDM_SCHEMA,\n",
    ")\n",
    "diagnosis_names = db.query(sql)\n"
   ]
  },
  {
   "cell_type": "code",
   "execution_count": null,
   "metadata": {},
   "outputs": [],
   "source": [
    "%%time\n",
    "condition_ids = []\n",
    "condition_name_hits = [\"pregnancy\", \"pyelo\",\"catheter\"]\n",
    "for ind, (name, cid) in diagnosis_names[[\"concept_name\", \"concept_id\"]].iterrows(): \n",
    "    name = name.lower()\n",
    "    for pn in condition_name_hits:\n",
    "        if pn in name:\n",
    "            condition_ids.append(cid)\n",
    "            break\n",
    "print(f\"Found {len(condition_ids)} to exclude\")"
   ]
  },
  {
   "cell_type": "code",
   "execution_count": null,
   "metadata": {},
   "outputs": [],
   "source": [
    "%%time\n",
    "excluded_conditions = condition_df[condition_df.concept_id.isin(condition_ids) & condition_df.person_id.isin(current_person_ids)]\n",
    "print(len(excluded_conditions))\n",
    "excluded_conditions = excluded_conditions[[\"concept_id\", \"condition_start_date\", \"person_id\"]]\n",
    "excluded_conditions = excluded_conditions.rename(columns={\"condition_start_date\":\"date\"})"
   ]
  },
  {
   "cell_type": "markdown",
   "metadata": {},
   "source": [
    "##### Remove patients with the excluded conditions and procedures "
   ]
  },
  {
   "cell_type": "code",
   "execution_count": null,
   "metadata": {},
   "outputs": [],
   "source": [
    "%%time\n",
    "excluded_table = pd.concat([excluded_conditions, excluded_procedures], ignore_index=True)\n",
    "excluded_table"
   ]
  },
  {
   "cell_type": "code",
   "execution_count": null,
   "metadata": {},
   "outputs": [],
   "source": [
    "%%time\n",
    "#  Create in memory cache of events\n",
    "person_events = dict()\n",
    "c = 0\n",
    "from datetime import datetime\n",
    "start = datetime.now()\n",
    "\n",
    "l = len(excluded_table)\n",
    "for _, (_, date, pid) in excluded_table.iterrows():\n",
    "    c += 1\n",
    "    if c % 100000 == 0:\n",
    "        print(f\"Time elapsed: {(datetime.now() - start)}\")\n",
    "        print(f\"Iter: {c} / {l}\")\n",
    "        \n",
    "    if pid in person_events:\n",
    "        person_events[pid].add(date)\n",
    "    else:\n",
    "        person_events[pid] = set([date])"
   ]
  },
  {
   "cell_type": "code",
   "execution_count": null,
   "metadata": {},
   "outputs": [],
   "source": [
    "%%time\n",
    "# Removes the event if a procedure happened in the last 180 days\n",
    "#current_df.assign('No excluded procedure or condition')\n",
    "#first_utis = utis[utis.no_previous_90_day_event].copy()\n",
    "temp_df = current_df.assign(no_previous_180_excluded_event=True)\n",
    "c = 0\n",
    "from datetime import datetime\n",
    "start = datetime.now()\n",
    "l = len(temp_df)\n",
    "for index, row in temp_df.iterrows():\n",
    "    p = row.person_id\n",
    "    d = row.condition_start_date\n",
    "    if p in person_events.keys(): # added\n",
    "        person_dates =  person_events[p]\n",
    "        c += 1\n",
    "        #if c % 10000 == 0:\n",
    "            #print(f\"Time elapsed: {(datetime.now() - start)}\")\n",
    "            #print(f\"Iter: {c} \")\n",
    "        for date in person_dates:\n",
    "            if (d - date).days < 180 and (d - date).days > 0:\n",
    "                temp_df.loc[index, \"no_previous_180_excluded_event\"] = False\n",
    "                break\n",
    "    \n",
    "filtered_utis = temp_df[temp_df.no_previous_180_excluded_event].copy()\n",
    "\n",
    "print(f\"Final UTI list count: {len(filtered_utis)}\")\n",
    "filtered_utis.head(3)\n",
    "current_df = filtered_utis"
   ]
  },
  {
   "cell_type": "markdown",
   "metadata": {},
   "source": [
    "### Remove more conditions if they occurred ever"
   ]
  },
  {
   "cell_type": "code",
   "execution_count": null,
   "metadata": {},
   "outputs": [],
   "source": [
    "%%time\n",
    "condition_ids = []\n",
    "condition_names_1 = []\n",
    "condition_names_2 = []\n",
    "condition_name_hits = [[\"neurogenic\", \"bladder\"],[\"spina\", \"bifida\"]]\n",
    "for ind, (name, cid) in diagnosis_names[[\"concept_name\", \"concept_id\"]].iterrows(): \n",
    "    name = name.lower()\n",
    "    for lpn in condition_name_hits:\n",
    "        pn = lpn[0]\n",
    "        pn2 =lpn[1]\n",
    "        #carcinoma OR cancer OR malignan) AND (bladder OR ureter OR kidney OR renal)\n",
    "        if (('carcinoma' or 'cancer' or 'malignan') in name) and (('bladder' or 'ureter' or 'kidney' or 'renal')) in name:\n",
    "            condition_ids.append(cid)\n",
    "            condition_names_1.append(name)\n",
    "            break\n",
    "        elif pn in name and pn2 in name:\n",
    "            condition_ids.append(cid)\n",
    "            condition_names_2.append(name)\n",
    "            break\n",
    "print(f\"Found {len(condition_ids)} to exclude\")\n",
    "\n",
    "\n",
    "excluded_conditions = condition_df[condition_df.concept_id.isin(condition_ids) & condition_df.person_id.isin(current_person_ids)]\n",
    "print(len(excluded_conditions))\n",
    "excluded_conditions = excluded_conditions[[\"concept_id\", \"condition_start_date\", \"person_id\"]]\n",
    "excluded_conditions = excluded_conditions.rename(columns={\"condition_start_date\":\"date\"})\n",
    "\n",
    "excluded_table = excluded_conditions.copy()\n"
   ]
  },
  {
   "cell_type": "code",
   "execution_count": null,
   "metadata": {},
   "outputs": [],
   "source": [
    "%%time\n",
    "#  Create in memory cache of events\n",
    "person_events = dict()\n",
    "c = 0\n",
    "from datetime import datetime\n",
    "start = datetime.now()\n",
    "\n",
    "l = len(excluded_table)\n",
    "for _, (_, date, pid) in excluded_table.iterrows():\n",
    "    c += 1\n",
    "    if c % 100000 == 0:\n",
    "        print(f\"Time elapsed: {(datetime.now() - start)}\")\n",
    "        print(f\"Iter: {c} / {l}\")\n",
    "        \n",
    "    if pid in person_events:\n",
    "        person_events[pid].add(date)\n",
    "    else:\n",
    "        person_events[pid] = set([date])"
   ]
  },
  {
   "cell_type": "code",
   "execution_count": null,
   "metadata": {},
   "outputs": [],
   "source": [
    "%%time\n",
    "\n",
    "temp_df = filtered_utis.assign(no_previous_excluded_event_ever=True)\n",
    "c = 0\n",
    "from datetime import datetime\n",
    "start = datetime.now()\n",
    "l = len(temp_df)\n",
    "for index, row in temp_df.iterrows():\n",
    "    p = row.person_id\n",
    "    d = row.condition_start_date\n",
    "    if p in person_events.keys(): # added\n",
    "        person_dates =  person_events[p]\n",
    "        c += 1\n",
    "        #if c % 10000 == 0:\n",
    "            #print(f\"Time elapsed: {(datetime.now() - start)}\")\n",
    "            #print(f\"Iter: {c} \")\n",
    "        for date in person_dates:\n",
    "            if (d - date).days > 0:\n",
    "                temp_df.loc[index, \"no_previous_excluded_event_ever\"] = False\n",
    "                break\n",
    "    \n",
    "filtered_utis = temp_df[temp_df.no_previous_excluded_event_ever].copy()\n",
    "\n",
    "print(f\"Final UTI list count: {len(filtered_utis)}\")\n",
    "filtered_utis.head(3)\n",
    "current_df = filtered_utis"
   ]
  },
  {
   "cell_type": "code",
   "execution_count": null,
   "metadata": {},
   "outputs": [],
   "source": [
    "filtered_utis = temp_df[temp_df.no_previous_excluded_event_ever].copy()"
   ]
  },
  {
   "cell_type": "code",
   "execution_count": null,
   "metadata": {},
   "outputs": [],
   "source": [
    "filtered_utis['person_id'].value_counts()"
   ]
  },
  {
   "cell_type": "code",
   "execution_count": null,
   "metadata": {},
   "outputs": [],
   "source": [
    "filtered_utis.to_sql(\"cohort_final_updated_treatments_ncj\",con=db.engine, if_exists=\"replace\", schema=\"cdm_6871_21\")\n",
    "db.execute(\"GRANT SELECT ON TABLE cdm_6871_21.cohort_final_updated_treatments_ncj TO cdm_6871_21;\")\n"
   ]
  },
  {
   "cell_type": "markdown",
   "metadata": {},
   "source": [
    "#### Get patients with 1 year of observation time"
   ]
  },
  {
   "cell_type": "code",
   "execution_count": 27,
   "metadata": {},
   "outputs": [
    {
     "data": {
      "text/plain": [
       "104669"
      ]
     },
     "execution_count": 27,
     "metadata": {},
     "output_type": "execute_result"
    }
   ],
   "source": [
    "username='cdm_6871_21'\n",
    "password='MLHC2021'\n",
    "database_name = 'omop_v6'\n",
    "conn_string = \"dbname=\"+database_name + \" host=/var/run/postgresql\"\n",
    "conn=psycopg2.connect(conn_string)\n",
    "\n",
    "sql_command = \"select * from cdm_6871_21.cohort_final_updated_treatments_ncj;\"\n",
    "cohort = pd.read_sql(sql_command,conn)\n",
    "cohort.condition_occurrence_id.nunique()"
   ]
  },
  {
   "cell_type": "code",
   "execution_count": null,
   "metadata": {},
   "outputs": [],
   "source": [
    "# remove patients with insufficieny follow-up time"
   ]
  },
  {
   "cell_type": "code",
   "execution_count": 28,
   "metadata": {},
   "outputs": [
    {
     "name": "stdout",
     "output_type": "stream",
     "text": [
      "CPU times: user 2min 22s, sys: 14.2 s, total: 2min 36s\n",
      "Wall time: 4min 8s\n"
     ]
    },
    {
     "data": {
      "text/html": [
       "<div>\n",
       "<style scoped>\n",
       "    .dataframe tbody tr th:only-of-type {\n",
       "        vertical-align: middle;\n",
       "    }\n",
       "\n",
       "    .dataframe tbody tr th {\n",
       "        vertical-align: top;\n",
       "    }\n",
       "\n",
       "    .dataframe thead th {\n",
       "        text-align: right;\n",
       "    }\n",
       "</style>\n",
       "<table border=\"1\" class=\"dataframe\">\n",
       "  <thead>\n",
       "    <tr style=\"text-align: right;\">\n",
       "      <th></th>\n",
       "      <th>visit_detail_id</th>\n",
       "      <th>person_id</th>\n",
       "      <th>visit_detail_concept_id</th>\n",
       "      <th>visit_detail_start_date</th>\n",
       "      <th>visit_detail_start_datetime</th>\n",
       "      <th>visit_detail_end_date</th>\n",
       "      <th>visit_detail_end_datetime</th>\n",
       "      <th>visit_detail_type_concept_id</th>\n",
       "      <th>provider_id</th>\n",
       "      <th>care_site_id</th>\n",
       "      <th>discharge_to_concept_id</th>\n",
       "      <th>admitted_from_concept_id</th>\n",
       "      <th>admitted_from_source_value</th>\n",
       "      <th>visit_detail_source_value</th>\n",
       "      <th>visit_detail_source_concept_id</th>\n",
       "      <th>discharge_to_source_value</th>\n",
       "      <th>preceding_visit_detail_id</th>\n",
       "      <th>visit_detail_parent_id</th>\n",
       "      <th>visit_occurrence_id</th>\n",
       "    </tr>\n",
       "  </thead>\n",
       "  <tbody>\n",
       "    <tr>\n",
       "      <th>0</th>\n",
       "      <td>19828375</td>\n",
       "      <td>1850532</td>\n",
       "      <td>581477</td>\n",
       "      <td>2013-05-01</td>\n",
       "      <td>2013-05-01</td>\n",
       "      <td>2013-05-01</td>\n",
       "      <td>2013-05-01</td>\n",
       "      <td>32021</td>\n",
       "      <td>524834</td>\n",
       "      <td>None</td>\n",
       "      <td>0</td>\n",
       "      <td>0</td>\n",
       "      <td>None</td>\n",
       "      <td>2294159961</td>\n",
       "      <td>0</td>\n",
       "      <td>~</td>\n",
       "      <td>None</td>\n",
       "      <td>None</td>\n",
       "      <td>38112738</td>\n",
       "    </tr>\n",
       "    <tr>\n",
       "      <th>1</th>\n",
       "      <td>406283058</td>\n",
       "      <td>4781602</td>\n",
       "      <td>581477</td>\n",
       "      <td>2020-06-06</td>\n",
       "      <td>2020-06-06</td>\n",
       "      <td>2020-06-06</td>\n",
       "      <td>2020-06-06</td>\n",
       "      <td>32021</td>\n",
       "      <td>4230642</td>\n",
       "      <td>None</td>\n",
       "      <td>0</td>\n",
       "      <td>0</td>\n",
       "      <td>None</td>\n",
       "      <td>4557351389</td>\n",
       "      <td>0</td>\n",
       "      <td>~</td>\n",
       "      <td>None</td>\n",
       "      <td>None</td>\n",
       "      <td>71271096</td>\n",
       "    </tr>\n",
       "    <tr>\n",
       "      <th>2</th>\n",
       "      <td>406283059</td>\n",
       "      <td>4781602</td>\n",
       "      <td>581477</td>\n",
       "      <td>2020-06-06</td>\n",
       "      <td>2020-06-06</td>\n",
       "      <td>2020-06-06</td>\n",
       "      <td>2020-06-06</td>\n",
       "      <td>32021</td>\n",
       "      <td>4230642</td>\n",
       "      <td>None</td>\n",
       "      <td>0</td>\n",
       "      <td>0</td>\n",
       "      <td>None</td>\n",
       "      <td>45573513819</td>\n",
       "      <td>0</td>\n",
       "      <td>~</td>\n",
       "      <td>None</td>\n",
       "      <td>None</td>\n",
       "      <td>71271096</td>\n",
       "    </tr>\n",
       "    <tr>\n",
       "      <th>3</th>\n",
       "      <td>406283060</td>\n",
       "      <td>4781602</td>\n",
       "      <td>581477</td>\n",
       "      <td>2020-06-06</td>\n",
       "      <td>2020-06-06</td>\n",
       "      <td>2020-06-06</td>\n",
       "      <td>2020-06-06</td>\n",
       "      <td>32021</td>\n",
       "      <td>4230642</td>\n",
       "      <td>None</td>\n",
       "      <td>0</td>\n",
       "      <td>0</td>\n",
       "      <td>None</td>\n",
       "      <td>4557351381</td>\n",
       "      <td>0</td>\n",
       "      <td>~</td>\n",
       "      <td>None</td>\n",
       "      <td>None</td>\n",
       "      <td>71271096</td>\n",
       "    </tr>\n",
       "    <tr>\n",
       "      <th>4</th>\n",
       "      <td>406283061</td>\n",
       "      <td>4781602</td>\n",
       "      <td>581477</td>\n",
       "      <td>2020-06-06</td>\n",
       "      <td>2020-06-06</td>\n",
       "      <td>2020-06-06</td>\n",
       "      <td>2020-06-06</td>\n",
       "      <td>32021</td>\n",
       "      <td>4230642</td>\n",
       "      <td>None</td>\n",
       "      <td>0</td>\n",
       "      <td>0</td>\n",
       "      <td>None</td>\n",
       "      <td>4557351384</td>\n",
       "      <td>0</td>\n",
       "      <td>~</td>\n",
       "      <td>None</td>\n",
       "      <td>None</td>\n",
       "      <td>71271096</td>\n",
       "    </tr>\n",
       "  </tbody>\n",
       "</table>\n",
       "</div>"
      ],
      "text/plain": [
       "   visit_detail_id  person_id  visit_detail_concept_id  \\\n",
       "0         19828375    1850532                   581477   \n",
       "1        406283058    4781602                   581477   \n",
       "2        406283059    4781602                   581477   \n",
       "3        406283060    4781602                   581477   \n",
       "4        406283061    4781602                   581477   \n",
       "\n",
       "  visit_detail_start_date visit_detail_start_datetime visit_detail_end_date  \\\n",
       "0              2013-05-01                  2013-05-01            2013-05-01   \n",
       "1              2020-06-06                  2020-06-06            2020-06-06   \n",
       "2              2020-06-06                  2020-06-06            2020-06-06   \n",
       "3              2020-06-06                  2020-06-06            2020-06-06   \n",
       "4              2020-06-06                  2020-06-06            2020-06-06   \n",
       "\n",
       "  visit_detail_end_datetime  visit_detail_type_concept_id  provider_id  \\\n",
       "0                2013-05-01                         32021       524834   \n",
       "1                2020-06-06                         32021      4230642   \n",
       "2                2020-06-06                         32021      4230642   \n",
       "3                2020-06-06                         32021      4230642   \n",
       "4                2020-06-06                         32021      4230642   \n",
       "\n",
       "  care_site_id  discharge_to_concept_id  admitted_from_concept_id  \\\n",
       "0         None                        0                         0   \n",
       "1         None                        0                         0   \n",
       "2         None                        0                         0   \n",
       "3         None                        0                         0   \n",
       "4         None                        0                         0   \n",
       "\n",
       "  admitted_from_source_value visit_detail_source_value  \\\n",
       "0                       None                2294159961   \n",
       "1                       None                4557351389   \n",
       "2                       None               45573513819   \n",
       "3                       None                4557351381   \n",
       "4                       None                4557351384   \n",
       "\n",
       "   visit_detail_source_concept_id discharge_to_source_value  \\\n",
       "0                               0                         ~   \n",
       "1                               0                         ~   \n",
       "2                               0                         ~   \n",
       "3                               0                         ~   \n",
       "4                               0                         ~   \n",
       "\n",
       "  preceding_visit_detail_id visit_detail_parent_id  visit_occurrence_id  \n",
       "0                      None                   None             38112738  \n",
       "1                      None                   None             71271096  \n",
       "2                      None                   None             71271096  \n",
       "3                      None                   None             71271096  \n",
       "4                      None                   None             71271096  "
      ]
     },
     "execution_count": 28,
     "metadata": {},
     "output_type": "execute_result"
    }
   ],
   "source": [
    "%%time\n",
    "sql_cmd = 'select * from cdm_6871_21.visit_detail where person_id in (select person_id from cdm_6871_21.cohort_final_updated_treatments_ncj)'\n",
    "visits = pd.read_sql(sql_cmd, conn)\n",
    "visits.head()"
   ]
  },
  {
   "cell_type": "code",
   "execution_count": 29,
   "metadata": {},
   "outputs": [],
   "source": [
    "first_visits = visits.groupby('person_id')[['visit_detail_start_date']].min()\n"
   ]
  },
  {
   "cell_type": "code",
   "execution_count": 30,
   "metadata": {},
   "outputs": [],
   "source": [
    "first_visits.rename(columns={'visit_detail_start_date':'first_visit_date'}, inplace=True)\n",
    "final = cohort.join(first_visits, on='person_id')"
   ]
  },
  {
   "cell_type": "code",
   "execution_count": 31,
   "metadata": {},
   "outputs": [],
   "source": [
    "final['first_visit_date'] = pd.to_datetime(final['first_visit_date'])\n",
    "final['condition_start_date_dt'] = pd.to_datetime(final['condition_start_date'])\n",
    "final['followup_time'] = final['condition_start_date_dt'] - final['first_visit_date']"
   ]
  },
  {
   "cell_type": "code",
   "execution_count": 32,
   "metadata": {},
   "outputs": [],
   "source": [
    "import datetime as dt"
   ]
  },
  {
   "cell_type": "code",
   "execution_count": 33,
   "metadata": {},
   "outputs": [],
   "source": [
    "cohort = final[final.followup_time >= dt.timedelta(days=365)]"
   ]
  },
  {
   "cell_type": "code",
   "execution_count": 34,
   "metadata": {},
   "outputs": [
    {
     "name": "stdout",
     "output_type": "stream",
     "text": [
      "UTIs total with sufficient observation time\n",
      "69513\n"
     ]
    }
   ],
   "source": [
    "print('UTIs total with sufficient observation time')\n",
    "print(len(cohort))"
   ]
  },
  {
   "cell_type": "code",
   "execution_count": null,
   "metadata": {},
   "outputs": [],
   "source": [
    "# remove multiple drrugs"
   ]
  },
  {
   "cell_type": "code",
   "execution_count": null,
   "metadata": {},
   "outputs": [],
   "source": [
    "cohort['multi'].value_counts()"
   ]
  },
  {
   "cell_type": "code",
   "execution_count": null,
   "metadata": {},
   "outputs": [],
   "source": [
    "final = cohort[cohort['multi']==False]"
   ]
  },
  {
   "cell_type": "code",
   "execution_count": null,
   "metadata": {},
   "outputs": [],
   "source": [
    "print('UTIs total without multiple drigs')\n",
    "print(len(final))"
   ]
  },
  {
   "cell_type": "code",
   "execution_count": null,
   "metadata": {},
   "outputs": [],
   "source": [
    "# drop columns for formatting\n",
    "final = final.drop(['first_visit_date','followup_time','condition_start_date_dt'],axis = 1)"
   ]
  },
  {
   "cell_type": "code",
   "execution_count": null,
   "metadata": {},
   "outputs": [],
   "source": [
    "final = final.drop(['level_0'],axis=1)"
   ]
  },
  {
   "cell_type": "code",
   "execution_count": null,
   "metadata": {},
   "outputs": [],
   "source": [
    "final.to_sql(\"cohort_manuscript_updated_treatments_ncj\",con=db.engine, if_exists=\"replace\", schema=\"cdm_6871_21\")\n",
    "db.execute(\"GRANT SELECT ON TABLE cdm_6871_21.cohort_manuscript_updated_treatments_ncj TO cdm_6871_21;\")"
   ]
  },
  {
   "cell_type": "code",
   "execution_count": null,
   "metadata": {},
   "outputs": [],
   "source": []
  }
 ],
 "metadata": {
  "kernelspec": {
   "display_name": "omop_v2",
   "language": "python",
   "name": "myenv"
  },
  "language_info": {
   "codemirror_mode": {
    "name": "ipython",
    "version": 3
   },
   "file_extension": ".py",
   "mimetype": "text/x-python",
   "name": "python",
   "nbconvert_exporter": "python",
   "pygments_lexer": "ipython3",
   "version": "3.8.5"
  }
 },
 "nbformat": 4,
 "nbformat_minor": 2
}
