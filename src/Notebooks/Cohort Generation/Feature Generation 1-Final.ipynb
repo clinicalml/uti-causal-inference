{
 "cells": [
  {
   "cell_type": "markdown",
   "metadata": {},
   "source": [
    "### Generates Treatment History Confounders\n",
    "\n",
    "Uses ehealey/omop-learn/Manuscript_ready_files Treatment_History_Confounder_Generation"
   ]
  },
  {
   "cell_type": "code",
   "execution_count": 1,
   "metadata": {},
   "outputs": [],
   "source": [
    "in_name = 'cohort_manuscript_updated_treatments_ncj'\n",
    "out_name = 'manuscript_covariates_0_final'"
   ]
  },
  {
   "cell_type": "code",
   "execution_count": 2,
   "metadata": {},
   "outputs": [],
   "source": [
    "import sys\n",
    "sys.path.append( '..' )"
   ]
  },
  {
   "cell_type": "code",
   "execution_count": 3,
   "metadata": {},
   "outputs": [],
   "source": [
    "import psycopg2\n",
    "import pandas as pd\n",
    "import numpy\n",
    "import sparse\n",
    "import config\n",
    "import sys\n",
    "import time\n",
    "import importlib\n",
    "#import sparse\n",
    "import datetime\n",
    "import pandas as pd\n",
    "import numpy as np\n",
    "import scipy.sparse\n",
    "import matplotlib.pyplot as plt\n",
    "\n",
    "import Utils.dbutils as dbutils\n",
    "import Utils.data_utils as data_utils\n",
    "import Generators.CohortGenerator as CohortGenerator\n",
    "import Generators.FeatureGenerator as FeatureGenerator\n",
    "import config\n",
    "local_imports = (\n",
    "    dbutils,\n",
    "    data_utils,\n",
    "    CohortGenerator,\n",
    "    FeatureGenerator,\n",
    "    config\n",
    ")\n",
    "for i in local_imports:\n",
    "    i = importlib.reload(i)"
   ]
  },
  {
   "cell_type": "code",
   "execution_count": 4,
   "metadata": {},
   "outputs": [
    {
     "name": "stdout",
     "output_type": "stream",
     "text": [
      "cdm schema: cdm_6871_21\n"
     ]
    }
   ],
   "source": [
    "# database connection\n",
    "username = config.PG_USERNAME\n",
    "password = config.PG_PASSWORD\n",
    "database_name = config.DB_NAME\n",
    "\n",
    "#config_path = 'postgresql://{username}:{password}@{database_name}'.format(\n",
    "config_path = 'postgresql://{database_name}'.format(database_name = database_name)\n",
    "\n",
    "connect_args = {\"host\": '/var/run/postgresql/'} # connect_args to pass to sqlalchemy create_engine function\n",
    "\n",
    "# schemas \n",
    "# schema_name = 'eol_test_ncjones' # all created tables will be created using this schema\n",
    "cdm_schema_name = config.OMOP_CDM_SCHEMA # the name of the schema housing your OMOP CDM tables\n",
    "print(f\"cdm schema: {cdm_schema_name}\")\n",
    "\n",
    "    #username = username,\n",
    "    #password = password,\n",
    "   # database_name = database_name\n",
    "#)\n",
    "\n",
    "# schemas \n",
    "schema_name = 'eol_test_eheal' # all created tables will be created using this schema\n",
    "\n",
    "# caching\n",
    "reset_schema = False # if true, rebuild all data from scratch\n",
    "\n",
    "# set up database, reset schemas as needed\n",
    "db = dbutils.Database(config_path, schema_name, connect_args, cdm_schema_name)\n",
    "# if reset_schema:\n",
    "#     db.execute(\n",
    "#         'drop schema if exists {} cascade'.format(schema_name)\n",
    "#     )\n",
    "# db.execute(\n",
    "#     'create schema if not exists {}'.format(schema_name)\n",
    "# )"
   ]
  },
  {
   "cell_type": "code",
   "execution_count": 5,
   "metadata": {},
   "outputs": [
    {
     "name": "stdout",
     "output_type": "stream",
     "text": [
      "CPU times: user 801 ms, sys: 136 ms, total: 937 ms\n",
      "Wall time: 1.03 s\n"
     ]
    }
   ],
   "source": [
    "%%time\n",
    "# set input\n",
    "username='cdm_6871_21'\n",
    "password='MLHC2021'\n",
    "database_name = 'omop_v6'\n",
    "conn_string = \"dbname=\"+database_name + \" host=/var/run/postgresql\"\n",
    "conn=psycopg2.connect(conn_string)\n",
    "\n",
    "sql_cmd = 'select * from cdm_6871_21.{}'.format(in_name)\n",
    "covariate_df =pd.read_sql(sql_cmd, conn)\n",
    "\n"
   ]
  },
  {
   "cell_type": "code",
   "execution_count": 6,
   "metadata": {},
   "outputs": [
    {
     "name": "stdout",
     "output_type": "stream",
     "text": [
      "CPU times: user 2.3 s, sys: 345 ms, total: 2.65 s\n",
      "Wall time: 24.6 s\n"
     ]
    }
   ],
   "source": [
    "%%time\n",
    "# Get all antibiotic history per patient\n",
    "cohort_treatments = pd.read_sql(\"\"\"SELECT\n",
    "                                uti.index,\n",
    "                                uti.condition_occurrence_id, \n",
    "                                uti.person_id,\n",
    "                                uti.condition_start_date,\n",
    "                                anti.*,\n",
    "                                drug.drug_exposure_id,\n",
    "                                drug.drug_exposure_start_date,\n",
    "                                drug.drug_exposure_start_datetime\n",
    "                           FROM cdm_6871_21.cohort_manuscript_updated_treatments_ncj uti\n",
    "                           JOIN cdm_6871_21.drug_exposure drug ON \n",
    "                                    drug.person_id = uti.person_id AND\n",
    "                                    drug.drug_exposure_start_date - uti.condition_start_date < -1\n",
    "                           JOIN cdm_6871_21.antibiotics_v2_ncj anti ON\n",
    "                                       drug.drug_concept_id = anti.drug_concept_id\n",
    "                           ORDER BY \n",
    "                                    uti.condition_occurrence_id\n",
    "                        \"\"\", conn)"
   ]
  },
  {
   "cell_type": "code",
   "execution_count": 9,
   "metadata": {},
   "outputs": [
    {
     "name": "stdout",
     "output_type": "stream",
     "text": [
      "CPU times: user 488 ms, sys: 84.1 ms, total: 572 ms\n",
      "Wall time: 569 ms\n"
     ]
    }
   ],
   "source": [
    "%%time\n",
    "cohort_v7 = covariate_df.copy()\n",
    "\n",
    "# Create New Variables \n",
    "cohort_v7 = cohort_v7.assign(nitrofurantoin_switch_ever=0)\n",
    "cohort_v7 = cohort_v7.assign(fosfomycin_switch_ever=0)\n",
    "cohort_v7['trimethoprim-sulfamethoxazole_switch_ever'] =0\n",
    "cohort_v7 = cohort_v7.assign(second_line_switch_ever=0)\n",
    "cohort_v7 = cohort_v7.assign(alternatives_switch_ever=0)\n",
    "cohort_v7 = cohort_v7.assign(inappropriate_switch_ever=0)\n",
    "\n",
    "cohort_v7 = cohort_v7.assign(nitrofurantoin_switch_recent=0)\n",
    "cohort_v7 = cohort_v7.assign(fosfomycin_switch_recent=0)\n",
    "cohort_v7['trimethoprim-sulfamethoxazole_switch_recent'] =0\n",
    "cohort_v7 = cohort_v7.assign(second_line_switch_recent=0)\n",
    "cohort_v7 = cohort_v7.assign(alternatives_switch_recent=0)\n",
    "cohort_v7 = cohort_v7.assign(inappropriate_switch_recent=0)\n",
    "\n",
    "cohort_v7 = cohort_v7.assign(nitrofurantoin_1_to_7_days=0)\n",
    "cohort_v7 = cohort_v7.assign(fosfomycin_1_to_7_days=0)\n",
    "cohort_v7['trimethoprim-sulfamethoxazole_1_to_7_days'] =0\n",
    "cohort_v7 = cohort_v7.assign(second_line_1_to_7_days=0)\n",
    "cohort_v7 = cohort_v7.assign(alternatives_1_to_7_days=0)\n",
    "cohort_v7 = cohort_v7.assign(inappropriate_1_to_7_days=0)\n",
    "\n",
    "cohort_v7 = cohort_v7.assign(nitrofurantoin_0_to_6_mo=0)\n",
    "cohort_v7 = cohort_v7.assign(fosfomycin_0_to_6_mo=0)\n",
    "cohort_v7['trimethoprim-sulfamethoxazole_0_to_6_mo'] =0\n",
    "cohort_v7 = cohort_v7.assign(second_line_0_to_6_mo=0)\n",
    "cohort_v7 = cohort_v7.assign(alternatives_0_to_6_mo=0)\n",
    "cohort_v7 = cohort_v7.assign(inappropriate_0_to_6_mo=0)\n",
    "\n",
    "cohort_v7 = cohort_v7.assign(nitrofurantoin_6_to_12_mo=0)\n",
    "cohort_v7 = cohort_v7.assign(fosfomycin_6_to_12_mo=0)\n",
    "cohort_v7['trimethoprim-sulfamethoxazole_6_to_12_mo'] =0\n",
    "cohort_v7 = cohort_v7.assign(second_line_6_to_12_mo=0)\n",
    "cohort_v7 = cohort_v7.assign(alternatives_6_to_12_mo=0)\n",
    "cohort_v7 = cohort_v7.assign(inappropriate_6_to_12_mo=0)\n",
    "\n",
    "cohort_v7 = cohort_v7.assign(nitrofurantoin_12_to_24_mo=0)\n",
    "cohort_v7 = cohort_v7.assign(fosfomycin_12_to_24_mo=0)\n",
    "cohort_v7['trimethoprim-sulfamethoxazole_12_to_24_mo'] =0\n",
    "cohort_v7 = cohort_v7.assign(second_line_12_to_24_mo=0)\n",
    "cohort_v7 = cohort_v7.assign(alternatives_12_to_24_mo=0)\n",
    "cohort_v7 = cohort_v7.assign(inappropriate_12_to_24_mo=0)\n",
    "\n",
    "\n",
    "cohort_v7 = cohort_v7.assign(nitrofurantoin_most_recent=0)\n",
    "cohort_v7 = cohort_v7.assign(fosfomycin_most_recent=0)\n",
    "cohort_v7['trimethoprim-sulfamethoxazole_most_recent'] =0\n",
    "cohort_v7 = cohort_v7.assign(second_line_most_recent=0)\n",
    "cohort_v7 = cohort_v7.assign(alternatives_most_recent=0)\n",
    "cohort_v7 = cohort_v7.assign(inappropriate_most_recent=0)"
   ]
  },
  {
   "cell_type": "code",
   "execution_count": 10,
   "metadata": {},
   "outputs": [],
   "source": [
    "ids_with_previous_treatment = cohort_treatments.condition_occurrence_id.unique()"
   ]
  },
  {
   "cell_type": "code",
   "execution_count": 12,
   "metadata": {
    "scrolled": false
   },
   "outputs": [
    {
     "name": "stdout",
     "output_type": "stream",
     "text": [
      "2%\n",
      "4%\n",
      "6%\n",
      "8%\n",
      "11%\n",
      "13%\n",
      "15%\n",
      "17%\n",
      "19%\n",
      "21%\n",
      "23%\n",
      "25%\n",
      "27%\n",
      "29%\n",
      "32%\n",
      "34%\n",
      "36%\n",
      "38%\n",
      "40%\n",
      "42%\n",
      "44%\n",
      "46%\n",
      "48%\n",
      "51%\n",
      "53%\n",
      "55%\n",
      "57%\n",
      "59%\n",
      "61%\n",
      "63%\n",
      "65%\n",
      "67%\n",
      "70%\n",
      "72%\n",
      "74%\n",
      "76%\n",
      "78%\n",
      "80%\n",
      "82%\n",
      "84%\n",
      "86%\n",
      "88%\n",
      "91%\n",
      "93%\n",
      "95%\n",
      "97%\n",
      "99%\n",
      "CPU times: user 12min 58s, sys: 540 ms, total: 12min 59s\n",
      "Wall time: 12min 59s\n"
     ]
    }
   ],
   "source": [
    "%%time\n",
    "i=0\n",
    "cohort_temp = cohort_v7.copy()\n",
    "for condition_occurrence_id in ids_with_previous_treatment:\n",
    "    temp = cohort_treatments[cohort_treatments.condition_occurrence_id==condition_occurrence_id]\n",
    "    index = list(cohort_temp[cohort_temp.condition_occurrence_id ==condition_occurrence_id].index)[0]\n",
    "    if temp.antibiotic_type.nunique()>1:\n",
    "        if 'level_0' in temp.columns:\n",
    "            temp = temp.drop(columns ='level_0')\n",
    "        temp = temp.sort_values('drug_exposure_start_date',ascending = False).reset_index()\n",
    "        for inex, row in temp.iterrows():\n",
    "            drug_date = row.drug_exposure_start_date\n",
    "            uti_date = row.condition_start_date\n",
    "            drug_type = row.antibiotic_type \n",
    "            if inex ==0:\n",
    "                cohort_temp.at[index, str(drug_type)+'_most_recent'] = 1 \n",
    "                after_drug = drug_type\n",
    "            else:\n",
    "                for j in range(inex):\n",
    "                    row_df =temp.iloc[j,:]\n",
    "                    drug_date_after = row_df.drug_exposure_start_date \n",
    "                    uti_date_after = row_df.condition_start_date\n",
    "                    drug_type_after = row_df.antibiotic_type \n",
    "                    if drug_type_after != drug_type:\n",
    "                        if (drug_date_after-drug_date).days>0 and (drug_date_after-drug_date).days<8:\n",
    "                            cohort_temp.at[index, str(drug_type)+'_switch_ever'] = 1\n",
    "                            if inex == min(temp[temp.antibiotic_type ==drug_type].index):\n",
    "                                cohort_temp.at[index, str(drug_type)+'_switch_recent'] = 1\n",
    "            \n",
    "    elif temp.antibiotic_type.nunique()==1:\n",
    "        drug_type = list(temp.antibiotic_type)[0]\n",
    "        cohort_temp.at[index, str(drug_type)+'_most_recent'] = 1 \n",
    "\n",
    "    for inex, row in temp.iterrows():\n",
    "        drug_date = row.drug_exposure_start_date\n",
    "        uti_date = row.condition_start_date\n",
    "        drug_type = row.antibiotic_type \n",
    "        \n",
    "        if (uti_date-drug_date).days >0 and (uti_date-drug_date).days <8:          \n",
    "            cohort_temp.at[index, str(drug_type)+'_1_to_7_days'] = 1\n",
    "        if (uti_date-drug_date).days >0 and (uti_date-drug_date).days <183:          \n",
    "            cohort_temp.at[index, str(drug_type)+'_0_to_6_mo'] = 1\n",
    "        if (uti_date-drug_date).days >182 and (uti_date-drug_date).days <365:          \n",
    "            cohort_temp.at[index, str(drug_type)+'_6_to_12_mo'] = 1        \n",
    "        if (uti_date-drug_date).days >364 and (uti_date-drug_date).days <728:          \n",
    "            cohort_temp.at[index, str(drug_type)+'_12_to_24_mo'] = 1    \n",
    " \n",
    "    i = i+1\n",
    "    if i%1000==0:\n",
    "        print(str(round(i/len(ids_with_previous_treatment)*100))+'%')\n",
    "\n",
    "    "
   ]
  },
  {
   "cell_type": "code",
   "execution_count": 15,
   "metadata": {},
   "outputs": [],
   "source": [
    "if 'level_0' in cohort_temp.columns:\n",
    "    cohort_temp =cohort_temp.drop(columns = 'level_0')"
   ]
  },
  {
   "cell_type": "code",
   "execution_count": 16,
   "metadata": {},
   "outputs": [],
   "source": [
    "cohort_temp.to_sql(\"{}\".format(out_name),con=db.engine, if_exists=\"replace\", schema=\"cdm_6871_21\")"
   ]
  },
  {
   "cell_type": "code",
   "execution_count": 17,
   "metadata": {},
   "outputs": [
    {
     "name": "stdout",
     "output_type": "stream",
     "text": [
      "Executed 1 SQLs\n"
     ]
    }
   ],
   "source": [
    "db.execute('GRANT SELECT ON TABLE cdm_6871_21.{} TO cdm_6871_21;'.format(out_name))\n",
    "\n"
   ]
  }
 ],
 "metadata": {
  "kernelspec": {
   "display_name": "omop_v2",
   "language": "python",
   "name": "myenv"
  },
  "language_info": {
   "codemirror_mode": {
    "name": "ipython",
    "version": 3
   },
   "file_extension": ".py",
   "mimetype": "text/x-python",
   "name": "python",
   "nbconvert_exporter": "python",
   "pygments_lexer": "ipython3",
   "version": "3.8.5"
  }
 },
 "nbformat": 4,
 "nbformat_minor": 2
}
