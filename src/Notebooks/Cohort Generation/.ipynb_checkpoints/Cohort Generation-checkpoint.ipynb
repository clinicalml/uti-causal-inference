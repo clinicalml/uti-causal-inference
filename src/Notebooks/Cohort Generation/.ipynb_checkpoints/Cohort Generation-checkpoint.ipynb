{
 "cells": [
  {
   "cell_type": "markdown",
   "metadata": {},
   "source": [
    "## This is a direct copy of Elizabeth's notebook except I changed the following things\n",
    "\n"
   ]
  },
  {
   "cell_type": "code",
   "execution_count": 1,
   "metadata": {},
   "outputs": [],
   "source": [
    "# flag to display figures in graph\n",
    "show_figures=1\n"
   ]
  },
  {
   "cell_type": "code",
   "execution_count": 2,
   "metadata": {},
   "outputs": [],
   "source": [
    "import sys\n",
    "\n",
    "sys.path.append( '..' )"
   ]
  },
  {
   "cell_type": "code",
   "execution_count": 3,
   "metadata": {},
   "outputs": [],
   "source": [
    "import psycopg2\n",
    "import pandas as pd\n",
    "import numpy\n",
    "import sparse\n",
    "import config\n",
    "import sys\n",
    "import time\n",
    "import importlib\n",
    "#import sparse\n",
    "import datetime\n",
    "import pandas as pd\n",
    "import numpy as np\n",
    "import scipy.sparse\n",
    "import matplotlib.pyplot as plt\n",
    "\n",
    "import Utils.dbutils as dbutils\n",
    "import Utils.data_utils as data_utils\n",
    "import Generators.CohortGenerator as CohortGenerator\n",
    "import Generators.FeatureGenerator as FeatureGenerator\n",
    "import config\n",
    "local_imports = (\n",
    "    dbutils,\n",
    "    data_utils,\n",
    "    CohortGenerator,\n",
    "    FeatureGenerator,\n",
    "    config\n",
    ")\n",
    "for i in local_imports:\n",
    "    i = importlib.reload(i)"
   ]
  },
  {
   "cell_type": "code",
   "execution_count": 4,
   "metadata": {},
   "outputs": [
    {
     "name": "stdout",
     "output_type": "stream",
     "text": [
      "Executed 1 SQLs\n"
     ]
    }
   ],
   "source": [
    "# database connection\n",
    "username = config.PG_USERNAME\n",
    "password = config.PG_PASSWORD\n",
    "database_name = config.DB_NAME\n",
    "\n",
    "#config_path = 'postgresql://{username}:{password}@{database_name}'.format(\n",
    "config_path = 'postgresql://{database_name}'.format(database_name = database_name)\n",
    "\n",
    "\n",
    "    #username = username,\n",
    "    #password = password,\n",
    "   # database_name = database_name\n",
    "#)\n",
    "\n",
    "# schemas \n",
    "schema_name = 'eol_test_eheal' # all created tables will be created using this schema\n",
    "\n",
    "# caching\n",
    "reset_schema = False # if true, rebuild all data from scratch\n",
    "\n",
    "# set up database, reset schemas as needed\n",
    "db = dbutils.Database(config_path, schema_name)\n",
    "if reset_schema:\n",
    "    db.execute(\n",
    "        'drop schema if exists {} cascade'.format(schema_name)\n",
    "    )\n",
    "db.execute(\n",
    "    'create schema if not exists {}'.format(schema_name)\n",
    ")"
   ]
  },
  {
   "cell_type": "markdown",
   "metadata": {},
   "source": [
    "## UTI"
   ]
  },
  {
   "cell_type": "code",
   "execution_count": 4,
   "metadata": {},
   "outputs": [],
   "source": [
    "# Get all female condition events"
   ]
  },
  {
   "cell_type": "code",
   "execution_count": 5,
   "metadata": {},
   "outputs": [
    {
     "data": {
      "text/html": [
       "<div>\n",
       "<style scoped>\n",
       "    .dataframe tbody tr th:only-of-type {\n",
       "        vertical-align: middle;\n",
       "    }\n",
       "\n",
       "    .dataframe tbody tr th {\n",
       "        vertical-align: top;\n",
       "    }\n",
       "\n",
       "    .dataframe thead th {\n",
       "        text-align: right;\n",
       "    }\n",
       "</style>\n",
       "<table border=\"1\" class=\"dataframe\">\n",
       "  <thead>\n",
       "    <tr style=\"text-align: right;\">\n",
       "      <th></th>\n",
       "      <th>concept_id</th>\n",
       "      <th>condition_start_date</th>\n",
       "      <th>condition_occurrence_id</th>\n",
       "      <th>person_id</th>\n",
       "    </tr>\n",
       "  </thead>\n",
       "  <tbody>\n",
       "    <tr>\n",
       "      <th>0</th>\n",
       "      <td>75605</td>\n",
       "      <td>2017-10-21</td>\n",
       "      <td>340464887</td>\n",
       "      <td>32368467</td>\n",
       "    </tr>\n",
       "    <tr>\n",
       "      <th>1</th>\n",
       "      <td>81902</td>\n",
       "      <td>2017-12-03</td>\n",
       "      <td>349963424</td>\n",
       "      <td>32368467</td>\n",
       "    </tr>\n",
       "    <tr>\n",
       "      <th>2</th>\n",
       "      <td>141253</td>\n",
       "      <td>2019-09-30</td>\n",
       "      <td>494874498</td>\n",
       "      <td>32368467</td>\n",
       "    </tr>\n",
       "    <tr>\n",
       "      <th>3</th>\n",
       "      <td>444417</td>\n",
       "      <td>2017-10-21</td>\n",
       "      <td>340652444</td>\n",
       "      <td>32368467</td>\n",
       "    </tr>\n",
       "    <tr>\n",
       "      <th>4</th>\n",
       "      <td>141253</td>\n",
       "      <td>2019-09-30</td>\n",
       "      <td>494856569</td>\n",
       "      <td>32368467</td>\n",
       "    </tr>\n",
       "  </tbody>\n",
       "</table>\n",
       "</div>"
      ],
      "text/plain": [
       "   concept_id condition_start_date  condition_occurrence_id  person_id\n",
       "0       75605           2017-10-21                340464887   32368467\n",
       "1       81902           2017-12-03                349963424   32368467\n",
       "2      141253           2019-09-30                494874498   32368467\n",
       "3      444417           2017-10-21                340652444   32368467\n",
       "4      141253           2019-09-30                494856569   32368467"
      ]
     },
     "metadata": {},
     "output_type": "display_data"
    },
    {
     "name": "stdout",
     "output_type": "stream",
     "text": [
      "CPU times: user 6min 23s, sys: 2min 9s, total: 8min 33s\n",
      "Wall time: 20min 46s\n"
     ]
    }
   ],
   "source": [
    "%%time\n",
    "sql = \"\"\"\n",
    "    select \n",
    "        a.condition_concept_id as concept_id,\n",
    "        a.condition_start_date as condition_start_date,\n",
    "        a.condition_occurrence_id as condition_occurrence_id,\n",
    "        p.person_id as person_id\n",
    "    from\n",
    "        {omop_schema}.condition_occurrence a\n",
    "    inner join\n",
    "        {omop_schema}.person p\n",
    "    on \n",
    "        a.person_id = p.person_id\n",
    "    where \n",
    "        p.gender_source_value = 'F'\n",
    "\n",
    "\"\"\".format(\n",
    "    omop_schema=config.OMOP_CDM_SCHEMA,\n",
    "    training_end_date='2020-01-01',\n",
    ")\n",
    "condition_df = db.query(sql)\n",
    "condition_df.set_index([\"condition_occurrence_id\"])\n",
    "display(condition_df.head())"
   ]
  },
  {
   "cell_type": "code",
   "execution_count": 6,
   "metadata": {},
   "outputs": [
    {
     "data": {
      "text/plain": [
       "'%%time\\nsql = \"\"\"\\n    select \\n        a.condition_source_value as concept_code,\\n        a.condition_concept_id as concept_id,\\n        a.condition_start_date as condition_start_date,\\n        a.condition_occurrence_id as condition_occurrence_id,\\n        p.person_id as person_id\\n    from\\n        {omop_schema}.condition_occurrence a\\n    inner join\\n        {omop_schema}.person p\\n    on \\n        a.person_id = p.person_id\\n    where \\n        p.gender_source_value = \\'F\\'\\n\\n\"\"\".format(\\n    omop_schema=config.OMOP_CDM_SCHEMA,\\n    training_end_date=\\'2020-01-01\\',\\n)\\ncondition_df = db.query(sql)\\ncondition_df.set_index([\"condition_occurrence_id\"])\\ndisplay(condition_df.head())'"
      ]
     },
     "execution_count": 6,
     "metadata": {},
     "output_type": "execute_result"
    }
   ],
   "source": [
    "'''%%time\n",
    "sql = \"\"\"\n",
    "    select \n",
    "        a.condition_source_value as concept_code,\n",
    "        a.condition_concept_id as concept_id,\n",
    "        a.condition_start_date as condition_start_date,\n",
    "        a.condition_occurrence_id as condition_occurrence_id,\n",
    "        p.person_id as person_id\n",
    "    from\n",
    "        {omop_schema}.condition_occurrence a\n",
    "    inner join\n",
    "        {omop_schema}.person p\n",
    "    on \n",
    "        a.person_id = p.person_id\n",
    "    where \n",
    "        p.gender_source_value = 'F'\n",
    "\n",
    "\"\"\".format(\n",
    "    omop_schema=config.OMOP_CDM_SCHEMA,\n",
    "    training_end_date='2020-01-01',\n",
    ")\n",
    "condition_df = db.query(sql)\n",
    "condition_df.set_index([\"condition_occurrence_id\"])\n",
    "display(condition_df.head())'''"
   ]
  },
  {
   "cell_type": "code",
   "execution_count": 7,
   "metadata": {},
   "outputs": [
    {
     "data": {
      "text/plain": [
       "162247860"
      ]
     },
     "execution_count": 7,
     "metadata": {},
     "output_type": "execute_result"
    }
   ],
   "source": [
    "len(condition_df)"
   ]
  },
  {
   "cell_type": "code",
   "execution_count": 8,
   "metadata": {},
   "outputs": [],
   "source": [
    "## Get UTI Codes"
   ]
  },
  {
   "cell_type": "code",
   "execution_count": 9,
   "metadata": {},
   "outputs": [
    {
     "name": "stdout",
     "output_type": "stream",
     "text": [
      "'194081', '195588', '37018854', '37016338', '81902'\n",
      "CPU times: user 0 ns, sys: 0 ns, total: 0 ns\n",
      "Wall time: 640 µs\n"
     ]
    }
   ],
   "source": [
    "%%time\n",
    "uti_concept_ids = [194081, \n",
    "                   195588,\n",
    "                   37018854,\n",
    "                   37016338,\n",
    "                   81902]\n",
    "\n",
    "uti_string = \", \".join([f\"'{x}'\" for x in uti_concept_ids])\n",
    "print(uti_string)"
   ]
  },
  {
   "cell_type": "code",
   "execution_count": 10,
   "metadata": {},
   "outputs": [],
   "source": [
    "#       81902 | Urinary tract infectious disease             | Condition | SNOMED        | Clinical Finding | S                | 68566005        | 1970-01-01       | 2099-12-31     | n\n",
    "#      194081 | Acute cystitis                                | Condition | SNOMED        | Clinical Finding | S                | 68226007        | 1970-01-01       | 2099-12-31     | n\n",
    "#      195588 | Cystitis                                      | Condition | SNOMED        | Clinical Finding | S                | 38822007        | 1970-01-01       | 2099-12-31     | n\n",
    "#      195862 | Urethritis (REMOVED)                          | Condition | SNOMED        | Clinical Finding | S                | 31822004        | 1970-01-01       | 2099-12-31     | n\n",
    "#      201353 | Irradiation cystitis (REMOVED)                | Condition | SNOMED        | Clinical Finding | S                | 11251000        | 1970-01-01       | 2099-12-31     | n\n",
    "#      201792 | Nongonococcal urethritis (REMOVED)            | Condition | SNOMED        | Clinical Finding | S                | 84619001        | 1970-01-01       | 2099-12-31     | n\n",
    "#    37016338 | Hematuria co-occurrent and due to cystitis       | Condition | SNOMED        | Clinical Finding | S                | 367171000119100 | 2016-01-31       | 2099-12-31     | n\n",
    "#    37018854 | Hematuria co-occurrent and due to acute cystitis | Condition | SNOMED        | Clinical Finding | S                | 366941000119107 | 2016-01-31       | 2099-12-31     | n"
   ]
  },
  {
   "cell_type": "code",
   "execution_count": 11,
   "metadata": {},
   "outputs": [
    {
     "name": "stdout",
     "output_type": "stream",
     "text": [
      "1462322\n",
      "CPU times: user 1.79 s, sys: 1.52 s, total: 3.31 s\n",
      "Wall time: 3.79 s\n"
     ]
    },
    {
     "data": {
      "text/html": [
       "<div>\n",
       "<style scoped>\n",
       "    .dataframe tbody tr th:only-of-type {\n",
       "        vertical-align: middle;\n",
       "    }\n",
       "\n",
       "    .dataframe tbody tr th {\n",
       "        vertical-align: top;\n",
       "    }\n",
       "\n",
       "    .dataframe thead th {\n",
       "        text-align: right;\n",
       "    }\n",
       "</style>\n",
       "<table border=\"1\" class=\"dataframe\">\n",
       "  <thead>\n",
       "    <tr style=\"text-align: right;\">\n",
       "      <th></th>\n",
       "      <th>concept_id</th>\n",
       "      <th>condition_start_date</th>\n",
       "      <th>condition_occurrence_id</th>\n",
       "      <th>person_id</th>\n",
       "    </tr>\n",
       "  </thead>\n",
       "  <tbody>\n",
       "    <tr>\n",
       "      <th>1</th>\n",
       "      <td>81902</td>\n",
       "      <td>2017-12-03</td>\n",
       "      <td>349963424</td>\n",
       "      <td>32368467</td>\n",
       "    </tr>\n",
       "    <tr>\n",
       "      <th>7</th>\n",
       "      <td>81902</td>\n",
       "      <td>2017-12-03</td>\n",
       "      <td>350102336</td>\n",
       "      <td>32368467</td>\n",
       "    </tr>\n",
       "    <tr>\n",
       "      <th>16</th>\n",
       "      <td>81902</td>\n",
       "      <td>2017-12-03</td>\n",
       "      <td>350098405</td>\n",
       "      <td>32368467</td>\n",
       "    </tr>\n",
       "    <tr>\n",
       "      <th>26</th>\n",
       "      <td>81902</td>\n",
       "      <td>2017-05-28</td>\n",
       "      <td>309136177</td>\n",
       "      <td>32368467</td>\n",
       "    </tr>\n",
       "    <tr>\n",
       "      <th>44</th>\n",
       "      <td>81902</td>\n",
       "      <td>2017-05-28</td>\n",
       "      <td>309017203</td>\n",
       "      <td>32368467</td>\n",
       "    </tr>\n",
       "  </tbody>\n",
       "</table>\n",
       "</div>"
      ],
      "text/plain": [
       "    concept_id condition_start_date  condition_occurrence_id  person_id\n",
       "1        81902           2017-12-03                349963424   32368467\n",
       "7        81902           2017-12-03                350102336   32368467\n",
       "16       81902           2017-12-03                350098405   32368467\n",
       "26       81902           2017-05-28                309136177   32368467\n",
       "44       81902           2017-05-28                309017203   32368467"
      ]
     },
     "execution_count": 11,
     "metadata": {},
     "output_type": "execute_result"
    }
   ],
   "source": [
    "%%time\n",
    "# Filter by UTI concept ids in python to reduce query time\n",
    "utis = condition_df[condition_df.concept_id.isin(uti_concept_ids)]\n",
    "print(len(utis))\n",
    "utis.head()"
   ]
  },
  {
   "cell_type": "markdown",
   "metadata": {},
   "source": [
    "# get treatment information for all UTIs\n"
   ]
  },
  {
   "cell_type": "code",
   "execution_count": 12,
   "metadata": {},
   "outputs": [],
   "source": [
    "# remove duplicates of dates \n",
    "utis_all = utis.drop_duplicates(subset= ['concept_id','person_id','condition_start_date'],keep='first', inplace=False,)\n"
   ]
  },
  {
   "cell_type": "code",
   "execution_count": 13,
   "metadata": {},
   "outputs": [],
   "source": [
    "utis_all.to_sql(\"candidate_events_all\",con=db.engine, if_exists=\"replace\", schema=\"cdm_6871_21\")\n",
    "\n"
   ]
  },
  {
   "cell_type": "code",
   "execution_count": 13,
   "metadata": {},
   "outputs": [
    {
     "name": "stdout",
     "output_type": "stream",
     "text": [
      "0.04\n",
      "0.09\n",
      "0.13\n",
      "0.18\n",
      "0.22\n",
      "0.26\n",
      "0.31\n",
      "0.35\n",
      "0.4\n",
      "0.44\n",
      "0.49\n",
      "0.53\n",
      "0.57\n",
      "0.62\n",
      "0.66\n",
      "0.71\n",
      "0.75\n",
      "0.79\n",
      "0.84\n",
      "0.88\n",
      "0.93\n",
      "0.97\n",
      "CPU times: user 4min 7s, sys: 11.5 s, total: 4min 19s\n",
      "Wall time: 4min 50s\n"
     ]
    }
   ],
   "source": [
    "%%time\n",
    "reload_antibiotic=0\n",
    "username='cdm_6871_21'\n",
    "password='MLHC2021'\n",
    "database_name = 'omop_v6'\n",
    "conn_string = \"dbname=\"+database_name + \" host=/var/run/postgresql\"\n",
    "conn=psycopg2.connect(conn_string)\n",
    "\n",
    "if reload_antibiotic == 1:\n",
    "    all_drugs = pd.read_sql(\"\"\"SELECT * FROM cdm_6871_21.concept\n",
    "                                 WHERE domain_id = 'Drug'\"\"\", conn)\n",
    "\n",
    "### Identify the antibiotic in each drug name \n",
    "    # First Line\n",
    "    all_drugs.loc[all_drugs[\"concept_name\"].str.lower().str.contains(\"nitrofurantoin\"), 'antibiotic_name'] = \"nitrofurantoin\"\n",
    "    all_drugs.loc[all_drugs[\"concept_name\"].str.lower().str.contains(\"sulfamethoxazole\"), 'antibiotic_name'] = \"sulfamethoxazole\"\n",
    "    all_drugs.loc[all_drugs[\"concept_name\"].str.lower().str.contains(\"trimethoprim\"), 'antibiotic_name'] = \"trimethoprim\"\n",
    "    all_drugs.loc[(all_drugs[\"concept_name\"].str.lower().str.contains(\"trimethoprim\")) & \\\n",
    "                                 (all_drugs[\"concept_name\"].str.lower().str.contains(\"sulfamethoxazole\")), 'antibiotic_name'] = \"trimethoprim-sulfamethoxazole\"\n",
    "    all_drugs.loc[all_drugs[\"concept_name\"].str.lower().str.contains(\"fosfomycin\"), 'antibiotic_name'] = \"fosfomycin\"\n",
    "\n",
    "    # Second Line\n",
    "    all_drugs.loc[all_drugs[\"concept_name\"].str.lower().str.contains(\"cephalexin\"), 'antibiotic_name'] = \"cephalexin\"\n",
    "    all_drugs.loc[all_drugs[\"concept_name\"].str.lower().str.contains(\"cephalexin\"), 'antibiotic_name'] = \"quinolone\"\n",
    "\n",
    "\n",
    "    all_drugs.loc[all_drugs[\"concept_name\"].str.lower().str.contains(\"ceftriaxone\"), 'antibiotic_name'] = \"ceftriaxone\"\n",
    "    all_drugs.loc[all_drugs[\"concept_name\"].str.lower().str.contains(\"cefuroxime\"), 'antibiotic_name'] = \"cefuroxime\"\n",
    "    all_drugs.loc[all_drugs[\"concept_name\"].str.lower().str.contains(\"cefdinir\"), 'antibiotic_name'] = \"cefdinir\"\n",
    "    all_drugs.loc[all_drugs[\"concept_name\"].str.lower().str.contains(\"cefazolin\"), 'antibiotic_name'] = \"cefazolin\"\n",
    "    all_drugs.loc[all_drugs[\"concept_name\"].str.lower().str.contains(\"cefepime\"), 'antibiotic_name'] = \"cefepime\"\n",
    "    all_drugs.loc[all_drugs[\"concept_name\"].str.lower().str.contains(\"cefpodoxime\"), 'antibiotic_name'] = \"cefpodoxime\"\n",
    "    all_drugs.loc[all_drugs[\"concept_name\"].str.lower().str.contains(\"cefixime\"), 'antibiotic_name'] = \"cefixime\"\n",
    "    all_drugs.loc[all_drugs[\"concept_name\"].str.lower().str.contains(\"cefadroxil\"), 'antibiotic_name'] = \"cefadroxil\"\n",
    "    all_drugs.loc[all_drugs[\"concept_name\"].str.lower().str.contains(\"amoxicillin\"), 'antibiotic_name'] = \"amoxicillin\"\n",
    "    all_drugs.loc[(all_drugs[\"concept_name\"].str.lower().str.contains(\"amoxicillin\")) & \\\n",
    "                                 (all_drugs[\"concept_name\"].str.lower().str.contains(\"clavulan\")), 'antibiotic_name'] = \"amoxicillin-clavulanic acid\"\n",
    "\n",
    "    # Third Line\n",
    "\n",
    "    all_drugs.loc[all_drugs[\"concept_name\"].str.lower().str.contains(\"ofloxacin\"), 'antibiotic_name'] = \"ofloxacin\"\n",
    "    all_drugs.loc[all_drugs[\"concept_name\"].str.lower().str.contains(\"levofloxacin\"), 'antibiotic_name'] = \"levofloxacin\"\n",
    "    all_drugs.loc[all_drugs[\"concept_name\"].str.lower().str.contains(\"ciprofloxacin\"), 'antibiotic_name'] = \"ciprofloxacin\"\n",
    "\n",
    "    # Inappropriate\n",
    "\n",
    "    all_drugs.loc[all_drugs[\"concept_name\"].str.lower().str.contains(\"fluconazole\"), 'antibiotic_name'] = \"fluconazole\"\n",
    "    all_drugs.loc[all_drugs[\"concept_name\"].str.lower().str.contains(\"doxycycline\"), 'antibiotic_name'] = \"doxycycline\"\n",
    "    all_drugs.loc[all_drugs[\"concept_name\"].str.lower().str.contains(\"clindamycin\"), 'antibiotic_name'] = \"clindamycin\"\n",
    "    all_drugs.loc[all_drugs[\"concept_name\"].str.lower().str.contains(\"linezolid\"), 'antibiotic_name'] = \"linezolid\"\n",
    "    all_drugs.loc[all_drugs[\"concept_name\"].str.lower().str.contains(\"metronidazole\"), 'antibiotic_name'] = \"metronidazole\"\n",
    "    all_drugs.loc[all_drugs[\"concept_name\"].str.lower().str.contains(\"azithromycin\"), 'antibiotic_name'] = \"azithromycin\"\n",
    "    \n",
    "    # Alternative\n",
    "    all_drugs.loc[all_drugs[\"concept_name\"].str.lower().str.contains(\"beta-lactam\"), 'antibiotic_name'] = 'beta-lactam'\n",
    "\n",
    "\n",
    "    all_drugs = all_drugs.rename(columns={\"concept_id\": \"drug_concept_id\", \"concept_name\": \"drug_name\"})\n",
    "\n",
    "    anti_new = all_drugs[['drug_concept_id','drug_name','antibiotic_name']]\n",
    "    anti_new = anti_new[~anti_new.antibiotic_name.isna()]\n",
    "    anti_new.to_sql(\"antibiotics_p1\",con=db.engine, if_exists=\"replace\", schema=\"cdm_6871_21\")\n",
    "\n",
    "if reload_antibiotic == 0:\n",
    "    sql_command = \"select * from cdm_6871_21.antibiotics_p1;\"\n",
    "    anti_new = pd.read_sql(sql_command,conn)\n",
    "\n",
    "\n",
    "anti_new = anti_new.assign(nitrofuantoin=0)\n",
    "anti_new = anti_new.assign(fosfomycin=0)\n",
    "anti_new['trimethoprim-sulfamethoxazole'] =0\n",
    "anti_new = anti_new.assign(second_line=0)\n",
    "#anti_new = anti_new.assign(third_line=0)\n",
    "anti_new = anti_new.assign(alternatives=0)\n",
    "anti_new = anti_new.assign(inappropriate=0)\n",
    "anti_new = anti_new.assign(antibiotic_type='')\n",
    "\n",
    "###\n",
    "count = 0\n",
    "for idx, row in anti_new.iterrows():\n",
    "    drug = row.antibiotic_name \n",
    "    if drug =='nitrofurantoin':\n",
    "        anti_new.loc[idx, \"nitrofurantoin\"] = 1\n",
    "        anti_new.loc[idx, \"antibiotic_type\"] =\"nitrofurantoin\"\n",
    "    elif drug =='fosfomycin':\n",
    "        anti_new.loc[idx, \"fosfomycin\"] = 1\n",
    "        anti_new.loc[idx, \"antibiotic_type\"] =\"fosfomycin\"\n",
    "    elif drug =='trimethoprim-sulfamethoxazole' or drug =='trimethoprim' or drug =='sulfamethoxazole':\n",
    "        anti_new.loc[idx, 'trimethoprim-sulfamethoxazole'] = 1\n",
    "        anti_new.loc[idx, \"antibiotic_type\"] ='trimethoprim-sulfamethoxazole'\n",
    "\n",
    "       \n",
    "    elif (\"cef\" in drug.lower()) or drug =='cephalexin' or (\"amoxicillin\" in drug.lower()):\n",
    "        anti_new.loc[idx, 'alternatives'] = 1\n",
    "        anti_new.loc[idx, \"antibiotic_type\"] ='alternatives'\n",
    "        \n",
    "    elif drug == \"quinolone\":\n",
    "        anti_new.loc[idx, 'second_line'] = 1\n",
    "        anti_new.loc[idx, \"antibiotic_type\"] ='second_line'\n",
    "\n",
    "    elif 'ofloxacin' in drug.lower() :\n",
    "        anti_new.loc[idx, 'second_line'] = 1\n",
    "        anti_new.loc[idx, \"antibiotic_type\"] ='second_line'\n",
    "    elif drug== 'fluconazole' or drug== 'doxycycline'or drug== 'clindamycin' or drug== 'linezolid' or drug== 'metronidazole' or drug =='azithromycin' or 'injection' in drug:\n",
    "        anti_new.loc[idx, 'inappropriate'] = 1\n",
    "        anti_new.loc[idx, \"antibiotic_type\"] ='inappropriate'\n",
    "\n",
    "\n",
    "    '''    elif 'beta-lactam' in drug.lower() :\n",
    "        anti_new.loc[idx, 'alternatives'] = 1\n",
    "        anti_new.loc[idx, \"antibiotic_type\"] ='alternatives'\n",
    "    '''\n",
    "\n",
    "    count = count+1\n",
    "    if count%5000 ==0:\n",
    "        print(round(count/len(anti_new),2))\n",
    "        \n",
    "# remove patients with fosfomycin \n",
    "\n",
    "anti_new = anti_new[anti_new['fosfomycin']==0]\n",
    "        \n",
    "anti_new.to_sql(\"antibiotics_v2\",con=db.engine, if_exists=\"replace\", schema=\"cdm_6871_21\")"
   ]
  },
  {
   "cell_type": "code",
   "execution_count": 5,
   "metadata": {},
   "outputs": [
    {
     "name": "stdout",
     "output_type": "stream",
     "text": [
      "CPU times: user 0 ns, sys: 0 ns, total: 0 ns\n",
      "Wall time: 14.4 ms\n"
     ]
    }
   ],
   "source": [
    "%%time\n",
    "reload_antibiotic=0\n",
    "username='cdm_6871_21'\n",
    "password='MLHC2021'\n",
    "database_name = 'omop_v6'\n",
    "conn_string = \"dbname=\"+database_name + \" host=/var/run/postgresql\"\n",
    "conn=psycopg2.connect(conn_string)"
   ]
  },
  {
   "cell_type": "code",
   "execution_count": 6,
   "metadata": {},
   "outputs": [
    {
     "name": "stdout",
     "output_type": "stream",
     "text": [
      "CPU times: user 2.98 s, sys: 408 ms, total: 3.39 s\n",
      "Wall time: 13min 26s\n"
     ]
    }
   ],
   "source": [
    "%%time\n",
    "cohort_treatments = pd.read_sql(\"\"\"SELECT\n",
    "                                uti.index,\n",
    "                                uti.condition_occurrence_id, \n",
    "                                uti.person_id,\n",
    "                                uti.concept_id,\n",
    "                                uti.condition_start_date,\n",
    "                                anti.*,\n",
    "                                drug.drug_exposure_id,\n",
    "                                drug.drug_exposure_start_date,\n",
    "                                drug.drug_exposure_start_datetime\n",
    "                           FROM cdm_6871_21.candidate_events_all uti\n",
    "\n",
    "                           JOIN cdm_6871_21.drug_exposure drug ON \n",
    "                                       drug.person_id = uti.person_id AND\n",
    "                                       drug.drug_exposure_start_date - uti.condition_start_date < 8 AND\n",
    "                                       drug.drug_exposure_start_date - uti.condition_start_date > -1\n",
    "                           JOIN cdm_6871_21.antibiotics_v2 anti ON\n",
    "                                       drug.drug_concept_id = anti.drug_concept_id\n",
    "                           ORDER BY \n",
    "                                    uti.condition_occurrence_id\n",
    "                        \"\"\", conn)"
   ]
  },
  {
   "cell_type": "code",
   "execution_count": 7,
   "metadata": {},
   "outputs": [
    {
     "name": "stdout",
     "output_type": "stream",
     "text": [
      "CPU times: user 756 ms, sys: 64 ms, total: 820 ms\n",
      "Wall time: 6min 38s\n"
     ]
    }
   ],
   "source": [
    "%%time\n",
    "# Load antibiotic use in the previous 7 days \n",
    "cohort_treatments_drugs_past_7_day = pd.read_sql(\"\"\"SELECT\n",
    "                                uti.index,\n",
    "                                uti.condition_occurrence_id, \n",
    "                                uti.person_id,\n",
    "                                uti.concept_id,\n",
    "                                uti.condition_start_date,\n",
    "                                anti.*,\n",
    "                                drug.drug_exposure_id,\n",
    "                                drug.drug_exposure_start_date,\n",
    "                                drug.drug_exposure_start_datetime\n",
    "                           FROM cdm_6871_21.candidate_events_all uti\n",
    "\n",
    "                           JOIN cdm_6871_21.drug_exposure drug ON \n",
    "                                       drug.person_id = uti.person_id AND\n",
    "                                       drug.drug_exposure_start_date - uti.condition_start_date > -8 AND\n",
    "                                       drug.drug_exposure_start_date - uti.condition_start_date < 0\n",
    "                           JOIN cdm_6871_21.antibiotics_v2 anti ON\n",
    "                                       drug.drug_concept_id = anti.drug_concept_id\n",
    "                           ORDER BY \n",
    "                                    uti.condition_occurrence_id\n",
    "                        \"\"\", conn)"
   ]
  },
  {
   "cell_type": "code",
   "execution_count": 17,
   "metadata": {},
   "outputs": [
    {
     "name": "stdout",
     "output_type": "stream",
     "text": [
      "Unique UTI events with treatment\n",
      "250583\n",
      "Unique UTI events with treatment and without treatment 7 days prior\n",
      "227959\n"
     ]
    }
   ],
   "source": [
    "#UTI events with treatment\n",
    "uti_unique = cohort_treatments\n",
    "uti_unique = uti_unique.drop_duplicates(subset = ['condition_occurrence_id'], inplace = False, keep='first')\n",
    "print('Unique UTI events with treatment')\n",
    "print(len(uti_unique))\n",
    "\n",
    "\n",
    "#UTI events with treatment but without treatment 7 days prior\n",
    "condition_occurrence_id_to_exclude = cohort_treatments_drugs_past_7_day.condition_occurrence_id.unique()\n",
    "cohort_treatments_new = cohort_treatments[~cohort_treatments.condition_occurrence_id.isin(condition_occurrence_id_to_exclude)]\n",
    "uti_unique = cohort_treatments_new\n",
    "uti_unique = uti_unique.drop_duplicates(subset = ['condition_occurrence_id'], inplace = False, keep='first')\n",
    "print('Unique UTI events with treatment and without treatment 7 days prior')\n",
    "print(len(uti_unique))\n",
    "\n"
   ]
  },
  {
   "cell_type": "code",
   "execution_count": 19,
   "metadata": {},
   "outputs": [],
   "source": [
    "cohort_treatments_new =cohort_treatments_new.drop(columns=['level_0'])\n",
    "cohort_treatments_new.to_sql(\"uti_candidate_events_with_treatment\",con=db.engine, if_exists=\"replace\", schema=\"cdm_6871_21\")"
   ]
  },
  {
   "cell_type": "code",
   "execution_count": 20,
   "metadata": {},
   "outputs": [
    {
     "name": "stdout",
     "output_type": "stream",
     "text": [
      "CPU times: user 5.77 s, sys: 808 ms, total: 6.58 s\n",
      "Wall time: 34min 1s\n"
     ]
    }
   ],
   "source": [
    "%%time\n",
    "# Get the full condition item table\n",
    "candidate_indices = cohort_treatments_new.condition_occurrence_id\n",
    "candidate_indices_str = \", \".join([f\"'{x}'\" for x in candidate_indices])\n",
    "\n",
    "sql = \"\"\"\n",
    "    select\n",
    "        c.*,\n",
    "        p.*\n",
    "    from\n",
    "        {omop_schema}.condition_occurrence c\n",
    "    inner join\n",
    "        {omop_schema}.uti_candidate_events_with_treatment p\n",
    "    on \n",
    "        c.condition_occurrence_id = p.condition_occurrence_id\n",
    "    where \n",
    "        c.condition_occurrence_id in ({candidate_indices_str}) \n",
    "\"\"\".format(\n",
    "    omop_schema=config.OMOP_CDM_SCHEMA,\n",
    "    candidate_indices_str=candidate_indices_str,\n",
    ")\n",
    "condition_candidates = db.query(sql)\n"
   ]
  },
  {
   "cell_type": "code",
   "execution_count": 21,
   "metadata": {},
   "outputs": [
    {
     "name": "stdout",
     "output_type": "stream",
     "text": [
      "Executed 1 SQLs\n"
     ]
    }
   ],
   "source": [
    "if 'level_0' in list(condition_candidates.keys()):\n",
    "    condition_candidates=condition_candidates.drop(columns=['level_0'])\n",
    "\n",
    "\n",
    "condition_candidates.to_sql(\"uti_candidate_events_treatment\",con=db.engine, if_exists=\"replace\", schema=\"cdm_6871_21\")\n",
    "db.execute(\"GRANT SELECT ON TABLE cdm_6871_21.uti_candidate_events_treatment TO cdm_6871_21;\")"
   ]
  },
  {
   "cell_type": "code",
   "execution_count": 18,
   "metadata": {},
   "outputs": [
    {
     "name": "stdout",
     "output_type": "stream",
     "text": [
      "CPU times: user 4.57 s, sys: 504 ms, total: 5.08 s\n",
      "Wall time: 18min 33s\n"
     ]
    }
   ],
   "source": [
    "%%time\n",
    "cohort_raw = pd.read_sql(\"\"\"SELECT\n",
    "                                uti.index,\n",
    "                                uti.condition_occurrence_id, \n",
    "                                uti.person_id,\n",
    "                                uti.condition_concept_id,\n",
    "                                uti.condition_start_date,\n",
    "                                uti.condition_start_datetime,\n",
    "                                uti.condition_end_date,\n",
    "                                uti.condition_end_datetime,\n",
    "                                uti.visit_occurrence_id,\n",
    "                                uti.visit_detail_id,\n",
    "                                anti.drug_concept_id, \n",
    "                                anti.drug_name,\n",
    "                                anti.antibiotic_name,\n",
    "                                anti.antibiotic_type,\n",
    "                                v.provider_id AS visit_provider_id,\n",
    "                                drug.drug_exposure_id,\n",
    "                                drug.drug_exposure_start_date,\n",
    "                                drug.drug_exposure_start_datetime,\n",
    "                                drug.provider_id AS provider_id,\n",
    "                                prov.provider_name,\n",
    "                                prov.npi\n",
    "                           FROM cdm_6871_21.uti_candidate_events_treatment uti\n",
    "                           JOIN cdm_6871_21.visit_detail v ON \n",
    "                                   v.visit_detail_id = uti.visit_detail_id AND\n",
    "                                   v.visit_detail_concept_id IN (581477, 9202)\n",
    "                           JOIN cdm_6871_21.drug_exposure drug ON \n",
    "                                       drug.person_id = uti.person_id AND\n",
    "                                       drug.drug_exposure_start_date - uti.condition_start_date < 8 AND\n",
    "                                       drug.drug_exposure_start_date - uti.condition_start_date > -1\n",
    "                           JOIN cdm_6871_21.antibiotics_v2 anti ON\n",
    "                                       drug.drug_concept_id = anti.drug_concept_id\n",
    "                           LEFT JOIN cdm_6871_21.provider prov\n",
    "                                    ON prov.provider_id = drug.provider_id\n",
    "                           ORDER BY \n",
    "                                    uti.condition_occurrence_id,\n",
    "                                    prov.provider_name DESC NULLS LAST\n",
    "                        \"\"\", conn)\n",
    "\n"
   ]
  },
  {
   "cell_type": "code",
   "execution_count": 19,
   "metadata": {},
   "outputs": [
    {
     "name": "stdout",
     "output_type": "stream",
     "text": [
      "Size of df:\n",
      "442238\n"
     ]
    }
   ],
   "source": [
    "print('Size of df:')\n",
    "print(len(cohort_raw))"
   ]
  },
  {
   "cell_type": "code",
   "execution_count": null,
   "metadata": {},
   "outputs": [],
   "source": [
    "#here"
   ]
  },
  {
   "cell_type": "code",
   "execution_count": 22,
   "metadata": {},
   "outputs": [
    {
     "name": "stdout",
     "output_type": "stream",
     "text": [
      "Size of df:\n",
      "442238\n"
     ]
    }
   ],
   "source": [
    "print('Size of df:')\n",
    "print(len(cohort_raw))\n"
   ]
  },
  {
   "cell_type": "code",
   "execution_count": 23,
   "metadata": {},
   "outputs": [
    {
     "name": "stdout",
     "output_type": "stream",
     "text": [
      "Number of UTI events with treatment + proper visit:\n",
      "225048\n"
     ]
    }
   ],
   "source": [
    "uti_unique = cohort_raw\n",
    "uti_unique = uti_unique.drop_duplicates(subset = ['condition_occurrence_id','antibiotic_name'], inplace = False, keep='first')\n",
    "\n",
    "print('Number of UTI events with treatment + proper visit:')\n",
    "print(uti_unique.condition_occurrence_id.nunique())"
   ]
  },
  {
   "cell_type": "code",
   "execution_count": 24,
   "metadata": {},
   "outputs": [],
   "source": [
    "utis_with_treatment = cohort_raw"
   ]
  },
  {
   "cell_type": "markdown",
   "metadata": {},
   "source": [
    "### find non-recurrent UTIs\n",
    "use utis_all"
   ]
  },
  {
   "cell_type": "code",
   "execution_count": 25,
   "metadata": {},
   "outputs": [],
   "source": [
    "utis = utis_with_treatment.copy()"
   ]
  },
  {
   "cell_type": "code",
   "execution_count": 26,
   "metadata": {},
   "outputs": [
    {
     "data": {
      "text/html": [
       "<div>\n",
       "<style scoped>\n",
       "    .dataframe tbody tr th:only-of-type {\n",
       "        vertical-align: middle;\n",
       "    }\n",
       "\n",
       "    .dataframe tbody tr th {\n",
       "        vertical-align: top;\n",
       "    }\n",
       "\n",
       "    .dataframe thead th {\n",
       "        text-align: right;\n",
       "    }\n",
       "</style>\n",
       "<table border=\"1\" class=\"dataframe\">\n",
       "  <thead>\n",
       "    <tr style=\"text-align: right;\">\n",
       "      <th></th>\n",
       "      <th>index</th>\n",
       "      <th>condition_occurrence_id</th>\n",
       "      <th>person_id</th>\n",
       "      <th>condition_concept_id</th>\n",
       "      <th>condition_start_date</th>\n",
       "      <th>condition_start_datetime</th>\n",
       "      <th>condition_end_date</th>\n",
       "      <th>condition_end_datetime</th>\n",
       "      <th>visit_occurrence_id</th>\n",
       "      <th>visit_detail_id</th>\n",
       "      <th>...</th>\n",
       "      <th>no_previous_180_day_event</th>\n",
       "      <th>no_two_previous_365_day_event</th>\n",
       "      <th>post_UTI_codes</th>\n",
       "      <th>recurrent_uti</th>\n",
       "      <th>first_uti</th>\n",
       "      <th>previous_uti</th>\n",
       "      <th>previous_utis</th>\n",
       "      <th>days_since_previous_uti</th>\n",
       "      <th>previous_uti_condition_occurence_id</th>\n",
       "      <th>previous_uti_recurrent</th>\n",
       "    </tr>\n",
       "  </thead>\n",
       "  <tbody>\n",
       "    <tr>\n",
       "      <th>318265</th>\n",
       "      <td>3828990</td>\n",
       "      <td>400169196</td>\n",
       "      <td>29</td>\n",
       "      <td>81902</td>\n",
       "      <td>2018-06-30</td>\n",
       "      <td>2018-06-30</td>\n",
       "      <td>None</td>\n",
       "      <td>None</td>\n",
       "      <td>912680</td>\n",
       "      <td>305154411</td>\n",
       "      <td>...</td>\n",
       "      <td>True</td>\n",
       "      <td>True</td>\n",
       "      <td>0</td>\n",
       "      <td>False</td>\n",
       "      <td>False</td>\n",
       "      <td>False</td>\n",
       "      <td>0</td>\n",
       "      <td>NaN</td>\n",
       "      <td>0</td>\n",
       "      <td>False</td>\n",
       "    </tr>\n",
       "    <tr>\n",
       "      <th>318266</th>\n",
       "      <td>213958</td>\n",
       "      <td>400169196</td>\n",
       "      <td>29</td>\n",
       "      <td>81902</td>\n",
       "      <td>2018-06-30</td>\n",
       "      <td>2018-06-30</td>\n",
       "      <td>None</td>\n",
       "      <td>None</td>\n",
       "      <td>912680</td>\n",
       "      <td>305154411</td>\n",
       "      <td>...</td>\n",
       "      <td>True</td>\n",
       "      <td>True</td>\n",
       "      <td>0</td>\n",
       "      <td>False</td>\n",
       "      <td>False</td>\n",
       "      <td>False</td>\n",
       "      <td>0</td>\n",
       "      <td>NaN</td>\n",
       "      <td>0</td>\n",
       "      <td>False</td>\n",
       "    </tr>\n",
       "    <tr>\n",
       "      <th>318267</th>\n",
       "      <td>3828990</td>\n",
       "      <td>400169196</td>\n",
       "      <td>29</td>\n",
       "      <td>81902</td>\n",
       "      <td>2018-06-30</td>\n",
       "      <td>2018-06-30</td>\n",
       "      <td>None</td>\n",
       "      <td>None</td>\n",
       "      <td>912680</td>\n",
       "      <td>305154411</td>\n",
       "      <td>...</td>\n",
       "      <td>True</td>\n",
       "      <td>True</td>\n",
       "      <td>0</td>\n",
       "      <td>False</td>\n",
       "      <td>False</td>\n",
       "      <td>False</td>\n",
       "      <td>0</td>\n",
       "      <td>NaN</td>\n",
       "      <td>0</td>\n",
       "      <td>False</td>\n",
       "    </tr>\n",
       "    <tr>\n",
       "      <th>318268</th>\n",
       "      <td>213958</td>\n",
       "      <td>400169196</td>\n",
       "      <td>29</td>\n",
       "      <td>81902</td>\n",
       "      <td>2018-06-30</td>\n",
       "      <td>2018-06-30</td>\n",
       "      <td>None</td>\n",
       "      <td>None</td>\n",
       "      <td>912680</td>\n",
       "      <td>305154411</td>\n",
       "      <td>...</td>\n",
       "      <td>True</td>\n",
       "      <td>True</td>\n",
       "      <td>0</td>\n",
       "      <td>False</td>\n",
       "      <td>False</td>\n",
       "      <td>False</td>\n",
       "      <td>0</td>\n",
       "      <td>NaN</td>\n",
       "      <td>0</td>\n",
       "      <td>False</td>\n",
       "    </tr>\n",
       "    <tr>\n",
       "      <th>425641</th>\n",
       "      <td>3854900</td>\n",
       "      <td>543518058</td>\n",
       "      <td>35</td>\n",
       "      <td>81902</td>\n",
       "      <td>2020-06-14</td>\n",
       "      <td>2020-06-14</td>\n",
       "      <td>None</td>\n",
       "      <td>None</td>\n",
       "      <td>912779</td>\n",
       "      <td>418770757</td>\n",
       "      <td>...</td>\n",
       "      <td>True</td>\n",
       "      <td>True</td>\n",
       "      <td>0</td>\n",
       "      <td>False</td>\n",
       "      <td>False</td>\n",
       "      <td>False</td>\n",
       "      <td>0</td>\n",
       "      <td>NaN</td>\n",
       "      <td>0</td>\n",
       "      <td>False</td>\n",
       "    </tr>\n",
       "  </tbody>\n",
       "</table>\n",
       "<p>5 rows × 31 columns</p>\n",
       "</div>"
      ],
      "text/plain": [
       "          index  condition_occurrence_id  person_id  condition_concept_id  \\\n",
       "318265  3828990                400169196         29                 81902   \n",
       "318266   213958                400169196         29                 81902   \n",
       "318267  3828990                400169196         29                 81902   \n",
       "318268   213958                400169196         29                 81902   \n",
       "425641  3854900                543518058         35                 81902   \n",
       "\n",
       "       condition_start_date condition_start_datetime condition_end_date  \\\n",
       "318265           2018-06-30               2018-06-30               None   \n",
       "318266           2018-06-30               2018-06-30               None   \n",
       "318267           2018-06-30               2018-06-30               None   \n",
       "318268           2018-06-30               2018-06-30               None   \n",
       "425641           2020-06-14               2020-06-14               None   \n",
       "\n",
       "       condition_end_datetime  visit_occurrence_id  visit_detail_id  ...  \\\n",
       "318265                   None               912680        305154411  ...   \n",
       "318266                   None               912680        305154411  ...   \n",
       "318267                   None               912680        305154411  ...   \n",
       "318268                   None               912680        305154411  ...   \n",
       "425641                   None               912779        418770757  ...   \n",
       "\n",
       "        no_previous_180_day_event no_two_previous_365_day_event  \\\n",
       "318265                       True                          True   \n",
       "318266                       True                          True   \n",
       "318267                       True                          True   \n",
       "318268                       True                          True   \n",
       "425641                       True                          True   \n",
       "\n",
       "       post_UTI_codes recurrent_uti  first_uti  previous_uti previous_utis  \\\n",
       "318265              0         False      False         False             0   \n",
       "318266              0         False      False         False             0   \n",
       "318267              0         False      False         False             0   \n",
       "318268              0         False      False         False             0   \n",
       "425641              0         False      False         False             0   \n",
       "\n",
       "       days_since_previous_uti  previous_uti_condition_occurence_id  \\\n",
       "318265                     NaN                                    0   \n",
       "318266                     NaN                                    0   \n",
       "318267                     NaN                                    0   \n",
       "318268                     NaN                                    0   \n",
       "425641                     NaN                                    0   \n",
       "\n",
       "       previous_uti_recurrent  \n",
       "318265                  False  \n",
       "318266                  False  \n",
       "318267                  False  \n",
       "318268                  False  \n",
       "425641                  False  \n",
       "\n",
       "[5 rows x 31 columns]"
      ]
     },
     "execution_count": 26,
     "metadata": {},
     "output_type": "execute_result"
    }
   ],
   "source": [
    "utis = utis.sort_values(by=[\"person_id\", \"condition_start_date\"], ascending=True)\n",
    "utis = utis.assign(no_previous_180_day_event=True)\n",
    "\n",
    "utis = utis.assign(no_two_previous_365_day_event=True)\n",
    "utis = utis.assign(post_UTI_codes=0)\n",
    "utis = utis.assign(recurrent_uti=False)\n",
    "utis = utis.assign(first_uti=False)\n",
    "\n",
    "utis = utis.assign(previous_uti=False)\n",
    "utis = utis.assign(previous_utis=0)\n",
    "utis = utis.assign(days_since_previous_uti=np.nan)\n",
    "utis = utis.assign(previous_uti_condition_occurence_id=0)\n",
    "utis = utis.assign(previous_uti_recurrent=False)\n",
    "\n",
    "\n",
    "utis.head()"
   ]
  },
  {
   "cell_type": "markdown",
   "metadata": {},
   "source": [
    "#### get rid of multiple drugs"
   ]
  },
  {
   "cell_type": "code",
   "execution_count": 27,
   "metadata": {},
   "outputs": [
    {
     "name": "stdout",
     "output_type": "stream",
     "text": [
      "Number of UTI events + individual drugs\n",
      "442238\n"
     ]
    }
   ],
   "source": [
    "uti_unique = utis.copy()\n",
    "print('Number of UTI events + individual drugs')\n",
    "print(len(uti_unique))"
   ]
  },
  {
   "cell_type": "code",
   "execution_count": 28,
   "metadata": {},
   "outputs": [],
   "source": [
    "# drop duplicate drug types\n",
    "uti_unique = uti_unique.drop_duplicates(subset = ['condition_occurrence_id','antibiotic_name'], inplace = False, keep='first')\n",
    "\n"
   ]
  },
  {
   "cell_type": "code",
   "execution_count": 29,
   "metadata": {},
   "outputs": [
    {
     "name": "stdout",
     "output_type": "stream",
     "text": [
      "IDs with multiple drugs:\n",
      "34266\n"
     ]
    }
   ],
   "source": [
    "multi =pd.DataFrame(uti_unique['condition_occurrence_id'].value_counts()).reset_index()\n",
    "condition_occurence_ids = list(multi[multi['condition_occurrence_id']>1]['index'])\n",
    "print('IDs with multiple drugs:')\n",
    "print(len(condition_occurence_ids))"
   ]
  },
  {
   "cell_type": "code",
   "execution_count": 30,
   "metadata": {
    "scrolled": true
   },
   "outputs": [
    {
     "name": "stdout",
     "output_type": "stream",
     "text": [
      "0.018969212967353984\n",
      "0.03793842593470797\n",
      "0.056907638902061956\n",
      "0.07587685186941594\n",
      "0.09484606483676992\n",
      "0.11381527780412391\n",
      "0.1327844907714779\n",
      "0.15175370373883187\n",
      "0.17072291670618586\n",
      "0.18969212967353985\n",
      "0.20866134264089384\n",
      "0.22763055560824783\n",
      "0.24659976857560179\n",
      "0.2655689815429558\n",
      "0.28453819451030976\n",
      "0.30350740747766375\n",
      "0.32247662044501774\n",
      "0.3414458334123717\n",
      "0.3604150463797257\n",
      "0.3793842593470797\n",
      "0.3983534723144337\n",
      "0.4173226852817877\n",
      "0.43629189824914166\n",
      "0.45526111121649565\n",
      "0.47423032418384964\n",
      "0.49319953715120357\n",
      "0.5121687501185576\n",
      "0.5311379630859115\n",
      "0.5501071760532655\n",
      "0.5690763890206195\n",
      "0.5880456019879735\n",
      "0.6070148149553275\n",
      "0.6259840279226815\n",
      "0.6449532408900355\n",
      "0.6639224538573895\n",
      "0.6828916668247434\n",
      "0.7018608797920974\n",
      "0.7208300927594514\n",
      "0.7397993057268054\n",
      "0.7587685186941594\n",
      "0.7777377316615134\n",
      "0.7967069446288674\n",
      "0.8156761575962214\n",
      "0.8346453705635754\n",
      "0.8536145835309293\n",
      "0.8725837964982833\n",
      "0.8915530094656373\n",
      "0.9105222224329913\n",
      "0.9294914354003453\n",
      "0.9484606483676993\n",
      "0.9674298613350532\n",
      "0.9863990743024071\n",
      "CPU times: user 2min 48s, sys: 2.32 s, total: 2min 51s\n",
      "Wall time: 2min 51s\n"
     ]
    }
   ],
   "source": [
    "%%time\n",
    "uti_unique = uti_unique.assign(multi = False)\n",
    "count = 0\n",
    "for ind, row in uti_unique.iterrows():\n",
    "    if row.condition_occurrence_id in condition_occurence_ids:\n",
    "        uti_unique.loc[ind,'multi'] = True\n",
    "    count = count+1\n",
    "    if count%5000==0:\n",
    "        print(count/len(uti_unique))\n",
    "        "
   ]
  },
  {
   "cell_type": "code",
   "execution_count": 31,
   "metadata": {},
   "outputs": [],
   "source": [
    "# Drop multi drugs\n",
    "uti_unique = uti_unique.drop_duplicates(subset = ['condition_occurrence_id'], inplace = False, keep='first')\n",
    "\n",
    "utis = uti_unique.copy()"
   ]
  },
  {
   "cell_type": "markdown",
   "metadata": {},
   "source": [
    "#### Get non_recurrent UTIs, and note previous UTI that had treatment"
   ]
  },
  {
   "cell_type": "code",
   "execution_count": 33,
   "metadata": {},
   "outputs": [
    {
     "data": {
      "text/plain": [
       "'utis = utis.sort_values(by=[\"person_id\", \"condition_start_date\"], ascending=True)\\nutis = utis.assign(no_previous_180_day_event=True)\\n\\nutis = utis.assign(no_two_previous_365_day_event=True)\\nutis = utis.assign(post_UTI_codes=0)\\nutis = utis.assign(recurrent_uti=False)\\nutis = utis.assign(first_uti=False)\\n\\nutis = utis.assign(previous_uti=False)\\nutis = utis.assign(previous_utis=0)\\nutis = utis.assign(days_since_previous_uti=np.nan)\\nutis = utis.assign(previous_uti_condition_occurence_id=0)\\nutis = utis.assign(previous_uti_recurrent=False)\\n\\n\\nutis.head()'"
      ]
     },
     "execution_count": 33,
     "metadata": {},
     "output_type": "execute_result"
    }
   ],
   "source": [
    "'''utis = utis.sort_values(by=[\"person_id\", \"condition_start_date\"], ascending=True)\n",
    "utis = utis.assign(no_previous_180_day_event=True)\n",
    "\n",
    "utis = utis.assign(no_two_previous_365_day_event=True)\n",
    "utis = utis.assign(post_UTI_codes=0)\n",
    "utis = utis.assign(recurrent_uti=False)\n",
    "utis = utis.assign(first_uti=False)\n",
    "\n",
    "utis = utis.assign(previous_uti=False)\n",
    "utis = utis.assign(previous_utis=0)\n",
    "utis = utis.assign(days_since_previous_uti=np.nan)\n",
    "utis = utis.assign(previous_uti_condition_occurence_id=0)\n",
    "utis = utis.assign(previous_uti_recurrent=False)\n",
    "\n",
    "\n",
    "utis.head()'''"
   ]
  },
  {
   "cell_type": "code",
   "execution_count": 33,
   "metadata": {},
   "outputs": [
    {
     "name": "stdout",
     "output_type": "stream",
     "text": [
      "UTI events, with multiple drugs denoted:\n",
      "225048\n"
     ]
    }
   ],
   "source": [
    "print('UTI events, with multiple drugs denoted:')\n",
    "print(len(utis))"
   ]
  },
  {
   "cell_type": "code",
   "execution_count": 34,
   "metadata": {
    "scrolled": false
   },
   "outputs": [
    {
     "name": "stdout",
     "output_type": "stream",
     "text": [
      "0.00444349649852476\n",
      "0.00888699299704952\n",
      "0.013330489495574277\n",
      "0.01777398599409904\n",
      "0.022217482492623796\n",
      "0.026660978991148554\n",
      "0.031104475489673315\n",
      "0.03554797198819808\n",
      "0.03999146848672283\n",
      "0.04443496498524759\n",
      "0.048878461483772354\n",
      "0.05332195798229711\n",
      "0.05776545448082187\n",
      "0.06220895097934663\n",
      "0.06665244747787138\n",
      "0.07109594397639615\n",
      "0.07553944047492091\n",
      "0.07998293697344566\n",
      "0.08442643347197043\n",
      "0.08886992997049518\n",
      "0.09331342646901994\n",
      "0.09775692296754471\n",
      "0.10220041946606946\n",
      "0.10664391596459422\n",
      "0.11108741246311898\n",
      "0.11553090896164374\n",
      "0.11997440546016849\n",
      "0.12441790195869326\n",
      "0.12886139845721803\n",
      "0.13330489495574277\n",
      "0.13774839145426754\n",
      "0.1421918879527923\n",
      "0.14663538445131705\n",
      "0.15107888094984182\n",
      "0.15552237744836658\n",
      "0.15996587394689132\n",
      "0.1644093704454161\n",
      "0.16885286694394086\n",
      "0.1732963634424656\n",
      "0.17773985994099037\n",
      "0.18218335643951514\n",
      "0.18662685293803988\n",
      "0.19107034943656465\n",
      "0.19551384593508941\n",
      "0.19995734243361415\n",
      "0.20440083893213892\n",
      "0.2088443354306637\n",
      "0.21328783192918843\n",
      "0.2177313284277132\n",
      "0.22217482492623797\n",
      "0.2266183214247627\n",
      "0.23106181792328748\n",
      "0.23550531442181225\n",
      "0.23994881092033699\n",
      "0.24439230741886175\n",
      "0.24883580391738652\n",
      "0.2532793004159113\n",
      "0.25772279691443606\n",
      "0.26216629341296077\n",
      "0.26660978991148554\n",
      "0.2710532864100103\n",
      "0.2754967829085351\n",
      "0.27994027940705984\n",
      "0.2843837759055846\n",
      "0.2888272724041093\n",
      "0.2932707689026341\n",
      "0.29771426540115886\n",
      "0.30215776189968363\n",
      "0.3066012583982084\n",
      "0.31104475489673317\n",
      "0.3154882513952579\n",
      "0.31993174789378265\n",
      "0.3243752443923074\n",
      "0.3288187408908322\n",
      "0.33326223738935695\n",
      "0.3377057338878817\n",
      "0.34214923038640643\n",
      "0.3465927268849312\n",
      "0.35103622338345597\n",
      "0.35547971988198074\n",
      "0.3599232163805055\n",
      "0.3643667128790303\n",
      "0.368810209377555\n",
      "0.37325370587607976\n",
      "0.3776972023746045\n",
      "0.3821406988731293\n",
      "0.38658419537165406\n",
      "0.39102769187017883\n",
      "0.39547118836870354\n",
      "0.3999146848672283\n",
      "0.4043581813657531\n",
      "0.40880167786427785\n",
      "0.4132451743628026\n",
      "0.4176886708613274\n",
      "0.4221321673598521\n",
      "0.42657566385837686\n",
      "0.43101916035690163\n",
      "0.4354626568554264\n",
      "0.43990615335395117\n",
      "0.44434964985247594\n",
      "0.44879314635100065\n",
      "0.4532366428495254\n",
      "0.4576801393480502\n",
      "0.46212363584657495\n",
      "0.4665671323450997\n",
      "0.4710106288436245\n",
      "0.4754541253421492\n",
      "0.47989762184067397\n",
      "0.48434111833919874\n",
      "0.4887846148377235\n",
      "0.4932281113362483\n",
      "0.49767160783477304\n",
      "0.5021151043332978\n",
      "0.5065586008318226\n",
      "0.5110020973303473\n",
      "0.5154455938288721\n",
      "0.5198890903273968\n",
      "0.5243325868259215\n",
      "0.5287760833244464\n",
      "0.5332195798229711\n",
      "0.5376630763214959\n",
      "0.5421065728200206\n",
      "0.5465500693185453\n",
      "0.5509935658170702\n",
      "0.5554370623155949\n",
      "0.5598805588141197\n",
      "0.5643240553126444\n",
      "0.5687675518111692\n",
      "0.5732110483096939\n",
      "0.5776545448082187\n",
      "0.5820980413067435\n",
      "0.5865415378052682\n",
      "0.590985034303793\n",
      "0.5954285308023177\n",
      "0.5998720273008424\n",
      "0.6043155237993673\n",
      "0.608759020297892\n",
      "0.6132025167964168\n",
      "0.6176460132949415\n",
      "0.6220895097934663\n",
      "0.626533006291991\n",
      "0.6309765027905158\n",
      "0.6354199992890406\n",
      "0.6398634957875653\n",
      "0.6443069922860901\n",
      "0.6487504887846148\n",
      "0.6531939852831395\n",
      "0.6576374817816644\n",
      "0.6620809782801891\n",
      "0.6665244747787139\n",
      "0.6709679712772386\n",
      "0.6754114677757634\n",
      "0.6798549642742882\n",
      "0.6842984607728129\n",
      "0.6887419572713377\n",
      "0.6931854537698624\n",
      "0.6976289502683872\n",
      "0.7020724467669119\n",
      "0.7065159432654367\n",
      "0.7109594397639615\n",
      "0.7154029362624862\n",
      "0.719846432761011\n",
      "0.7242899292595357\n",
      "0.7287334257580605\n",
      "0.7331769222565853\n",
      "0.73762041875511\n",
      "0.7420639152536348\n",
      "0.7465074117521595\n",
      "0.7509509082506843\n",
      "0.755394404749209\n",
      "0.7598379012477339\n",
      "0.7642813977462586\n",
      "0.7687248942447833\n",
      "0.7731683907433081\n",
      "0.7776118872418328\n",
      "0.7820553837403577\n",
      "0.7864988802388824\n",
      "0.7909423767374071\n",
      "0.7953858732359319\n",
      "0.7998293697344566\n",
      "0.8042728662329814\n",
      "0.8087163627315062\n",
      "0.813159859230031\n",
      "0.8176033557285557\n",
      "0.8220468522270804\n",
      "0.8264903487256052\n",
      "0.8309338452241299\n",
      "0.8353773417226548\n",
      "0.8398208382211795\n",
      "0.8442643347197042\n",
      "0.848707831218229\n",
      "0.8531513277167537\n",
      "0.8575948242152786\n",
      "0.8620383207138033\n",
      "0.8664818172123281\n",
      "0.8709253137108528\n",
      "0.8753688102093775\n",
      "0.8798123067079023\n",
      "0.884255803206427\n",
      "0.8886992997049519\n",
      "0.8931427962034766\n",
      "0.8975862927020013\n",
      "0.9020297892005261\n",
      "0.9064732856990508\n",
      "0.9109167821975757\n",
      "0.9153602786961004\n",
      "0.9198037751946252\n",
      "0.9242472716931499\n",
      "0.9286907681916746\n",
      "0.9331342646901994\n",
      "0.9375777611887242\n",
      "0.942021257687249\n",
      "0.9464647541857737\n",
      "0.9509082506842984\n",
      "0.9553517471828232\n",
      "0.9597952436813479\n",
      "0.9642387401798728\n",
      "0.9686822366783975\n",
      "0.9731257331769223\n",
      "0.977569229675447\n",
      "0.9820127261739717\n",
      "0.9864562226724966\n",
      "0.9908997191710213\n",
      "0.9953432156695461\n",
      "0.9997867121680708\n",
      "225048\n",
      "CPU times: user 4min 46s, sys: 3.26 s, total: 4min 49s\n",
      "Wall time: 4min 49s\n"
     ]
    },
    {
     "data": {
      "text/html": [
       "<div>\n",
       "<style scoped>\n",
       "    .dataframe tbody tr th:only-of-type {\n",
       "        vertical-align: middle;\n",
       "    }\n",
       "\n",
       "    .dataframe tbody tr th {\n",
       "        vertical-align: top;\n",
       "    }\n",
       "\n",
       "    .dataframe thead th {\n",
       "        text-align: right;\n",
       "    }\n",
       "</style>\n",
       "<table border=\"1\" class=\"dataframe\">\n",
       "  <thead>\n",
       "    <tr style=\"text-align: right;\">\n",
       "      <th></th>\n",
       "      <th>index</th>\n",
       "      <th>condition_occurrence_id</th>\n",
       "      <th>person_id</th>\n",
       "      <th>condition_concept_id</th>\n",
       "      <th>condition_start_date</th>\n",
       "      <th>condition_start_datetime</th>\n",
       "      <th>condition_end_date</th>\n",
       "      <th>condition_end_datetime</th>\n",
       "      <th>visit_occurrence_id</th>\n",
       "      <th>visit_detail_id</th>\n",
       "      <th>...</th>\n",
       "      <th>no_two_previous_365_day_event</th>\n",
       "      <th>post_UTI_codes</th>\n",
       "      <th>recurrent_uti</th>\n",
       "      <th>first_uti</th>\n",
       "      <th>previous_uti</th>\n",
       "      <th>previous_utis</th>\n",
       "      <th>days_since_previous_uti</th>\n",
       "      <th>previous_uti_condition_occurence_id</th>\n",
       "      <th>previous_uti_recurrent</th>\n",
       "      <th>multi</th>\n",
       "    </tr>\n",
       "  </thead>\n",
       "  <tbody>\n",
       "    <tr>\n",
       "      <th>318265</th>\n",
       "      <td>3828990</td>\n",
       "      <td>400169196</td>\n",
       "      <td>29</td>\n",
       "      <td>81902</td>\n",
       "      <td>2018-06-30</td>\n",
       "      <td>2018-06-30</td>\n",
       "      <td>None</td>\n",
       "      <td>None</td>\n",
       "      <td>912680</td>\n",
       "      <td>305154411</td>\n",
       "      <td>...</td>\n",
       "      <td>True</td>\n",
       "      <td>0</td>\n",
       "      <td>False</td>\n",
       "      <td>False</td>\n",
       "      <td>False</td>\n",
       "      <td>0</td>\n",
       "      <td>NaN</td>\n",
       "      <td>0</td>\n",
       "      <td>False</td>\n",
       "      <td>True</td>\n",
       "    </tr>\n",
       "    <tr>\n",
       "      <th>425641</th>\n",
       "      <td>3854900</td>\n",
       "      <td>543518058</td>\n",
       "      <td>35</td>\n",
       "      <td>81902</td>\n",
       "      <td>2020-06-14</td>\n",
       "      <td>2020-06-14</td>\n",
       "      <td>None</td>\n",
       "      <td>None</td>\n",
       "      <td>912779</td>\n",
       "      <td>418770757</td>\n",
       "      <td>...</td>\n",
       "      <td>True</td>\n",
       "      <td>0</td>\n",
       "      <td>False</td>\n",
       "      <td>False</td>\n",
       "      <td>False</td>\n",
       "      <td>0</td>\n",
       "      <td>NaN</td>\n",
       "      <td>0</td>\n",
       "      <td>False</td>\n",
       "      <td>True</td>\n",
       "    </tr>\n",
       "  </tbody>\n",
       "</table>\n",
       "<p>2 rows × 32 columns</p>\n",
       "</div>"
      ],
      "text/plain": [
       "          index  condition_occurrence_id  person_id  condition_concept_id  \\\n",
       "318265  3828990                400169196         29                 81902   \n",
       "425641  3854900                543518058         35                 81902   \n",
       "\n",
       "       condition_start_date condition_start_datetime condition_end_date  \\\n",
       "318265           2018-06-30               2018-06-30               None   \n",
       "425641           2020-06-14               2020-06-14               None   \n",
       "\n",
       "       condition_end_datetime  visit_occurrence_id  visit_detail_id  ...  \\\n",
       "318265                   None               912680        305154411  ...   \n",
       "425641                   None               912779        418770757  ...   \n",
       "\n",
       "        no_two_previous_365_day_event post_UTI_codes recurrent_uti first_uti  \\\n",
       "318265                           True              0         False     False   \n",
       "425641                           True              0         False     False   \n",
       "\n",
       "        previous_uti  previous_utis days_since_previous_uti  \\\n",
       "318265         False              0                     NaN   \n",
       "425641         False              0                     NaN   \n",
       "\n",
       "       previous_uti_condition_occurence_id  previous_uti_recurrent multi  \n",
       "318265                                   0                   False  True  \n",
       "425641                                   0                   False  True  \n",
       "\n",
       "[2 rows x 32 columns]"
      ]
     },
     "execution_count": 34,
     "metadata": {},
     "output_type": "execute_result"
    }
   ],
   "source": [
    "%%time\n",
    "import datetime\n",
    "date_format = \"%Y-%m-%d\"\n",
    "last_patient = None\n",
    "last_date = None\n",
    "d_old = None\n",
    "c = 0\n",
    "patient_count = 0\n",
    "for index, row in utis.iterrows():\n",
    "    p = row.person_id\n",
    "    d = row.condition_start_date\n",
    "    cond = row.condition_occurrence_id\n",
    "\n",
    "    #days_since_last = (d - last_date).days\n",
    "    if last_patient ==p:\n",
    "        days_since_last = (d - last_date).days\n",
    "        if days_since_last < 180:\n",
    "            utis.loc[index, \"no_previous_180_day_event\"] = False\n",
    "        if second_last_patient ==p:\n",
    "            if days_since_last < 365 and (d - second_last_date).days < 365 and (last_date-second_last_date).days>14:\n",
    "                utis.loc[index, \"no_two_previous_365_day_event\"] = False\n",
    "\n",
    "        #utis.loc[index, \"recurrent_uti\"] = True\n",
    "    # keep track of previous UTI \n",
    "    \n",
    "        patient_count = patient_count+1\n",
    "        utis.loc[index, \"previous_uti\"] = True\n",
    "        utis.loc[index, \"days_since_previous_uti\"] = days_since_last\n",
    "        utis.loc[index, \"previous_utis\"] = patient_count\n",
    "        utis.loc[index, \"previous_uti_condition_occurence_id\"] = last_cond\n",
    "        if ~((last_row[\"no_two_previous_365_day_event\"]) * (last_row[\"no_previous_180_day_event\"])):\n",
    "            utis.loc[index, \"previous_uti_recurrent\"] = True\n",
    "    else:\n",
    "        patient_count = 0\n",
    "    second_last_patient = last_patient       \n",
    "    last_patient = p\n",
    "    last_date = d\n",
    "    second_last_date = d_old\n",
    "    d_old = d\n",
    "    last_cond = cond\n",
    "    last_row = row\n",
    "    c += 1\n",
    "    if c%1000 == 0:\n",
    "        print(c/len(utis))\n",
    "print(len(utis))\n",
    "utis.head(2)"
   ]
  },
  {
   "cell_type": "code",
   "execution_count": 35,
   "metadata": {},
   "outputs": [
    {
     "name": "stderr",
     "output_type": "stream",
     "text": [
      "/opt/conda/ehealey/lib/python3.8/site-packages/pandas/core/computation/expressions.py:204: UserWarning: evaluating in Python space because the '*' operator is not supported by numexpr for the bool dtype, use '&' instead\n",
      "  warnings.warn(\n"
     ]
    }
   ],
   "source": [
    "utis['recurrent_uti'] = ~((utis[\"no_two_previous_365_day_event\"]) * (utis[\"no_previous_180_day_event\"]))"
   ]
  },
  {
   "cell_type": "code",
   "execution_count": 36,
   "metadata": {},
   "outputs": [
    {
     "name": "stdout",
     "output_type": "stream",
     "text": [
      "Number of non-recurrent UTI events:\n",
      "159790\n"
     ]
    }
   ],
   "source": [
    "non_recurrent_utis = utis[utis['recurrent_uti']==False ]\n",
    "#non_recurrent_utis = utis[utis['first_uti']==True ]\n",
    "print('Number of non-recurrent UTI events:')\n",
    "print(len(non_recurrent_utis))\n",
    "current_df = non_recurrent_utis"
   ]
  },
  {
   "cell_type": "markdown",
   "metadata": {},
   "source": [
    "### Remove patients under 18 at time of UTI"
   ]
  },
  {
   "cell_type": "code",
   "execution_count": 37,
   "metadata": {},
   "outputs": [
    {
     "name": "stdout",
     "output_type": "stream",
     "text": [
      "Connected!\n",
      "CPU times: user 15.3 s, sys: 1.62 s, total: 17 s\n",
      "Wall time: 21.6 s\n"
     ]
    },
    {
     "data": {
      "text/html": [
       "<div>\n",
       "<style scoped>\n",
       "    .dataframe tbody tr th:only-of-type {\n",
       "        vertical-align: middle;\n",
       "    }\n",
       "\n",
       "    .dataframe tbody tr th {\n",
       "        vertical-align: top;\n",
       "    }\n",
       "\n",
       "    .dataframe thead th {\n",
       "        text-align: right;\n",
       "    }\n",
       "</style>\n",
       "<table border=\"1\" class=\"dataframe\">\n",
       "  <thead>\n",
       "    <tr style=\"text-align: right;\">\n",
       "      <th></th>\n",
       "      <th>person_id</th>\n",
       "      <th>gender_concept_id</th>\n",
       "      <th>year_of_birth</th>\n",
       "      <th>month_of_birth</th>\n",
       "      <th>day_of_birth</th>\n",
       "      <th>birth_datetime</th>\n",
       "      <th>death_datetime</th>\n",
       "      <th>race_concept_id</th>\n",
       "      <th>ethnicity_concept_id</th>\n",
       "      <th>location_id</th>\n",
       "      <th>provider_id</th>\n",
       "      <th>care_site_id</th>\n",
       "      <th>person_source_value</th>\n",
       "      <th>gender_source_value</th>\n",
       "      <th>gender_source_concept_id</th>\n",
       "      <th>race_source_value</th>\n",
       "      <th>race_source_concept_id</th>\n",
       "      <th>ethnicity_source_value</th>\n",
       "      <th>ethnicity_source_concept_id</th>\n",
       "    </tr>\n",
       "  </thead>\n",
       "  <tbody>\n",
       "    <tr>\n",
       "      <th>0</th>\n",
       "      <td>290150</td>\n",
       "      <td>8532</td>\n",
       "      <td>1978</td>\n",
       "      <td>None</td>\n",
       "      <td>None</td>\n",
       "      <td>None</td>\n",
       "      <td>NaT</td>\n",
       "      <td>0</td>\n",
       "      <td>0</td>\n",
       "      <td>None</td>\n",
       "      <td>None</td>\n",
       "      <td>None</td>\n",
       "      <td>290150</td>\n",
       "      <td>F</td>\n",
       "      <td>0</td>\n",
       "      <td>None</td>\n",
       "      <td>0</td>\n",
       "      <td>None</td>\n",
       "      <td>0</td>\n",
       "    </tr>\n",
       "    <tr>\n",
       "      <th>1</th>\n",
       "      <td>471383</td>\n",
       "      <td>8507</td>\n",
       "      <td>1954</td>\n",
       "      <td>None</td>\n",
       "      <td>None</td>\n",
       "      <td>None</td>\n",
       "      <td>NaT</td>\n",
       "      <td>0</td>\n",
       "      <td>0</td>\n",
       "      <td>None</td>\n",
       "      <td>None</td>\n",
       "      <td>None</td>\n",
       "      <td>471383</td>\n",
       "      <td>M</td>\n",
       "      <td>0</td>\n",
       "      <td>None</td>\n",
       "      <td>0</td>\n",
       "      <td>None</td>\n",
       "      <td>0</td>\n",
       "    </tr>\n",
       "    <tr>\n",
       "      <th>2</th>\n",
       "      <td>572322</td>\n",
       "      <td>8532</td>\n",
       "      <td>1999</td>\n",
       "      <td>None</td>\n",
       "      <td>None</td>\n",
       "      <td>None</td>\n",
       "      <td>NaT</td>\n",
       "      <td>0</td>\n",
       "      <td>0</td>\n",
       "      <td>None</td>\n",
       "      <td>None</td>\n",
       "      <td>None</td>\n",
       "      <td>572322</td>\n",
       "      <td>F</td>\n",
       "      <td>0</td>\n",
       "      <td>None</td>\n",
       "      <td>0</td>\n",
       "      <td>None</td>\n",
       "      <td>0</td>\n",
       "    </tr>\n",
       "    <tr>\n",
       "      <th>3</th>\n",
       "      <td>726625</td>\n",
       "      <td>8532</td>\n",
       "      <td>1963</td>\n",
       "      <td>None</td>\n",
       "      <td>None</td>\n",
       "      <td>None</td>\n",
       "      <td>NaT</td>\n",
       "      <td>0</td>\n",
       "      <td>0</td>\n",
       "      <td>None</td>\n",
       "      <td>None</td>\n",
       "      <td>None</td>\n",
       "      <td>726625</td>\n",
       "      <td>F</td>\n",
       "      <td>0</td>\n",
       "      <td>None</td>\n",
       "      <td>0</td>\n",
       "      <td>None</td>\n",
       "      <td>0</td>\n",
       "    </tr>\n",
       "    <tr>\n",
       "      <th>4</th>\n",
       "      <td>889391</td>\n",
       "      <td>8532</td>\n",
       "      <td>2008</td>\n",
       "      <td>None</td>\n",
       "      <td>None</td>\n",
       "      <td>None</td>\n",
       "      <td>NaT</td>\n",
       "      <td>0</td>\n",
       "      <td>0</td>\n",
       "      <td>None</td>\n",
       "      <td>None</td>\n",
       "      <td>None</td>\n",
       "      <td>889391</td>\n",
       "      <td>F</td>\n",
       "      <td>0</td>\n",
       "      <td>None</td>\n",
       "      <td>0</td>\n",
       "      <td>None</td>\n",
       "      <td>0</td>\n",
       "    </tr>\n",
       "  </tbody>\n",
       "</table>\n",
       "</div>"
      ],
      "text/plain": [
       "   person_id  gender_concept_id  year_of_birth month_of_birth day_of_birth  \\\n",
       "0     290150               8532           1978           None         None   \n",
       "1     471383               8507           1954           None         None   \n",
       "2     572322               8532           1999           None         None   \n",
       "3     726625               8532           1963           None         None   \n",
       "4     889391               8532           2008           None         None   \n",
       "\n",
       "  birth_datetime death_datetime  race_concept_id  ethnicity_concept_id  \\\n",
       "0           None            NaT                0                     0   \n",
       "1           None            NaT                0                     0   \n",
       "2           None            NaT                0                     0   \n",
       "3           None            NaT                0                     0   \n",
       "4           None            NaT                0                     0   \n",
       "\n",
       "  location_id provider_id care_site_id person_source_value  \\\n",
       "0        None        None         None              290150   \n",
       "1        None        None         None              471383   \n",
       "2        None        None         None              572322   \n",
       "3        None        None         None              726625   \n",
       "4        None        None         None              889391   \n",
       "\n",
       "  gender_source_value  gender_source_concept_id race_source_value  \\\n",
       "0                   F                         0              None   \n",
       "1                   M                         0              None   \n",
       "2                   F                         0              None   \n",
       "3                   F                         0              None   \n",
       "4                   F                         0              None   \n",
       "\n",
       "   race_source_concept_id ethnicity_source_value  ethnicity_source_concept_id  \n",
       "0                       0                   None                            0  \n",
       "1                       0                   None                            0  \n",
       "2                       0                   None                            0  \n",
       "3                       0                   None                            0  \n",
       "4                       0                   None                            0  "
      ]
     },
     "execution_count": 37,
     "metadata": {},
     "output_type": "execute_result"
    }
   ],
   "source": [
    "%%time\n",
    "username='cdm_6871_21'\n",
    "password='MLHC2021'\n",
    "database_name = 'omop_v6'\n",
    "conn_string = \"dbname=\"+database_name + \" host=/var/run/postgresql\"\n",
    "conn=psycopg2.connect(conn_string)\n",
    "print('Connected!')\n",
    "\n",
    "sql_command = \"select * from cdm_6871_21.person;\"\n",
    "person = pd.read_sql(sql_command,conn)\n",
    "person.head()"
   ]
  },
  {
   "cell_type": "code",
   "execution_count": 39,
   "metadata": {},
   "outputs": [],
   "source": [
    "people_cohort = person[person.person_id.isin(non_recurrent_utis.person_id) ]\n",
    "people_cohort = people_cohort[['person_id','year_of_birth']]\n",
    "\n",
    "non_recurrent_utis_w_ages = non_recurrent_utis.merge(people_cohort, how = 'left', on = 'person_id')\n",
    "non_recurrent_utis_w_ages['age'] = np.nan"
   ]
  },
  {
   "cell_type": "code",
   "execution_count": 40,
   "metadata": {},
   "outputs": [
    {
     "name": "stdout",
     "output_type": "stream",
     "text": [
      "CPU times: user 1min 39s, sys: 1.2 s, total: 1min 40s\n",
      "Wall time: 1min 40s\n"
     ]
    }
   ],
   "source": [
    "%%time\n",
    "i= 0 \n",
    "for index,row in non_recurrent_utis_w_ages.iterrows():\n",
    "    person_ = row['person_id']\n",
    "    #temp = people_cohort[people_cohort['person_id']==person_]\n",
    "    year_of_birth = row['year_of_birth']\n",
    "    if year_of_birth >0:\n",
    "        non_recurrent_utis_w_ages.loc[index,'age'] = row['condition_start_date'].year - year_of_birth\n",
    "    i = i+1\n",
    "    #if i%10000==0:\n",
    "        #print(i) "
   ]
  },
  {
   "cell_type": "code",
   "execution_count": 41,
   "metadata": {},
   "outputs": [
    {
     "name": "stdout",
     "output_type": "stream",
     "text": [
      "# of events after removing under 18:\n",
      "150867\n"
     ]
    }
   ],
   "source": [
    "# remove under 18\n",
    "non_recurrent_utis_over_18 =non_recurrent_utis_w_ages[non_recurrent_utis_w_ages['age']>17]\n",
    "print('# of events after removing under 18:')\n",
    "print(len(non_recurrent_utis_over_18))\n",
    "current_df = non_recurrent_utis_over_18"
   ]
  },
  {
   "cell_type": "markdown",
   "metadata": {},
   "source": [
    "### Remove Patients with certain procedures"
   ]
  },
  {
   "cell_type": "markdown",
   "metadata": {},
   "source": [
    "##### Find excluded procedures"
   ]
  },
  {
   "cell_type": "code",
   "execution_count": 42,
   "metadata": {},
   "outputs": [
    {
     "name": "stdout",
     "output_type": "stream",
     "text": [
      "# of current person IDs\n",
      "116432\n"
     ]
    }
   ],
   "source": [
    "current_person_ids = current_df.person_id.unique()\n",
    "print('# of current person IDs')\n",
    "print(len(current_person_ids))"
   ]
  },
  {
   "cell_type": "code",
   "execution_count": 43,
   "metadata": {},
   "outputs": [
    {
     "name": "stdout",
     "output_type": "stream",
     "text": [
      "Procedures found: 14573383\n"
     ]
    },
    {
     "data": {
      "text/html": [
       "<div>\n",
       "<style scoped>\n",
       "    .dataframe tbody tr th:only-of-type {\n",
       "        vertical-align: middle;\n",
       "    }\n",
       "\n",
       "    .dataframe tbody tr th {\n",
       "        vertical-align: top;\n",
       "    }\n",
       "\n",
       "    .dataframe thead th {\n",
       "        text-align: right;\n",
       "    }\n",
       "</style>\n",
       "<table border=\"1\" class=\"dataframe\">\n",
       "  <thead>\n",
       "    <tr style=\"text-align: right;\">\n",
       "      <th></th>\n",
       "      <th>concept_id</th>\n",
       "      <th>date</th>\n",
       "      <th>person_id</th>\n",
       "    </tr>\n",
       "  </thead>\n",
       "  <tbody>\n",
       "    <tr>\n",
       "      <th>0</th>\n",
       "      <td>2721554</td>\n",
       "      <td>2020-09-05</td>\n",
       "      <td>29</td>\n",
       "    </tr>\n",
       "    <tr>\n",
       "      <th>1</th>\n",
       "      <td>2514527</td>\n",
       "      <td>2019-03-13</td>\n",
       "      <td>29</td>\n",
       "    </tr>\n",
       "    <tr>\n",
       "      <th>2</th>\n",
       "      <td>2213221</td>\n",
       "      <td>2020-10-05</td>\n",
       "      <td>29</td>\n",
       "    </tr>\n",
       "  </tbody>\n",
       "</table>\n",
       "</div>"
      ],
      "text/plain": [
       "   concept_id        date  person_id\n",
       "0     2721554  2020-09-05         29\n",
       "1     2514527  2019-03-13         29\n",
       "2     2213221  2020-10-05         29"
      ]
     },
     "metadata": {},
     "output_type": "display_data"
    },
    {
     "name": "stdout",
     "output_type": "stream",
     "text": [
      "CPU times: user 26.8 s, sys: 4.6 s, total: 31.4 s\n",
      "Wall time: 11min 17s\n"
     ]
    }
   ],
   "source": [
    "%%time\n",
    "## Load Procedures from cdm.procedure_occurence\n",
    "current_person_str = \", \".join([f\"'{x}'\" for x in current_person_ids])\n",
    "sql = \"\"\"\n",
    "    select\n",
    "        p.procedure_concept_id as concept_id,\n",
    "        p.procedure_date as date,\n",
    "        person_id as person_id\n",
    "    from\n",
    "        {omop_schema}.procedure_occurrence p\n",
    "    where \n",
    "        p.person_id in ({person_ids}) \n",
    "\"\"\".format(\n",
    "    omop_schema=config.OMOP_CDM_SCHEMA,\n",
    "    person_ids=current_person_str,\n",
    ")\n",
    "procedures = db.query(sql)\n",
    "print(f\"Procedures found: {len(procedures)}\")\n",
    "\n",
    "display(procedures.head(3))"
   ]
  },
  {
   "cell_type": "code",
   "execution_count": 44,
   "metadata": {},
   "outputs": [
    {
     "name": "stdout",
     "output_type": "stream",
     "text": [
      "CPU times: user 520 ms, sys: 84 ms, total: 604 ms\n",
      "Wall time: 4.54 s\n"
     ]
    },
    {
     "data": {
      "text/html": [
       "<div>\n",
       "<style scoped>\n",
       "    .dataframe tbody tr th:only-of-type {\n",
       "        vertical-align: middle;\n",
       "    }\n",
       "\n",
       "    .dataframe tbody tr th {\n",
       "        vertical-align: top;\n",
       "    }\n",
       "\n",
       "    .dataframe thead th {\n",
       "        text-align: right;\n",
       "    }\n",
       "</style>\n",
       "<table border=\"1\" class=\"dataframe\">\n",
       "  <thead>\n",
       "    <tr style=\"text-align: right;\">\n",
       "      <th></th>\n",
       "      <th>concept_name</th>\n",
       "      <th>concept_id</th>\n",
       "    </tr>\n",
       "  </thead>\n",
       "  <tbody>\n",
       "    <tr>\n",
       "      <th>0</th>\n",
       "      <td>CT of thorax, abdomen and pelvis with oral con...</td>\n",
       "      <td>506531</td>\n",
       "    </tr>\n",
       "    <tr>\n",
       "      <th>1</th>\n",
       "      <td>CT of abdomen and pelvis with oral contrast only</td>\n",
       "      <td>506532</td>\n",
       "    </tr>\n",
       "    <tr>\n",
       "      <th>2</th>\n",
       "      <td>Cone beam CT guided laser ablation</td>\n",
       "      <td>506533</td>\n",
       "    </tr>\n",
       "  </tbody>\n",
       "</table>\n",
       "</div>"
      ],
      "text/plain": [
       "                                        concept_name  concept_id\n",
       "0  CT of thorax, abdomen and pelvis with oral con...      506531\n",
       "1   CT of abdomen and pelvis with oral contrast only      506532\n",
       "2                 Cone beam CT guided laser ablation      506533"
      ]
     },
     "execution_count": 44,
     "metadata": {},
     "output_type": "execute_result"
    }
   ],
   "source": [
    "%%time\n",
    "\n",
    "# get procedure names from cdm.concept\n",
    "sql = \"\"\"\n",
    "    select\n",
    "        c.concept_name as concept_name,\n",
    "        c.concept_id as concept_id\n",
    "    from\n",
    "        {omop_schema}.concept c\n",
    "    where \n",
    "        c.domain_id = 'Procedure' \n",
    "\"\"\".format(\n",
    "    omop_schema=config.OMOP_CDM_SCHEMA,\n",
    "    person_ids=current_person_ids,\n",
    ")\n",
    "procedure_names = db.query(sql)\n",
    "procedure_names.head(3)"
   ]
  },
  {
   "cell_type": "code",
   "execution_count": 45,
   "metadata": {},
   "outputs": [
    {
     "name": "stdout",
     "output_type": "stream",
     "text": [
      "Found 99068 procedure concept codes to exclude\n",
      "Excluded procedure events: 472032\n",
      "CPU times: user 22.8 s, sys: 248 ms, total: 23.1 s\n",
      "Wall time: 23.1 s\n"
     ]
    }
   ],
   "source": [
    "%%time\n",
    "procedure_name_hits = [\"central venous catheter\", \"surgery\", \"surgical\", \"ventilation\", \"hemodialysis\", \"parenteral nutrition\"]\n",
    "exclude_name_hits = \"than hemodialysis\"\n",
    "# Placement of a central venous cather\n",
    "\n",
    "procedure_ids = []\n",
    "for ind, (name, cid) in procedure_names[[\"concept_name\", \"concept_id\"]].iterrows(): \n",
    "    name = name.lower()\n",
    "    for pn in procedure_name_hits:\n",
    "        if pn in name and exclude_name_hits not in name:\n",
    "#             print(f\"Procedure: {name}, code: {cid}\")\n",
    "            procedure_ids.append(cid)\n",
    "            break\n",
    "print(f\"Found {len(procedure_ids)} procedure concept codes to exclude\")\n",
    "excluded_procedures = procedures[procedures.concept_id.isin(procedure_ids)]\n",
    "print(f\"Excluded procedure events: {len(excluded_procedures)}\")\n"
   ]
  },
  {
   "cell_type": "code",
   "execution_count": 38,
   "metadata": {},
   "outputs": [],
   "source": [
    "### here"
   ]
  },
  {
   "cell_type": "markdown",
   "metadata": {},
   "source": [
    "##### Find excluded conditions"
   ]
  },
  {
   "cell_type": "code",
   "execution_count": 46,
   "metadata": {},
   "outputs": [
    {
     "name": "stdout",
     "output_type": "stream",
     "text": [
      "CPU times: user 588 ms, sys: 116 ms, total: 704 ms\n",
      "Wall time: 4.1 s\n"
     ]
    }
   ],
   "source": [
    "%%time\n",
    "# get concept names from cdm.concept\n",
    "sql = \"\"\"\n",
    "    select\n",
    "        c.concept_name as concept_name,\n",
    "        c.concept_id as concept_id,\n",
    "        c.domain_id as domain_id\n",
    "    from\n",
    "        {omop_schema}.concept c\n",
    "    where \n",
    "        c.domain_id = 'Condition' \n",
    "\"\"\".format(\n",
    "    omop_schema=config.OMOP_CDM_SCHEMA,\n",
    ")\n",
    "diagnosis_names = db.query(sql)\n"
   ]
  },
  {
   "cell_type": "code",
   "execution_count": 47,
   "metadata": {},
   "outputs": [
    {
     "name": "stdout",
     "output_type": "stream",
     "text": [
      "Found 3259 to exclude\n",
      "CPU times: user 22.3 s, sys: 876 ms, total: 23.1 s\n",
      "Wall time: 23.1 s\n"
     ]
    }
   ],
   "source": [
    "%%time\n",
    "condition_ids = []\n",
    "condition_name_hits = [\"pregnancy\", \"pyelo\",\"catheter\"]\n",
    "for ind, (name, cid) in diagnosis_names[[\"concept_name\", \"concept_id\"]].iterrows(): \n",
    "    name = name.lower()\n",
    "    for pn in condition_name_hits:\n",
    "        if pn in name:\n",
    "            condition_ids.append(cid)\n",
    "            break\n",
    "print(f\"Found {len(condition_ids)} to exclude\")"
   ]
  },
  {
   "cell_type": "code",
   "execution_count": 48,
   "metadata": {},
   "outputs": [
    {
     "name": "stdout",
     "output_type": "stream",
     "text": [
      "236319\n",
      "CPU times: user 3.44 s, sys: 804 ms, total: 4.24 s\n",
      "Wall time: 4.24 s\n"
     ]
    }
   ],
   "source": [
    "%%time\n",
    "excluded_conditions = condition_df[condition_df.concept_id.isin(condition_ids) & condition_df.person_id.isin(current_person_ids)]\n",
    "print(len(excluded_conditions))\n",
    "excluded_conditions = excluded_conditions[[\"concept_id\", \"condition_start_date\", \"person_id\"]]\n",
    "excluded_conditions = excluded_conditions.rename(columns={\"condition_start_date\":\"date\"})"
   ]
  },
  {
   "cell_type": "markdown",
   "metadata": {},
   "source": [
    "##### Remove patients with the excluded conditions and procedures "
   ]
  },
  {
   "cell_type": "code",
   "execution_count": 49,
   "metadata": {},
   "outputs": [
    {
     "name": "stdout",
     "output_type": "stream",
     "text": [
      "CPU times: user 188 ms, sys: 264 ms, total: 452 ms\n",
      "Wall time: 449 ms\n"
     ]
    },
    {
     "data": {
      "text/html": [
       "<div>\n",
       "<style scoped>\n",
       "    .dataframe tbody tr th:only-of-type {\n",
       "        vertical-align: middle;\n",
       "    }\n",
       "\n",
       "    .dataframe tbody tr th {\n",
       "        vertical-align: top;\n",
       "    }\n",
       "\n",
       "    .dataframe thead th {\n",
       "        text-align: right;\n",
       "    }\n",
       "</style>\n",
       "<table border=\"1\" class=\"dataframe\">\n",
       "  <thead>\n",
       "    <tr style=\"text-align: right;\">\n",
       "      <th></th>\n",
       "      <th>concept_id</th>\n",
       "      <th>date</th>\n",
       "      <th>person_id</th>\n",
       "    </tr>\n",
       "  </thead>\n",
       "  <tbody>\n",
       "    <tr>\n",
       "      <th>0</th>\n",
       "      <td>4280571</td>\n",
       "      <td>2020-06-15</td>\n",
       "      <td>35</td>\n",
       "    </tr>\n",
       "    <tr>\n",
       "      <th>1</th>\n",
       "      <td>4188598</td>\n",
       "      <td>2019-12-27</td>\n",
       "      <td>866</td>\n",
       "    </tr>\n",
       "    <tr>\n",
       "      <th>2</th>\n",
       "      <td>4060556</td>\n",
       "      <td>2020-01-17</td>\n",
       "      <td>866</td>\n",
       "    </tr>\n",
       "    <tr>\n",
       "      <th>3</th>\n",
       "      <td>4188598</td>\n",
       "      <td>2020-01-17</td>\n",
       "      <td>866</td>\n",
       "    </tr>\n",
       "    <tr>\n",
       "      <th>4</th>\n",
       "      <td>4188598</td>\n",
       "      <td>2020-03-20</td>\n",
       "      <td>866</td>\n",
       "    </tr>\n",
       "    <tr>\n",
       "      <th>...</th>\n",
       "      <td>...</td>\n",
       "      <td>...</td>\n",
       "      <td>...</td>\n",
       "    </tr>\n",
       "    <tr>\n",
       "      <th>708346</th>\n",
       "      <td>42742388</td>\n",
       "      <td>2018-12-28</td>\n",
       "      <td>34673936</td>\n",
       "    </tr>\n",
       "    <tr>\n",
       "      <th>708347</th>\n",
       "      <td>42742388</td>\n",
       "      <td>2015-07-10</td>\n",
       "      <td>34673936</td>\n",
       "    </tr>\n",
       "    <tr>\n",
       "      <th>708348</th>\n",
       "      <td>2106407</td>\n",
       "      <td>2017-12-19</td>\n",
       "      <td>34673936</td>\n",
       "    </tr>\n",
       "    <tr>\n",
       "      <th>708349</th>\n",
       "      <td>2213286</td>\n",
       "      <td>2017-12-19</td>\n",
       "      <td>34673936</td>\n",
       "    </tr>\n",
       "    <tr>\n",
       "      <th>708350</th>\n",
       "      <td>2213283</td>\n",
       "      <td>2017-12-19</td>\n",
       "      <td>34673936</td>\n",
       "    </tr>\n",
       "  </tbody>\n",
       "</table>\n",
       "<p>708351 rows × 3 columns</p>\n",
       "</div>"
      ],
      "text/plain": [
       "        concept_id        date  person_id\n",
       "0          4280571  2020-06-15         35\n",
       "1          4188598  2019-12-27        866\n",
       "2          4060556  2020-01-17        866\n",
       "3          4188598  2020-01-17        866\n",
       "4          4188598  2020-03-20        866\n",
       "...            ...         ...        ...\n",
       "708346    42742388  2018-12-28   34673936\n",
       "708347    42742388  2015-07-10   34673936\n",
       "708348     2106407  2017-12-19   34673936\n",
       "708349     2213286  2017-12-19   34673936\n",
       "708350     2213283  2017-12-19   34673936\n",
       "\n",
       "[708351 rows x 3 columns]"
      ]
     },
     "execution_count": 49,
     "metadata": {},
     "output_type": "execute_result"
    }
   ],
   "source": [
    "%%time\n",
    "excluded_table = pd.concat([excluded_conditions, excluded_procedures], ignore_index=True)\n",
    "excluded_table"
   ]
  },
  {
   "cell_type": "code",
   "execution_count": 50,
   "metadata": {},
   "outputs": [
    {
     "name": "stdout",
     "output_type": "stream",
     "text": [
      "Time elapsed: 0:00:08.696766\n",
      "Iter: 100000 / 708351\n",
      "Time elapsed: 0:00:18.840919\n",
      "Iter: 200000 / 708351\n",
      "Time elapsed: 0:00:28.583756\n",
      "Iter: 300000 / 708351\n",
      "Time elapsed: 0:00:38.834002\n",
      "Iter: 400000 / 708351\n",
      "Time elapsed: 0:00:48.478497\n",
      "Iter: 500000 / 708351\n",
      "Time elapsed: 0:00:58.314351\n",
      "Iter: 600000 / 708351\n",
      "Time elapsed: 0:01:08.809605\n",
      "Iter: 700000 / 708351\n",
      "CPU times: user 1min 7s, sys: 1.98 s, total: 1min 9s\n",
      "Wall time: 1min 9s\n"
     ]
    }
   ],
   "source": [
    "%%time\n",
    "#  Create in memory cache of events\n",
    "person_events = dict()\n",
    "c = 0\n",
    "from datetime import datetime\n",
    "start = datetime.now()\n",
    "\n",
    "l = len(excluded_table)\n",
    "for _, (_, date, pid) in excluded_table.iterrows():\n",
    "    c += 1\n",
    "    if c % 100000 == 0:\n",
    "        print(f\"Time elapsed: {(datetime.now() - start)}\")\n",
    "        print(f\"Iter: {c} / {l}\")\n",
    "        \n",
    "    if pid in person_events:\n",
    "        person_events[pid].add(date)\n",
    "    else:\n",
    "        person_events[pid] = set([date])"
   ]
  },
  {
   "cell_type": "code",
   "execution_count": 51,
   "metadata": {},
   "outputs": [
    {
     "name": "stdout",
     "output_type": "stream",
     "text": [
      "Final UTI list count: 121176\n",
      "CPU times: user 28.1 s, sys: 580 ms, total: 28.7 s\n",
      "Wall time: 28.7 s\n"
     ]
    }
   ],
   "source": [
    "%%time\n",
    "# Removes the event if a procedure happened in the last 180 days\n",
    "#current_df.assign('No excluded procedure or condition')\n",
    "#first_utis = utis[utis.no_previous_90_day_event].copy()\n",
    "temp_df = current_df.assign(no_previous_180_excluded_event=True)\n",
    "c = 0\n",
    "from datetime import datetime\n",
    "start = datetime.now()\n",
    "l = len(temp_df)\n",
    "for index, row in temp_df.iterrows():\n",
    "    p = row.person_id\n",
    "    d = row.condition_start_date\n",
    "    if p in person_events.keys(): # added\n",
    "        person_dates =  person_events[p]\n",
    "        c += 1\n",
    "        #if c % 10000 == 0:\n",
    "            #print(f\"Time elapsed: {(datetime.now() - start)}\")\n",
    "            #print(f\"Iter: {c} \")\n",
    "        for date in person_dates:\n",
    "            if (d - date).days < 180 and (d - date).days > 0:\n",
    "                temp_df.loc[index, \"no_previous_180_excluded_event\"] = False\n",
    "                break\n",
    "    \n",
    "filtered_utis = temp_df[temp_df.no_previous_180_excluded_event].copy()\n",
    "\n",
    "print(f\"Final UTI list count: {len(filtered_utis)}\")\n",
    "filtered_utis.head(3)\n",
    "current_df = filtered_utis"
   ]
  },
  {
   "cell_type": "markdown",
   "metadata": {},
   "source": [
    "### Remove more conditions if they occurred ever"
   ]
  },
  {
   "cell_type": "code",
   "execution_count": 52,
   "metadata": {},
   "outputs": [
    {
     "name": "stdout",
     "output_type": "stream",
     "text": [
      "Found 164 to exclude\n",
      "22948\n",
      "CPU times: user 25.7 s, sys: 1.79 s, total: 27.5 s\n",
      "Wall time: 27.5 s\n"
     ]
    }
   ],
   "source": [
    "%%time\n",
    "condition_ids = []\n",
    "condition_names_1 = []\n",
    "condition_names_2 = []\n",
    "condition_name_hits = [[\"neurogenic\", \"bladder\"],[\"spina\", \"bifida\"]]\n",
    "for ind, (name, cid) in diagnosis_names[[\"concept_name\", \"concept_id\"]].iterrows(): \n",
    "    name = name.lower()\n",
    "    for lpn in condition_name_hits:\n",
    "        pn = lpn[0]\n",
    "        pn2 =lpn[1]\n",
    "        #carcinoma OR cancer OR malignan) AND (bladder OR ureter OR kidney OR renal)\n",
    "        if (('carcinoma' or 'cancer' or 'malignan') in name) and (('bladder' or 'ureter' or 'kidney' or 'renal')) in name:\n",
    "            condition_ids.append(cid)\n",
    "            condition_names_1.append(name)\n",
    "            break\n",
    "        elif pn in name and pn2 in name:\n",
    "            condition_ids.append(cid)\n",
    "            condition_names_2.append(name)\n",
    "            break\n",
    "print(f\"Found {len(condition_ids)} to exclude\")\n",
    "\n",
    "\n",
    "excluded_conditions = condition_df[condition_df.concept_id.isin(condition_ids) & condition_df.person_id.isin(current_person_ids)]\n",
    "print(len(excluded_conditions))\n",
    "excluded_conditions = excluded_conditions[[\"concept_id\", \"condition_start_date\", \"person_id\"]]\n",
    "excluded_conditions = excluded_conditions.rename(columns={\"condition_start_date\":\"date\"})\n",
    "\n",
    "excluded_table = excluded_conditions.copy()\n"
   ]
  },
  {
   "cell_type": "code",
   "execution_count": 53,
   "metadata": {},
   "outputs": [
    {
     "name": "stdout",
     "output_type": "stream",
     "text": [
      "CPU times: user 1.92 s, sys: 148 ms, total: 2.06 s\n",
      "Wall time: 2.06 s\n"
     ]
    }
   ],
   "source": [
    "%%time\n",
    "#  Create in memory cache of events\n",
    "person_events = dict()\n",
    "c = 0\n",
    "from datetime import datetime\n",
    "start = datetime.now()\n",
    "\n",
    "l = len(excluded_table)\n",
    "for _, (_, date, pid) in excluded_table.iterrows():\n",
    "    c += 1\n",
    "    if c % 100000 == 0:\n",
    "        print(f\"Time elapsed: {(datetime.now() - start)}\")\n",
    "        print(f\"Iter: {c} / {l}\")\n",
    "        \n",
    "    if pid in person_events:\n",
    "        person_events[pid].add(date)\n",
    "    else:\n",
    "        person_events[pid] = set([date])"
   ]
  },
  {
   "cell_type": "code",
   "execution_count": 54,
   "metadata": {},
   "outputs": [
    {
     "name": "stdout",
     "output_type": "stream",
     "text": [
      "Final UTI list count: 120065\n",
      "CPU times: user 13.7 s, sys: 304 ms, total: 14 s\n",
      "Wall time: 14 s\n"
     ]
    }
   ],
   "source": [
    "%%time\n",
    "\n",
    "temp_df = filtered_utis.assign(no_previous_excluded_event_ever=True)\n",
    "c = 0\n",
    "from datetime import datetime\n",
    "start = datetime.now()\n",
    "l = len(temp_df)\n",
    "for index, row in temp_df.iterrows():\n",
    "    p = row.person_id\n",
    "    d = row.condition_start_date\n",
    "    if p in person_events.keys(): # added\n",
    "        person_dates =  person_events[p]\n",
    "        c += 1\n",
    "        #if c % 10000 == 0:\n",
    "            #print(f\"Time elapsed: {(datetime.now() - start)}\")\n",
    "            #print(f\"Iter: {c} \")\n",
    "        for date in person_dates:\n",
    "            if (d - date).days > 0:\n",
    "                temp_df.loc[index, \"no_previous_excluded_event_ever\"] = False\n",
    "                break\n",
    "    \n",
    "filtered_utis = temp_df[temp_df.no_previous_excluded_event_ever].copy()\n",
    "\n",
    "print(f\"Final UTI list count: {len(filtered_utis)}\")\n",
    "filtered_utis.head(3)\n",
    "current_df = filtered_utis"
   ]
  },
  {
   "cell_type": "code",
   "execution_count": 55,
   "metadata": {},
   "outputs": [],
   "source": [
    "filtered_utis = temp_df[temp_df.no_previous_excluded_event_ever].copy()"
   ]
  },
  {
   "cell_type": "code",
   "execution_count": 57,
   "metadata": {},
   "outputs": [
    {
     "data": {
      "text/plain": [
       "964230      8\n",
       "1292686     7\n",
       "18897189    7\n",
       "5571868     7\n",
       "4405580     6\n",
       "           ..\n",
       "20192084    1\n",
       "859282      1\n",
       "7615627     1\n",
       "5518161     1\n",
       "24688734    1\n",
       "Name: person_id, Length: 97828, dtype: int64"
      ]
     },
     "execution_count": 57,
     "metadata": {},
     "output_type": "execute_result"
    }
   ],
   "source": [
    "filtered_utis['person_id'].value_counts()"
   ]
  },
  {
   "cell_type": "code",
   "execution_count": 58,
   "metadata": {},
   "outputs": [
    {
     "name": "stdout",
     "output_type": "stream",
     "text": [
      "Executed 1 SQLs\n"
     ]
    }
   ],
   "source": [
    "filtered_utis.to_sql(\"cohort_final_updated_treatments\",con=db.engine, if_exists=\"replace\", schema=\"cdm_6871_21\")\n",
    "db.execute(\"GRANT SELECT ON TABLE cdm_6871_21.cohort_final_updated_treatments TO cdm_6871_21;\")\n"
   ]
  },
  {
   "cell_type": "markdown",
   "metadata": {},
   "source": [
    "#### Get patients with 1 year of observation time"
   ]
  },
  {
   "cell_type": "code",
   "execution_count": 24,
   "metadata": {},
   "outputs": [
    {
     "data": {
      "text/plain": [
       "120065"
      ]
     },
     "execution_count": 24,
     "metadata": {},
     "output_type": "execute_result"
    }
   ],
   "source": [
    "username='cdm_6871_21'\n",
    "password='MLHC2021'\n",
    "database_name = 'omop_v6'\n",
    "conn_string = \"dbname=\"+database_name + \" host=/var/run/postgresql\"\n",
    "conn=psycopg2.connect(conn_string)\n",
    "\n",
    "sql_command = \"select * from cdm_6871_21.cohort_final_updated_treatments;\"\n",
    "cohort = pd.read_sql(sql_command,conn)\n",
    "cohort.condition_occurrence_id.nunique()"
   ]
  },
  {
   "cell_type": "code",
   "execution_count": 6,
   "metadata": {},
   "outputs": [],
   "source": [
    "# remove patients with insufficieny follow-up time"
   ]
  },
  {
   "cell_type": "code",
   "execution_count": 7,
   "metadata": {},
   "outputs": [
    {
     "name": "stdout",
     "output_type": "stream",
     "text": [
      "CPU times: user 2min 43s, sys: 34.7 s, total: 3min 17s\n",
      "Wall time: 4min 33s\n"
     ]
    },
    {
     "data": {
      "text/html": [
       "<div>\n",
       "<style scoped>\n",
       "    .dataframe tbody tr th:only-of-type {\n",
       "        vertical-align: middle;\n",
       "    }\n",
       "\n",
       "    .dataframe tbody tr th {\n",
       "        vertical-align: top;\n",
       "    }\n",
       "\n",
       "    .dataframe thead th {\n",
       "        text-align: right;\n",
       "    }\n",
       "</style>\n",
       "<table border=\"1\" class=\"dataframe\">\n",
       "  <thead>\n",
       "    <tr style=\"text-align: right;\">\n",
       "      <th></th>\n",
       "      <th>visit_detail_id</th>\n",
       "      <th>person_id</th>\n",
       "      <th>visit_detail_concept_id</th>\n",
       "      <th>visit_detail_start_date</th>\n",
       "      <th>visit_detail_start_datetime</th>\n",
       "      <th>visit_detail_end_date</th>\n",
       "      <th>visit_detail_end_datetime</th>\n",
       "      <th>visit_detail_type_concept_id</th>\n",
       "      <th>provider_id</th>\n",
       "      <th>care_site_id</th>\n",
       "      <th>discharge_to_concept_id</th>\n",
       "      <th>admitted_from_concept_id</th>\n",
       "      <th>admitted_from_source_value</th>\n",
       "      <th>visit_detail_source_value</th>\n",
       "      <th>visit_detail_source_concept_id</th>\n",
       "      <th>discharge_to_source_value</th>\n",
       "      <th>preceding_visit_detail_id</th>\n",
       "      <th>visit_detail_parent_id</th>\n",
       "      <th>visit_occurrence_id</th>\n",
       "    </tr>\n",
       "  </thead>\n",
       "  <tbody>\n",
       "    <tr>\n",
       "      <th>0</th>\n",
       "      <td>19828375</td>\n",
       "      <td>1850532</td>\n",
       "      <td>581477</td>\n",
       "      <td>2013-05-01</td>\n",
       "      <td>2013-05-01</td>\n",
       "      <td>2013-05-01</td>\n",
       "      <td>2013-05-01</td>\n",
       "      <td>32021</td>\n",
       "      <td>524834</td>\n",
       "      <td>None</td>\n",
       "      <td>0</td>\n",
       "      <td>0</td>\n",
       "      <td>None</td>\n",
       "      <td>2294159961</td>\n",
       "      <td>0</td>\n",
       "      <td>~</td>\n",
       "      <td>None</td>\n",
       "      <td>None</td>\n",
       "      <td>38112738</td>\n",
       "    </tr>\n",
       "    <tr>\n",
       "      <th>1</th>\n",
       "      <td>406283058</td>\n",
       "      <td>4781602</td>\n",
       "      <td>581477</td>\n",
       "      <td>2020-06-06</td>\n",
       "      <td>2020-06-06</td>\n",
       "      <td>2020-06-06</td>\n",
       "      <td>2020-06-06</td>\n",
       "      <td>32021</td>\n",
       "      <td>4230642</td>\n",
       "      <td>None</td>\n",
       "      <td>0</td>\n",
       "      <td>0</td>\n",
       "      <td>None</td>\n",
       "      <td>4557351389</td>\n",
       "      <td>0</td>\n",
       "      <td>~</td>\n",
       "      <td>None</td>\n",
       "      <td>None</td>\n",
       "      <td>71271096</td>\n",
       "    </tr>\n",
       "    <tr>\n",
       "      <th>2</th>\n",
       "      <td>406283059</td>\n",
       "      <td>4781602</td>\n",
       "      <td>581477</td>\n",
       "      <td>2020-06-06</td>\n",
       "      <td>2020-06-06</td>\n",
       "      <td>2020-06-06</td>\n",
       "      <td>2020-06-06</td>\n",
       "      <td>32021</td>\n",
       "      <td>4230642</td>\n",
       "      <td>None</td>\n",
       "      <td>0</td>\n",
       "      <td>0</td>\n",
       "      <td>None</td>\n",
       "      <td>45573513819</td>\n",
       "      <td>0</td>\n",
       "      <td>~</td>\n",
       "      <td>None</td>\n",
       "      <td>None</td>\n",
       "      <td>71271096</td>\n",
       "    </tr>\n",
       "    <tr>\n",
       "      <th>3</th>\n",
       "      <td>406283060</td>\n",
       "      <td>4781602</td>\n",
       "      <td>581477</td>\n",
       "      <td>2020-06-06</td>\n",
       "      <td>2020-06-06</td>\n",
       "      <td>2020-06-06</td>\n",
       "      <td>2020-06-06</td>\n",
       "      <td>32021</td>\n",
       "      <td>4230642</td>\n",
       "      <td>None</td>\n",
       "      <td>0</td>\n",
       "      <td>0</td>\n",
       "      <td>None</td>\n",
       "      <td>4557351381</td>\n",
       "      <td>0</td>\n",
       "      <td>~</td>\n",
       "      <td>None</td>\n",
       "      <td>None</td>\n",
       "      <td>71271096</td>\n",
       "    </tr>\n",
       "    <tr>\n",
       "      <th>4</th>\n",
       "      <td>406283061</td>\n",
       "      <td>4781602</td>\n",
       "      <td>581477</td>\n",
       "      <td>2020-06-06</td>\n",
       "      <td>2020-06-06</td>\n",
       "      <td>2020-06-06</td>\n",
       "      <td>2020-06-06</td>\n",
       "      <td>32021</td>\n",
       "      <td>4230642</td>\n",
       "      <td>None</td>\n",
       "      <td>0</td>\n",
       "      <td>0</td>\n",
       "      <td>None</td>\n",
       "      <td>4557351384</td>\n",
       "      <td>0</td>\n",
       "      <td>~</td>\n",
       "      <td>None</td>\n",
       "      <td>None</td>\n",
       "      <td>71271096</td>\n",
       "    </tr>\n",
       "  </tbody>\n",
       "</table>\n",
       "</div>"
      ],
      "text/plain": [
       "   visit_detail_id  person_id  visit_detail_concept_id  \\\n",
       "0         19828375    1850532                   581477   \n",
       "1        406283058    4781602                   581477   \n",
       "2        406283059    4781602                   581477   \n",
       "3        406283060    4781602                   581477   \n",
       "4        406283061    4781602                   581477   \n",
       "\n",
       "  visit_detail_start_date visit_detail_start_datetime visit_detail_end_date  \\\n",
       "0              2013-05-01                  2013-05-01            2013-05-01   \n",
       "1              2020-06-06                  2020-06-06            2020-06-06   \n",
       "2              2020-06-06                  2020-06-06            2020-06-06   \n",
       "3              2020-06-06                  2020-06-06            2020-06-06   \n",
       "4              2020-06-06                  2020-06-06            2020-06-06   \n",
       "\n",
       "  visit_detail_end_datetime  visit_detail_type_concept_id  provider_id  \\\n",
       "0                2013-05-01                         32021       524834   \n",
       "1                2020-06-06                         32021      4230642   \n",
       "2                2020-06-06                         32021      4230642   \n",
       "3                2020-06-06                         32021      4230642   \n",
       "4                2020-06-06                         32021      4230642   \n",
       "\n",
       "  care_site_id  discharge_to_concept_id  admitted_from_concept_id  \\\n",
       "0         None                        0                         0   \n",
       "1         None                        0                         0   \n",
       "2         None                        0                         0   \n",
       "3         None                        0                         0   \n",
       "4         None                        0                         0   \n",
       "\n",
       "  admitted_from_source_value visit_detail_source_value  \\\n",
       "0                       None                2294159961   \n",
       "1                       None                4557351389   \n",
       "2                       None               45573513819   \n",
       "3                       None                4557351381   \n",
       "4                       None                4557351384   \n",
       "\n",
       "   visit_detail_source_concept_id discharge_to_source_value  \\\n",
       "0                               0                         ~   \n",
       "1                               0                         ~   \n",
       "2                               0                         ~   \n",
       "3                               0                         ~   \n",
       "4                               0                         ~   \n",
       "\n",
       "  preceding_visit_detail_id visit_detail_parent_id  visit_occurrence_id  \n",
       "0                      None                   None             38112738  \n",
       "1                      None                   None             71271096  \n",
       "2                      None                   None             71271096  \n",
       "3                      None                   None             71271096  \n",
       "4                      None                   None             71271096  "
      ]
     },
     "execution_count": 7,
     "metadata": {},
     "output_type": "execute_result"
    }
   ],
   "source": [
    "%%time\n",
    "sql_cmd = 'select * from cdm_6871_21.visit_detail where person_id in (select person_id from cdm_6871_21.cohort_final_updated_treatments)'\n",
    "visits = pd.read_sql(sql_cmd, conn)\n",
    "visits.head()"
   ]
  },
  {
   "cell_type": "code",
   "execution_count": 25,
   "metadata": {},
   "outputs": [],
   "source": [
    "first_visits = visits.groupby('person_id')[['visit_detail_start_date']].min()\n"
   ]
  },
  {
   "cell_type": "code",
   "execution_count": 26,
   "metadata": {},
   "outputs": [],
   "source": [
    "first_visits.rename(columns={'visit_detail_start_date':'first_visit_date'}, inplace=True)\n",
    "final = cohort.join(first_visits, on='person_id')"
   ]
  },
  {
   "cell_type": "code",
   "execution_count": 27,
   "metadata": {},
   "outputs": [],
   "source": [
    "final['first_visit_date'] = pd.to_datetime(final['first_visit_date'])\n",
    "final['condition_start_date_dt'] = pd.to_datetime(final['condition_start_date'])\n",
    "final['followup_time'] = final['condition_start_date_dt'] - final['first_visit_date']"
   ]
  },
  {
   "cell_type": "code",
   "execution_count": 28,
   "metadata": {},
   "outputs": [],
   "source": [
    "import datetime as dt"
   ]
  },
  {
   "cell_type": "code",
   "execution_count": 29,
   "metadata": {},
   "outputs": [],
   "source": [
    "cohort = final[final.followup_time >= dt.timedelta(days=365)]"
   ]
  },
  {
   "cell_type": "code",
   "execution_count": 30,
   "metadata": {},
   "outputs": [
    {
     "name": "stdout",
     "output_type": "stream",
     "text": [
      "UTIs total with sufficient observation time\n",
      "80753\n"
     ]
    }
   ],
   "source": [
    "print('UTIs total with sufficient observation time')\n",
    "print(len(cohort))"
   ]
  },
  {
   "cell_type": "code",
   "execution_count": 31,
   "metadata": {},
   "outputs": [],
   "source": [
    "# remove multiple drrugs"
   ]
  },
  {
   "cell_type": "code",
   "execution_count": 32,
   "metadata": {},
   "outputs": [
    {
     "data": {
      "text/plain": [
       "False    68503\n",
       "True     12250\n",
       "Name: multi, dtype: int64"
      ]
     },
     "execution_count": 32,
     "metadata": {},
     "output_type": "execute_result"
    }
   ],
   "source": [
    "cohort['multi'].value_counts()"
   ]
  },
  {
   "cell_type": "code",
   "execution_count": 33,
   "metadata": {},
   "outputs": [],
   "source": [
    "final = cohort[cohort['multi']==False]"
   ]
  },
  {
   "cell_type": "code",
   "execution_count": 34,
   "metadata": {},
   "outputs": [
    {
     "name": "stdout",
     "output_type": "stream",
     "text": [
      "UTIs total without multiple drigs\n",
      "68503\n"
     ]
    }
   ],
   "source": [
    "print('UTIs total without multiple drigs')\n",
    "print(len(final))"
   ]
  },
  {
   "cell_type": "code",
   "execution_count": 35,
   "metadata": {},
   "outputs": [],
   "source": [
    "# drop columns for formatting\n",
    "final = final.drop(['first_visit_date','followup_time','condition_start_date_dt'],axis = 1)"
   ]
  },
  {
   "cell_type": "code",
   "execution_count": 38,
   "metadata": {},
   "outputs": [],
   "source": [
    "final = final.drop(['level_0'],axis=1)"
   ]
  },
  {
   "cell_type": "code",
   "execution_count": 39,
   "metadata": {},
   "outputs": [
    {
     "name": "stdout",
     "output_type": "stream",
     "text": [
      "Executed 1 SQLs\n"
     ]
    }
   ],
   "source": [
    "final.to_sql(\"cohort_manuscript_updated_treatments_ncj\",con=db.engine, if_exists=\"replace\", schema=\"cdm_6871_21\")\n",
    "db.execute(\"GRANT SELECT ON TABLE cdm_6871_21.cohort_manuscript_updated_treatments_ncj TO cdm_6871_21;\")"
   ]
  },
  {
   "cell_type": "code",
   "execution_count": null,
   "metadata": {},
   "outputs": [],
   "source": []
  }
 ],
 "metadata": {
  "kernelspec": {
   "display_name": "omop_v2",
   "language": "python",
   "name": "myenv"
  },
  "language_info": {
   "codemirror_mode": {
    "name": "ipython",
    "version": 3
   },
   "file_extension": ".py",
   "mimetype": "text/x-python",
   "name": "python",
   "nbconvert_exporter": "python",
   "pygments_lexer": "ipython3",
   "version": "3.8.5"
  }
 },
 "nbformat": 4,
 "nbformat_minor": 2
}
