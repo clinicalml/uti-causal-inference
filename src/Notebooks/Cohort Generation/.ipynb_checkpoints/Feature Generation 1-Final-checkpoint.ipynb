{
 "cells": [
  {
   "cell_type": "code",
   "execution_count": 10,
   "metadata": {},
   "outputs": [],
   "source": [
    "out_name = 'manuscript_covariates_0'\n",
    "in_name = 'cohort_manuscript_updated_treatments'"
   ]
  },
  {
   "cell_type": "code",
   "execution_count": 1,
   "metadata": {},
   "outputs": [],
   "source": [
    "import sys\n",
    "sys.path.append( '..' )"
   ]
  },
  {
   "cell_type": "code",
   "execution_count": 2,
   "metadata": {},
   "outputs": [],
   "source": [
    "import psycopg2\n",
    "import pandas as pd\n",
    "import numpy\n",
    "import sparse\n",
    "import config\n",
    "import sys\n",
    "import time\n",
    "import importlib\n",
    "#import sparse\n",
    "import datetime\n",
    "import pandas as pd\n",
    "import numpy as np\n",
    "import scipy.sparse\n",
    "import matplotlib.pyplot as plt\n",
    "\n",
    "import Utils.dbutils as dbutils\n",
    "import Utils.data_utils as data_utils\n",
    "import Generators.CohortGenerator as CohortGenerator\n",
    "import Generators.FeatureGenerator as FeatureGenerator\n",
    "import config\n",
    "local_imports = (\n",
    "    dbutils,\n",
    "    data_utils,\n",
    "    CohortGenerator,\n",
    "    FeatureGenerator,\n",
    "    config\n",
    ")\n",
    "for i in local_imports:\n",
    "    i = importlib.reload(i)"
   ]
  },
  {
   "cell_type": "code",
   "execution_count": 3,
   "metadata": {},
   "outputs": [
    {
     "name": "stdout",
     "output_type": "stream",
     "text": [
      "Executed 1 SQLs\n"
     ]
    }
   ],
   "source": [
    "# database connection\n",
    "username = config.PG_USERNAME\n",
    "password = config.PG_PASSWORD\n",
    "database_name = config.DB_NAME\n",
    "\n",
    "#config_path = 'postgresql://{username}:{password}@{database_name}'.format(\n",
    "config_path = 'postgresql://{database_name}'.format(database_name = database_name)\n",
    "\n",
    "\n",
    "    #username = username,\n",
    "    #password = password,\n",
    "   # database_name = database_name\n",
    "#)\n",
    "\n",
    "# schemas \n",
    "schema_name = 'eol_test_eheal' # all created tables will be created using this schema\n",
    "\n",
    "# caching\n",
    "reset_schema = False # if true, rebuild all data from scratch\n",
    "\n",
    "# set up database, reset schemas as needed\n",
    "db = dbutils.Database(config_path, schema_name)\n",
    "if reset_schema:\n",
    "    db.execute(\n",
    "        'drop schema if exists {} cascade'.format(schema_name)\n",
    "    )\n",
    "db.execute(\n",
    "    'create schema if not exists {}'.format(schema_name)\n",
    ")"
   ]
  },
  {
   "cell_type": "code",
   "execution_count": 4,
   "metadata": {},
   "outputs": [
    {
     "name": "stdout",
     "output_type": "stream",
     "text": [
      "CPU times: user 0 ns, sys: 4 ms, total: 4 ms\n",
      "Wall time: 25.6 ms\n"
     ]
    }
   ],
   "source": [
    "%%time\n",
    "reload_antibiotic=0\n",
    "username='cdm_6871_21'\n",
    "password='MLHC2021'\n",
    "database_name = 'omop_v6'\n",
    "conn_string = \"dbname=\"+database_name + \" host=/var/run/postgresql\"\n",
    "conn=psycopg2.connect(conn_string)\n"
   ]
  },
  {
   "cell_type": "code",
   "execution_count": 11,
   "metadata": {},
   "outputs": [],
   "source": [
    "# set input\n",
    "username='cdm_6871_21'\n",
    "password='MLHC2021'\n",
    "database_name = 'omop_v6'\n",
    "conn_string = \"dbname=\"+database_name + \" host=/var/run/postgresql\"\n",
    "conn=psycopg2.connect(conn_string)\n",
    "\n",
    "sql_cmd = 'select * from cdm_6871_21.{}'.format(in_name)\n",
    "covariate_df =pd.read_sql(sql_cmd, conn)\n",
    "\n"
   ]
  },
  {
   "cell_type": "code",
   "execution_count": 6,
   "metadata": {},
   "outputs": [
    {
     "name": "stdout",
     "output_type": "stream",
     "text": [
      "CPU times: user 2.96 s, sys: 172 ms, total: 3.13 s\n",
      "Wall time: 3min 26s\n"
     ]
    }
   ],
   "source": [
    "%%time\n",
    "# Get all antibiotic history per patient\n",
    "cohort_treatments = pd.read_sql(\"\"\"SELECT\n",
    "                                uti.index,\n",
    "                                uti.condition_occurrence_id, \n",
    "                                uti.person_id,\n",
    "                                uti.condition_start_date,\n",
    "                                anti.*,\n",
    "                                drug.drug_exposure_id,\n",
    "                                drug.drug_exposure_start_date,\n",
    "                                drug.drug_exposure_start_datetime\n",
    "                           FROM cdm_6871_21.cohort_manuscript_updated_treatments uti\n",
    "                           JOIN cdm_6871_21.drug_exposure drug ON \n",
    "                                    drug.person_id = uti.person_id AND\n",
    "                                    drug.drug_exposure_start_date - uti.condition_start_date < -1\n",
    "                           JOIN cdm_6871_21.antibiotics_v2 anti ON\n",
    "                                       drug.drug_concept_id = anti.drug_concept_id\n",
    "                           ORDER BY \n",
    "                                    uti.condition_occurrence_id\n",
    "                        \"\"\", conn)"
   ]
  },
  {
   "cell_type": "code",
   "execution_count": 12,
   "metadata": {},
   "outputs": [
    {
     "name": "stdout",
     "output_type": "stream",
     "text": [
      "CPU times: user 704 ms, sys: 100 ms, total: 804 ms\n",
      "Wall time: 801 ms\n"
     ]
    }
   ],
   "source": [
    "%%time\n",
    "cohort_v7 = covariate_df.copy()\n",
    "\n",
    "# Create New Variables \n",
    "cohort_v7 = cohort_v7.assign(nitrofurantoin_switch_ever=0)\n",
    "cohort_v7 = cohort_v7.assign(fosfomycin_switch_ever=0)\n",
    "cohort_v7['trimethoprim-sulfamethoxazole_switch_ever'] =0\n",
    "cohort_v7 = cohort_v7.assign(second_line_switch_ever=0)\n",
    "cohort_v7 = cohort_v7.assign(alternatives_switch_ever=0)\n",
    "cohort_v7 = cohort_v7.assign(inappropriate_switch_ever=0)\n",
    "\n",
    "cohort_v7 = cohort_v7.assign(nitrofurantoin_switch_recent=0)\n",
    "cohort_v7 = cohort_v7.assign(fosfomycin_switch_recent=0)\n",
    "cohort_v7['trimethoprim-sulfamethoxazole_switch_recent'] =0\n",
    "cohort_v7 = cohort_v7.assign(second_line_switch_recent=0)\n",
    "cohort_v7 = cohort_v7.assign(alternatives_switch_recent=0)\n",
    "cohort_v7 = cohort_v7.assign(inappropriate_switch_recent=0)\n",
    "\n",
    "cohort_v7 = cohort_v7.assign(nitrofurantoin_1_to_7_days=0)\n",
    "cohort_v7 = cohort_v7.assign(fosfomycin_1_to_7_days=0)\n",
    "cohort_v7['trimethoprim-sulfamethoxazole_1_to_7_days'] =0\n",
    "cohort_v7 = cohort_v7.assign(second_line_1_to_7_days=0)\n",
    "cohort_v7 = cohort_v7.assign(alternatives_1_to_7_days=0)\n",
    "cohort_v7 = cohort_v7.assign(inappropriate_1_to_7_days=0)\n",
    "\n",
    "cohort_v7 = cohort_v7.assign(nitrofurantoin_0_to_6_mo=0)\n",
    "cohort_v7 = cohort_v7.assign(fosfomycin_0_to_6_mo=0)\n",
    "cohort_v7['trimethoprim-sulfamethoxazole_0_to_6_mo'] =0\n",
    "cohort_v7 = cohort_v7.assign(second_line_0_to_6_mo=0)\n",
    "cohort_v7 = cohort_v7.assign(alternatives_0_to_6_mo=0)\n",
    "cohort_v7 = cohort_v7.assign(inappropriate_0_to_6_mo=0)\n",
    "\n",
    "cohort_v7 = cohort_v7.assign(nitrofurantoin_6_to_12_mo=0)\n",
    "cohort_v7 = cohort_v7.assign(fosfomycin_6_to_12_mo=0)\n",
    "cohort_v7['trimethoprim-sulfamethoxazole_6_to_12_mo'] =0\n",
    "cohort_v7 = cohort_v7.assign(second_line_6_to_12_mo=0)\n",
    "cohort_v7 = cohort_v7.assign(alternatives_6_to_12_mo=0)\n",
    "cohort_v7 = cohort_v7.assign(inappropriate_6_to_12_mo=0)\n",
    "\n",
    "cohort_v7 = cohort_v7.assign(nitrofurantoin_12_to_24_mo=0)\n",
    "cohort_v7 = cohort_v7.assign(fosfomycin_12_to_24_mo=0)\n",
    "cohort_v7['trimethoprim-sulfamethoxazole_12_to_24_mo'] =0\n",
    "cohort_v7 = cohort_v7.assign(second_line_12_to_24_mo=0)\n",
    "cohort_v7 = cohort_v7.assign(alternatives_12_to_24_mo=0)\n",
    "cohort_v7 = cohort_v7.assign(inappropriate_12_to_24_mo=0)\n",
    "\n",
    "\n",
    "cohort_v7 = cohort_v7.assign(nitrofurantoin_most_recent=0)\n",
    "cohort_v7 = cohort_v7.assign(fosfomycin_most_recent=0)\n",
    "cohort_v7['trimethoprim-sulfamethoxazole_most_recent'] =0\n",
    "cohort_v7 = cohort_v7.assign(second_line_most_recent=0)\n",
    "cohort_v7 = cohort_v7.assign(alternatives_most_recent=0)\n",
    "cohort_v7 = cohort_v7.assign(inappropriate_most_recent=0)"
   ]
  },
  {
   "cell_type": "code",
   "execution_count": 13,
   "metadata": {},
   "outputs": [],
   "source": [
    "ids_with_previous_treatment = cohort_treatments.condition_occurrence_id.unique()"
   ]
  },
  {
   "cell_type": "code",
   "execution_count": 14,
   "metadata": {},
   "outputs": [
    {
     "name": "stdout",
     "output_type": "stream",
     "text": [
      "2%\n",
      "3%\n",
      "5%\n",
      "7%\n",
      "9%\n",
      "10%\n",
      "12%\n",
      "14%\n",
      "16%\n",
      "17%\n",
      "19%\n",
      "21%\n",
      "23%\n",
      "24%\n",
      "26%\n",
      "28%\n",
      "29%\n",
      "31%\n",
      "33%\n",
      "35%\n",
      "36%\n",
      "38%\n",
      "40%\n",
      "42%\n",
      "43%\n",
      "45%\n",
      "47%\n",
      "49%\n",
      "50%\n",
      "52%\n",
      "54%\n",
      "55%\n",
      "57%\n",
      "59%\n",
      "61%\n",
      "62%\n",
      "64%\n",
      "66%\n",
      "68%\n",
      "69%\n",
      "71%\n",
      "73%\n",
      "75%\n",
      "76%\n",
      "78%\n",
      "80%\n",
      "82%\n",
      "83%\n",
      "85%\n",
      "87%\n",
      "88%\n",
      "90%\n",
      "92%\n",
      "94%\n",
      "95%\n",
      "97%\n",
      "99%\n",
      "CPU times: user 19min 6s, sys: 668 ms, total: 19min 7s\n",
      "Wall time: 19min 6s\n"
     ]
    }
   ],
   "source": [
    "%%time\n",
    "i=0\n",
    "cohort_temp = cohort_v7.copy()\n",
    "for condition_occurrence_id in ids_with_previous_treatment:\n",
    "    temp = cohort_treatments[cohort_treatments.condition_occurrence_id==condition_occurrence_id]\n",
    "    index = list(cohort_temp[cohort_temp.condition_occurrence_id ==condition_occurrence_id].index)[0]\n",
    "    if temp.antibiotic_type.nunique()>1:\n",
    "        temp = temp.drop(columns ='level_0')\n",
    "        temp = temp.sort_values('drug_exposure_start_date',ascending = False).reset_index()\n",
    "        for inex, row in temp.iterrows():\n",
    "            drug_date = row.drug_exposure_start_date\n",
    "            uti_date = row.condition_start_date\n",
    "            drug_type = row.antibiotic_type \n",
    "            if inex ==0:\n",
    "                cohort_temp.at[index, str(drug_type)+'_most_recent'] = 1 \n",
    "                after_drug = drug_type\n",
    "            else:\n",
    "                for j in range(inex):\n",
    "                    row_df =temp.iloc[j,:]\n",
    "                    drug_date_after = row_df.drug_exposure_start_date \n",
    "                    uti_date_after = row_df.condition_start_date\n",
    "                    drug_type_after = row_df.antibiotic_type \n",
    "                    if drug_type_after != drug_type:\n",
    "                        if (drug_date_after-drug_date).days>0 and (drug_date_after-drug_date).days<8:\n",
    "                            cohort_temp.at[index, str(drug_type)+'_switch_ever'] = 1\n",
    "                            if inex == min(temp[temp.antibiotic_type ==drug_type].index):\n",
    "                                cohort_temp.at[index, str(drug_type)+'_switch_recent'] = 1\n",
    "            \n",
    "    elif temp.antibiotic_type.nunique()==1:\n",
    "        drug_type = list(temp.antibiotic_type)[0]\n",
    "        cohort_temp.at[index, str(drug_type)+'_most_recent'] = 1 \n",
    "\n",
    "    for inex, row in temp.iterrows():\n",
    "        drug_date = row.drug_exposure_start_date\n",
    "        uti_date = row.condition_start_date\n",
    "        drug_type = row.antibiotic_type \n",
    "        \n",
    "        if (uti_date-drug_date).days >0 and (uti_date-drug_date).days <8:          \n",
    "            cohort_temp.at[index, str(drug_type)+'_1_to_7_days'] = 1\n",
    "        if (uti_date-drug_date).days >0 and (uti_date-drug_date).days <183:          \n",
    "            cohort_temp.at[index, str(drug_type)+'_0_to_6_mo'] = 1\n",
    "        if (uti_date-drug_date).days >182 and (uti_date-drug_date).days <365:          \n",
    "            cohort_temp.at[index, str(drug_type)+'_6_to_12_mo'] = 1        \n",
    "        if (uti_date-drug_date).days >364 and (uti_date-drug_date).days <728:          \n",
    "            cohort_temp.at[index, str(drug_type)+'_12_to_24_mo'] = 1    \n",
    " \n",
    "    i = i+1\n",
    "    if i%1000==0:\n",
    "        print(str(round(i/len(ids_with_previous_treatment)*100))+'%')\n",
    "\n",
    "    "
   ]
  },
  {
   "cell_type": "code",
   "execution_count": 15,
   "metadata": {},
   "outputs": [],
   "source": [
    "cohort_temp =cohort_temp.drop(columns = 'level_0')"
   ]
  },
  {
   "cell_type": "code",
   "execution_count": 16,
   "metadata": {},
   "outputs": [],
   "source": [
    "cohort_temp.to_sql(\"{}\".format(out_name),con=db.engine, if_exists=\"replace\", schema=\"cdm_6871_21\")"
   ]
  },
  {
   "cell_type": "code",
   "execution_count": 17,
   "metadata": {},
   "outputs": [
    {
     "name": "stdout",
     "output_type": "stream",
     "text": [
      "Executed 1 SQLs\n"
     ]
    }
   ],
   "source": [
    "db.execute('GRANT SELECT ON TABLE cdm_6871_21.{} TO cdm_6871_21;'.format(out_name))\n",
    "\n"
   ]
  },
  {
   "cell_type": "code",
   "execution_count": 2,
   "metadata": {},
   "outputs": [],
   "source": []
  },
  {
   "cell_type": "markdown",
   "metadata": {},
   "source": [
    "## Figures"
   ]
  },
  {
   "cell_type": "code",
   "execution_count": 6,
   "metadata": {},
   "outputs": [
    {
     "data": {
      "text/html": [
       "<div>\n",
       "<style scoped>\n",
       "    .dataframe tbody tr th:only-of-type {\n",
       "        vertical-align: middle;\n",
       "    }\n",
       "\n",
       "    .dataframe tbody tr th {\n",
       "        vertical-align: top;\n",
       "    }\n",
       "\n",
       "    .dataframe thead th {\n",
       "        text-align: right;\n",
       "    }\n",
       "</style>\n",
       "<table border=\"1\" class=\"dataframe\">\n",
       "  <thead>\n",
       "    <tr style=\"text-align: right;\">\n",
       "      <th></th>\n",
       "      <th>level_0</th>\n",
       "      <th>index</th>\n",
       "      <th>condition_occurrence_id</th>\n",
       "      <th>person_id</th>\n",
       "      <th>condition_concept_id</th>\n",
       "      <th>condition_start_date</th>\n",
       "      <th>condition_start_datetime</th>\n",
       "      <th>condition_end_date</th>\n",
       "      <th>condition_end_datetime</th>\n",
       "      <th>visit_occurrence_id</th>\n",
       "      <th>...</th>\n",
       "      <th>trimethoprim-sulfamethoxazole_12_to_24_mo</th>\n",
       "      <th>second_line_12_to_24_mo</th>\n",
       "      <th>alternatives_12_to_24_mo</th>\n",
       "      <th>inappropriate_12_to_24_mo</th>\n",
       "      <th>nitrofurantoin_most_recent</th>\n",
       "      <th>fosfomycin_most_recent</th>\n",
       "      <th>trimethoprim-sulfamethoxazole_most_recent</th>\n",
       "      <th>second_line_most_recent</th>\n",
       "      <th>alternatives_most_recent</th>\n",
       "      <th>inappropriate_most_recent</th>\n",
       "    </tr>\n",
       "  </thead>\n",
       "  <tbody>\n",
       "    <tr>\n",
       "      <th>0</th>\n",
       "      <td>0</td>\n",
       "      <td>0</td>\n",
       "      <td>400169196</td>\n",
       "      <td>29</td>\n",
       "      <td>81902</td>\n",
       "      <td>2018-06-30</td>\n",
       "      <td>2018-06-30</td>\n",
       "      <td>None</td>\n",
       "      <td>None</td>\n",
       "      <td>912680</td>\n",
       "      <td>...</td>\n",
       "      <td>0</td>\n",
       "      <td>0</td>\n",
       "      <td>0</td>\n",
       "      <td>1</td>\n",
       "      <td>0</td>\n",
       "      <td>0</td>\n",
       "      <td>0</td>\n",
       "      <td>0</td>\n",
       "      <td>0</td>\n",
       "      <td>1</td>\n",
       "    </tr>\n",
       "    <tr>\n",
       "      <th>1</th>\n",
       "      <td>1</td>\n",
       "      <td>1</td>\n",
       "      <td>543518058</td>\n",
       "      <td>35</td>\n",
       "      <td>81902</td>\n",
       "      <td>2020-06-14</td>\n",
       "      <td>2020-06-14</td>\n",
       "      <td>None</td>\n",
       "      <td>None</td>\n",
       "      <td>912779</td>\n",
       "      <td>...</td>\n",
       "      <td>0</td>\n",
       "      <td>1</td>\n",
       "      <td>0</td>\n",
       "      <td>0</td>\n",
       "      <td>0</td>\n",
       "      <td>0</td>\n",
       "      <td>0</td>\n",
       "      <td>1</td>\n",
       "      <td>0</td>\n",
       "      <td>0</td>\n",
       "    </tr>\n",
       "    <tr>\n",
       "      <th>2</th>\n",
       "      <td>2</td>\n",
       "      <td>2</td>\n",
       "      <td>465004090</td>\n",
       "      <td>101</td>\n",
       "      <td>81902</td>\n",
       "      <td>2019-04-28</td>\n",
       "      <td>2019-04-28</td>\n",
       "      <td>None</td>\n",
       "      <td>None</td>\n",
       "      <td>914389</td>\n",
       "      <td>...</td>\n",
       "      <td>0</td>\n",
       "      <td>0</td>\n",
       "      <td>0</td>\n",
       "      <td>1</td>\n",
       "      <td>0</td>\n",
       "      <td>0</td>\n",
       "      <td>0</td>\n",
       "      <td>0</td>\n",
       "      <td>0</td>\n",
       "      <td>1</td>\n",
       "    </tr>\n",
       "    <tr>\n",
       "      <th>3</th>\n",
       "      <td>3</td>\n",
       "      <td>3</td>\n",
       "      <td>73514428</td>\n",
       "      <td>434</td>\n",
       "      <td>81902</td>\n",
       "      <td>2014-04-26</td>\n",
       "      <td>2014-04-26</td>\n",
       "      <td>None</td>\n",
       "      <td>None</td>\n",
       "      <td>924382</td>\n",
       "      <td>...</td>\n",
       "      <td>0</td>\n",
       "      <td>0</td>\n",
       "      <td>1</td>\n",
       "      <td>0</td>\n",
       "      <td>0</td>\n",
       "      <td>0</td>\n",
       "      <td>0</td>\n",
       "      <td>0</td>\n",
       "      <td>1</td>\n",
       "      <td>0</td>\n",
       "    </tr>\n",
       "    <tr>\n",
       "      <th>4</th>\n",
       "      <td>4</td>\n",
       "      <td>4</td>\n",
       "      <td>148592964</td>\n",
       "      <td>481</td>\n",
       "      <td>81902</td>\n",
       "      <td>2015-06-09</td>\n",
       "      <td>2015-06-09</td>\n",
       "      <td>None</td>\n",
       "      <td>None</td>\n",
       "      <td>925277</td>\n",
       "      <td>...</td>\n",
       "      <td>0</td>\n",
       "      <td>0</td>\n",
       "      <td>0</td>\n",
       "      <td>0</td>\n",
       "      <td>0</td>\n",
       "      <td>0</td>\n",
       "      <td>0</td>\n",
       "      <td>0</td>\n",
       "      <td>1</td>\n",
       "      <td>0</td>\n",
       "    </tr>\n",
       "  </tbody>\n",
       "</table>\n",
       "<p>5 rows × 547 columns</p>\n",
       "</div>"
      ],
      "text/plain": [
       "   level_0  index  condition_occurrence_id  person_id  condition_concept_id  \\\n",
       "0        0      0                400169196         29                 81902   \n",
       "1        1      1                543518058         35                 81902   \n",
       "2        2      2                465004090        101                 81902   \n",
       "3        3      3                 73514428        434                 81902   \n",
       "4        4      4                148592964        481                 81902   \n",
       "\n",
       "  condition_start_date condition_start_datetime condition_end_date  \\\n",
       "0           2018-06-30               2018-06-30               None   \n",
       "1           2020-06-14               2020-06-14               None   \n",
       "2           2019-04-28               2019-04-28               None   \n",
       "3           2014-04-26               2014-04-26               None   \n",
       "4           2015-06-09               2015-06-09               None   \n",
       "\n",
       "  condition_end_datetime  visit_occurrence_id  ...  \\\n",
       "0                   None               912680  ...   \n",
       "1                   None               912779  ...   \n",
       "2                   None               914389  ...   \n",
       "3                   None               924382  ...   \n",
       "4                   None               925277  ...   \n",
       "\n",
       "   trimethoprim-sulfamethoxazole_12_to_24_mo  second_line_12_to_24_mo  \\\n",
       "0                                          0                        0   \n",
       "1                                          0                        1   \n",
       "2                                          0                        0   \n",
       "3                                          0                        0   \n",
       "4                                          0                        0   \n",
       "\n",
       "  alternatives_12_to_24_mo inappropriate_12_to_24_mo  \\\n",
       "0                        0                         1   \n",
       "1                        0                         0   \n",
       "2                        0                         1   \n",
       "3                        1                         0   \n",
       "4                        0                         0   \n",
       "\n",
       "  nitrofurantoin_most_recent  fosfomycin_most_recent  \\\n",
       "0                          0                       0   \n",
       "1                          0                       0   \n",
       "2                          0                       0   \n",
       "3                          0                       0   \n",
       "4                          0                       0   \n",
       "\n",
       "   trimethoprim-sulfamethoxazole_most_recent second_line_most_recent  \\\n",
       "0                                          0                       0   \n",
       "1                                          0                       1   \n",
       "2                                          0                       0   \n",
       "3                                          0                       0   \n",
       "4                                          0                       0   \n",
       "\n",
       "  alternatives_most_recent  inappropriate_most_recent  \n",
       "0                        0                          1  \n",
       "1                        0                          0  \n",
       "2                        0                          1  \n",
       "3                        1                          0  \n",
       "4                        1                          0  \n",
       "\n",
       "[5 rows x 547 columns]"
      ]
     },
     "execution_count": 6,
     "metadata": {},
     "output_type": "execute_result"
    }
   ],
   "source": [
    "sql_cmd = 'select * from cdm_6871_21.cohort_final_df_v8'\n",
    "cohort = pd.read_sql(sql_cmd, conn)\n",
    "cohort.head()"
   ]
  },
  {
   "cell_type": "code",
   "execution_count": 7,
   "metadata": {},
   "outputs": [],
   "source": [
    "temp = cohort.iloc[:,-45:]"
   ]
  },
  {
   "cell_type": "code",
   "execution_count": 8,
   "metadata": {},
   "outputs": [
    {
     "data": {
      "text/plain": [
       "erythrocyte_urine_0_exists                         0.0\n",
       "body_temp_0_exists                                47.0\n",
       "body_temp_s_0_exists                               0.0\n",
       "nitrofurantoin_switch_ever                      2753.0\n",
       "fosfomycin_switch_ever                             0.0\n",
       "trimethoprim-sulfamethoxazole_switch_ever       3609.0\n",
       "second_line_switch_ever                         5725.0\n",
       "alternatives_switch_ever                        5235.0\n",
       "inappropriate_switch_ever                       6498.0\n",
       "nitrofurantoin_switch_recent                    1722.0\n",
       "fosfomycin_switch_recent                           0.0\n",
       "trimethoprim-sulfamethoxazole_switch_recent     2386.0\n",
       "second_line_switch_recent                       2687.0\n",
       "alternatives_switch_recent                      2466.0\n",
       "inappropriate_switch_recent                     2184.0\n",
       "nitrofurantoin_1_to_7_days                       550.0\n",
       "fosfomycin_1_to_7_days                             0.0\n",
       "trimethoprim-sulfamethoxazole_1_to_7_days        644.0\n",
       "second_line_1_to_7_days                         1003.0\n",
       "alternatives_1_to_7_days                         555.0\n",
       "inappropriate_1_to_7_days                       1387.0\n",
       "nitrofurantoin_0_to_6_mo                        5367.0\n",
       "fosfomycin_0_to_6_mo                               0.0\n",
       "trimethoprim-sulfamethoxazole_0_to_6_mo         6060.0\n",
       "second_line_0_to_6_mo                          12724.0\n",
       "alternatives_0_to_6_mo                         16175.0\n",
       "inappropriate_0_to_6_mo                        22325.0\n",
       "nitrofurantoin_6_to_12_mo                       5645.0\n",
       "fosfomycin_6_to_12_mo                              0.0\n",
       "trimethoprim-sulfamethoxazole_6_to_12_mo        6195.0\n",
       "second_line_6_to_12_mo                         13869.0\n",
       "alternatives_6_to_12_mo                        14095.0\n",
       "inappropriate_6_to_12_mo                       19232.0\n",
       "nitrofurantoin_12_to_24_mo                      7023.0\n",
       "fosfomycin_12_to_24_mo                             0.0\n",
       "trimethoprim-sulfamethoxazole_12_to_24_mo       8424.0\n",
       "second_line_12_to_24_mo                        18269.0\n",
       "alternatives_12_to_24_mo                       18377.0\n",
       "inappropriate_12_to_24_mo                      23571.0\n",
       "nitrofurantoin_most_recent                      7051.0\n",
       "fosfomycin_most_recent                             0.0\n",
       "trimethoprim-sulfamethoxazole_most_recent       8214.0\n",
       "second_line_most_recent                        18681.0\n",
       "alternatives_most_recent                       21917.0\n",
       "inappropriate_most_recent                      30573.0\n",
       "dtype: float64"
      ]
     },
     "execution_count": 8,
     "metadata": {},
     "output_type": "execute_result"
    }
   ],
   "source": [
    "temp.sum()"
   ]
  },
  {
   "cell_type": "code",
   "execution_count": 56,
   "metadata": {},
   "outputs": [],
   "source": [
    "counts_total = pd.DataFrame(cohort.antibiotic_type.value_counts())"
   ]
  },
  {
   "cell_type": "code",
   "execution_count": 62,
   "metadata": {},
   "outputs": [],
   "source": [
    "counts_total = counts_total.rename(columns = {'antibiotic_type':'Total'})"
   ]
  },
  {
   "cell_type": "code",
   "execution_count": 67,
   "metadata": {},
   "outputs": [],
   "source": [
    "t = counts_total.merge(temp1_df,right_index = True,left_index = True)\n",
    "t['antibiotic_type'] = t['antibiotic_type']/t['Total']\n"
   ]
  },
  {
   "cell_type": "code",
   "execution_count": 73,
   "metadata": {
    "scrolled": false
   },
   "outputs": [
    {
     "name": "stdout",
     "output_type": "stream",
     "text": [
      "nitrofurantoin  2753\n",
      "alternatives  5235\n",
      "inappropriate  6498\n",
      "trimethoprim-sulfamethoxazole  3609\n",
      "second_line  5725\n"
     ]
    },
    {
     "data": {
      "image/png": "[encoded data removed]",
      "text/plain": [
       "<Figure size 432x288 with 1 Axes>"
      ]
     },
     "metadata": {
      "needs_background": "light"
     },
     "output_type": "display_data"
    },
    {
     "data": {
      "image/png": "[encoded data removed]",
      "text/plain": [
       "<Figure size 432x288 with 1 Axes>"
      ]
     },
     "metadata": {
      "needs_background": "light"
     },
     "output_type": "display_data"
    },
    {
     "data": {
      "image/png": "[encoded data removed]",
      "text/plain": [
       "<Figure size 432x288 with 1 Axes>"
      ]
     },
     "metadata": {
      "needs_background": "light"
     },
     "output_type": "display_data"
    },
    {
     "data": {
      "image/png": "[encoded data removed]",
      "text/plain": [
       "<Figure size 432x288 with 1 Axes>"
      ]
     },
     "metadata": {
      "needs_background": "light"
     },
     "output_type": "display_data"
    },
    {
     "data": {
      "image/png": "[encoded data removed]",
      "text/plain": [
       "<Figure size 432x288 with 1 Axes>"
      ]
     },
     "metadata": {
      "needs_background": "light"
     },
     "output_type": "display_data"
    }
   ],
   "source": [
    "drug_list = ['nitrofurantoin','alternatives','inappropriate','trimethoprim-sulfamethoxazole','second_line']\n",
    "for drug in drug_list:    \n",
    "\n",
    "    title='History of '+str(drug) + ' switch'\n",
    "    temp = cohort[cohort[str(drug) +'_switch_ever']==1]\n",
    "    temp_df = pd.DataFrame(temp.antibiotic_type.value_counts())\n",
    "    temp_df = counts_total.merge(temp_df,right_index = True,left_index = True)\n",
    "    temp_df['antibiotic_type'] = temp_df['antibiotic_type']/temp_df['Total']\n",
    "    temp_df =temp_df.rename(columns = {'antibiotic_type':'Switch ever'})\n",
    "    temp_df  = temp_df.drop(columns = 'Total')\n",
    "    temp1  = cohort[cohort[str(drug) +'_switch_recent']==1]\n",
    "    temp1_df = pd.DataFrame(temp1.antibiotic_type.value_counts())\n",
    "    temp1_df = counts_total.merge(temp1_df,right_index = True,left_index = True)\n",
    "    temp1_df['antibiotic_type'] = temp1_df['antibiotic_type']/temp1_df['Total']\n",
    "    temp1_df =temp1_df.rename(columns = {'antibiotic_type':'Switch recent'})\n",
    "    temp1_df  = temp1_df.drop(columns = 'Total')\n",
    "    counts=temp_df.merge(temp1_df,right_index = True,left_index = True)\n",
    "    counts = counts.sort_index()\n",
    "    print(str(drug) + '  ' +str(len(temp)))\n",
    "    counts.plot(kind='bar',title = title)\n"
   ]
  },
  {
   "cell_type": "code",
   "execution_count": 78,
   "metadata": {},
   "outputs": [
    {
     "data": {
      "text/html": [
       "<div>\n",
       "<style scoped>\n",
       "    .dataframe tbody tr th:only-of-type {\n",
       "        vertical-align: middle;\n",
       "    }\n",
       "\n",
       "    .dataframe tbody tr th {\n",
       "        vertical-align: top;\n",
       "    }\n",
       "\n",
       "    .dataframe thead th {\n",
       "        text-align: right;\n",
       "    }\n",
       "</style>\n",
       "<table border=\"1\" class=\"dataframe\">\n",
       "  <thead>\n",
       "    <tr style=\"text-align: right;\">\n",
       "      <th></th>\n",
       "      <th>level_0</th>\n",
       "      <th>index</th>\n",
       "      <th>condition_occurrence_id</th>\n",
       "      <th>person_id</th>\n",
       "      <th>condition_concept_id</th>\n",
       "      <th>condition_start_date</th>\n",
       "      <th>condition_start_datetime</th>\n",
       "      <th>condition_end_date</th>\n",
       "      <th>condition_end_datetime</th>\n",
       "      <th>visit_occurrence_id</th>\n",
       "      <th>...</th>\n",
       "      <th>trimethoprim-sulfamethoxazole_12_to_24_mo</th>\n",
       "      <th>second_line_12_to_24_mo</th>\n",
       "      <th>alternatives_12_to_24_mo</th>\n",
       "      <th>inappropriate_12_to_24_mo</th>\n",
       "      <th>nitrofurantoin_most_recent</th>\n",
       "      <th>fosfomycin_most_recent</th>\n",
       "      <th>trimethoprim-sulfamethoxazole_most_recent</th>\n",
       "      <th>second_line_most_recent</th>\n",
       "      <th>alternatives_most_recent</th>\n",
       "      <th>inappropriate_most_recent</th>\n",
       "    </tr>\n",
       "  </thead>\n",
       "  <tbody>\n",
       "    <tr>\n",
       "      <th>147</th>\n",
       "      <td>147</td>\n",
       "      <td>146</td>\n",
       "      <td>98919971</td>\n",
       "      <td>8226</td>\n",
       "      <td>81902</td>\n",
       "      <td>2014-11-10</td>\n",
       "      <td>2014-11-10</td>\n",
       "      <td>None</td>\n",
       "      <td>None</td>\n",
       "      <td>1119897</td>\n",
       "      <td>...</td>\n",
       "      <td>1</td>\n",
       "      <td>0</td>\n",
       "      <td>0</td>\n",
       "      <td>0</td>\n",
       "      <td>0</td>\n",
       "      <td>0</td>\n",
       "      <td>0</td>\n",
       "      <td>1</td>\n",
       "      <td>0</td>\n",
       "      <td>0</td>\n",
       "    </tr>\n",
       "    <tr>\n",
       "      <th>148</th>\n",
       "      <td>148</td>\n",
       "      <td>147</td>\n",
       "      <td>98967213</td>\n",
       "      <td>8227</td>\n",
       "      <td>81902</td>\n",
       "      <td>2014-08-19</td>\n",
       "      <td>2014-08-19</td>\n",
       "      <td>None</td>\n",
       "      <td>None</td>\n",
       "      <td>1120345</td>\n",
       "      <td>...</td>\n",
       "      <td>0</td>\n",
       "      <td>0</td>\n",
       "      <td>1</td>\n",
       "      <td>0</td>\n",
       "      <td>0</td>\n",
       "      <td>0</td>\n",
       "      <td>0</td>\n",
       "      <td>1</td>\n",
       "      <td>0</td>\n",
       "      <td>0</td>\n",
       "    </tr>\n",
       "    <tr>\n",
       "      <th>269</th>\n",
       "      <td>269</td>\n",
       "      <td>267</td>\n",
       "      <td>129151962</td>\n",
       "      <td>15096</td>\n",
       "      <td>81902</td>\n",
       "      <td>2015-04-18</td>\n",
       "      <td>2015-04-18</td>\n",
       "      <td>None</td>\n",
       "      <td>None</td>\n",
       "      <td>1302557</td>\n",
       "      <td>...</td>\n",
       "      <td>0</td>\n",
       "      <td>0</td>\n",
       "      <td>0</td>\n",
       "      <td>0</td>\n",
       "      <td>0</td>\n",
       "      <td>0</td>\n",
       "      <td>0</td>\n",
       "      <td>1</td>\n",
       "      <td>0</td>\n",
       "      <td>0</td>\n",
       "    </tr>\n",
       "    <tr>\n",
       "      <th>296</th>\n",
       "      <td>296</td>\n",
       "      <td>295</td>\n",
       "      <td>228650874</td>\n",
       "      <td>16550</td>\n",
       "      <td>81902</td>\n",
       "      <td>2016-07-21</td>\n",
       "      <td>2016-07-21</td>\n",
       "      <td>None</td>\n",
       "      <td>None</td>\n",
       "      <td>1338291</td>\n",
       "      <td>...</td>\n",
       "      <td>0</td>\n",
       "      <td>1</td>\n",
       "      <td>1</td>\n",
       "      <td>0</td>\n",
       "      <td>0</td>\n",
       "      <td>0</td>\n",
       "      <td>0</td>\n",
       "      <td>1</td>\n",
       "      <td>0</td>\n",
       "      <td>0</td>\n",
       "    </tr>\n",
       "    <tr>\n",
       "      <th>393</th>\n",
       "      <td>401</td>\n",
       "      <td>400</td>\n",
       "      <td>38853300</td>\n",
       "      <td>21404</td>\n",
       "      <td>81902</td>\n",
       "      <td>2013-10-12</td>\n",
       "      <td>2013-10-12</td>\n",
       "      <td>None</td>\n",
       "      <td>None</td>\n",
       "      <td>1459310</td>\n",
       "      <td>...</td>\n",
       "      <td>0</td>\n",
       "      <td>0</td>\n",
       "      <td>0</td>\n",
       "      <td>0</td>\n",
       "      <td>0</td>\n",
       "      <td>0</td>\n",
       "      <td>0</td>\n",
       "      <td>1</td>\n",
       "      <td>0</td>\n",
       "      <td>0</td>\n",
       "    </tr>\n",
       "    <tr>\n",
       "      <th>...</th>\n",
       "      <td>...</td>\n",
       "      <td>...</td>\n",
       "      <td>...</td>\n",
       "      <td>...</td>\n",
       "      <td>...</td>\n",
       "      <td>...</td>\n",
       "      <td>...</td>\n",
       "      <td>...</td>\n",
       "      <td>...</td>\n",
       "      <td>...</td>\n",
       "      <td>...</td>\n",
       "      <td>...</td>\n",
       "      <td>...</td>\n",
       "      <td>...</td>\n",
       "      <td>...</td>\n",
       "      <td>...</td>\n",
       "      <td>...</td>\n",
       "      <td>...</td>\n",
       "      <td>...</td>\n",
       "      <td>...</td>\n",
       "      <td>...</td>\n",
       "    </tr>\n",
       "    <tr>\n",
       "      <th>122963</th>\n",
       "      <td>122963</td>\n",
       "      <td>122958</td>\n",
       "      <td>529421387</td>\n",
       "      <td>31571425</td>\n",
       "      <td>81902</td>\n",
       "      <td>2020-05-11</td>\n",
       "      <td>2020-05-11</td>\n",
       "      <td>None</td>\n",
       "      <td>None</td>\n",
       "      <td>159457633</td>\n",
       "      <td>...</td>\n",
       "      <td>0</td>\n",
       "      <td>0</td>\n",
       "      <td>0</td>\n",
       "      <td>0</td>\n",
       "      <td>0</td>\n",
       "      <td>0</td>\n",
       "      <td>0</td>\n",
       "      <td>1</td>\n",
       "      <td>0</td>\n",
       "      <td>0</td>\n",
       "    </tr>\n",
       "    <tr>\n",
       "      <th>123143</th>\n",
       "      <td>123143</td>\n",
       "      <td>123143</td>\n",
       "      <td>546305201</td>\n",
       "      <td>31768219</td>\n",
       "      <td>81902</td>\n",
       "      <td>2020-09-18</td>\n",
       "      <td>2020-09-18</td>\n",
       "      <td>None</td>\n",
       "      <td>None</td>\n",
       "      <td>159585601</td>\n",
       "      <td>...</td>\n",
       "      <td>0</td>\n",
       "      <td>0</td>\n",
       "      <td>0</td>\n",
       "      <td>0</td>\n",
       "      <td>0</td>\n",
       "      <td>0</td>\n",
       "      <td>0</td>\n",
       "      <td>0</td>\n",
       "      <td>1</td>\n",
       "      <td>0</td>\n",
       "    </tr>\n",
       "    <tr>\n",
       "      <th>123447</th>\n",
       "      <td>123447</td>\n",
       "      <td>123447</td>\n",
       "      <td>527056320</td>\n",
       "      <td>32164080</td>\n",
       "      <td>81902</td>\n",
       "      <td>2020-04-18</td>\n",
       "      <td>2020-04-18</td>\n",
       "      <td>None</td>\n",
       "      <td>None</td>\n",
       "      <td>160182578</td>\n",
       "      <td>...</td>\n",
       "      <td>0</td>\n",
       "      <td>0</td>\n",
       "      <td>0</td>\n",
       "      <td>0</td>\n",
       "      <td>0</td>\n",
       "      <td>0</td>\n",
       "      <td>0</td>\n",
       "      <td>1</td>\n",
       "      <td>0</td>\n",
       "      <td>0</td>\n",
       "    </tr>\n",
       "    <tr>\n",
       "      <th>123660</th>\n",
       "      <td>123660</td>\n",
       "      <td>123657</td>\n",
       "      <td>530427601</td>\n",
       "      <td>32579794</td>\n",
       "      <td>81902</td>\n",
       "      <td>2020-05-12</td>\n",
       "      <td>2020-05-12</td>\n",
       "      <td>None</td>\n",
       "      <td>None</td>\n",
       "      <td>160372254</td>\n",
       "      <td>...</td>\n",
       "      <td>0</td>\n",
       "      <td>0</td>\n",
       "      <td>0</td>\n",
       "      <td>0</td>\n",
       "      <td>0</td>\n",
       "      <td>0</td>\n",
       "      <td>0</td>\n",
       "      <td>1</td>\n",
       "      <td>0</td>\n",
       "      <td>0</td>\n",
       "    </tr>\n",
       "    <tr>\n",
       "      <th>123770</th>\n",
       "      <td>123770</td>\n",
       "      <td>123765</td>\n",
       "      <td>559563242</td>\n",
       "      <td>33143645</td>\n",
       "      <td>194081</td>\n",
       "      <td>2020-11-24</td>\n",
       "      <td>2020-11-24</td>\n",
       "      <td>None</td>\n",
       "      <td>None</td>\n",
       "      <td>160521474</td>\n",
       "      <td>...</td>\n",
       "      <td>0</td>\n",
       "      <td>0</td>\n",
       "      <td>0</td>\n",
       "      <td>0</td>\n",
       "      <td>0</td>\n",
       "      <td>0</td>\n",
       "      <td>0</td>\n",
       "      <td>1</td>\n",
       "      <td>0</td>\n",
       "      <td>0</td>\n",
       "    </tr>\n",
       "  </tbody>\n",
       "</table>\n",
       "<p>1003 rows × 547 columns</p>\n",
       "</div>"
      ],
      "text/plain": [
       "        level_0   index  condition_occurrence_id  person_id  \\\n",
       "147         147     146                 98919971       8226   \n",
       "148         148     147                 98967213       8227   \n",
       "269         269     267                129151962      15096   \n",
       "296         296     295                228650874      16550   \n",
       "393         401     400                 38853300      21404   \n",
       "...         ...     ...                      ...        ...   \n",
       "122963   122963  122958                529421387   31571425   \n",
       "123143   123143  123143                546305201   31768219   \n",
       "123447   123447  123447                527056320   32164080   \n",
       "123660   123660  123657                530427601   32579794   \n",
       "123770   123770  123765                559563242   33143645   \n",
       "\n",
       "        condition_concept_id condition_start_date condition_start_datetime  \\\n",
       "147                    81902           2014-11-10               2014-11-10   \n",
       "148                    81902           2014-08-19               2014-08-19   \n",
       "269                    81902           2015-04-18               2015-04-18   \n",
       "296                    81902           2016-07-21               2016-07-21   \n",
       "393                    81902           2013-10-12               2013-10-12   \n",
       "...                      ...                  ...                      ...   \n",
       "122963                 81902           2020-05-11               2020-05-11   \n",
       "123143                 81902           2020-09-18               2020-09-18   \n",
       "123447                 81902           2020-04-18               2020-04-18   \n",
       "123660                 81902           2020-05-12               2020-05-12   \n",
       "123770                194081           2020-11-24               2020-11-24   \n",
       "\n",
       "       condition_end_date condition_end_datetime  visit_occurrence_id  ...  \\\n",
       "147                  None                   None              1119897  ...   \n",
       "148                  None                   None              1120345  ...   \n",
       "269                  None                   None              1302557  ...   \n",
       "296                  None                   None              1338291  ...   \n",
       "393                  None                   None              1459310  ...   \n",
       "...                   ...                    ...                  ...  ...   \n",
       "122963               None                   None            159457633  ...   \n",
       "123143               None                   None            159585601  ...   \n",
       "123447               None                   None            160182578  ...   \n",
       "123660               None                   None            160372254  ...   \n",
       "123770               None                   None            160521474  ...   \n",
       "\n",
       "        trimethoprim-sulfamethoxazole_12_to_24_mo  second_line_12_to_24_mo  \\\n",
       "147                                             1                        0   \n",
       "148                                             0                        0   \n",
       "269                                             0                        0   \n",
       "296                                             0                        1   \n",
       "393                                             0                        0   \n",
       "...                                           ...                      ...   \n",
       "122963                                          0                        0   \n",
       "123143                                          0                        0   \n",
       "123447                                          0                        0   \n",
       "123660                                          0                        0   \n",
       "123770                                          0                        0   \n",
       "\n",
       "       alternatives_12_to_24_mo inappropriate_12_to_24_mo  \\\n",
       "147                           0                         0   \n",
       "148                           1                         0   \n",
       "269                           0                         0   \n",
       "296                           1                         0   \n",
       "393                           0                         0   \n",
       "...                         ...                       ...   \n",
       "122963                        0                         0   \n",
       "123143                        0                         0   \n",
       "123447                        0                         0   \n",
       "123660                        0                         0   \n",
       "123770                        0                         0   \n",
       "\n",
       "       nitrofurantoin_most_recent  fosfomycin_most_recent  \\\n",
       "147                             0                       0   \n",
       "148                             0                       0   \n",
       "269                             0                       0   \n",
       "296                             0                       0   \n",
       "393                             0                       0   \n",
       "...                           ...                     ...   \n",
       "122963                          0                       0   \n",
       "123143                          0                       0   \n",
       "123447                          0                       0   \n",
       "123660                          0                       0   \n",
       "123770                          0                       0   \n",
       "\n",
       "        trimethoprim-sulfamethoxazole_most_recent second_line_most_recent  \\\n",
       "147                                             0                       1   \n",
       "148                                             0                       1   \n",
       "269                                             0                       1   \n",
       "296                                             0                       1   \n",
       "393                                             0                       1   \n",
       "...                                           ...                     ...   \n",
       "122963                                          0                       1   \n",
       "123143                                          0                       0   \n",
       "123447                                          0                       1   \n",
       "123660                                          0                       1   \n",
       "123770                                          0                       1   \n",
       "\n",
       "       alternatives_most_recent  inappropriate_most_recent  \n",
       "147                           0                          0  \n",
       "148                           0                          0  \n",
       "269                           0                          0  \n",
       "296                           0                          0  \n",
       "393                           0                          0  \n",
       "...                         ...                        ...  \n",
       "122963                        0                          0  \n",
       "123143                        1                          0  \n",
       "123447                        0                          0  \n",
       "123660                        0                          0  \n",
       "123770                        0                          0  \n",
       "\n",
       "[1003 rows x 547 columns]"
      ]
     },
     "execution_count": 78,
     "metadata": {},
     "output_type": "execute_result"
    }
   ],
   "source": [
    "temp"
   ]
  },
  {
   "cell_type": "code",
   "execution_count": 77,
   "metadata": {
    "scrolled": false
   },
   "outputs": [
    {
     "name": "stdout",
     "output_type": "stream",
     "text": [
      "nitrofurantoin  1003\n",
      "alternatives  1003\n",
      "inappropriate  1003\n",
      "trimethoprim-sulfamethoxazole  1003\n",
      "second_line  1003\n"
     ]
    },
    {
     "data": {
      "image/png": "[encoded data removed]",
      "text/plain": [
       "<Figure size 432x288 with 1 Axes>"
      ]
     },
     "metadata": {
      "needs_background": "light"
     },
     "output_type": "display_data"
    },
    {
     "data": {
      "image/png": "[encoded data removed]",
      "text/plain": [
       "<Figure size 432x288 with 1 Axes>"
      ]
     },
     "metadata": {
      "needs_background": "light"
     },
     "output_type": "display_data"
    },
    {
     "data": {
      "image/png": "[encoded data removed]",
      "text/plain": [
       "<Figure size 432x288 with 1 Axes>"
      ]
     },
     "metadata": {
      "needs_background": "light"
     },
     "output_type": "display_data"
    },
    {
     "data": {
      "image/png": "[encoded data removed]",
      "text/plain": [
       "<Figure size 432x288 with 1 Axes>"
      ]
     },
     "metadata": {
      "needs_background": "light"
     },
     "output_type": "display_data"
    },
    {
     "data": {
      "image/png": "[encoded data removed]",
      "text/plain": [
       "<Figure size 432x288 with 1 Axes>"
      ]
     },
     "metadata": {
      "needs_background": "light"
     },
     "output_type": "display_data"
    }
   ],
   "source": [
    "drug_list = ['nitrofurantoin','alternatives','inappropriate','trimethoprim-sulfamethoxazole','second_line']\n",
    "for drug in drug_list:    \n",
    "\n",
    "    title='History of '+str(drug) \n",
    "\n",
    "    temp1  = cohort[cohort[str(drug) +'_6_to_12_mo']==1]\n",
    "    temp1_df = pd.DataFrame(temp1.antibiotic_type.value_counts())\n",
    "    temp1_df = counts_total.merge(temp1_df,right_index = True,left_index = True)\n",
    "    temp1_df['antibiotic_type'] = temp1_df['antibiotic_type']/temp1_df['Total']\n",
    "    temp1_df =temp1_df.rename(columns = {'antibiotic_type':'6_to_12_mo'})\n",
    "    \n",
    "    \n",
    "    temp2  = cohort[cohort[str(drug) +'_12_to_24_mo']==1]\n",
    "    temp2_df = pd.DataFrame(temp2.antibiotic_type.value_counts())\n",
    "    temp2_df = counts_total.merge(temp2_df,right_index = True,left_index = True)\n",
    "    temp2_df['antibiotic_type'] = temp2_df['antibiotic_type']/temp2_df['Total']\n",
    "    temp2_df =temp2_df.rename(columns = {'antibiotic_type':'12_to_34_mo'})\n",
    "    counts=temp2_df.merge(temp1_df,right_index = True,left_index = True)\n",
    "    counts = counts.drop(columns = ['Total_x','Total_y'])\n",
    "    counts = counts.sort_index()\n",
    "    print(str(drug) + '  ' +str(len(temp)))\n",
    "    counts.plot(kind='bar',title = title)"
   ]
  },
  {
   "cell_type": "code",
   "execution_count": 76,
   "metadata": {
    "scrolled": false
   },
   "outputs": [
    {
     "name": "stdout",
     "output_type": "stream",
     "text": [
      "nitrofurantoin  550\n",
      "alternatives  555\n",
      "inappropriate  1387\n",
      "trimethoprim-sulfamethoxazole  644\n",
      "second_line  1003\n"
     ]
    },
    {
     "data": {
      "image/png": "[encoded data removed]",
      "text/plain": [
       "<Figure size 432x288 with 1 Axes>"
      ]
     },
     "metadata": {
      "needs_background": "light"
     },
     "output_type": "display_data"
    },
    {
     "data": {
      "image/png": "[encoded data removed]",
      "text/plain": [
       "<Figure size 432x288 with 1 Axes>"
      ]
     },
     "metadata": {
      "needs_background": "light"
     },
     "output_type": "display_data"
    },
    {
     "data": {
      "image/png": "[encoded data removed]",
      "text/plain": [
       "<Figure size 432x288 with 1 Axes>"
      ]
     },
     "metadata": {
      "needs_background": "light"
     },
     "output_type": "display_data"
    },
    {
     "data": {
      "image/png": "[encoded data removed]",
      "text/plain": [
       "<Figure size 432x288 with 1 Axes>"
      ]
     },
     "metadata": {
      "needs_background": "light"
     },
     "output_type": "display_data"
    },
    {
     "data": {
      "image/png": "[encoded data removed]",
      "text/plain": [
       "<Figure size 432x288 with 1 Axes>"
      ]
     },
     "metadata": {
      "needs_background": "light"
     },
     "output_type": "display_data"
    }
   ],
   "source": [
    "drug_list = ['nitrofurantoin','alternatives','inappropriate','trimethoprim-sulfamethoxazole','second_line']\n",
    "for drug in drug_list:    \n",
    "\n",
    "    title='History of '+str(drug) \n",
    "    temp = cohort[cohort[str(drug) +'_1_to_7_days']==1]\n",
    "    temp_df = pd.DataFrame(temp.antibiotic_type.value_counts())\n",
    "    temp_df = counts_total.merge(temp_df,right_index = True,left_index = True)\n",
    "    temp_df['antibiotic_type'] = temp_df['antibiotic_type']/temp_df['Total']\n",
    "    temp_df =temp_df.rename(columns = {'antibiotic_type':'1_to_7_days'})\n",
    "    counts =temp_df.copy()\n",
    "    counts = counts.drop(columns = 'Total')\n",
    "    counts = counts.sort_index()\n",
    "    print(str(drug) + '  ' +str(len(temp)))\n",
    "    counts.plot(kind='bar',title = title)"
   ]
  },
  {
   "cell_type": "code",
   "execution_count": 35,
   "metadata": {},
   "outputs": [
    {
     "data": {
      "text/html": [
       "<div>\n",
       "<style scoped>\n",
       "    .dataframe tbody tr th:only-of-type {\n",
       "        vertical-align: middle;\n",
       "    }\n",
       "\n",
       "    .dataframe tbody tr th {\n",
       "        vertical-align: top;\n",
       "    }\n",
       "\n",
       "    .dataframe thead th {\n",
       "        text-align: right;\n",
       "    }\n",
       "</style>\n",
       "<table border=\"1\" class=\"dataframe\">\n",
       "  <thead>\n",
       "    <tr style=\"text-align: right;\">\n",
       "      <th></th>\n",
       "      <th>Switch ever</th>\n",
       "      <th>Switch recent</th>\n",
       "    </tr>\n",
       "  </thead>\n",
       "  <tbody>\n",
       "    <tr>\n",
       "      <th>nitrofurantoin</th>\n",
       "      <td>902</td>\n",
       "      <td>502</td>\n",
       "    </tr>\n",
       "    <tr>\n",
       "      <th>second_line</th>\n",
       "      <td>822</td>\n",
       "      <td>553</td>\n",
       "    </tr>\n",
       "    <tr>\n",
       "      <th>trimethoprim-sulfamethoxazole</th>\n",
       "      <td>416</td>\n",
       "      <td>279</td>\n",
       "    </tr>\n",
       "    <tr>\n",
       "      <th>inappropriate</th>\n",
       "      <td>319</td>\n",
       "      <td>204</td>\n",
       "    </tr>\n",
       "    <tr>\n",
       "      <th>alternatives</th>\n",
       "      <td>294</td>\n",
       "      <td>184</td>\n",
       "    </tr>\n",
       "  </tbody>\n",
       "</table>\n",
       "</div>"
      ],
      "text/plain": [
       "                               Switch ever  Switch recent\n",
       "nitrofurantoin                         902            502\n",
       "second_line                            822            553\n",
       "trimethoprim-sulfamethoxazole          416            279\n",
       "inappropriate                          319            204\n",
       "alternatives                           294            184"
      ]
     },
     "execution_count": 35,
     "metadata": {},
     "output_type": "execute_result"
    }
   ],
   "source": [
    "temp_df.merge(temp1_df,right_index = True,left_index = True)"
   ]
  },
  {
   "cell_type": "code",
   "execution_count": 36,
   "metadata": {},
   "outputs": [
    {
     "data": {
      "text/html": [
       "<div>\n",
       "<style scoped>\n",
       "    .dataframe tbody tr th:only-of-type {\n",
       "        vertical-align: middle;\n",
       "    }\n",
       "\n",
       "    .dataframe tbody tr th {\n",
       "        vertical-align: top;\n",
       "    }\n",
       "\n",
       "    .dataframe thead th {\n",
       "        text-align: right;\n",
       "    }\n",
       "</style>\n",
       "<table border=\"1\" class=\"dataframe\">\n",
       "  <thead>\n",
       "    <tr style=\"text-align: right;\">\n",
       "      <th></th>\n",
       "      <th>Switch recent</th>\n",
       "    </tr>\n",
       "  </thead>\n",
       "  <tbody>\n",
       "    <tr>\n",
       "      <th>second_line</th>\n",
       "      <td>553</td>\n",
       "    </tr>\n",
       "    <tr>\n",
       "      <th>nitrofurantoin</th>\n",
       "      <td>502</td>\n",
       "    </tr>\n",
       "    <tr>\n",
       "      <th>trimethoprim-sulfamethoxazole</th>\n",
       "      <td>279</td>\n",
       "    </tr>\n",
       "    <tr>\n",
       "      <th>inappropriate</th>\n",
       "      <td>204</td>\n",
       "    </tr>\n",
       "    <tr>\n",
       "      <th>alternatives</th>\n",
       "      <td>184</td>\n",
       "    </tr>\n",
       "  </tbody>\n",
       "</table>\n",
       "</div>"
      ],
      "text/plain": [
       "                               Switch recent\n",
       "second_line                              553\n",
       "nitrofurantoin                           502\n",
       "trimethoprim-sulfamethoxazole            279\n",
       "inappropriate                            204\n",
       "alternatives                             184"
      ]
     },
     "execution_count": 36,
     "metadata": {},
     "output_type": "execute_result"
    }
   ],
   "source": [
    "temp1_df"
   ]
  },
  {
   "cell_type": "code",
   "execution_count": 86,
   "metadata": {},
   "outputs": [],
   "source": [
    "#look at 0 to 7 days \n",
    "\n",
    "temp = cohort[cohort['nitrofurantoin_1_to_7_days'] == 1]"
   ]
  },
  {
   "cell_type": "code",
   "execution_count": 82,
   "metadata": {},
   "outputs": [
    {
     "data": {
      "text/plain": [
       "second_line                      214\n",
       "trimethoprim-sulfamethoxazole     89\n",
       "alternatives                      84\n",
       "inappropriate                     82\n",
       "nitrofurantoin                    81\n",
       "Name: antibiotic_type, dtype: int64"
      ]
     },
     "execution_count": 82,
     "metadata": {},
     "output_type": "execute_result"
    }
   ],
   "source": [
    "temp.antibiotic_type.value_counts()"
   ]
  },
  {
   "cell_type": "code",
   "execution_count": 83,
   "metadata": {},
   "outputs": [
    {
     "data": {
      "text/plain": [
       "second_line                      265\n",
       "nitrofurantoin                   139\n",
       "inappropriate                     85\n",
       "alternatives                      85\n",
       "trimethoprim-sulfamethoxazole     70\n",
       "Name: antibiotic_type, dtype: int64"
      ]
     },
     "execution_count": 83,
     "metadata": {},
     "output_type": "execute_result"
    }
   ],
   "source": [
    "temp = cohort[cohort['trimethoprim-sulfamethoxazole_1_to_7_days'] == 1]\n",
    "temp.antibiotic_type.value_counts()"
   ]
  },
  {
   "cell_type": "code",
   "execution_count": 84,
   "metadata": {},
   "outputs": [
    {
     "data": {
      "text/plain": [
       "second_line                      323\n",
       "nitrofurantoin                   208\n",
       "trimethoprim-sulfamethoxazole    186\n",
       "inappropriate                    166\n",
       "alternatives                     120\n",
       "Name: antibiotic_type, dtype: int64"
      ]
     },
     "execution_count": 84,
     "metadata": {},
     "output_type": "execute_result"
    }
   ],
   "source": [
    "temp = cohort[cohort['second_line_1_to_7_days'] == 1]\n",
    "temp.antibiotic_type.value_counts()"
   ]
  },
  {
   "cell_type": "code",
   "execution_count": null,
   "metadata": {},
   "outputs": [],
   "source": [
    "temp = cohort[cohort['nitrofurantoin_1_to_7_days'] == 1]\n",
    "temp.antibiotic_type.value_counts()"
   ]
  },
  {
   "cell_type": "code",
   "execution_count": 27,
   "metadata": {},
   "outputs": [
    {
     "data": {
      "text/plain": [
       "([0, 1, 2, 3, 4],\n",
       " [Text(0, 0, ''),\n",
       "  Text(0, 0, ''),\n",
       "  Text(0, 0, ''),\n",
       "  Text(0, 0, ''),\n",
       "  Text(0, 0, '')])"
      ]
     },
     "execution_count": 27,
     "metadata": {},
     "output_type": "execute_result"
    },
    {
     "data": {
      "image/png": "[encoded data removed]",
      "text/plain": [
       "<Figure size 432x288 with 1 Axes>"
      ]
     },
     "metadata": {
      "needs_background": "light"
     },
     "output_type": "display_data"
    }
   ],
   "source": [
    "\n",
    "plt.figure()\n",
    "plt.bar(temp_df.index,temp_df.iloc[:,0])\n",
    "plt.bar(temp1_df.index,temp1_df.iloc[:,0])\n",
    "\n",
    "\n",
    "plt.xticks(rotation=90)\n"
   ]
  },
  {
   "cell_type": "code",
   "execution_count": null,
   "metadata": {},
   "outputs": [],
   "source": []
  }
 ],
 "metadata": {
  "kernelspec": {
   "display_name": "omop_v2",
   "language": "python",
   "name": "myenv"
  },
  "language_info": {
   "codemirror_mode": {
    "name": "ipython",
    "version": 3
   },
   "file_extension": ".py",
   "mimetype": "text/x-python",
   "name": "python",
   "nbconvert_exporter": "python",
   "pygments_lexer": "ipython3",
   "version": "3.8.5"
  }
 },
 "nbformat": 4,
 "nbformat_minor": 2
}
