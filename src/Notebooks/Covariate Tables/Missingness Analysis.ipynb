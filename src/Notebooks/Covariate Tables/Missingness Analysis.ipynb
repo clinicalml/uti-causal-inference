{
 "cells": [
  {
   "cell_type": "code",
   "execution_count": 2,
   "id": "6c98407b",
   "metadata": {},
   "outputs": [],
   "source": [
    "### Imports\n",
    "import matplotlib.pyplot as plt\n",
    "import numpy as np\n",
    "from typing import List, Dict, Optional, Union\n",
    "import sys\n",
    "import time\n",
    "import importlib\n",
    "import sparse\n",
    "import datetime\n",
    "import pandas as pd\n",
    "import numpy as np\n",
    "import scipy.sparse\n",
    "import matplotlib.pyplot as plt\n",
    "import os\n",
    "#\n",
    "sys.path.append(\"..\")\n",
    "import Utils.dbutils as dbutils\n",
    "import Utils.data_utils as data_utils\n",
    "import Generators.CohortGenerator as CohortGenerator\n",
    "import Generators.FeatureGenerator as FeatureGenerator\n",
    "import config\n",
    "local_imports = (\n",
    "    dbutils,\n",
    "    data_utils,\n",
    "    CohortGenerator,\n",
    "    FeatureGenerator,\n",
    "    config\n",
    ")\n",
    "for i in local_imports:\n",
    "    i = importlib.reload(i)"
   ]
  },
  {
   "cell_type": "code",
   "execution_count": 3,
   "id": "8a55ebf9",
   "metadata": {},
   "outputs": [],
   "source": [
    "### Define config\n",
    "in_name_1 = \"manuscript_covariates_4_v4\"\n",
    "#out_name tbd\n",
    "cohort_name = in_name_1"
   ]
  },
  {
   "cell_type": "code",
   "execution_count": 4,
   "id": "0e1965f0",
   "metadata": {},
   "outputs": [
    {
     "name": "stdout",
     "output_type": "stream",
     "text": [
      "localhost/omop_v6\n",
      "cdm schema: cdm_6871_21\n"
     ]
    }
   ],
   "source": [
    "### Setting up database\n",
    "# username = config.PG_USERNAME #we use peer authentication so don't need use vars, but in theory would pass them into config_path\n",
    "# password = config.PG_PASSWORD\n",
    "database_name = config.DB_NAME\n",
    "print(database_name)\n",
    "config_path = 'postgresql://{database_name}'.format(\n",
    "    database_name = database_name\n",
    ")\n",
    "connect_args = {\"host\": '/var/run/postgresql/'} # connect_args to pass to sqlalchemy create_engine function\n",
    "\n",
    "# schemas \n",
    "schema_name = 'eol_test_ncjones' # all created tables will be created using this schema\n",
    "cdm_schema_name = config.OMOP_CDM_SCHEMA # the name of the schema housing your OMOP CDM tables\n",
    "print(f\"cdm schema: {cdm_schema_name}\")\n",
    "# caching\n",
    "reset_schema = False # if true, rebuild all data from scratch\n",
    "\n",
    "# set up database, reset schemas as needed\n",
    "db = dbutils.Database(config_path, schema_name, connect_args, cdm_schema_name)\n",
    "# if reset_schema:\n",
    "#     db.execute(\n",
    "#         'drop schema if exists {} cascade'.format(schema_name)\n",
    "#     )\n",
    "# db.execute(\n",
    "#     'create schema if not exists {}'.format(schema_name)\n",
    "# )"
   ]
  },
  {
   "cell_type": "code",
   "execution_count": 5,
   "id": "31420c7f",
   "metadata": {},
   "outputs": [
    {
     "name": "stdout",
     "output_type": "stream",
     "text": [
      "CPU times: user 9.9 s, sys: 1.2 s, total: 11.1 s\n",
      "Wall time: 13.4 s\n"
     ]
    }
   ],
   "source": [
    "%%time\n",
    "### Loading cohort\n",
    "# Get the full condition item table\n",
    "sql = \"\"\"\n",
    "    select\n",
    "        *\n",
    "    from\n",
    "        {omop_schema}.{cohort_name} c\n",
    "\"\"\".format(\n",
    "    omop_schema=config.OMOP_CDM_SCHEMA,\n",
    "    cohort_name=cohort_name\n",
    ")\n",
    "cohort = db.query(sql)\n",
    "filtered_cohort = cohort.copy().loc[cohort.antibiotic_type!='inappropriate']"
   ]
  },
  {
   "cell_type": "code",
   "execution_count": 188,
   "id": "eccac46b",
   "metadata": {},
   "outputs": [],
   "source": [
    "cols_to_exclude_for_missing_analysis = [\n",
    "'no_previous_180_excluded_event',\n",
    "'no_previous_180_day_event',\n",
    "'no_two_previous_365_day_event',\n",
    " 'no_previous_excluded_event_ever',\n",
    "'previous_uti_condition_occurence_id',\n",
    " 'multi',\n",
    " 'year_of_birth',\n",
    "'level_0',\n",
    " 'index',\n",
    " 'condition_occurrence_id',\n",
    " 'person_id',\n",
    " 'condition_concept_id',\n",
    " 'condition_start_date',\n",
    " 'condition_start_datetime',\n",
    " 'condition_end_date',\n",
    " 'condition_end_datetime',\n",
    " 'visit_occurrence_id',\n",
    " 'visit_detail_id',\n",
    " 'drug_concept_id',\n",
    " 'drug_name',\n",
    " 'antibiotic_name',\n",
    "#  'antibiotic_type',\n",
    " 'visit_provider_id',\n",
    " 'drug_exposure_id',\n",
    " 'drug_exposure_start_date',\n",
    " 'drug_exposure_start_datetime',\n",
    " 'provider_id',\n",
    " 'provider_name',\n",
    " 'npi',\n",
    " 'post_UTI_codes',\n",
    " 'recurrent_uti',\n",
    " 'first_uti',\n",
    " 'followup_time',\n",
    " 't_sum',\n",
    " 't_bin',\n",
    " 't_uti_bin',\n",
    " 't_neph_bin',\n",
    " 'AE_c_diff',\n",
    " 'AE_GI',\n",
    " 'AE_skin',\n",
    " 'AE_AKI',\n",
    " 'AE_other',\n",
    " 't_sepsis_sum',\n",
    " 't_i_sepsis_sum',\n",
    " 't_i_uti_sum',\n",
    " 't_i_neph_sum',\n",
    " 't_sepsis_bin',\n",
    " 't_i_uti_bin',\n",
    " 't_i_neph_bin',\n",
    " 't_i_sepsis_bin',\n",
    " 't_i_sum',\n",
    " 'previous_utis', #excluding previous utis\n",
    " 't_uti_sum',\n",
    " 't_neph_sum',\n",
    " 't_i_bin','AE_any','less_15','less_30','less_90','followup_time'] + \\\n",
    " [x for x in filtered_cohort.columns if 'full_condition_name' in x] + \\\n",
    " [x for x in cohort_features.columns if x.endswith('_0')] + \\\n",
    " ['age','years_since_diagnosis','days_since_previous_uti'] \n",
    "\n",
    "#we additionally exclude lab values\n",
    "#NOAH EXCLUDED THESE FEATURES BECAUSE ONLY RUNNING GRID SEARCH ON NON OMOP FEATURES\n",
    "#  ['fibro_' + m + '_mon_outcome' for m in ['1','3','6']] + \\\n",
    "#  ['hernia_' + m + '_mon_outcome' for m in ['1','3','6']] + \\\n",
    "#  ['fracture_' + m + '_mon_outcome' for m in ['1','3','6']]\n",
    "cohort_features = filtered_cohort.drop(columns=cols_to_exclude_for_missing_analysis)\n"
   ]
  },
  {
   "cell_type": "code",
   "execution_count": 189,
   "id": "6583e604",
   "metadata": {},
   "outputs": [],
   "source": [
    "outcome_cols = ['antibiotic_type'] + [x for x in filtered_cohort.columns if x.endswith('bin') or x.startswith('AE')] # we need antibiotic type in the dataframe\n",
    "outcome_vars = filtered_cohort[outcome_cols]\n"
   ]
  },
  {
   "cell_type": "code",
   "execution_count": 190,
   "id": "9af67bfa",
   "metadata": {},
   "outputs": [],
   "source": [
    "censor_cols =  ['less_15','less_30','less_90'] # we need antibiotic type in the dataframe\n",
    "censor_vars = 1 - filtered_cohort[censor_cols]  #importantly am changing how these are defined to indicate where we DON'T have data for certain variables\n",
    "censor_vars['antibiotic_type'] = filtered_cohort['antibiotic_type']"
   ]
  },
  {
   "cell_type": "code",
   "execution_count": 191,
   "id": "80817b68",
   "metadata": {},
   "outputs": [],
   "source": [
    "def compute_antibiotic_stratified_missing_dataframe(feature_set):\n",
    "    \"\"\"Assumes the dataframe includes the column antibiotic_type\n",
    "       Assumes the features are boolean\n",
    "       \n",
    "       Computes the amount of False values in a set of features.\n",
    "       returns the list of features, the first_line/second_line/alternatives featureset, and missing dataframe stratified by antibiotic group\"\"\"\n",
    "    #compute amount of False values in boolean features\n",
    "    cohort_features = feature_set.copy()\n",
    "    all_features = cohort_features.drop(['antibiotic_type'],axis=1)\n",
    "    all_features_prevalence = pd.Series(1 - np.mean(all_features))\n",
    "\n",
    "    cohort_features.loc[cohort_features.antibiotic_type.isin(['nitrofurantoin','trimethoprim-sulfamethoxazole']),'antibiotic_type'] = 'first_line'\n",
    "    first_line_features = cohort_features.loc[cohort_features['antibiotic_type'] == 'first_line']\n",
    "    first_line_features = first_line_features.drop(['antibiotic_type'],axis=1)\n",
    "    first_line_features_prevalence = pd.Series(1 - np.mean(first_line_features))\n",
    "    first_line_features_sum = first_line_features.sum()\n",
    "\n",
    "    second_line_features = cohort_features.loc[cohort_features['antibiotic_type'] == 'second_line']\n",
    "    second_line_features = second_line_features.drop(['antibiotic_type'],axis=1)\n",
    "    second_line_features_prevalence = pd.Series(1 - np.mean(second_line_features))\n",
    "    second_line_features_sum = second_line_features.sum()\n",
    "\n",
    "    alternatives_features = cohort_features.loc[cohort_features['antibiotic_type'] == 'alternatives']\n",
    "    alternatives_features = alternatives_features.drop(['antibiotic_type'],axis=1)\n",
    "    alternatives_features_prevalence = pd.Series(1 - np.mean(alternatives_features))\n",
    "    alternatives_features_sum = alternatives_features.sum()\n",
    "\n",
    "    missing_dataframe = pd.DataFrame(index=all_features_prevalence.index)\n",
    "    missing_dataframe['first_line'] = first_line_features_prevalence\n",
    "    missing_dataframe['second_line'] = second_line_features_prevalence\n",
    "    missing_dataframe['alternatives'] = alternatives_features_prevalence\n",
    " \n",
    "    missing_dataframe['first_line_presence_count'] = first_line_features_sum\n",
    "    missing_dataframe['second_line_presence_count'] = second_line_features_sum\n",
    "    missing_dataframe['alternatives_presence_count'] = alternatives_features_sum\n",
    "    \n",
    "    feature_names = list(all_features.columns)\n",
    "    return feature_names, first_line_features, second_line_features, alternatives_features, missing_dataframe\n",
    "\n",
    "\n",
    "# Compute p values in comparison to first_line\n",
    "from scipy.stats import ttest_ind\n",
    "def compute_p_value_array(df,base):\n",
    "    p_values = []\n",
    "    for col in df.columns:\n",
    "        p_values.append(compute_p_value(df,col,base))\n",
    "        \n",
    "    return p_values\n",
    "    \n",
    "def compute_p_value(df,col,base):\n",
    "    \"\"\"Take a,b columns and compute the p value\"\"\"\n",
    "    \n",
    "    args,p = ttest_ind(df[col],base[col])\n",
    "    if np.isnan(p):\n",
    "        p = 1\n",
    "    return p\n",
    "\n",
    "def compute_flag(p_value):\n",
    "    if p_value < .001:\n",
    "        return '**'\n",
    "    if p_value < .05:\n",
    "        return \"*\"\n",
    "\n",
    "def add_p_value_info(df,f_features,s_features,a_features):\n",
    "    \"\"\"Takes a set of \"\"\"\n",
    "    missing_dataframe = df.copy()\n",
    "    second_line_ps = compute_p_value_array(s_features,f_features)\n",
    "    alternatives_ps = compute_p_value_array(a_features,f_features)\n",
    "    \n",
    "    missing_dataframe['second_line_pv'] = second_line_ps\n",
    "    missing_dataframe['alternatives_pv'] = alternatives_ps\n",
    "    missing_dataframe['second_line_flag'] = missing_dataframe['second_line_pv'].apply(compute_flag)\n",
    "    missing_dataframe['alternatives_flag'] = missing_dataframe['alternatives_pv'].apply(compute_flag)\n",
    "    missing_dataframe['second_diff'] = missing_dataframe['first_line'] - missing_dataframe['second_line']\n",
    "    missing_dataframe['alternatives_diff'] = missing_dataframe['first_line'] - missing_dataframe['alternatives']\n",
    "    return missing_dataframe\n",
    "\n",
    "\n",
    "\n",
    "def run_missing_analysis(feature_set):\n",
    "    feature_names, f_features,s_features,a_features,df = compute_antibiotic_stratified_missing_dataframe(feature_set)\n",
    "    new_df = add_p_value_info(df,f_features,s_features,a_features)\n",
    "    return new_df\n",
    "    \n",
    "# def cohen_d(x,y):\n",
    "#     nx = len(x)\n",
    "#     ny = len(y)\n",
    "#     dof = nx + ny - 2\n",
    "#     return (mean(x) - mean(y)) / sqrt(((nx-1)*std(x, ddof=1) ** 2 + (ny-1)*std(y, ddof=1) ** 2) / dof\n"
   ]
  },
  {
   "cell_type": "code",
   "execution_count": 95,
   "id": "91753b8e",
   "metadata": {},
   "outputs": [],
   "source": []
  },
  {
   "cell_type": "code",
   "execution_count": null,
   "id": "16d6831b",
   "metadata": {},
   "outputs": [],
   "source": []
  },
  {
   "cell_type": "code",
   "execution_count": 192,
   "id": "0dc3d99e",
   "metadata": {},
   "outputs": [],
   "source": [
    "missing_features_dataframe = run_missing_analysis(cohort_features)"
   ]
  },
  {
   "cell_type": "code",
   "execution_count": 193,
   "id": "ab585c16",
   "metadata": {},
   "outputs": [],
   "source": [
    "missing_features_dataframe.to_csv(\"Missing analysis with feature variables.csv\")"
   ]
  },
  {
   "cell_type": "code",
   "execution_count": 194,
   "id": "2c91e081",
   "metadata": {},
   "outputs": [],
   "source": [
    "missing_outcome_dataframe = run_missing_analysis(outcome_vars)"
   ]
  },
  {
   "cell_type": "code",
   "execution_count": 195,
   "id": "1bdc702e",
   "metadata": {},
   "outputs": [],
   "source": [
    "missing_outcome_dataframe.to_csv(\"Missing analysis with outcome variables.csv\")"
   ]
  },
  {
   "cell_type": "code",
   "execution_count": 196,
   "id": "33cce6ba",
   "metadata": {},
   "outputs": [],
   "source": [
    "missing_censor_dataframe = run_missing_analysis(censor_vars)"
   ]
  },
  {
   "cell_type": "code",
   "execution_count": 197,
   "id": "142e4525",
   "metadata": {},
   "outputs": [],
   "source": [
    "missing_censor_dataframe.to_csv(\"Missing analysis with censor variables.csv\")"
   ]
  },
  {
   "cell_type": "markdown",
   "id": "4061b6c3",
   "metadata": {},
   "source": [
    "### Old way"
   ]
  },
  {
   "cell_type": "code",
   "execution_count": null,
   "id": "45e80f4b",
   "metadata": {},
   "outputs": [],
   "source": [
    "# #compute amount of False values in boolean features\n",
    "# all_features = cohort_features.drop(['antibiotic_type'],axis=1)\n",
    "# all_features_count = pd.Series(1 - np.mean(all_features))\n",
    "\n",
    "# cohort_features.loc[cohort_features.antibiotic_type.isin(['nitrofurantoin','trimethoprim-sulfamethoxazole']),'antibiotic_type'] = 'first_line'\n",
    "# first_line_features = cohort_features.loc[cohort_features['antibiotic_type'] == 'first_line']\n",
    "# first_line_features = first_line_features.drop(['antibiotic_type'],axis=1)\n",
    "# first_line_features_count = pd.Series(1 - np.mean(first_line_features))\n",
    "\n",
    "# second_line_features = cohort_features.loc[cohort_features['antibiotic_type'] == 'second_line']\n",
    "# second_line_features = second_line_features.drop(['antibiotic_type'],axis=1)\n",
    "# second_line_features_count = pd.Series(1 - np.mean(second_line_features))\n",
    "\n",
    "# alternatives_features = cohort_features.loc[cohort_features['antibiotic_type'] == 'alternatives']\n",
    "# alternatives_features = alternatives_features.drop(['antibiotic_type'],axis=1)\n",
    "# alternatives_features_count = pd.Series(1 - np.mean(alternatives_features))\n",
    "\n",
    "# missing_dataframe = pd.DataFrame(index=all_features_count.index)\n",
    "# missing_dataframe['first_line'] = first_line_features_count\n",
    "# missing_dataframe['second_line'] = second_line_features_count\n",
    "# missing_dataframe['alternatives'] = alternatives_features_count\n",
    "\n",
    "# second_line_ps = compute_p_value_array(second_line_features,first_line_features)\n",
    "# alternatives_ps = compute_p_value_array(alternatives_features,first_line_features)\n",
    "\n",
    "# missing_dataframe['second_line_pv'] = second_line_ps\n",
    "# missing_dataframe['alternatives_pv'] = alternatives_ps\n",
    "# missing_dataframe['second_line_flag'] = missing_dataframe['second_line_pv'].apply(compute_flag)\n",
    "# missing_dataframe['alternatives_flag'] = missing_dataframe['alternatives_pv'].apply(compute_flag)"
   ]
  },
  {
   "cell_type": "code",
   "execution_count": 111,
   "id": "a055a4e0",
   "metadata": {},
   "outputs": [],
   "source": []
  },
  {
   "cell_type": "code",
   "execution_count": 112,
   "id": "6566a93f",
   "metadata": {},
   "outputs": [],
   "source": []
  },
  {
   "cell_type": "code",
   "execution_count": 116,
   "id": "e6f4e4b0",
   "metadata": {},
   "outputs": [],
   "source": []
  },
  {
   "cell_type": "code",
   "execution_count": 144,
   "id": "d64cb0af",
   "metadata": {},
   "outputs": [],
   "source": []
  },
  {
   "cell_type": "code",
   "execution_count": null,
   "id": "bf196714",
   "metadata": {},
   "outputs": [],
   "source": []
  },
  {
   "cell_type": "code",
   "execution_count": null,
   "id": "3ec3f7d8",
   "metadata": {},
   "outputs": [],
   "source": []
  },
  {
   "cell_type": "markdown",
   "id": "83e62fee",
   "metadata": {},
   "source": [
    "### Other features that were skipped"
   ]
  },
  {
   "cell_type": "code",
   "execution_count": null,
   "id": "2281c863",
   "metadata": {},
   "outputs": [],
   "source": [
    "# Figure out how these are imputed\n",
    "\n",
    "cohort_features['age']\n",
    "cohort_features['previous_utis']\n",
    "cohort_features['days_since_previous_uti']\n",
    "cohort_features['years_since_diagnosis']"
   ]
  },
  {
   "cell_type": "markdown",
   "id": "286b01c5",
   "metadata": {},
   "source": [
    "### Pearson Correlation for years since diagnosis and condition start date"
   ]
  },
  {
   "cell_type": "code",
   "execution_count": 120,
   "id": "cdcce5fd",
   "metadata": {},
   "outputs": [
    {
     "data": {
      "text/plain": [
       "0        2019\n",
       "1        2015\n",
       "2        2016\n",
       "3        2019\n",
       "4        2021\n",
       "         ... \n",
       "68497    2018\n",
       "68498    2019\n",
       "68499    2020\n",
       "68501    2019\n",
       "68502    2018\n",
       "Name: condition_start_date, Length: 65881, dtype: int64"
      ]
     },
     "execution_count": 120,
     "metadata": {},
     "output_type": "execute_result"
    }
   ],
   "source": [
    "filtered_cohort['condition_start_date'].dt.year,"
   ]
  },
  {
   "cell_type": "code",
   "execution_count": 124,
   "id": "35e77c01",
   "metadata": {},
   "outputs": [
    {
     "ename": "ValueError",
     "evalue": "Image size of 91155x395 pixels is too large. It must be less than 2^16 in each direction.",
     "output_type": "error",
     "traceback": [
      "\u001b[0;31m---------------------------------------------------------------------------\u001b[0m",
      "\u001b[0;31mValueError\u001b[0m                                Traceback (most recent call last)",
      "\u001b[0;32m~/miniconda3/envs/omop/lib/python3.8/site-packages/IPython/core/formatters.py\u001b[0m in \u001b[0;36m__call__\u001b[0;34m(self, obj)\u001b[0m\n\u001b[1;32m    339\u001b[0m                 \u001b[0;32mpass\u001b[0m\u001b[0;34m\u001b[0m\u001b[0;34m\u001b[0m\u001b[0m\n\u001b[1;32m    340\u001b[0m             \u001b[0;32melse\u001b[0m\u001b[0;34m:\u001b[0m\u001b[0;34m\u001b[0m\u001b[0;34m\u001b[0m\u001b[0m\n\u001b[0;32m--> 341\u001b[0;31m                 \u001b[0;32mreturn\u001b[0m \u001b[0mprinter\u001b[0m\u001b[0;34m(\u001b[0m\u001b[0mobj\u001b[0m\u001b[0;34m)\u001b[0m\u001b[0;34m\u001b[0m\u001b[0;34m\u001b[0m\u001b[0m\n\u001b[0m\u001b[1;32m    342\u001b[0m             \u001b[0;31m# Finally look for special method names\u001b[0m\u001b[0;34m\u001b[0m\u001b[0;34m\u001b[0m\u001b[0;34m\u001b[0m\u001b[0m\n\u001b[1;32m    343\u001b[0m             \u001b[0mmethod\u001b[0m \u001b[0;34m=\u001b[0m \u001b[0mget_real_method\u001b[0m\u001b[0;34m(\u001b[0m\u001b[0mobj\u001b[0m\u001b[0;34m,\u001b[0m \u001b[0mself\u001b[0m\u001b[0;34m.\u001b[0m\u001b[0mprint_method\u001b[0m\u001b[0;34m)\u001b[0m\u001b[0;34m\u001b[0m\u001b[0;34m\u001b[0m\u001b[0m\n",
      "\u001b[0;32m~/miniconda3/envs/omop/lib/python3.8/site-packages/IPython/core/pylabtools.py\u001b[0m in \u001b[0;36m<lambda>\u001b[0;34m(fig)\u001b[0m\n\u001b[1;32m    246\u001b[0m \u001b[0;34m\u001b[0m\u001b[0m\n\u001b[1;32m    247\u001b[0m     \u001b[0;32mif\u001b[0m \u001b[0;34m'png'\u001b[0m \u001b[0;32min\u001b[0m \u001b[0mformats\u001b[0m\u001b[0;34m:\u001b[0m\u001b[0;34m\u001b[0m\u001b[0;34m\u001b[0m\u001b[0m\n\u001b[0;32m--> 248\u001b[0;31m         \u001b[0mpng_formatter\u001b[0m\u001b[0;34m.\u001b[0m\u001b[0mfor_type\u001b[0m\u001b[0;34m(\u001b[0m\u001b[0mFigure\u001b[0m\u001b[0;34m,\u001b[0m \u001b[0;32mlambda\u001b[0m \u001b[0mfig\u001b[0m\u001b[0;34m:\u001b[0m \u001b[0mprint_figure\u001b[0m\u001b[0;34m(\u001b[0m\u001b[0mfig\u001b[0m\u001b[0;34m,\u001b[0m \u001b[0;34m'png'\u001b[0m\u001b[0;34m,\u001b[0m \u001b[0;34m**\u001b[0m\u001b[0mkwargs\u001b[0m\u001b[0;34m)\u001b[0m\u001b[0;34m)\u001b[0m\u001b[0;34m\u001b[0m\u001b[0;34m\u001b[0m\u001b[0m\n\u001b[0m\u001b[1;32m    249\u001b[0m     \u001b[0;32mif\u001b[0m \u001b[0;34m'retina'\u001b[0m \u001b[0;32min\u001b[0m \u001b[0mformats\u001b[0m \u001b[0;32mor\u001b[0m \u001b[0;34m'png2x'\u001b[0m \u001b[0;32min\u001b[0m \u001b[0mformats\u001b[0m\u001b[0;34m:\u001b[0m\u001b[0;34m\u001b[0m\u001b[0;34m\u001b[0m\u001b[0m\n\u001b[1;32m    250\u001b[0m         \u001b[0mpng_formatter\u001b[0m\u001b[0;34m.\u001b[0m\u001b[0mfor_type\u001b[0m\u001b[0;34m(\u001b[0m\u001b[0mFigure\u001b[0m\u001b[0;34m,\u001b[0m \u001b[0;32mlambda\u001b[0m \u001b[0mfig\u001b[0m\u001b[0;34m:\u001b[0m \u001b[0mretina_figure\u001b[0m\u001b[0;34m(\u001b[0m\u001b[0mfig\u001b[0m\u001b[0;34m,\u001b[0m \u001b[0;34m**\u001b[0m\u001b[0mkwargs\u001b[0m\u001b[0;34m)\u001b[0m\u001b[0;34m)\u001b[0m\u001b[0;34m\u001b[0m\u001b[0;34m\u001b[0m\u001b[0m\n",
      "\u001b[0;32m~/miniconda3/envs/omop/lib/python3.8/site-packages/IPython/core/pylabtools.py\u001b[0m in \u001b[0;36mprint_figure\u001b[0;34m(fig, fmt, bbox_inches, **kwargs)\u001b[0m\n\u001b[1;32m    130\u001b[0m         \u001b[0mFigureCanvasBase\u001b[0m\u001b[0;34m(\u001b[0m\u001b[0mfig\u001b[0m\u001b[0;34m)\u001b[0m\u001b[0;34m\u001b[0m\u001b[0;34m\u001b[0m\u001b[0m\n\u001b[1;32m    131\u001b[0m \u001b[0;34m\u001b[0m\u001b[0m\n\u001b[0;32m--> 132\u001b[0;31m     \u001b[0mfig\u001b[0m\u001b[0;34m.\u001b[0m\u001b[0mcanvas\u001b[0m\u001b[0;34m.\u001b[0m\u001b[0mprint_figure\u001b[0m\u001b[0;34m(\u001b[0m\u001b[0mbytes_io\u001b[0m\u001b[0;34m,\u001b[0m \u001b[0;34m**\u001b[0m\u001b[0mkw\u001b[0m\u001b[0;34m)\u001b[0m\u001b[0;34m\u001b[0m\u001b[0;34m\u001b[0m\u001b[0m\n\u001b[0m\u001b[1;32m    133\u001b[0m     \u001b[0mdata\u001b[0m \u001b[0;34m=\u001b[0m \u001b[0mbytes_io\u001b[0m\u001b[0;34m.\u001b[0m\u001b[0mgetvalue\u001b[0m\u001b[0;34m(\u001b[0m\u001b[0;34m)\u001b[0m\u001b[0;34m\u001b[0m\u001b[0;34m\u001b[0m\u001b[0m\n\u001b[1;32m    134\u001b[0m     \u001b[0;32mif\u001b[0m \u001b[0mfmt\u001b[0m \u001b[0;34m==\u001b[0m \u001b[0;34m'svg'\u001b[0m\u001b[0;34m:\u001b[0m\u001b[0;34m\u001b[0m\u001b[0;34m\u001b[0m\u001b[0m\n",
      "\u001b[0;32m~/miniconda3/envs/omop/lib/python3.8/site-packages/matplotlib/backend_bases.py\u001b[0m in \u001b[0;36mprint_figure\u001b[0;34m(self, filename, dpi, facecolor, edgecolor, orientation, format, bbox_inches, pad_inches, bbox_extra_artists, backend, **kwargs)\u001b[0m\n\u001b[1;32m   2208\u001b[0m \u001b[0;34m\u001b[0m\u001b[0m\n\u001b[1;32m   2209\u001b[0m             \u001b[0;32mtry\u001b[0m\u001b[0;34m:\u001b[0m\u001b[0;34m\u001b[0m\u001b[0;34m\u001b[0m\u001b[0m\n\u001b[0;32m-> 2210\u001b[0;31m                 result = print_method(\n\u001b[0m\u001b[1;32m   2211\u001b[0m                     \u001b[0mfilename\u001b[0m\u001b[0;34m,\u001b[0m\u001b[0;34m\u001b[0m\u001b[0;34m\u001b[0m\u001b[0m\n\u001b[1;32m   2212\u001b[0m                     \u001b[0mdpi\u001b[0m\u001b[0;34m=\u001b[0m\u001b[0mdpi\u001b[0m\u001b[0;34m,\u001b[0m\u001b[0;34m\u001b[0m\u001b[0;34m\u001b[0m\u001b[0m\n",
      "\u001b[0;32m~/miniconda3/envs/omop/lib/python3.8/site-packages/matplotlib/backend_bases.py\u001b[0m in \u001b[0;36mwrapper\u001b[0;34m(*args, **kwargs)\u001b[0m\n\u001b[1;32m   1637\u001b[0m             \u001b[0mkwargs\u001b[0m\u001b[0;34m.\u001b[0m\u001b[0mpop\u001b[0m\u001b[0;34m(\u001b[0m\u001b[0marg\u001b[0m\u001b[0;34m)\u001b[0m\u001b[0;34m\u001b[0m\u001b[0;34m\u001b[0m\u001b[0m\n\u001b[1;32m   1638\u001b[0m \u001b[0;34m\u001b[0m\u001b[0m\n\u001b[0;32m-> 1639\u001b[0;31m         \u001b[0;32mreturn\u001b[0m \u001b[0mfunc\u001b[0m\u001b[0;34m(\u001b[0m\u001b[0;34m*\u001b[0m\u001b[0margs\u001b[0m\u001b[0;34m,\u001b[0m \u001b[0;34m**\u001b[0m\u001b[0mkwargs\u001b[0m\u001b[0;34m)\u001b[0m\u001b[0;34m\u001b[0m\u001b[0;34m\u001b[0m\u001b[0m\n\u001b[0m\u001b[1;32m   1640\u001b[0m \u001b[0;34m\u001b[0m\u001b[0m\n\u001b[1;32m   1641\u001b[0m     \u001b[0;32mreturn\u001b[0m \u001b[0mwrapper\u001b[0m\u001b[0;34m\u001b[0m\u001b[0;34m\u001b[0m\u001b[0m\n",
      "\u001b[0;32m~/miniconda3/envs/omop/lib/python3.8/site-packages/matplotlib/backends/backend_agg.py\u001b[0m in \u001b[0;36mprint_png\u001b[0;34m(self, filename_or_obj, metadata, pil_kwargs, *args)\u001b[0m\n\u001b[1;32m    507\u001b[0m             \u001b[0;34m*\u001b[0m\u001b[0mmetadata\u001b[0m\u001b[0;34m*\u001b[0m\u001b[0;34m,\u001b[0m \u001b[0mincluding\u001b[0m \u001b[0mthe\u001b[0m \u001b[0mdefault\u001b[0m \u001b[0;34m'Software'\u001b[0m \u001b[0mkey\u001b[0m\u001b[0;34m.\u001b[0m\u001b[0;34m\u001b[0m\u001b[0;34m\u001b[0m\u001b[0m\n\u001b[1;32m    508\u001b[0m         \"\"\"\n\u001b[0;32m--> 509\u001b[0;31m         \u001b[0mFigureCanvasAgg\u001b[0m\u001b[0;34m.\u001b[0m\u001b[0mdraw\u001b[0m\u001b[0;34m(\u001b[0m\u001b[0mself\u001b[0m\u001b[0;34m)\u001b[0m\u001b[0;34m\u001b[0m\u001b[0;34m\u001b[0m\u001b[0m\n\u001b[0m\u001b[1;32m    510\u001b[0m         mpl.image.imsave(\n\u001b[1;32m    511\u001b[0m             \u001b[0mfilename_or_obj\u001b[0m\u001b[0;34m,\u001b[0m \u001b[0mself\u001b[0m\u001b[0;34m.\u001b[0m\u001b[0mbuffer_rgba\u001b[0m\u001b[0;34m(\u001b[0m\u001b[0;34m)\u001b[0m\u001b[0;34m,\u001b[0m \u001b[0mformat\u001b[0m\u001b[0;34m=\u001b[0m\u001b[0;34m\"png\"\u001b[0m\u001b[0;34m,\u001b[0m \u001b[0morigin\u001b[0m\u001b[0;34m=\u001b[0m\u001b[0;34m\"upper\"\u001b[0m\u001b[0;34m,\u001b[0m\u001b[0;34m\u001b[0m\u001b[0;34m\u001b[0m\u001b[0m\n",
      "\u001b[0;32m~/miniconda3/envs/omop/lib/python3.8/site-packages/matplotlib/backends/backend_agg.py\u001b[0m in \u001b[0;36mdraw\u001b[0;34m(self)\u001b[0m\n\u001b[1;32m    400\u001b[0m     \u001b[0;32mdef\u001b[0m \u001b[0mdraw\u001b[0m\u001b[0;34m(\u001b[0m\u001b[0mself\u001b[0m\u001b[0;34m)\u001b[0m\u001b[0;34m:\u001b[0m\u001b[0;34m\u001b[0m\u001b[0;34m\u001b[0m\u001b[0m\n\u001b[1;32m    401\u001b[0m         \u001b[0;31m# docstring inherited\u001b[0m\u001b[0;34m\u001b[0m\u001b[0;34m\u001b[0m\u001b[0;34m\u001b[0m\u001b[0m\n\u001b[0;32m--> 402\u001b[0;31m         \u001b[0mself\u001b[0m\u001b[0;34m.\u001b[0m\u001b[0mrenderer\u001b[0m \u001b[0;34m=\u001b[0m \u001b[0mself\u001b[0m\u001b[0;34m.\u001b[0m\u001b[0mget_renderer\u001b[0m\u001b[0;34m(\u001b[0m\u001b[0mcleared\u001b[0m\u001b[0;34m=\u001b[0m\u001b[0;32mTrue\u001b[0m\u001b[0;34m)\u001b[0m\u001b[0;34m\u001b[0m\u001b[0;34m\u001b[0m\u001b[0m\n\u001b[0m\u001b[1;32m    403\u001b[0m         \u001b[0;31m# Acquire a lock on the shared font cache.\u001b[0m\u001b[0;34m\u001b[0m\u001b[0;34m\u001b[0m\u001b[0;34m\u001b[0m\u001b[0m\n\u001b[1;32m    404\u001b[0m         \u001b[0;32mwith\u001b[0m \u001b[0mRendererAgg\u001b[0m\u001b[0;34m.\u001b[0m\u001b[0mlock\u001b[0m\u001b[0;34m,\u001b[0m\u001b[0;31m \u001b[0m\u001b[0;31m\\\u001b[0m\u001b[0;34m\u001b[0m\u001b[0;34m\u001b[0m\u001b[0m\n",
      "\u001b[0;32m~/miniconda3/envs/omop/lib/python3.8/site-packages/matplotlib/backends/backend_agg.py\u001b[0m in \u001b[0;36mget_renderer\u001b[0;34m(self, cleared)\u001b[0m\n\u001b[1;32m    416\u001b[0m                           and getattr(self, \"_lastKey\", None) == key)\n\u001b[1;32m    417\u001b[0m         \u001b[0;32mif\u001b[0m \u001b[0;32mnot\u001b[0m \u001b[0mreuse_renderer\u001b[0m\u001b[0;34m:\u001b[0m\u001b[0;34m\u001b[0m\u001b[0;34m\u001b[0m\u001b[0m\n\u001b[0;32m--> 418\u001b[0;31m             \u001b[0mself\u001b[0m\u001b[0;34m.\u001b[0m\u001b[0mrenderer\u001b[0m \u001b[0;34m=\u001b[0m \u001b[0mRendererAgg\u001b[0m\u001b[0;34m(\u001b[0m\u001b[0mw\u001b[0m\u001b[0;34m,\u001b[0m \u001b[0mh\u001b[0m\u001b[0;34m,\u001b[0m \u001b[0mself\u001b[0m\u001b[0;34m.\u001b[0m\u001b[0mfigure\u001b[0m\u001b[0;34m.\u001b[0m\u001b[0mdpi\u001b[0m\u001b[0;34m)\u001b[0m\u001b[0;34m\u001b[0m\u001b[0;34m\u001b[0m\u001b[0m\n\u001b[0m\u001b[1;32m    419\u001b[0m             \u001b[0mself\u001b[0m\u001b[0;34m.\u001b[0m\u001b[0m_lastKey\u001b[0m \u001b[0;34m=\u001b[0m \u001b[0mkey\u001b[0m\u001b[0;34m\u001b[0m\u001b[0;34m\u001b[0m\u001b[0m\n\u001b[1;32m    420\u001b[0m         \u001b[0;32melif\u001b[0m \u001b[0mcleared\u001b[0m\u001b[0;34m:\u001b[0m\u001b[0;34m\u001b[0m\u001b[0;34m\u001b[0m\u001b[0m\n",
      "\u001b[0;32m~/miniconda3/envs/omop/lib/python3.8/site-packages/matplotlib/backends/backend_agg.py\u001b[0m in \u001b[0;36m__init__\u001b[0;34m(self, width, height, dpi)\u001b[0m\n\u001b[1;32m     94\u001b[0m         \u001b[0mself\u001b[0m\u001b[0;34m.\u001b[0m\u001b[0mwidth\u001b[0m \u001b[0;34m=\u001b[0m \u001b[0mwidth\u001b[0m\u001b[0;34m\u001b[0m\u001b[0;34m\u001b[0m\u001b[0m\n\u001b[1;32m     95\u001b[0m         \u001b[0mself\u001b[0m\u001b[0;34m.\u001b[0m\u001b[0mheight\u001b[0m \u001b[0;34m=\u001b[0m \u001b[0mheight\u001b[0m\u001b[0;34m\u001b[0m\u001b[0;34m\u001b[0m\u001b[0m\n\u001b[0;32m---> 96\u001b[0;31m         \u001b[0mself\u001b[0m\u001b[0;34m.\u001b[0m\u001b[0m_renderer\u001b[0m \u001b[0;34m=\u001b[0m \u001b[0m_RendererAgg\u001b[0m\u001b[0;34m(\u001b[0m\u001b[0mint\u001b[0m\u001b[0;34m(\u001b[0m\u001b[0mwidth\u001b[0m\u001b[0;34m)\u001b[0m\u001b[0;34m,\u001b[0m \u001b[0mint\u001b[0m\u001b[0;34m(\u001b[0m\u001b[0mheight\u001b[0m\u001b[0;34m)\u001b[0m\u001b[0;34m,\u001b[0m \u001b[0mdpi\u001b[0m\u001b[0;34m)\u001b[0m\u001b[0;34m\u001b[0m\u001b[0;34m\u001b[0m\u001b[0m\n\u001b[0m\u001b[1;32m     97\u001b[0m         \u001b[0mself\u001b[0m\u001b[0;34m.\u001b[0m\u001b[0m_filter_renderers\u001b[0m \u001b[0;34m=\u001b[0m \u001b[0;34m[\u001b[0m\u001b[0;34m]\u001b[0m\u001b[0;34m\u001b[0m\u001b[0;34m\u001b[0m\u001b[0m\n\u001b[1;32m     98\u001b[0m \u001b[0;34m\u001b[0m\u001b[0m\n",
      "\u001b[0;31mValueError\u001b[0m: Image size of 91155x395 pixels is too large. It must be less than 2^16 in each direction."
     ]
    },
    {
     "data": {
      "text/plain": [
       "<Figure size 576x432 with 1 Axes>"
      ]
     },
     "metadata": {},
     "output_type": "display_data"
    }
   ],
   "source": [
    "import pandas as pd\n",
    "import matplotlib.pyplot as plt\n",
    "import seaborn as sns\n",
    "\n",
    "# Sample data for two Pandas Series\n",
    "data_x = filtered_cohort['condition_start_date'].dt.year\n",
    "data_y = filtered_cohort['years_since_diagnosis']\n",
    "\n",
    "# Setting the style for a cleaner look\n",
    "sns.set(style=\"ticks\")\n",
    "\n",
    "# Creating the scatter plot with a regression line\n",
    "plt.figure(figsize=(8, 6))\n",
    "sns.regplot(x=data_x, y=data_y, scatter_kws={'s':50}, line_kws={'color':'green', 'lw':2})\n",
    "\n",
    "# Calculating Pearson correlation coefficient\n",
    "pearson_corr = data_x.corr(data_y)\n",
    "\n",
    "# Annotating the plot with the Pearson correlation coefficient\n",
    "plt.text(3, 1, f'Pearson Correlation: {pearson_corr:.2f}', fontsize=12, color='blue', \n",
    "         ha='center', va='center')\n",
    "\n",
    "# Adding title and labels\n",
    "plt.title('Correlation between Condition Start Year and Years Since Diagnosis', fontsize=16, color='darkred')\n",
    "plt.xlabel('X Series', fontsize=13)\n",
    "plt.ylabel('Y Series', fontsize=13)\n",
    "\n",
    "# Displaying the plot\n",
    "plt.show()\n"
   ]
  },
  {
   "cell_type": "code",
   "execution_count": 127,
   "id": "900e8f44",
   "metadata": {},
   "outputs": [
    {
     "data": {
      "text/plain": [
       "-1.0"
      ]
     },
     "execution_count": 127,
     "metadata": {},
     "output_type": "execute_result"
    }
   ],
   "source": [
    "pearson_corr"
   ]
  },
  {
   "cell_type": "code",
   "execution_count": null,
   "id": "d83e4b2f",
   "metadata": {},
   "outputs": [],
   "source": []
  }
 ],
 "metadata": {
  "kernelspec": {
   "display_name": "omop_v2",
   "language": "python",
   "name": "myenv"
  },
  "language_info": {
   "codemirror_mode": {
    "name": "ipython",
    "version": 3
   },
   "file_extension": ".py",
   "mimetype": "text/x-python",
   "name": "python",
   "nbconvert_exporter": "python",
   "pygments_lexer": "ipython3",
   "version": "3.8.5"
  }
 },
 "nbformat": 4,
 "nbformat_minor": 5
}
