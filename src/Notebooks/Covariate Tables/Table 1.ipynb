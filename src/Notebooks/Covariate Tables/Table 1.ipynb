{
 "cells": [
  {
   "cell_type": "code",
   "execution_count": 1,
   "metadata": {},
   "outputs": [],
   "source": [
    "in_name = \"manuscript_covariates_5_final\"\n",
    "out_name=\"table_1_final\""
   ]
  },
  {
   "cell_type": "markdown",
   "metadata": {},
   "source": [
    "## Loading Dataframes"
   ]
  },
  {
   "cell_type": "code",
   "execution_count": 2,
   "metadata": {},
   "outputs": [],
   "source": [
    "import matplotlib.pyplot as plt\n",
    "import numpy as np\n",
    "from typing import List, Dict, Optional, Union\n",
    "import sys\n",
    "import time\n",
    "import importlib\n",
    "import sparse\n",
    "import datetime\n",
    "import pandas as pd\n",
    "import numpy as np\n",
    "import scipy.sparse\n",
    "import matplotlib.pyplot as plt\n",
    "import os\n",
    "#\n",
    "sys.path.append(\"..\")\n",
    "import Utils.dbutils as dbutils\n",
    "import Utils.data_utils as data_utils\n",
    "import Generators.CohortGenerator as CohortGenerator\n",
    "import Generators.FeatureGenerator as FeatureGenerator\n",
    "import config\n",
    "local_imports = (\n",
    "    dbutils,\n",
    "    data_utils,\n",
    "    CohortGenerator,\n",
    "    FeatureGenerator,\n",
    "    config\n",
    ")\n",
    "for i in local_imports:\n",
    "    i = importlib.reload(i)"
   ]
  },
  {
   "cell_type": "code",
   "execution_count": 3,
   "metadata": {},
   "outputs": [
    {
     "name": "stdout",
     "output_type": "stream",
     "text": [
      "localhost/omop_v6\n",
      "cdm schema: cdm_6871_21\n"
     ]
    }
   ],
   "source": [
    "## database connection parameters\n",
    "# username = config.PG_USERNAME #we use peer authentication so don't need use vars, but in theory would pass them into config_path\n",
    "# password = config.PG_PASSWORD\n",
    "database_name = config.DB_NAME\n",
    "print(database_name)\n",
    "config_path = 'postgresql://{database_name}'.format(\n",
    "    database_name = database_name\n",
    ")\n",
    "connect_args = {\"host\": '/var/run/postgresql/'} # connect_args to pass to sqlalchemy create_engine function\n",
    "\n",
    "# schemas \n",
    "schema_name = 'eol_test_ncjones' # all created tables will be created using this schema\n",
    "cdm_schema_name = config.OMOP_CDM_SCHEMA # the name of the schema housing your OMOP CDM tables\n",
    "print(f\"cdm schema: {cdm_schema_name}\")\n",
    "# caching\n",
    "reset_schema = False # if true, rebuild all data from scratch\n",
    "\n",
    "# set up database, reset schemas as needed\n",
    "db = dbutils.Database(config_path, schema_name, connect_args, cdm_schema_name)\n",
    "# if reset_schema:\n",
    "#     db.execute(\n",
    "#         'drop schema if exists {} cascade'.format(schema_name)\n",
    "#     )\n",
    "# db.execute(\n",
    "#     'create schema if not exists {}'.format(schema_name)\n",
    "# )"
   ]
  },
  {
   "cell_type": "code",
   "execution_count": 8,
   "metadata": {
    "scrolled": false
   },
   "outputs": [
    {
     "name": "stdout",
     "output_type": "stream",
     "text": [
      "CPU times: user 8.78 s, sys: 434 ms, total: 9.21 s\n",
      "Wall time: 11.7 s\n"
     ]
    }
   ],
   "source": [
    "%%time\n",
    "# Get the full condition item table\n",
    "sql = \"\"\"\n",
    "    select\n",
    "        *\n",
    "    from\n",
    "        {omop_schema}.{in_name} c\n",
    "\"\"\".format(\n",
    "    omop_schema=config.OMOP_CDM_SCHEMA,\n",
    "    in_name=in_name\n",
    ")\n",
    "cohort = db.query(sql)\n",
    "cohort = cohort.loc[cohort.antibiotic_type != 'inappropriate']"
   ]
  },
  {
   "cell_type": "markdown",
   "metadata": {},
   "source": [
    "### Viewing the antibiotic list and filtering by non first line, second line and alternatives"
   ]
  },
  {
   "cell_type": "markdown",
   "metadata": {},
   "source": [
    "## Config and Helper Functions"
   ]
  },
  {
   "cell_type": "code",
   "execution_count": 9,
   "metadata": {},
   "outputs": [],
   "source": [
    "group_to_cols = {\"Arthritis\" : ['arthritis_concept_ancestor',\"arthritis\"],\n",
    "                 \"Autoimmune\" : ['autoimmune_concept_ancestor',\"sjögren\",  \"rheumatoid_arthritis\", \"reactive_arthritis\", \"lupus_erythematosus\", \"dermatomyositis\"],\n",
    "                 \"Cancer\" : ['cancer_concept_ancestor',\"cancer\",\"carcinoma\",\"malignan\",\"leukemia\",\"lymphoma\",\"sarcoma\"],\n",
    "                 \"Chronic Kidney\" : ['chronic_kidney_concept_ancestor',\"chronic_kidney\",\"chronic_renal_failure\"],\n",
    "            \"Diabetes Mellitus\" : ['diabetes_mellitus_concept_ancestor',\"diabetes_mellitus\"], \"Thyroid Disorder\" : ['thyroid_disorder_concept_ancestor',\"hashimoto_thyroiditis\", \"graves\"], \"HIV\" : ['hiv_concept_ancestor',\"hiv\"], \"Hypertension\": ['hypertension_concept_ancestor',\"hypertension\"], \"Menopause\":['menopause_concept_ancestor',\"menopause\"]}\n",
    "\n",
    "year_buckets = {\"UTI_2012_14\":[2012,2013,2014],\"UTI_2015_17\":[2015,2016,2017],\"UTI_2018_21\":[2018,2019,2020,2021]}\n",
    "\n",
    "for group_time, years in year_buckets.items():\n",
    "    cohort[group_time] = 1*(cohort.condition_start_date.dt.year.isin(years))\n",
    "    \n",
    "specialties = ['specialty_family_medicine_group',\n",
    " 'specialty_internal_medicine_group',\n",
    " 'specialty_emergency/acute_group',\n",
    " 'specialty_advanced_specialist_group',\n",
    " 'specialty_OBGYN_group',\n",
    " 'specialty_other_group',\n",
    " 'specialty_urology_group']\n",
    "\n",
    "specialty_groups = {' '.join(x.replace(\"specialty_\",\"\").replace(\"_group\",\"\").split(\"_\")) : [x] for x in specialties}\n",
    "\n",
    "\n",
    "cohort[\"uti_1_year\"] = 1*((cohort.days_since_previous_uti <= 365) & (cohort.days_since_previous_uti > 0))\n"
   ]
  },
  {
   "cell_type": "code",
   "execution_count": 10,
   "metadata": {},
   "outputs": [],
   "source": [
    "for condition_cat, condition_cols in group_to_cols.items():\n",
    "    if condition_cat == 'Menopause':\n",
    "        group_to_cols[condition_cat] = ['menopause_any']\n",
    "    else:\n",
    "        group_to_cols[condition_cat] = [x + '1_2_yr' for x in condition_cols] #to convert back to the nomenclature in the pd dataframe getting all events:\n",
    "        group_to_cols[condition_cat] += [x + '0_6_months' for x in condition_cols]\n",
    "        group_to_cols[condition_cat] += [x + '6_months_1_yr' for x in condition_cols]\n",
    "group_to_cols.update({\"UTI history in 1 year\" : [\"uti_1_year\"], \"Fever at presentation\" : ['fever'], \"Urinalysis ordered\" : ['urine_test_present'], 'Blood test ordered' : ['cbc_present'], \"Last UTI in 2012-2014\":[\"UTI_2012_14\"], \"Last UTI in 2015-2017\":[\"UTI_2015_17\"], \"Last UTI in 2018-2021\":[\"UTI_2018_21\"]})\n",
    "\n",
    "group_to_cols.update(specialty_groups)\n",
    "ages = cohort.age.dropna()"
   ]
  },
  {
   "cell_type": "code",
   "execution_count": 11,
   "metadata": {
    "scrolled": false
   },
   "outputs": [
    {
     "data": {
      "text/plain": [
       "{'Arthritis': ['arthritis_concept_ancestor1_2_yr',\n",
       "  'arthritis1_2_yr',\n",
       "  'arthritis_concept_ancestor0_6_months',\n",
       "  'arthritis0_6_months',\n",
       "  'arthritis_concept_ancestor6_months_1_yr',\n",
       "  'arthritis6_months_1_yr'],\n",
       " 'Autoimmune': ['autoimmune_concept_ancestor1_2_yr',\n",
       "  'sjögren1_2_yr',\n",
       "  'rheumatoid_arthritis1_2_yr',\n",
       "  'reactive_arthritis1_2_yr',\n",
       "  'lupus_erythematosus1_2_yr',\n",
       "  'dermatomyositis1_2_yr',\n",
       "  'autoimmune_concept_ancestor0_6_months',\n",
       "  'sjögren0_6_months',\n",
       "  'rheumatoid_arthritis0_6_months',\n",
       "  'reactive_arthritis0_6_months',\n",
       "  'lupus_erythematosus0_6_months',\n",
       "  'dermatomyositis0_6_months',\n",
       "  'autoimmune_concept_ancestor6_months_1_yr',\n",
       "  'sjögren6_months_1_yr',\n",
       "  'rheumatoid_arthritis6_months_1_yr',\n",
       "  'reactive_arthritis6_months_1_yr',\n",
       "  'lupus_erythematosus6_months_1_yr',\n",
       "  'dermatomyositis6_months_1_yr'],\n",
       " 'Cancer': ['cancer_concept_ancestor1_2_yr',\n",
       "  'cancer1_2_yr',\n",
       "  'carcinoma1_2_yr',\n",
       "  'malignan1_2_yr',\n",
       "  'leukemia1_2_yr',\n",
       "  'lymphoma1_2_yr',\n",
       "  'sarcoma1_2_yr',\n",
       "  'cancer_concept_ancestor0_6_months',\n",
       "  'cancer0_6_months',\n",
       "  'carcinoma0_6_months',\n",
       "  'malignan0_6_months',\n",
       "  'leukemia0_6_months',\n",
       "  'lymphoma0_6_months',\n",
       "  'sarcoma0_6_months',\n",
       "  'cancer_concept_ancestor6_months_1_yr',\n",
       "  'cancer6_months_1_yr',\n",
       "  'carcinoma6_months_1_yr',\n",
       "  'malignan6_months_1_yr',\n",
       "  'leukemia6_months_1_yr',\n",
       "  'lymphoma6_months_1_yr',\n",
       "  'sarcoma6_months_1_yr'],\n",
       " 'Chronic Kidney': ['chronic_kidney_concept_ancestor1_2_yr',\n",
       "  'chronic_kidney1_2_yr',\n",
       "  'chronic_renal_failure1_2_yr',\n",
       "  'chronic_kidney_concept_ancestor0_6_months',\n",
       "  'chronic_kidney0_6_months',\n",
       "  'chronic_renal_failure0_6_months',\n",
       "  'chronic_kidney_concept_ancestor6_months_1_yr',\n",
       "  'chronic_kidney6_months_1_yr',\n",
       "  'chronic_renal_failure6_months_1_yr'],\n",
       " 'Diabetes Mellitus': ['diabetes_mellitus_concept_ancestor1_2_yr',\n",
       "  'diabetes_mellitus1_2_yr',\n",
       "  'diabetes_mellitus_concept_ancestor0_6_months',\n",
       "  'diabetes_mellitus0_6_months',\n",
       "  'diabetes_mellitus_concept_ancestor6_months_1_yr',\n",
       "  'diabetes_mellitus6_months_1_yr'],\n",
       " 'Thyroid Disorder': ['thyroid_disorder_concept_ancestor1_2_yr',\n",
       "  'hashimoto_thyroiditis1_2_yr',\n",
       "  'graves1_2_yr',\n",
       "  'thyroid_disorder_concept_ancestor0_6_months',\n",
       "  'hashimoto_thyroiditis0_6_months',\n",
       "  'graves0_6_months',\n",
       "  'thyroid_disorder_concept_ancestor6_months_1_yr',\n",
       "  'hashimoto_thyroiditis6_months_1_yr',\n",
       "  'graves6_months_1_yr'],\n",
       " 'HIV': ['hiv_concept_ancestor1_2_yr',\n",
       "  'hiv1_2_yr',\n",
       "  'hiv_concept_ancestor0_6_months',\n",
       "  'hiv0_6_months',\n",
       "  'hiv_concept_ancestor6_months_1_yr',\n",
       "  'hiv6_months_1_yr'],\n",
       " 'Hypertension': ['hypertension_concept_ancestor1_2_yr',\n",
       "  'hypertension1_2_yr',\n",
       "  'hypertension_concept_ancestor0_6_months',\n",
       "  'hypertension0_6_months',\n",
       "  'hypertension_concept_ancestor6_months_1_yr',\n",
       "  'hypertension6_months_1_yr'],\n",
       " 'Menopause': ['menopause_any'],\n",
       " 'UTI history in 1 year': ['uti_1_year'],\n",
       " 'Fever at presentation': ['fever'],\n",
       " 'Urinalysis ordered': ['urine_test_present'],\n",
       " 'Blood test ordered': ['cbc_present'],\n",
       " 'Last UTI in 2012-2014': ['UTI_2012_14'],\n",
       " 'Last UTI in 2015-2017': ['UTI_2015_17'],\n",
       " 'Last UTI in 2018-2021': ['UTI_2018_21'],\n",
       " 'family medicine': ['specialty_family_medicine_group'],\n",
       " 'internal medicine': ['specialty_internal_medicine_group'],\n",
       " 'emergency/acute': ['specialty_emergency/acute_group'],\n",
       " 'advanced specialist': ['specialty_advanced_specialist_group'],\n",
       " 'OBGYN': ['specialty_OBGYN_group'],\n",
       " 'other': ['specialty_other_group'],\n",
       " 'urology': ['specialty_urology_group']}"
      ]
     },
     "execution_count": 11,
     "metadata": {},
     "output_type": "execute_result"
    }
   ],
   "source": [
    "group_to_cols"
   ]
  },
  {
   "cell_type": "code",
   "execution_count": 12,
   "metadata": {},
   "outputs": [],
   "source": [
    "def compute_condition_metrics(df : pd.DataFrame ,name_dict : Dict[str, List[str]] =group_to_cols) -> Dict[str, List[Union[int,np.ndarray]]]:\n",
    "    '''Computes the mean of a condition column and computes the standard deviation'''\n",
    "    new_df = df.copy()\n",
    "    means = []\n",
    "    stdevs = []\n",
    "    counts = []\n",
    "    group_names = []\n",
    "    for group_name, group_items in name_dict.items():\n",
    "        new_df[\"temp_series\"] = np.where(df[group_items].sum(axis=1) > 0, 1, 0)\n",
    "        mean, std, = np.mean(new_df[\"temp_series\"]), np.std(new_df[\"temp_series\"])\n",
    "        means.append(mean)\n",
    "        stdevs.append(std)\n",
    "        counts.append(len(new_df.loc[new_df[\"temp_series\"] == 1]))\n",
    "        group_names.append(group_name)\n",
    "    return {\"Condition Category\" : group_names, \"Mean\" : means, \"Standard Deviation\" : stdevs, \"Agg_count\" : len(new_df), \"Counts\" : counts}\n",
    "\n",
    "\n",
    "def get_columns_of_interest(df : pd.DataFrame ,name_dict : Dict[str, List[str]] =group_to_cols) -> Dict[str, List[Union[int,np.ndarray]]]:\n",
    "    '''Computes the mean of a condition column and computes the standard deviation'''\n",
    "    new_df = df.copy()\n",
    "    group_names = []\n",
    "    for group_name, group_items in name_dict.items():\n",
    "        new_df[group_name.upper()] = np.where(df[group_items].sum(axis=1) > 0, 1, 0)\n",
    "        group_names.append(group_name)\n",
    "    subset_columns = [x.upper() for x in group_names] + ['antibiotic_type']\n",
    "    subset_df = new_df[subset_columns]\n",
    "    return subset_df\n",
    "\n",
    "def compute_age_metrics(ages: pd.Series) -> Dict[str, List[Union[int,np.ndarray]]]:\n",
    "    \n",
    "                                                       \n",
    "                                                       \n",
    "    # First quartile (Q1)\n",
    "    Q1 = np.percentile(ages, 25, interpolation ='midpoint')\n",
    "  \n",
    "    # Third quartile (Q3)\n",
    "    Q3 = np.percentile(ages, 75, interpolation ='midpoint')\n",
    "\n",
    "    # Interquaritle range (IQR)\n",
    "    IQR = Q3 - Q1\n",
    "    \n",
    "    age_metrics = {'Max' : [np.max(ages)],\n",
    "    'Min' : [np.min(ages)],\n",
    "    'Mean' : [np.mean(ages)],\n",
    "    'Median' : [np.median(ages)],\n",
    "    'Standard Deviation': [np.std(ages)],\n",
    "    'IQR' : [IQR]}\n",
    "\n",
    "\n",
    "    return age_metrics\n",
    "\n",
    "def to_df(data : Dict[str,List[object]]) -> pd.DataFrame :\n",
    "    return pd.DataFrame(data=data)\n",
    "                                 \n",
    "def log_csv_table(data : Dict[str,List[object]],name : str =\"table_1_agg_conditions\") -> None:\n",
    "    df = to_df(data=data)\n",
    "    return df.to_csv(f\"{name}.csv\",index=False)\n"
   ]
  },
  {
   "cell_type": "markdown",
   "metadata": {},
   "source": [
    "## Condition and Age Information"
   ]
  },
  {
   "cell_type": "code",
   "execution_count": 17,
   "metadata": {},
   "outputs": [
    {
     "name": "stderr",
     "output_type": "stream",
     "text": [
      "/home/ncjones/miniconda3/envs/omop/lib/python3.8/site-packages/xlsxwriter/workbook.py:339: UserWarning: Calling close() on already closed file.\n",
      "  warn(\"Calling close() on already closed file.\")\n"
     ]
    }
   ],
   "source": [
    "# #loop over modified dataframes that include a single condition and append it to dictionary\n",
    "atype_to_metrics = {'all_antibiotics': [cohort.antibiotic_type.value_counts().index.tolist(),None],'first_line': [['nitrofurantoin','trimethoprim-sulfamethoxazole'],None],'second_line':[['second_line'],None],'alternatives':[['alternatives'],None]}\n",
    "\n",
    "condition_table_name = f'{out_name}_conditions'\n",
    "age_table_name = f'{out_name}_age'\n",
    "\n",
    "log_path = 'Logs_2023/excel_table1_v2/'\n",
    "if not os.path.exists(log_path):\n",
    "    os.makedirs(log_path)\n",
    "\n",
    "condition_writer = pd.ExcelWriter(log_path + condition_table_name + '.xlsx', engine = 'xlsxwriter')\n",
    "age_writer = pd.ExcelWriter(log_path + age_table_name + '.xlsx', engine = 'xlsxwriter')\n",
    "\n",
    "for a_type, a_names in atype_to_metrics.items():\n",
    "    temp_c_metrics = compute_condition_metrics(cohort.loc[cohort.antibiotic_type.isin(a_names[0])])\n",
    "#     atype_to_metrics[a_type][1] = temp_c_metrics\n",
    "    to_df(temp_c_metrics).to_excel(condition_writer, sheet_name = a_type)\n",
    "#     log_csv_table(temp_metrics, f\"table_1_{a_type}_conditions\")\n",
    "\n",
    "    temp_a_metrics = compute_age_metrics(cohort.loc[cohort.antibiotic_type.isin(a_names[0])].age)\n",
    "    to_df(temp_a_metrics).to_excel(age_writer, sheet_name = a_type)\n",
    "\n",
    "\n",
    "condition_writer.save()\n",
    "condition_writer.close()\n",
    "age_writer.save()\n",
    "age_writer.close()\n"
   ]
  },
  {
   "cell_type": "markdown",
   "metadata": {},
   "source": [
    "### Compute P Values"
   ]
  },
  {
   "cell_type": "markdown",
   "metadata": {},
   "source": [
    "#### Age"
   ]
  },
  {
   "cell_type": "code",
   "execution_count": 5,
   "metadata": {},
   "outputs": [
    {
     "name": "stdout",
     "output_type": "stream",
     "text": [
      "P value for ages of second_line vs. first line\n",
      "0.0\n",
      "P value for ages of alternatives vs. first line\n",
      "3.719370305379694e-76\n"
     ]
    }
   ],
   "source": [
    "import pandas as pd\n",
    "import scipy \n",
    "import numpy as np\n",
    "\n",
    "np.random.seed(seed=42)\n",
    "for column in ['second_line','alternatives']:\n",
    "    print(f\"P value for ages of {column} vs. first line\")\n",
    "    firstline_df = cohort.loc[cohort.antibiotic_type.isin(['nitrofurantoin','trimethoprim-sulfamethoxazole'])]\n",
    "    query_df = cohort.loc[cohort.antibiotic_type.isin([column])]\n",
    "    p_value = scipy.stats.ttest_ind(firstline_df['age'].values,query_df['age'].values)[1]\n",
    "    print(p_value)"
   ]
  },
  {
   "cell_type": "markdown",
   "metadata": {},
   "source": [
    "#### Conditions"
   ]
  },
  {
   "cell_type": "code",
   "execution_count": 16,
   "metadata": {},
   "outputs": [
    {
     "name": "stdout",
     "output_type": "stream",
     "text": [
      "{'MENOPAUSE_second_line': 0.6098119755188777,\n",
      " 'MENOPAUSE_alternatives': 0.1613656357785185,\n",
      " 'UTI HISTORY IN 1 YEAR_second_line': 0.00048574313781707976,\n",
      " 'UTI HISTORY IN 1 YEAR_alternatives': 2.2962855782770367e-05,\n",
      " 'HYPERTENSION_second_line': 9.259612766332118e-262,\n",
      " 'HYPERTENSION_alternatives': 2.9806212100994945e-72,\n",
      " 'DIABETES MELLITUS_second_line': 4.4183869145111045e-115,\n",
      " 'DIABETES MELLITUS_alternatives': 2.049893693250875e-40,\n",
      " 'ARTHRITIS_second_line': 2.1417986539918084e-43,\n",
      " 'ARTHRITIS_alternatives': 2.0486281851173674e-24,\n",
      " 'CANCER_second_line': 9.482369003912521e-64,\n",
      " 'CANCER_alternatives': 1.4618679661388294e-14,\n",
      " 'CHRONIC KIDNEY_second_line': 3.4848258316875044e-56,\n",
      " 'CHRONIC KIDNEY_alternatives': 1.3080775289957286e-49,\n",
      " 'AUTOIMMUNE_second_line': 7.14789081185416e-08,\n",
      " 'AUTOIMMUNE_alternatives': 1.550206997486111e-07,\n",
      " 'THYROID DISORDER_second_line': 0.0003539660377743022,\n",
      " 'THYROID DISORDER_alternatives': 0.4338829155160906}\n"
     ]
    }
   ],
   "source": [
    "\n",
    "from collections import defaultdict\n",
    "import scipy\n",
    "import numpy as np\n",
    "from pprint import pprint\n",
    "\n",
    "np.random.seed(seed=42)\n",
    "#initialize empty dictionary\n",
    "comparison_to_p_value = dict()\n",
    "temp_df = cohort.copy()\n",
    "for group, _ in group_to_cols.items():\n",
    "    new_group = group.upper()\n",
    "    temp_df[new_group] = np.where(temp_df[group_to_cols[group]].sum(axis=1) > 0, 1, 0)\n",
    "\n",
    "    \n",
    "atypes_to_cols = {'first_line': ['nitrofurantoin','trimethoprim-sulfamethoxazole'],'second_line':['second_line'],'alternatives':['alternatives']}\n",
    "\n",
    "#for second line and alternatives dfs\n",
    "for condition_query in ['MENOPAUSE','UTI HISTORY IN 1 YEAR','HYPERTENSION','DIABETES MELLITUS','ARTHRITIS','CANCER','CHRONIC KIDNEY','AUTOIMMUNE','THYROID DISORDER']:\n",
    "    for atype in ['second_line','alternatives']:\n",
    "        first_line_df = temp_df.loc[temp_df.antibiotic_type.isin(atypes_to_cols['first_line'])]\n",
    "        atype_df = temp_df.loc[temp_df.antibiotic_type.isin(atypes_to_cols[atype])]\n",
    "        #for every single condition\n",
    "        #populate dictionary with ttest comparison and p value\n",
    "        ttest_name = f\"{condition_query}_{atype}\"\n",
    "        comparison_to_p_value[ttest_name] = scipy.stats.ttest_ind(first_line_df[condition_query].values,atype_df[condition_query].values)[1]\n",
    "\n",
    "#print out the dictionary\n",
    "pprint(comparison_to_p_value,sort_dicts=False)"
   ]
  },
  {
   "cell_type": "code",
   "execution_count": 21,
   "metadata": {},
   "outputs": [
    {
     "name": "stdout",
     "output_type": "stream",
     "text": [
      "{'MENOPAUSE_second_line': 0.6098119755188777,\n",
      " 'MENOPAUSE_alternatives': 0.1613656357785185,\n",
      " 'UTI HISTORY IN 1 YEAR_second_line': 0.00048574313781707976,\n",
      " 'UTI HISTORY IN 1 YEAR_alternatives': 2.2962855782770367e-05,\n",
      " 'HYPERTENSION_second_line': 9.259612766332118e-262,\n",
      " 'HYPERTENSION_alternatives': 2.9806212100994945e-72,\n",
      " 'DIABETES MELLITUS_second_line': 4.4183869145111045e-115,\n",
      " 'DIABETES MELLITUS_alternatives': 2.049893693250875e-40,\n",
      " 'ARTHRITIS_second_line': 2.1417986539918084e-43,\n",
      " 'ARTHRITIS_alternatives': 2.0486281851173674e-24,\n",
      " 'CANCER_second_line': 9.482369003912521e-64,\n",
      " 'CANCER_alternatives': 1.4618679661388294e-14,\n",
      " 'CHRONIC KIDNEY_second_line': 3.4848258316875044e-56,\n",
      " 'CHRONIC KIDNEY_alternatives': 1.3080775289957286e-49,\n",
      " 'AUTOIMMUNE_second_line': 7.14789081185416e-08,\n",
      " 'AUTOIMMUNE_alternatives': 1.550206997486111e-07,\n",
      " 'THYROID DISORDER_second_line': 0.0003539660377743022,\n",
      " 'THYROID DISORDER_alternatives': 0.4338829155160906,\n",
      " 'FEVER AT PRESENTATION_second_line': 7.962598495487189e-45,\n",
      " 'FEVER AT PRESENTATION_alternatives': 2.2285724111124876e-41,\n",
      " 'URINALYSIS ORDERED_second_line': 4.106137757706907e-81,\n",
      " 'URINALYSIS ORDERED_alternatives': 2.145883153256802e-12,\n",
      " 'BLOOD TEST ORDERED_second_line': 8.876157989989317e-35,\n",
      " 'BLOOD TEST ORDERED_alternatives': 8.790044109479733e-57,\n",
      " 'LAST UTI IN 2012-2014_second_line': 4.1820321949239303e-172,\n",
      " 'LAST UTI IN 2012-2014_alternatives': 0.4317595204867237,\n",
      " 'LAST UTI IN 2015-2017_second_line': 1.1194632329173095e-165,\n",
      " 'LAST UTI IN 2015-2017_alternatives': 0.6606169323652595,\n",
      " 'LAST UTI IN 2018-2021_second_line': 0.0,\n",
      " 'LAST UTI IN 2018-2021_alternatives': 0.9723484967843408,\n",
      " 'FAMILY MEDICINE_second_line': 3.179492575382795e-76,\n",
      " 'FAMILY MEDICINE_alternatives': 0.6144965436843013,\n",
      " 'INTERNAL MEDICINE_second_line': 1.92634393853798e-140,\n",
      " 'INTERNAL MEDICINE_alternatives': 5.481165881928078e-11,\n",
      " 'EMERGENCY/ACUTE_second_line': 0.043013394500529434,\n",
      " 'EMERGENCY/ACUTE_alternatives': 0.050274854128875245,\n",
      " 'ADVANCED SPECIALIST_second_line': 1.7809960836485886e-163,\n",
      " 'ADVANCED SPECIALIST_alternatives': 6.2441979565960596e-09,\n",
      " 'OBGYN_second_line': 2.3707803277964794e-50,\n",
      " 'OBGYN_alternatives': 9.775247286770393e-10,\n",
      " 'OTHER_second_line': 0.19232918841777671,\n",
      " 'OTHER_alternatives': 3.765034081559106e-22,\n",
      " 'UROLOGY_second_line': 0.3782960399802435,\n",
      " 'UROLOGY_alternatives': 2.597708000499157e-07,\n",
      " 'age_second_line': 0.0,\n",
      " 'age_alternatives': 3.719370305379694e-76}\n"
     ]
    }
   ],
   "source": [
    "\n",
    "from collections import defaultdict\n",
    "import scipy\n",
    "import numpy as np\n",
    "from pprint import pprint\n",
    "\n",
    "np.random.seed(seed=42)\n",
    "#initialize empty dictionary\n",
    "comparison_to_p_value = dict()\n",
    "temp_df = cohort.copy()\n",
    "for group, _ in group_to_cols.items():\n",
    "    new_group = group.upper()\n",
    "    temp_df[new_group] = np.where(temp_df[group_to_cols[group]].sum(axis=1) > 0, 1, 0)\n",
    "\n",
    "    \n",
    "atypes_to_cols = {'first_line': ['nitrofurantoin','trimethoprim-sulfamethoxazole'],'second_line':['second_line'],'alternatives':['alternatives']}\n",
    "\n",
    "condition_queries = ['MENOPAUSE','UTI HISTORY IN 1 YEAR','HYPERTENSION','DIABETES MELLITUS','ARTHRITIS','CANCER','CHRONIC KIDNEY','AUTOIMMUNE','THYROID DISORDER']\n",
    "other_queries = [x.upper() for x in ['Fever at presentation', 'Urinalysis ordered','Blood test ordered','Last UTI in 2012-2014','Last UTI in 2015-2017','Last UTI in 2018-2021','family medicine','internal medicine','emergency/acute','advanced specialist','OBGYN','other','urology']]\n",
    "all_queries = condition_queries + other_queries + ['age']\n",
    "#for second line and alternatives dfs\n",
    "for condition_query in all_queries:\n",
    "    for atype in ['second_line','alternatives']:\n",
    "        first_line_df = temp_df.loc[temp_df.antibiotic_type.isin(atypes_to_cols['first_line'])]\n",
    "        atype_df = temp_df.loc[temp_df.antibiotic_type.isin(atypes_to_cols[atype])]\n",
    "        #for every single condition\n",
    "        #populate dictionary with ttest comparison and p value\n",
    "        ttest_name = f\"{condition_query}_{atype}\"\n",
    "        comparison_to_p_value[ttest_name] = scipy.stats.ttest_ind(first_line_df[condition_query].values,atype_df[condition_query].values)[1]\n",
    "\n",
    "#print out the dictionary\n",
    "pprint(comparison_to_p_value,sort_dicts=False)"
   ]
  },
  {
   "cell_type": "code",
   "execution_count": 7,
   "metadata": {},
   "outputs": [],
   "source": []
  },
  {
   "cell_type": "code",
   "execution_count": 22,
   "metadata": {},
   "outputs": [],
   "source": []
  },
  {
   "cell_type": "code",
   "execution_count": 36,
   "metadata": {},
   "outputs": [],
   "source": [
    "def remove_group_tags(x):\n",
    "    \n",
    "    x = x.replace('_second_line','')\n",
    "    x = x.replace('_alternatives','')\n",
    "    return x\n",
    "\n",
    "p_value_dataframe = pd.DataFrame([comparison_to_p_value]).T.reset_index()\n",
    "p_value_dataframe.columns = [\"comparison\",\"p_value\"]\n",
    "second_line_ps = p_value_dataframe.loc[p_value_dataframe.comparison.str.endswith('second_line'),'p_value']\n",
    "alternatives_ps = p_value_dataframe.loc[p_value_dataframe.comparison.str.endswith('alternatives'),'p_value']\n",
    "p_value_dataframe['comparison'] = p_value_dataframe.comparison.apply(lambda x: remove_group_tags(x))\n",
    "p_value_dataframe.drop_duplicates(subset=['comparison'],inplace=True)\n",
    "p_value_dataframe.drop(columns=['p_value'],inplace=True)\n",
    "p_value_dataframe['second_line_pval'] = second_line_ps.values\n",
    "p_value_dataframe['alternatives_pval'] = alternatives_ps.values"
   ]
  },
  {
   "cell_type": "code",
   "execution_count": 37,
   "metadata": {},
   "outputs": [],
   "source": [
    "p_value_dataframe.to_csv(f\"{out_name}_pvalues.csv\")"
   ]
  },
  {
   "cell_type": "code",
   "execution_count": 31,
   "metadata": {},
   "outputs": [
    {
     "name": "stdout",
     "output_type": "stream",
     "text": [
      "{'MENOPAUSE_second_line': 0.6599642409074162,\n",
      " 'MENOPAUSE_alternatives': 0.04808063076941972,\n",
      " 'UTI HISTORY IN 1 YEAR_second_line': 0.000826890022034254,\n",
      " 'UTI HISTORY IN 1 YEAR_alternatives': 0.07016806719316435,\n",
      " 'HYPERTENSION_second_line': 0.0,\n",
      " 'HYPERTENSION_alternatives': 0.0,\n",
      " 'DIABETES MELLITUS_second_line': 1.4318319287329086e-144,\n",
      " 'DIABETES MELLITUS_alternatives': 1.3600761366184522e-169,\n",
      " 'ARTHRITIS_second_line': 7.734879081226961e-67,\n",
      " 'ARTHRITIS_alternatives': 9.844564950352883e-118,\n",
      " 'CANCER_second_line': 2.611074927986663e-72,\n",
      " 'CANCER_alternatives': 3.112595688875892e-69,\n",
      " 'CHRONIC KIDNEY_second_line': 4.0567016791720076e-92,\n",
      " 'CHRONIC KIDNEY_alternatives': 6.391874985777473e-221,\n",
      " 'AUTOIMMUNE_second_line': 3.3277697198034643e-08,\n",
      " 'AUTOIMMUNE_alternatives': 7.368249948563195e-19,\n",
      " 'THYROID DISORDER_second_line': 0.01058280203805486,\n",
      " 'THYROID DISORDER_alternatives': 0.9374614901266345}\n"
     ]
    }
   ],
   "source": [
    "#OLD FOR COMPARISON\n",
    "from collections import defaultdict\n",
    "import scipy\n",
    "import numpy as np\n",
    "from pprint import pprint\n",
    "\n",
    "np.random.seed(seed=42)\n",
    "#initialize empty dictionary\n",
    "comparison_to_p_value = dict()\n",
    "temp_df = cohort.copy()\n",
    "for group, _ in group_to_cols.items():\n",
    "    new_group = group.upper()\n",
    "    temp_df[new_group] = np.where(temp_df[group_to_cols[group]].sum(axis=1) > 0, 1, 0)\n",
    "\n",
    "    \n",
    "atypes_to_cols = {'first_line': ['nitrofurantoin','trimethoprim-sulfamethoxazole'],'second_line':['second_line'],'alternatives':['alternatives']}\n",
    "\n",
    "#for second line and alternatives dfs\n",
    "for condition_query in ['MENOPAUSE','UTI HISTORY IN 1 YEAR','HYPERTENSION','DIABETES MELLITUS','ARTHRITIS','CANCER','CHRONIC KIDNEY','AUTOIMMUNE','THYROID DISORDER']:\n",
    "    for atype in ['second_line','alternatives']:\n",
    "        first_line_df = temp_df.loc[temp_df.antibiotic_type.isin(atypes_to_cols['first_line'])]\n",
    "        atype_df = temp_df.loc[temp_df.antibiotic_type.isin(atypes_to_cols[atype])]\n",
    "        #for every single condition\n",
    "        #populate ditionary with ttest comparison and p value\n",
    "        ttest_name = f\"{condition_query}_{atype}\"\n",
    "        comparison_to_p_value[ttest_name] = scipy.stats.ttest_ind(first_line_df[condition_query].values,atype_df[condition_query].values)[1]\n",
    "\n",
    "#print out the dictionary\n",
    "pprint(comparison_to_p_value,sort_dicts=False)"
   ]
  },
  {
   "cell_type": "code",
   "execution_count": null,
   "metadata": {},
   "outputs": [],
   "source": []
  }
 ],
 "metadata": {
  "kernelspec": {
   "display_name": "omop_v2",
   "language": "python",
   "name": "myenv"
  },
  "language_info": {
   "codemirror_mode": {
    "name": "ipython",
    "version": 3
   },
   "file_extension": ".py",
   "mimetype": "text/x-python",
   "name": "python",
   "nbconvert_exporter": "python",
   "pygments_lexer": "ipython3",
   "version": "3.8.5"
  }
 },
 "nbformat": 4,
 "nbformat_minor": 2
}
