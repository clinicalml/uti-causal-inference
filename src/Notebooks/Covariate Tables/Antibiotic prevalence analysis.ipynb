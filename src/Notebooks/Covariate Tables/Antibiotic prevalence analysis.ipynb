{
 "cells": [
  {
   "cell_type": "markdown",
   "metadata": {},
   "source": [
    "### Organized Cells"
   ]
  },
  {
   "cell_type": "code",
   "execution_count": 1,
   "metadata": {},
   "outputs": [],
   "source": [
    "### Imports\n",
    "import matplotlib.pyplot as plt\n",
    "import numpy as np\n",
    "from typing import List, Dict, Optional, Union\n",
    "import sys\n",
    "import time\n",
    "import importlib\n",
    "import sparse\n",
    "import datetime\n",
    "import pandas as pd\n",
    "import numpy as np\n",
    "import scipy.sparse\n",
    "import matplotlib.pyplot as plt\n",
    "import os\n",
    "#\n",
    "sys.path.append(\"..\")\n",
    "import Utils.dbutils as dbutils\n",
    "import Utils.data_utils as data_utils\n",
    "import Generators.CohortGenerator as CohortGenerator\n",
    "import Generators.FeatureGenerator as FeatureGenerator\n",
    "import config\n",
    "local_imports = (\n",
    "    dbutils,\n",
    "    data_utils,\n",
    "    CohortGenerator,\n",
    "    FeatureGenerator,\n",
    "    config\n",
    ")\n",
    "for i in local_imports:\n",
    "    i = importlib.reload(i)"
   ]
  },
  {
   "cell_type": "code",
   "execution_count": 2,
   "metadata": {},
   "outputs": [],
   "source": [
    "### Define config\n",
    "in_name = \"manuscript_covariates_5_final\"\n",
    "out_name = \"antibiotic_prevalence_table_final\""
   ]
  },
  {
   "cell_type": "code",
   "execution_count": 3,
   "metadata": {},
   "outputs": [
    {
     "name": "stdout",
     "output_type": "stream",
     "text": [
      "localhost/omop_v6\n",
      "cdm schema: cdm_6871_21\n"
     ]
    }
   ],
   "source": [
    "### Setting up database\n",
    "# username = config.PG_USERNAME #we use peer authentication so don't need use vars, but in theory would pass them into config_path\n",
    "# password = config.PG_PASSWORD\n",
    "database_name = config.DB_NAME\n",
    "print(database_name)\n",
    "config_path = 'postgresql://{database_name}'.format(\n",
    "    database_name = database_name\n",
    ")\n",
    "connect_args = {\"host\": '/var/run/postgresql/'} # connect_args to pass to sqlalchemy create_engine function\n",
    "\n",
    "# schemas \n",
    "schema_name = 'eol_test_ncjones' # all created tables will be created using this schema\n",
    "cdm_schema_name = config.OMOP_CDM_SCHEMA # the name of the schema housing your OMOP CDM tables\n",
    "print(f\"cdm schema: {cdm_schema_name}\")\n",
    "# caching\n",
    "reset_schema = False # if true, rebuild all data from scratch\n",
    "\n",
    "# set up database, reset schemas as needed\n",
    "db = dbutils.Database(config_path, schema_name, connect_args, cdm_schema_name)\n",
    "# if reset_schema:\n",
    "#     db.execute(\n",
    "#         'drop schema if exists {} cascade'.format(schema_name)\n",
    "#     )\n",
    "# db.execute(\n",
    "#     'create schema if not exists {}'.format(schema_name)\n",
    "# )"
   ]
  },
  {
   "cell_type": "code",
   "execution_count": 4,
   "metadata": {
    "scrolled": false
   },
   "outputs": [
    {
     "name": "stdout",
     "output_type": "stream",
     "text": [
      "CPU times: user 9.03 s, sys: 1.59 s, total: 10.6 s\n",
      "Wall time: 12.7 s\n"
     ]
    }
   ],
   "source": [
    "%%time\n",
    "### Loading cohort\n",
    "# Get the full condition item table\n",
    "sql = \"\"\"\n",
    "    select\n",
    "        *\n",
    "    from\n",
    "        {omop_schema}.{in_name} c\n",
    "\"\"\".format(\n",
    "    omop_schema=config.OMOP_CDM_SCHEMA,\n",
    "    in_name=in_name\n",
    ")\n",
    "cohort = db.query(sql)\n",
    "filtered_cohort = cohort.copy().loc[cohort.antibiotic_type!='inappropriate']"
   ]
  },
  {
   "cell_type": "code",
   "execution_count": 5,
   "metadata": {},
   "outputs": [],
   "source": [
    "### Defining antibiotic lookup dictionaries\n",
    "\n",
    "antibiotic_categories = {\n",
    "'first_line' : [\"nitrofurantoin\",\"trimethoprim-sulfamethoxazole\"],\n",
    "\"second_line\" : [\"ciprofloxacin\",\"ofloxacin\",\"levofloxacin\"],\n",
    "\"alternatives\" : [\"amoxicillin-clavulanic acid\",\"cefpodoxime\",\"cefadroxil\"]\n",
    "}\n",
    "all_antibiotics = [j for x in antibiotic_categories.values() for j in x]\n",
    "# antibiotic_categories.update({'all':all_antibiotics})\n",
    "\n",
    "antibiotic_hist = dict()\n",
    "for category, antibiotics in antibiotic_categories.items():\n",
    "    antibiotic_list = []\n",
    "    for antibiotic in antibiotics:\n",
    "        antibiotic_list.append(antibiotic + '_0_6_months')\n",
    "    antibiotic_hist[category] = antibiotic_list\n",
    "\n",
    "antibiotic_history_columns = [x + '_0_6_months' for x in all_antibiotics]\n",
    "antibiotic_prevalence_columns = [x + '_0_months' for x in all_antibiotics]"
   ]
  },
  {
   "cell_type": "code",
   "execution_count": 6,
   "metadata": {},
   "outputs": [
    {
     "name": "stdout",
     "output_type": "stream",
     "text": [
      "CPU times: user 39.7 s, sys: 7.04 s, total: 46.7 s\n",
      "Wall time: 1min 29s\n"
     ]
    }
   ],
   "source": [
    "%%time\n",
    "### Loading drug and exposure tables\n",
    "# Get the full condition item table\n",
    "sql = \"\"\"select * from {omop_schema}.concept\n",
    "                                 where domain_id = 'Drug'\"\"\".format(\n",
    "    omop_schema=config.OMOP_CDM_SCHEMA,\n",
    ")\n",
    "all_drugs = db.query(sql)\n",
    "\n",
    "sql = \"\"\"SELECT\n",
    "                                uti.index,\n",
    "                                uti.condition_occurrence_id, \n",
    "                                uti.person_id,\n",
    "                                uti.condition_start_date,\n",
    "                                drug.drug_concept_id,\n",
    "                                drug.drug_exposure_id,\n",
    "                                drug.drug_exposure_start_date,\n",
    "                                drug.drug_exposure_start_datetime\n",
    "                           FROM {omop_schema}.{in_name} uti\n",
    "                           JOIN {omop_schema}.drug_exposure drug ON \n",
    "                                    drug.person_id = uti.person_id AND\n",
    "                                    (drug.drug_exposure_start_date <= (uti.condition_start_date + INTERVAL '7' DAY))\n",
    "                           ORDER BY \n",
    "                                    uti.condition_occurrence_id\n",
    "                        \"\"\".format(\n",
    "    omop_schema=config.OMOP_CDM_SCHEMA,in_name=in_name\n",
    ")\n",
    "drug_exposures = db.query(sql)"
   ]
  },
  {
   "cell_type": "markdown",
   "metadata": {},
   "source": [
    "### Creating antibioitic history variables"
   ]
  },
  {
   "cell_type": "code",
   "execution_count": 7,
   "metadata": {},
   "outputs": [
    {
     "name": "stdout",
     "output_type": "stream",
     "text": [
      "CPU times: user 45.5 s, sys: 3.07 s, total: 48.5 s\n",
      "Wall time: 48.6 s\n"
     ]
    }
   ],
   "source": [
    "%%time\n",
    "### Finding all occurences of drug queries\n",
    "# First Line\n",
    "all_drugs.loc[all_drugs[\"concept_name\"].str.lower().str.contains(\"nitrofurantoin\"), 'antibiotic_name'] = \"nitrofurantoin\"\n",
    "all_drugs.loc[all_drugs[\"concept_name\"].str.lower().str.contains(\"sulfamethoxazole\"), 'antibiotic_name'] = \"sulfamethoxazole\"\n",
    "all_drugs.loc[all_drugs[\"concept_name\"].str.lower().str.contains(\"trimethoprim\"), 'antibiotic_name'] = \"trimethoprim\"\n",
    "all_drugs.loc[(all_drugs[\"concept_name\"].str.lower().str.contains(\"trimethoprim\")) & \\\n",
    "                             (all_drugs[\"concept_name\"].str.lower().str.contains(\"sulfamethoxazole\")), 'antibiotic_name'] = \"trimethoprim-sulfamethoxazole\"\n",
    "\n",
    "\n",
    "#alternatives\n",
    "# all_drugs.loc[all_drugs[\"concept_name\"].str.lower().str.contains(\"quinolone\"), 'antibiotic_name'] = \"quinolone\"\n",
    "# all_drugs.loc[all_drugs[\"concept_name\"].str.lower().str.contains(\"ceftriaxone\"), 'antibiotic_name'] = \"ceftriaxone\"\n",
    "# all_drugs.loc[all_drugs[\"concept_name\"].str.lower().str.contains(\"cefuroxime\"), 'antibiotic_name'] = \"cefuroxime\"\n",
    "# all_drugs.loc[all_drugs[\"concept_name\"].str.lower().str.contains(\"cefdinir\"), 'antibiotic_name'] = \"cefdinir\"\n",
    "# all_drugs.loc[all_drugs[\"concept_name\"].str.lower().str.contains(\"cefazolin\"), 'antibiotic_name'] = \"cefazolin\"\n",
    "# all_drugs.loc[all_drugs[\"concept_name\"].str.lower().str.contains(\"cefepime\"), 'antibiotic_name'] = \"cefepime\"\n",
    "all_drugs.loc[all_drugs[\"concept_name\"].str.lower().str.contains(\"cefpodoxime\"), 'antibiotic_name'] = \"cefpodoxime\"\n",
    "# all_drugs.loc[all_drugs[\"concept_name\"].str.lower().str.contains(\"cefixime\"), 'antibiotic_name'] = \"cefixime\"\n",
    "all_drugs.loc[all_drugs[\"concept_name\"].str.lower().str.contains(\"cefadroxil\"), 'antibiotic_name'] = \"cefadroxil\"\n",
    "# all_drugs.loc[all_drugs[\"concept_name\"].str.lower().str.contains(\"amoxicillin\"), 'antibiotic_name'] = \"amoxicillin\"\n",
    "all_drugs.loc[(all_drugs[\"concept_name\"].str.lower().str.contains(\"amoxicillin\")) & \\\n",
    "                             (all_drugs[\"concept_name\"].str.lower().str.contains(\"clavulan\")), 'antibiotic_name'] = \"amoxicillin-clavulanic acid\"\n",
    "\n",
    "\n",
    "# # second line\n",
    "all_drugs.loc[all_drugs[\"concept_name\"].str.lower().str.contains(\"ofloxacin\"), 'antibiotic_name'] = \"ofloxacin\"\n",
    "all_drugs.loc[all_drugs[\"concept_name\"].str.lower().str.contains(\"levofloxacin\"), 'antibiotic_name'] = \"levofloxacin\"\n",
    "all_drugs.loc[all_drugs[\"concept_name\"].str.lower().str.contains(\"ciprofloxacin\"), 'antibiotic_name'] = \"ciprofloxacin\"\n",
    "\n",
    "# all_drugs.loc[all_drugs[\"concept_name\"].str.lower().str.contains(\"cephalexin\"), 'antibiotic_name'] = \"cephalexin\"\n",
    "\n",
    "# # Inappropriate\n",
    "\n",
    "# all_drugs.loc[all_drugs[\"concept_name\"].str.lower().str.contains(\"fluconazole\"), 'antibiotic_name'] = \"fluconazole\"\n",
    "# all_drugs.loc[all_drugs[\"concept_name\"].str.lower().str.contains(\"doxycycline\"), 'antibiotic_name'] = \"doxycycline\"\n",
    "# all_drugs.loc[all_drugs[\"concept_name\"].str.lower().str.contains(\"clindamycin\"), 'antibiotic_name'] = \"clindamycin\"\n",
    "# all_drugs.loc[all_drugs[\"concept_name\"].str.lower().str.contains(\"linezolid\"), 'antibiotic_name'] = \"linezolid\"\n",
    "# all_drugs.loc[all_drugs[\"concept_name\"].str.lower().str.contains(\"metronidazole\"), 'antibiotic_name'] = \"metronidazole\"\n",
    "# all_drugs.loc[all_drugs[\"concept_name\"].str.lower().str.contains(\"azithromycin\"), 'antibiotic_name'] = \"azithromycin\"\n",
    "\n",
    "\n",
    "\n",
    "\n",
    "all_drugs = all_drugs.rename(columns={\"concept_id\": \"drug_concept_id\", \"concept_name\": \"drug_name\"})\n",
    "\n",
    "all_drugs = all_drugs[~all_drugs.antibiotic_name.isna()]"
   ]
  },
  {
   "cell_type": "code",
   "execution_count": null,
   "metadata": {},
   "outputs": [],
   "source": []
  },
  {
   "cell_type": "code",
   "execution_count": null,
   "metadata": {},
   "outputs": [],
   "source": []
  },
  {
   "cell_type": "code",
   "execution_count": 8,
   "metadata": {},
   "outputs": [
    {
     "name": "stdout",
     "output_type": "stream",
     "text": [
      "CPU times: user 1.57 s, sys: 828 ms, total: 2.4 s\n",
      "Wall time: 2.51 s\n"
     ]
    }
   ],
   "source": [
    "%%time\n",
    "### Join the data frame with the drug concept id to get all concept ids\n",
    "\n",
    "\n",
    "antibiotic_df = drug_exposures.merge(all_drugs[['drug_concept_id','drug_name','antibiotic_name']],how='left',on='drug_concept_id')\n",
    "antibiotic_df = antibiotic_df.loc[~antibiotic_df.antibiotic_name.isnull()]\n"
   ]
  },
  {
   "cell_type": "code",
   "execution_count": 9,
   "metadata": {},
   "outputs": [
    {
     "name": "stdout",
     "output_type": "stream",
     "text": [
      "0.1\n",
      "0.2\n",
      "0.3\n",
      "0.4\n",
      "0.5\n",
      "0.6\n",
      "0.7\n",
      "0.8\n",
      "0.9\n",
      "1e+00\n",
      "CPU times: user 17min 9s, sys: 3.75 s, total: 17min 13s\n",
      "Wall time: 17min 14s\n",
      "Parser   : 421 ms\n"
     ]
    }
   ],
   "source": [
    "%%time\n",
    "### Populate cohort table with new variables indicating presence of 6 month drug history or \\\n",
    "### receipt of antibiotic within 7 days of antibiotic\n",
    "from datetime import timedelta\n",
    "\n",
    "antibiotic_history_columns = [x + '_0_6_months' for x in all_antibiotics]\n",
    "antibiotic_prevalence_columns = [x + '_0_months' for x in all_antibiotics]\n",
    "all_columns = antibiotic_history_columns + antibiotic_prevalence_columns\n",
    "\n",
    "#for history variables we are searching for past 6 months before condition start date and searching antibiotic prevalence variables \n",
    "# at start date as well as within 7 days of original date\n",
    "\n",
    "\n",
    "antibiotic_days_to_columns = {(180,0):antibiotic_history_columns,(0,7):antibiotic_prevalence_columns}\n",
    "\n",
    "\n",
    "    \n",
    "\n",
    "filtered_cohort = cohort.copy().loc[cohort.antibiotic_type!='inappropriate']\n",
    "\n",
    "temp_anti_df = antibiotic_df.copy().loc[antibiotic_df.antibiotic_name.isin(all_antibiotics) & (antibiotic_df.person_id.isin(filtered_cohort.person_id))]\n",
    "\n",
    "#populate dataframe with the columns\n",
    "for column in all_columns:\n",
    "    filtered_cohort[column] = 0\n",
    "\n",
    "\n",
    "#counter for progress \n",
    "total = len(filtered_cohort)\n",
    "cnt = 0 \n",
    "for idx,row in filtered_cohort.iterrows():\n",
    "\n",
    "    #filter the dataframe by person\n",
    "    person = row['person_id']\n",
    "    person_antibiotic_df = temp_anti_df.copy().loc[(temp_anti_df.person_id == person)]\n",
    "    for antibiotic_column_days, antibiotic_column_names in antibiotic_days_to_columns.items():\n",
    "        # get all antibiotic_events between a start and end time\n",
    "        date = row['condition_start_date']\n",
    "        start_days,end_days = antibiotic_column_days\n",
    "        start = date - timedelta(days=start_days)\n",
    "        end = date + timedelta(days=end_days)\n",
    "        query_df = person_antibiotic_df.copy().loc[(person_antibiotic_df.drug_exposure_start_date >= start) &\\\n",
    "                                            (person_antibiotic_df.drug_exposure_start_date < end)]\n",
    "        \n",
    "#         if antibiotic_column_names == antibiotic_prevalence_columns:\n",
    "#                 print(start_days,end_days)\n",
    "#                 print(start)\n",
    "#                 print(end)\n",
    "        for antibiotic_col in antibiotic_column_names:\n",
    "            antibiotic = antibiotic_col.split('_')[0]\n",
    "            if antibiotic in np.unique(query_df.antibiotic_name.values):\n",
    "                filtered_cohort.loc[idx,antibiotic_col] = 1\n",
    "    cnt+=1\n",
    "    if cnt % (total // 10) == 0:\n",
    "        print(f\"{cnt/total:.1}\")\n"
   ]
  },
  {
   "cell_type": "code",
   "execution_count": 10,
   "metadata": {},
   "outputs": [],
   "source": [
    "## grouping the antibiotic_type_0 variables\n",
    "\n",
    "#may not need to run this\n",
    "filtered_cohort = filtered_cohort.loc[filtered_cohort.antibiotic_type != '']\n",
    "\n",
    "filtered_cohort['antibiotic_type_0'] = 0\n",
    "\n",
    "filtered_cohort.loc[np.any(filtered_cohort[['nitrofurantoin_0_months', 'trimethoprim-sulfamethoxazole_0_months']],axis=1),'antibiotic_type_0'] = 'first_line'\n",
    "filtered_cohort.loc[np.any(filtered_cohort[['ciprofloxacin_0_months', 'ofloxacin_0_months','levofloxacin_0_months']],axis=1),'antibiotic_type_0'] = 'second_line'\n",
    "filtered_cohort.loc[np.any(filtered_cohort[['amoxicillin-clavulanic acid_0_months', 'cefpodoxime_0_months','cefadroxil_0_months']],axis=1),'antibiotic_type_0'] = 'alternatives'\n",
    "\n",
    "### Create a new cohort based on filtering the prevalence variables. Verification check\n",
    "filtered_cohort_n = filtered_cohort.copy().loc[np.any(filtered_cohort[antibiotic_prevalence_columns],axis=1)]"
   ]
  },
  {
   "cell_type": "code",
   "execution_count": 11,
   "metadata": {},
   "outputs": [],
   "source": [
    "filtered_cohort_n = filtered_cohort.copy().loc[np.any(filtered_cohort[antibiotic_prevalence_columns],axis=1)]"
   ]
  },
  {
   "cell_type": "code",
   "execution_count": 17,
   "metadata": {},
   "outputs": [
    {
     "name": "stdout",
     "output_type": "stream",
     "text": [
      "nitrofurantoin at time 0  count:  20064\n",
      "trimethoprim-sulfamethoxazole at time 0  count:  14954\n",
      "ciprofloxacin at time 0  count:  18593\n",
      "ofloxacin at time 0  count:  17\n",
      "levofloxacin at time 0  count:  2530\n",
      "amoxicillin-clavulanic acid at time 0  count:  1235\n",
      "cefpodoxime at time 0  count:  124\n",
      "cefadroxil at time 0  count:  68\n"
     ]
    }
   ],
   "source": [
    "for antibiotic_indicator in ['nitrofurantoin_0_months', 'trimethoprim-sulfamethoxazole_0_months','ciprofloxacin_0_months', 'ofloxacin_0_months','levofloxacin_0_months','amoxicillin-clavulanic acid_0_months', 'cefpodoxime_0_months','cefadroxil_0_months']:\n",
    "    print(antibiotic_indicator.replace('_0_months',' at time 0'), \" count: \", filtered_cohort_n.loc[np.any(filtered_cohort_n[[antibiotic_indicator]],axis=1)].shape[0])"
   ]
  },
  {
   "cell_type": "code",
   "execution_count": 20,
   "metadata": {},
   "outputs": [],
   "source": [
    "filtered_cohort_n = filtered_cohort_n.drop('index',axis=1)\n",
    "filtered_cohort_n = filtered_cohort_n.drop('level_0',axis=1)"
   ]
  },
  {
   "cell_type": "code",
   "execution_count": 21,
   "metadata": {},
   "outputs": [],
   "source": [
    "#can only run this if you don't have an idx variable\n",
    "df1 = filtered_cohort_n.reset_index().rename(columns={\"index\":'idx'})\n",
    "df2 = filtered_cohort_n.antibiotic_type_0.str.get_dummies().reset_index().rename(columns={\"index\":'idx'})"
   ]
  },
  {
   "cell_type": "code",
   "execution_count": 22,
   "metadata": {},
   "outputs": [],
   "source": [
    "filtered_cohort_n2 = df1.merge(df2,how='left',on='idx')"
   ]
  },
  {
   "cell_type": "code",
   "execution_count": 23,
   "metadata": {},
   "outputs": [],
   "source": [
    "filtered_cohort_n2['all'] = 1"
   ]
  },
  {
   "cell_type": "code",
   "execution_count": 24,
   "metadata": {
    "scrolled": false
   },
   "outputs": [
    {
     "name": "stdout",
     "output_type": "stream",
     "text": [
      "% received nitrofurantoin_0_6_months given all 4.49\n",
      "% received trimethoprim-sulfamethoxazole_0_6_months given all 4.59\n",
      "% received ciprofloxacin_0_6_months given all 5.49\n",
      "% received ofloxacin_0_6_months given all 0.45\n",
      "% received levofloxacin_0_6_months given all 2.24\n",
      "% received amoxicillin-clavulanic acid_0_6_months given all 5.23\n",
      "% received cefpodoxime_0_6_months given all 0.04\n",
      "% received cefadroxil_0_6_months given all 0.18\n",
      "% received any_antibiotic_0_6_months given all 19.25\n",
      "% received no_antibiotic_0_6_months given all 80.75\n",
      "\n",
      "% received nitrofurantoin_0_6_months given first_line 5.17\n",
      "% received trimethoprim-sulfamethoxazole_0_6_months given first_line 4.83\n",
      "% received ciprofloxacin_0_6_months given first_line 4.14\n",
      "% received ofloxacin_0_6_months given first_line 0.45\n",
      "% received levofloxacin_0_6_months given first_line 1.60\n",
      "% received amoxicillin-clavulanic acid_0_6_months given first_line 5.11\n",
      "% received cefpodoxime_0_6_months given first_line 0.03\n",
      "% received cefadroxil_0_6_months given first_line 0.19\n",
      "% received any_antibiotic_0_6_months given first_line 18.28\n",
      "% received no_antibiotic_0_6_months given first_line 81.72\n",
      "\n",
      "% received nitrofurantoin_0_6_months given second_line 3.29\n",
      "% received trimethoprim-sulfamethoxazole_0_6_months given second_line 4.18\n",
      "% received ciprofloxacin_0_6_months given second_line 7.63\n",
      "% received ofloxacin_0_6_months given second_line 0.44\n",
      "% received levofloxacin_0_6_months given second_line 3.22\n",
      "% received amoxicillin-clavulanic acid_0_6_months given second_line 5.04\n",
      "% received cefpodoxime_0_6_months given second_line 0.03\n",
      "% received cefadroxil_0_6_months given second_line 0.13\n",
      "% received any_antibiotic_0_6_months given second_line 20.36\n",
      "% received no_antibiotic_0_6_months given second_line 79.64\n",
      "\n",
      "% received nitrofurantoin_0_6_months given alternatives 5.54\n",
      "% received trimethoprim-sulfamethoxazole_0_6_months given alternatives 4.84\n",
      "% received ciprofloxacin_0_6_months given alternatives 6.59\n",
      "% received ofloxacin_0_6_months given alternatives 0.63\n",
      "% received levofloxacin_0_6_months given alternatives 3.43\n",
      "% received amoxicillin-clavulanic acid_0_6_months given alternatives 11.00\n",
      "% received cefpodoxime_0_6_months given alternatives 0.21\n",
      "% received cefadroxil_0_6_months given alternatives 0.49\n",
      "% received any_antibiotic_0_6_months given alternatives 26.63\n",
      "% received no_antibiotic_0_6_months given alternatives 73.37\n",
      "\n",
      "% received nitrofurantoin_0_6_months given nitrofurantoin_0_months 6.25\n",
      "% received trimethoprim-sulfamethoxazole_0_6_months given nitrofurantoin_0_months 3.74\n",
      "% received ciprofloxacin_0_6_months given nitrofurantoin_0_months 4.29\n",
      "% received ofloxacin_0_6_months given nitrofurantoin_0_months 0.48\n",
      "% received levofloxacin_0_6_months given nitrofurantoin_0_months 1.44\n",
      "% received amoxicillin-clavulanic acid_0_6_months given nitrofurantoin_0_months 5.19\n",
      "% received cefpodoxime_0_6_months given nitrofurantoin_0_months 0.03\n",
      "% received cefadroxil_0_6_months given nitrofurantoin_0_months 0.18\n",
      "% received any_antibiotic_0_6_months given nitrofurantoin_0_months 18.19\n",
      "% received no_antibiotic_0_6_months given nitrofurantoin_0_months 81.81\n",
      "\n",
      "% received nitrofurantoin_0_6_months given trimethoprim-sulfamethoxazole_0_months 3.71\n",
      "% received trimethoprim-sulfamethoxazole_0_6_months given trimethoprim-sulfamethoxazole_0_months 6.30\n",
      "% received ciprofloxacin_0_6_months given trimethoprim-sulfamethoxazole_0_months 3.95\n",
      "% received ofloxacin_0_6_months given trimethoprim-sulfamethoxazole_0_months 0.41\n",
      "% received levofloxacin_0_6_months given trimethoprim-sulfamethoxazole_0_months 1.81\n",
      "% received amoxicillin-clavulanic acid_0_6_months given trimethoprim-sulfamethoxazole_0_months 4.99\n",
      "% received cefpodoxime_0_6_months given trimethoprim-sulfamethoxazole_0_months 0.04\n",
      "% received cefadroxil_0_6_months given trimethoprim-sulfamethoxazole_0_months 0.20\n",
      "% received any_antibiotic_0_6_months given trimethoprim-sulfamethoxazole_0_months 18.39\n",
      "% received no_antibiotic_0_6_months given trimethoprim-sulfamethoxazole_0_months 81.61\n",
      "\n",
      "% received nitrofurantoin_0_6_months given ciprofloxacin_0_months 3.17\n",
      "% received trimethoprim-sulfamethoxazole_0_6_months given ciprofloxacin_0_months 4.08\n",
      "% received ciprofloxacin_0_6_months given ciprofloxacin_0_months 7.68\n",
      "% received ofloxacin_0_6_months given ciprofloxacin_0_months 0.44\n",
      "% received levofloxacin_0_6_months given ciprofloxacin_0_months 2.53\n",
      "% received amoxicillin-clavulanic acid_0_6_months given ciprofloxacin_0_months 5.04\n",
      "% received cefpodoxime_0_6_months given ciprofloxacin_0_months 0.02\n",
      "% received cefadroxil_0_6_months given ciprofloxacin_0_months 0.12\n",
      "% received any_antibiotic_0_6_months given ciprofloxacin_0_months 19.79\n",
      "% received no_antibiotic_0_6_months given ciprofloxacin_0_months 80.21\n",
      "\n",
      "% received nitrofurantoin_0_6_months given ofloxacin_0_months 11.76\n",
      "% received trimethoprim-sulfamethoxazole_0_6_months given ofloxacin_0_months 0.00\n",
      "% received ciprofloxacin_0_6_months given ofloxacin_0_months 11.76\n",
      "% received ofloxacin_0_6_months given ofloxacin_0_months 0.00\n",
      "% received levofloxacin_0_6_months given ofloxacin_0_months 0.00\n",
      "% received amoxicillin-clavulanic acid_0_6_months given ofloxacin_0_months 11.76\n",
      "% received cefpodoxime_0_6_months given ofloxacin_0_months 0.00\n",
      "% received cefadroxil_0_6_months given ofloxacin_0_months 0.00\n",
      "% received any_antibiotic_0_6_months given ofloxacin_0_months 29.41\n",
      "% received no_antibiotic_0_6_months given ofloxacin_0_months 70.59\n",
      "\n",
      "% received nitrofurantoin_0_6_months given levofloxacin_0_months 4.11\n",
      "% received trimethoprim-sulfamethoxazole_0_6_months given levofloxacin_0_months 4.94\n",
      "% received ciprofloxacin_0_6_months given levofloxacin_0_months 7.27\n",
      "% received ofloxacin_0_6_months given levofloxacin_0_months 0.47\n",
      "% received levofloxacin_0_6_months given levofloxacin_0_months 8.30\n",
      "% received amoxicillin-clavulanic acid_0_6_months given levofloxacin_0_months 4.94\n",
      "% received cefpodoxime_0_6_months given levofloxacin_0_months 0.12\n",
      "% received cefadroxil_0_6_months given levofloxacin_0_months 0.24\n",
      "% received any_antibiotic_0_6_months given levofloxacin_0_months 24.51\n",
      "% received no_antibiotic_0_6_months given levofloxacin_0_months 75.49\n",
      "\n",
      "% received nitrofurantoin_0_6_months given amoxicillin-clavulanic acid_0_months 5.75\n",
      "% received trimethoprim-sulfamethoxazole_0_6_months given amoxicillin-clavulanic acid_0_months 5.02\n",
      "% received ciprofloxacin_0_6_months given amoxicillin-clavulanic acid_0_months 6.48\n",
      "% received ofloxacin_0_6_months given amoxicillin-clavulanic acid_0_months 0.73\n",
      "% received levofloxacin_0_6_months given amoxicillin-clavulanic acid_0_months 3.48\n",
      "% received amoxicillin-clavulanic acid_0_6_months given amoxicillin-clavulanic acid_0_months 12.23\n",
      "% received cefpodoxime_0_6_months given amoxicillin-clavulanic acid_0_months 0.00\n",
      "% received cefadroxil_0_6_months given amoxicillin-clavulanic acid_0_months 0.08\n",
      "% received any_antibiotic_0_6_months given amoxicillin-clavulanic acid_0_months 27.53\n",
      "% received no_antibiotic_0_6_months given amoxicillin-clavulanic acid_0_months 72.47\n",
      "\n",
      "% received nitrofurantoin_0_6_months given cefpodoxime_0_months 1.61\n",
      "% received trimethoprim-sulfamethoxazole_0_6_months given cefpodoxime_0_months 4.03\n",
      "% received ciprofloxacin_0_6_months given cefpodoxime_0_months 7.26\n",
      "% received ofloxacin_0_6_months given cefpodoxime_0_months 0.00\n",
      "% received levofloxacin_0_6_months given cefpodoxime_0_months 3.23\n",
      "% received amoxicillin-clavulanic acid_0_6_months given cefpodoxime_0_months 3.23\n",
      "% received cefpodoxime_0_6_months given cefpodoxime_0_months 2.42\n",
      "% received cefadroxil_0_6_months given cefpodoxime_0_months 0.00\n",
      "% received any_antibiotic_0_6_months given cefpodoxime_0_months 16.94\n",
      "% received no_antibiotic_0_6_months given cefpodoxime_0_months 83.06\n",
      "\n",
      "% received nitrofurantoin_0_6_months given cefadroxil_0_months 8.82\n",
      "% received trimethoprim-sulfamethoxazole_0_6_months given cefadroxil_0_months 2.94\n",
      "% received ciprofloxacin_0_6_months given cefadroxil_0_months 7.35\n",
      "% received ofloxacin_0_6_months given cefadroxil_0_months 0.00\n",
      "% received levofloxacin_0_6_months given cefadroxil_0_months 2.94\n",
      "% received amoxicillin-clavulanic acid_0_6_months given cefadroxil_0_months 2.94\n",
      "% received cefpodoxime_0_6_months given cefadroxil_0_months 0.00\n",
      "% received cefadroxil_0_6_months given cefadroxil_0_months 8.82\n",
      "% received any_antibiotic_0_6_months given cefadroxil_0_months 27.94\n",
      "% received no_antibiotic_0_6_months given cefadroxil_0_months 72.06\n",
      "\n"
     ]
    }
   ],
   "source": [
    "### \n",
    "\n",
    "#This code Compute conditional antibiotic prevalencies\n",
    "#make two dictionaries one for prevalencies and another for column conditions\n",
    "#prevalencies\n",
    "#make dataframe with columns\n",
    "\n",
    "#fill out prevalencies column\n",
    "\n",
    "#loop through the antibiotic type variables\n",
    "    #nested loop through the filtered_cohort columns\n",
    "\n",
    "#loop through the prevalencies column\n",
    "\n",
    "\n",
    "antibiotic_list = list(antibiotic_hist.keys())\n",
    "\n",
    "antibiotic_preval_vars = antibiotic_list + antibiotic_prevalence_columns\n",
    "\n",
    "antibiotic_columns = ['prevalence_variable'] + antibiotic_list + antibiotic_history_columns + ['any_antibiotic_0_6_months']\n",
    "antibiotic_preval = pd.DataFrame(columns=antibiotic_columns)\n",
    "\n",
    "antibiotic_preval['prevalence_variable'] = antibiotic_preval_vars\n",
    "\n",
    "antibiotic_columns = antibiotic_columns[1:]\n",
    "\n",
    "antibiotic_0_month_conditions = antibiotic_preval_vars\n",
    "\n",
    "updated_history_columns = antibiotic_history_columns + ['any_antibiotic_0_6_months','no_antibiotic_0_6_months']\n",
    "\n",
    "antibiotic_0_month_conditions.insert(0,'prevalence_variable')\n",
    "antibiotic_0_month_conditions.insert(1,'all')\n",
    "new_df = pd.DataFrame(columns=antibiotic_0_month_conditions)\n",
    "new_df['prevalence_variable'] = updated_history_columns\n",
    "#BASE CONDITION IS 0 month CONDITION\n",
    "\n",
    "for column in antibiotic_0_month_conditions[1:]:\n",
    "\n",
    "\n",
    "    base_condition = (filtered_cohort_n2[column] == 1)\n",
    "\n",
    "    for prevalence_variable in antibiotic_history_columns:\n",
    "\n",
    "\n",
    " \n",
    "        compare_condition = (filtered_cohort_n2[prevalence_variable] == 1)\n",
    "\n",
    "        prevalence = (compare_condition & base_condition).sum() / base_condition.sum()\n",
    "        \n",
    "\n",
    "        print(f\"% received {prevalence_variable} given {column} {prevalence * 100:.2f}\")\n",
    "        new_df.loc[new_df['prevalence_variable'] == prevalence_variable,column] = prevalence\n",
    "\n",
    "\n",
    "    for prevalence_variable in ['any_antibiotic_0_6_months','no_antibiotic_0_6_months']:\n",
    "        if prevalence_variable.startswith('any'):\n",
    "            compare_condition = (np.any(filtered_cohort_n2[antibiotic_history_columns], axis=1))\n",
    "        else:\n",
    "            compare_condition = ~(np.any(filtered_cohort_n2[antibiotic_history_columns], axis=1))\n",
    "\n",
    "        \n",
    "        prevalence = (compare_condition & base_condition).sum() / base_condition.sum()\n",
    "\n",
    "\n",
    "        print(f\"% received {prevalence_variable} given {column} {prevalence * 100:.2f}\")\n",
    "        new_df.loc[new_df['prevalence_variable'] == prevalence_variable,column] = prevalence\n",
    "\n",
    "\n",
    "    print()\n"
   ]
  },
  {
   "cell_type": "code",
   "execution_count": 25,
   "metadata": {},
   "outputs": [],
   "source": [
    "new_df.to_csv(f\"{out_name}.csv\")"
   ]
  },
  {
   "cell_type": "code",
   "execution_count": null,
   "metadata": {},
   "outputs": [],
   "source": []
  }
 ],
 "metadata": {
  "kernelspec": {
   "display_name": "omop_v2",
   "language": "python",
   "name": "myenv"
  },
  "language_info": {
   "codemirror_mode": {
    "name": "ipython",
    "version": 3
   },
   "file_extension": ".py",
   "mimetype": "text/x-python",
   "name": "python",
   "nbconvert_exporter": "python",
   "pygments_lexer": "ipython3",
   "version": "3.8.5"
  }
 },
 "nbformat": 4,
 "nbformat_minor": 2
}
